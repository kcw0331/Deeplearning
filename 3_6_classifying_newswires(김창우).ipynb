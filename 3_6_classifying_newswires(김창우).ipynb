{
  "nbformat": 4,
  "nbformat_minor": 0,
  "metadata": {
    "kernelspec": {
      "display_name": "Python 3",
      "language": "python",
      "name": "python3"
    },
    "language_info": {
      "codemirror_mode": {
        "name": "ipython",
        "version": 3
      },
      "file_extension": ".py",
      "mimetype": "text/x-python",
      "name": "python",
      "nbconvert_exporter": "python",
      "pygments_lexer": "ipython3",
      "version": "3.6.5"
    },
    "colab": {
      "name": "3_6_classifying_newswires(김창우).ipynb",
      "provenance": [],
      "collapsed_sections": [],
      "include_colab_link": true
    }
  },
  "cells": [
    {
      "cell_type": "markdown",
      "metadata": {
        "id": "view-in-github",
        "colab_type": "text"
      },
      "source": [
        "<a href=\"https://colab.research.google.com/github/kcw0331/Deeplearning/blob/main/3_6_classifying_newswires(%EA%B9%80%EC%B0%BD%EC%9A%B0).ipynb\" target=\"_parent\"><img src=\"https://colab.research.google.com/assets/colab-badge.svg\" alt=\"Open In Colab\"/></a>"
      ]
    },
    {
      "cell_type": "code",
      "metadata": {
        "id": "ndwccgcKB9d0",
        "colab": {
          "base_uri": "https://localhost:8080/",
          "height": 36
        },
        "outputId": "f8687c07-b40a-4c7a-f78f-ead23c527695"
      },
      "source": [
        "import tensorflow\n",
        "tensorflow.keras.__version__"
      ],
      "execution_count": null,
      "outputs": [
        {
          "output_type": "execute_result",
          "data": {
            "application/vnd.google.colaboratory.intrinsic+json": {
              "type": "string"
            },
            "text/plain": [
              "'2.4.0'"
            ]
          },
          "metadata": {
            "tags": []
          },
          "execution_count": 1
        }
      ]
    },
    {
      "cell_type": "markdown",
      "metadata": {
        "id": "dfpKpct8B9d5"
      },
      "source": [
        "# Classifying newswires: a multi-class classification example\n",
        "\n",
        "This notebook contains the code samples found in Chapter 3, Section 5 of [Deep Learning with Python](https://www.manning.com/books/deep-learning-with-python?a_aid=keras&a_bid=76564dff). Note that the original text features far more content, in particular further explanations and figures: in this notebook, you will only find source code and related comments.\n",
        "\n",
        "----\n",
        "\n",
        "In the previous section we saw how to classify vector inputs into two mutually exclusive classes using a densely-connected neural network. \n",
        "But what happens when you have more than two classes? \n",
        "\n",
        "In this section, we will build a network to classify Reuters newswires into 46 different mutually-exclusive topics. Since we have many \n",
        "classes, this problem is an instance of \"multi-class classification\", and since each data point should be classified into only one \n",
        "category, the problem is more specifically an instance of \"single-label, multi-class classification\". If each data point could have \n",
        "belonged to multiple categories (in our case, topics) then we would be facing a \"multi-label, multi-class classification\" problem."
      ]
    },
    {
      "cell_type": "markdown",
      "metadata": {
        "id": "yVnqn7QXB9d5"
      },
      "source": [
        "## The Reuters dataset\n",
        "\n",
        "\n",
        "We will be working with the _Reuters dataset_, a set of short newswires and their topics, published by Reuters in 1986. It's a very simple, \n",
        "widely used toy dataset for text classification. There are 46 different topics; some topics are more represented than others, but each \n",
        "topic has at least 10 examples in the training set.\n",
        "\n",
        "Like IMDB and MNIST, the Reuters dataset comes packaged as part of Keras. Let's take a look right away:"
      ]
    },
    {
      "cell_type": "code",
      "metadata": {
        "id": "TFRxtIOHB9d6",
        "colab": {
          "base_uri": "https://localhost:8080/"
        },
        "outputId": "b13e4847-5927-4f29-a08c-80a875c194ad"
      },
      "source": [
        "from tensorflow.keras.datasets import reuters\n",
        "\n",
        "(train_data, train_labels), (test_data, test_labels) = reuters.load_data(num_words=10000)   #num_word는 똑같이 10000개의 빈도수가 높은 것을 뽑아준다."
      ],
      "execution_count": null,
      "outputs": [
        {
          "output_type": "stream",
          "text": [
            "Downloading data from https://storage.googleapis.com/tensorflow/tf-keras-datasets/reuters.npz\n",
            "2113536/2110848 [==============================] - 0s 0us/step\n"
          ],
          "name": "stdout"
        },
        {
          "output_type": "stream",
          "text": [
            "/usr/local/lib/python3.7/dist-packages/tensorflow/python/keras/datasets/reuters.py:148: VisibleDeprecationWarning: Creating an ndarray from ragged nested sequences (which is a list-or-tuple of lists-or-tuples-or ndarrays with different lengths or shapes) is deprecated. If you meant to do this, you must specify 'dtype=object' when creating the ndarray\n",
            "  x_train, y_train = np.array(xs[:idx]), np.array(labels[:idx])\n",
            "/usr/local/lib/python3.7/dist-packages/tensorflow/python/keras/datasets/reuters.py:149: VisibleDeprecationWarning: Creating an ndarray from ragged nested sequences (which is a list-or-tuple of lists-or-tuples-or ndarrays with different lengths or shapes) is deprecated. If you meant to do this, you must specify 'dtype=object' when creating the ndarray\n",
            "  x_test, y_test = np.array(xs[idx:]), np.array(labels[idx:])\n"
          ],
          "name": "stderr"
        }
      ]
    },
    {
      "cell_type": "markdown",
      "metadata": {
        "id": "jETIau2qB9d6"
      },
      "source": [
        "\n",
        "Like with the IMDB dataset, the argument `num_words=10000` restricts the data to the 10,000 most frequently occurring words found in the \n",
        "data.\n",
        "\n",
        "We have 8,982 training examples and 2,246 test examples:"
      ]
    },
    {
      "cell_type": "code",
      "metadata": {
        "id": "UUGwhA1ZB9d6",
        "colab": {
          "base_uri": "https://localhost:8080/"
        },
        "outputId": "30d3a615-1aaf-44dc-f8c1-60cee2a791f3"
      },
      "source": [
        "len(train_data)"
      ],
      "execution_count": null,
      "outputs": [
        {
          "output_type": "execute_result",
          "data": {
            "text/plain": [
              "8982"
            ]
          },
          "metadata": {
            "tags": []
          },
          "execution_count": 4
        }
      ]
    },
    {
      "cell_type": "markdown",
      "metadata": {
        "id": "sYb6Y_cMT-D9"
      },
      "source": [
        "- len(train_data)를 사용해서 개수를 확인할 수 있다."
      ]
    },
    {
      "cell_type": "code",
      "metadata": {
        "id": "qile2-wMB9d6",
        "colab": {
          "base_uri": "https://localhost:8080/"
        },
        "outputId": "aee895c5-4e92-4aee-baf5-907be2c46996"
      },
      "source": [
        "len(test_data)"
      ],
      "execution_count": null,
      "outputs": [
        {
          "output_type": "execute_result",
          "data": {
            "text/plain": [
              "2246"
            ]
          },
          "metadata": {
            "tags": []
          },
          "execution_count": 5
        }
      ]
    },
    {
      "cell_type": "markdown",
      "metadata": {
        "id": "hajtlIkNB9d7"
      },
      "source": [
        "As with the IMDB reviews, each example is a list of integers (word indices):"
      ]
    },
    {
      "cell_type": "code",
      "metadata": {
        "id": "QHItTKGhB9d7",
        "outputId": "2940a451-535c-4ca6-99c7-3d5b04f1b526"
      },
      "source": [
        "train_data[10]   #각각의 데이터는 sequence로 나타내진다."
      ],
      "execution_count": null,
      "outputs": [
        {
          "output_type": "execute_result",
          "data": {
            "text/plain": [
              "[1,\n",
              " 245,\n",
              " 273,\n",
              " 207,\n",
              " 156,\n",
              " 53,\n",
              " 74,\n",
              " 160,\n",
              " 26,\n",
              " 14,\n",
              " 46,\n",
              " 296,\n",
              " 26,\n",
              " 39,\n",
              " 74,\n",
              " 2979,\n",
              " 3554,\n",
              " 14,\n",
              " 46,\n",
              " 4689,\n",
              " 4329,\n",
              " 86,\n",
              " 61,\n",
              " 3499,\n",
              " 4795,\n",
              " 14,\n",
              " 61,\n",
              " 451,\n",
              " 4329,\n",
              " 17,\n",
              " 12]"
            ]
          },
          "metadata": {
            "tags": []
          },
          "execution_count": 5
        }
      ]
    },
    {
      "cell_type": "markdown",
      "metadata": {
        "id": "0KxWCOyJB9d7"
      },
      "source": [
        "Here's how you can decode it back to words, in case you are curious:"
      ]
    },
    {
      "cell_type": "code",
      "metadata": {
        "id": "aktNeRTJB9d7",
        "colab": {
          "base_uri": "https://localhost:8080/"
        },
        "outputId": "86ac6512-925f-4cbc-fe85-c607d1cfae63"
      },
      "source": [
        "word_index = reuters.get_word_index()\n",
        "reverse_word_index = dict([(value, key) for (key, value) in word_index.items()])\n",
        "# Note that our indices were offset by 3\n",
        "# because 0, 1 and 2 are reserved indices for \"padding\", \"start of sequence\", and \"unknown\".\n",
        "decoded_newswire = ' '.join([reverse_word_index.get(i - 3, '?') for i in train_data[0]])"
      ],
      "execution_count": null,
      "outputs": [
        {
          "output_type": "stream",
          "text": [
            "Downloading data from https://storage.googleapis.com/tensorflow/tf-keras-datasets/reuters_word_index.json\n",
            "557056/550378 [==============================] - 0s 0us/step\n"
          ],
          "name": "stdout"
        }
      ]
    },
    {
      "cell_type": "code",
      "metadata": {
        "id": "JXPJUgOsB9d8",
        "colab": {
          "base_uri": "https://localhost:8080/",
          "height": 73
        },
        "outputId": "229ea44f-a2f1-421d-ab28-21d36ab62d94"
      },
      "source": [
        "decoded_newswire"
      ],
      "execution_count": null,
      "outputs": [
        {
          "output_type": "execute_result",
          "data": {
            "application/vnd.google.colaboratory.intrinsic+json": {
              "type": "string"
            },
            "text/plain": [
              "'? ? ? said as a result of its december acquisition of space co it expects earnings per share in 1987 of 1 15 to 1 30 dlrs per share up from 70 cts in 1986 the company said pretax net should rise to nine to 10 mln dlrs from six mln dlrs in 1986 and rental operation revenues to 19 to 22 mln dlrs from 12 5 mln dlrs it said cash flow per share this year should be 2 50 to three dlrs reuter 3'"
            ]
          },
          "metadata": {
            "tags": []
          },
          "execution_count": 7
        }
      ]
    },
    {
      "cell_type": "markdown",
      "metadata": {
        "id": "QmYil2fZUYkk"
      },
      "source": [
        "- 여기에서 보이는 ? ? ?는 10000개 안에 포함이 되지 않는 애들을 이렇게 생성해준다."
      ]
    },
    {
      "cell_type": "markdown",
      "metadata": {
        "id": "fVqWZ5zaB9d8"
      },
      "source": [
        "The label associated with an example is an integer between 0 and 45: a topic index."
      ]
    },
    {
      "cell_type": "code",
      "metadata": {
        "id": "157lg3wIB9d8",
        "colab": {
          "base_uri": "https://localhost:8080/"
        },
        "outputId": "f6edc41f-e943-432d-a69d-0e71097ad6e1"
      },
      "source": [
        "train_labels[10]   #train_labels에서 10번째 것을 확인한 결과이다."
      ],
      "execution_count": null,
      "outputs": [
        {
          "output_type": "execute_result",
          "data": {
            "text/plain": [
              "3"
            ]
          },
          "metadata": {
            "tags": []
          },
          "execution_count": 8
        }
      ]
    },
    {
      "cell_type": "markdown",
      "metadata": {
        "id": "gjm4bjfKB9d8"
      },
      "source": [
        "## Preparing the data\n",
        "\n",
        "We can vectorize the data with the exact same code as in our previous example:"
      ]
    },
    {
      "cell_type": "code",
      "metadata": {
        "id": "WCksRu83B9d8"
      },
      "source": [
        "import numpy as np\n",
        "\n",
        "def vectorize_sequences(sequences, dimension=10000):\n",
        "    results = np.zeros((len(sequences), dimension))\n",
        "    for i, sequence in enumerate(sequences):\n",
        "        results[i, sequence] = 1.\n",
        "    return results\n",
        "\n",
        "# Our vectorized training data\n",
        "x_train = vectorize_sequences(train_data)\n",
        "# Our vectorized test data\n",
        "x_test = vectorize_sequences(test_data)"
      ],
      "execution_count": null,
      "outputs": []
    },
    {
      "cell_type": "markdown",
      "metadata": {
        "id": "0X8mL-luUr3c"
      },
      "source": [
        "- 이 부분은 metrix를 만들어 주는 부분인데 movie review와 같은 것을 알 수 있다."
      ]
    },
    {
      "cell_type": "markdown",
      "metadata": {
        "id": "TKS2d8UNB9d9"
      },
      "source": [
        "\n",
        "To vectorize the labels, there are two possibilities: we could just cast the label list as an integer tensor, or we could use a \"one-hot\" \n",
        "encoding. One-hot encoding is a widely used format for categorical data, also called \"categorical encoding\". \n",
        "For a more detailed explanation of one-hot encoding, you can refer to Chapter 6, Section 1. \n",
        "In our case, one-hot encoding of our labels consists in embedding each label as an all-zero vector with a 1 in the place of the label index, e.g.:"
      ]
    },
    {
      "cell_type": "code",
      "metadata": {
        "colab": {
          "base_uri": "https://localhost:8080/"
        },
        "id": "Xw6BmzMIVFsD",
        "outputId": "8ccdf97c-c132-49fc-f3e4-3f318dd9915b"
      },
      "source": [
        "train_labels[:5]  #이렇게 하면 train_labels을 볼 수 있고 이러한게 46개 있다는 것이다. 그리고 이것을 one_hot인코딩으로 바꾸고 싶은 것이다."
      ],
      "execution_count": null,
      "outputs": [
        {
          "output_type": "execute_result",
          "data": {
            "text/plain": [
              "array([3, 4, 3, 4, 4])"
            ]
          },
          "metadata": {
            "tags": []
          },
          "execution_count": 9
        }
      ]
    },
    {
      "cell_type": "code",
      "metadata": {
        "id": "vcfdXO4YB9d9"
      },
      "source": [
        "def to_one_hot(labels, dimension=46):\n",
        "    results = np.zeros((len(labels), dimension))   #이것을 사용해서 우리가 필요한 공간을 잡아 놓는다. 이런식으로 코딩을 해야 파이썬이나 R에서 속도를 더 빠르게 만들 수 있다. 이건 메모리를 잡아놓는 방식이다.\n",
        "    for i, label in enumerate(labels):  #labels를 enumerate를 돌면서  \n",
        "        results[i, label] = 1.   #results라는 메트릭스에 i번째 label번째에다가 즉 단어가 나온 부분에 1.로 바꾼 다는 것이다.\n",
        "    return results  #그리고 여기에서는 results를 반환해준다.\n",
        "\n",
        "# Our vectorized training labels\n",
        "one_hot_train_labels = to_one_hot(train_labels)\n",
        "# Our vectorized test labels\n",
        "one_hot_test_labels = to_one_hot(test_labels)"
      ],
      "execution_count": null,
      "outputs": []
    },
    {
      "cell_type": "markdown",
      "metadata": {
        "id": "8CZ_WAlGU2Iz"
      },
      "source": [
        "- 여기에서 movie review와 다른점은 one_hot 인코딩을 해주었다는 것이 다르다."
      ]
    },
    {
      "cell_type": "code",
      "metadata": {
        "colab": {
          "base_uri": "https://localhost:8080/"
        },
        "id": "6cOF7KReWMX0",
        "outputId": "d22c63d4-28c0-4e67-ad72-8dfaaf81edaa"
      },
      "source": [
        "one_hot_train_labels[:5]"
      ],
      "execution_count": null,
      "outputs": [
        {
          "output_type": "execute_result",
          "data": {
            "text/plain": [
              "array([[0., 0., 0., 1., 0., 0., 0., 0., 0., 0., 0., 0., 0., 0., 0., 0.,\n",
              "        0., 0., 0., 0., 0., 0., 0., 0., 0., 0., 0., 0., 0., 0., 0., 0.,\n",
              "        0., 0., 0., 0., 0., 0., 0., 0., 0., 0., 0., 0., 0., 0.],\n",
              "       [0., 0., 0., 0., 1., 0., 0., 0., 0., 0., 0., 0., 0., 0., 0., 0.,\n",
              "        0., 0., 0., 0., 0., 0., 0., 0., 0., 0., 0., 0., 0., 0., 0., 0.,\n",
              "        0., 0., 0., 0., 0., 0., 0., 0., 0., 0., 0., 0., 0., 0.],\n",
              "       [0., 0., 0., 1., 0., 0., 0., 0., 0., 0., 0., 0., 0., 0., 0., 0.,\n",
              "        0., 0., 0., 0., 0., 0., 0., 0., 0., 0., 0., 0., 0., 0., 0., 0.,\n",
              "        0., 0., 0., 0., 0., 0., 0., 0., 0., 0., 0., 0., 0., 0.],\n",
              "       [0., 0., 0., 0., 1., 0., 0., 0., 0., 0., 0., 0., 0., 0., 0., 0.,\n",
              "        0., 0., 0., 0., 0., 0., 0., 0., 0., 0., 0., 0., 0., 0., 0., 0.,\n",
              "        0., 0., 0., 0., 0., 0., 0., 0., 0., 0., 0., 0., 0., 0.],\n",
              "       [0., 0., 0., 0., 1., 0., 0., 0., 0., 0., 0., 0., 0., 0., 0., 0.,\n",
              "        0., 0., 0., 0., 0., 0., 0., 0., 0., 0., 0., 0., 0., 0., 0., 0.,\n",
              "        0., 0., 0., 0., 0., 0., 0., 0., 0., 0., 0., 0., 0., 0.]])"
            ]
          },
          "metadata": {
            "tags": []
          },
          "execution_count": 13
        }
      ]
    },
    {
      "cell_type": "markdown",
      "metadata": {
        "id": "vvd8o6A0WZAc"
      },
      "source": [
        "- 그럼 one_hot 인코딩 46개를 이런식으로 메트릭스로 표현을 해준다.\n",
        "- 단어가 들어가는 부분은 1로 표현이 되고, 단어가 안들어가는 부분은 0으로 표현이 된다. "
      ]
    },
    {
      "cell_type": "markdown",
      "metadata": {
        "id": "MzSJcLC6B9d9"
      },
      "source": [
        "Note that there is a built-in way to do this in Keras, which you have already seen in action in our MNIST example:"
      ]
    },
    {
      "cell_type": "code",
      "metadata": {
        "id": "Un0TplTvB9d9"
      },
      "source": [
        "from tensorflow.keras.utils import to_categorical   \n",
        "\n",
        "one_hot_train_labels = to_categorical(train_labels)\n",
        "one_hot_test_labels = to_categorical(test_labels)"
      ],
      "execution_count": null,
      "outputs": []
    },
    {
      "cell_type": "markdown",
      "metadata": {
        "id": "SGRwMbmIW2Fa"
      },
      "source": [
        "- 여기는 keras.utils 부분에 to_categorical함수로 구현이 되어 있다. \n",
        "- 그래서 우리가 새로 짤 필요없이 실행해서 쓰면된다. "
      ]
    },
    {
      "cell_type": "markdown",
      "metadata": {
        "id": "4OTOb2U6B9d9"
      },
      "source": [
        "## Building our network\n",
        "\n",
        "\n",
        "This topic classification problem looks very similar to our previous movie review classification problem: in both cases, we are trying to \n",
        "classify short snippets of text. There is however a new constraint here: the number of output classes has gone from 2 to 46, i.e. the \n",
        "dimensionality of the output space is much larger. \n",
        "\n",
        "In a stack of `Dense` layers like what we were using, each layer can only access information present in the output of the previous layer. \n",
        "If one layer drops some information relevant to the classification problem, this information can never be recovered by later layers: each \n",
        "layer can potentially become an \"information bottleneck\". In our previous example, we were using 16-dimensional intermediate layers, but a \n",
        "16-dimensional space may be too limited to learn to separate 46 different classes: such small layers may act as information bottlenecks, \n",
        "permanently dropping relevant information.\n",
        "\n",
        "For this reason we will use larger layers. Let's go with 64 units:"
      ]
    },
    {
      "cell_type": "code",
      "metadata": {
        "id": "aSN1AcMmB9d-"
      },
      "source": [
        "from tensorflow.keras import models\n",
        "from tensorflow.keras import layers\n",
        "\n",
        "model = models.Sequential()\n",
        "model.add(layers.Dense(64, activation='relu', input_shape=(10000,)))\n",
        "model.add(layers.Dense(64, activation='relu'))\n",
        "model.add(layers.Dense(46, activation='softmax'))"
      ],
      "execution_count": null,
      "outputs": []
    },
    {
      "cell_type": "markdown",
      "metadata": {
        "id": "kBeiWSg0XI0p"
      },
      "source": [
        "- 여기는 Network를 만드는 부분이다. \n",
        "- Sequential로 만들어서 구성을 하고, 한 층 한층 layer를 선언해준다.\n",
        "- 첫번째 layer는 64, 두번째 layer는 64, 세번째layers는 46으로 구성되어 있다.\n",
        "- 앞에서 movie review와의 차이점은 마지막에 46개가 와야되서 Dense를 46으로 잡아주고, 그리고 movie review에서는 sigmoid를 썼었는데, 여기에서는 softmax를 \n",
        "쓰고 있다. "
      ]
    },
    {
      "cell_type": "markdown",
      "metadata": {
        "id": "JyGDkKodB9d-"
      },
      "source": [
        "\n",
        "There are two other things you should note about this architecture:\n",
        "\n",
        "* We are ending the network with a `Dense` layer of size 46. This means that for each input sample, our network will output a \n",
        "46-dimensional vector. Each entry in this vector (each dimension) will encode a different output class.\n",
        "* The last layer uses a `softmax` activation. You have already seen this pattern in the MNIST example. It means that the network will \n",
        "output a _probability distribution_ over the 46 different output classes, i.e. for every input sample, the network will produce a \n",
        "46-dimensional output vector where `output[i]` is the probability that the sample belongs to class `i`. The 46 scores will sum to 1.\n",
        "\n",
        "The best loss function to use in this case is `categorical_crossentropy`. It measures the distance between two probability distributions: \n",
        "in our case, between the probability distribution output by our network, and the true distribution of the labels. By minimizing the \n",
        "distance between these two distributions, we train our network to output something as close as possible to the true labels."
      ]
    },
    {
      "cell_type": "code",
      "metadata": {
        "id": "bNvhq5CXB9d-"
      },
      "source": [
        "model.compile(optimizer='rmsprop',\n",
        "              loss='categorical_crossentropy',\n",
        "              metrics=['accuracy'])"
      ],
      "execution_count": null,
      "outputs": []
    },
    {
      "cell_type": "markdown",
      "metadata": {
        "id": "iEWS7Sp-X9cj"
      },
      "source": [
        "- compile할 때는 loss를 categorical_crossentropy를 써줘야 한다. \n",
        "- multiplication classification할 때는 categorical_crossentropy를 써줘야 한다. 그래야 maximum likelihood estimate를 구할 수 있다. "
      ]
    },
    {
      "cell_type": "markdown",
      "metadata": {
        "id": "W-PhMsJPB9d_"
      },
      "source": [
        "## Validating our approach\n",
        "\n",
        "Let's set apart 1,000 samples in our training data to use as a validation set:"
      ]
    },
    {
      "cell_type": "code",
      "metadata": {
        "colab": {
          "base_uri": "https://localhost:8080/"
        },
        "id": "pLkN9TZrYjXQ",
        "outputId": "1c5d88dd-b9d7-4129-e2cd-470dea0dad23"
      },
      "source": [
        "len(x_train)"
      ],
      "execution_count": null,
      "outputs": [
        {
          "output_type": "execute_result",
          "data": {
            "text/plain": [
              "8982"
            ]
          },
          "metadata": {
            "tags": []
          },
          "execution_count": 17
        }
      ]
    },
    {
      "cell_type": "markdown",
      "metadata": {
        "id": "vvoD-lQRYmvq"
      },
      "source": [
        "- 여기에서는 x_train이 8982개 있는 것을 알 수 있다. "
      ]
    },
    {
      "cell_type": "code",
      "metadata": {
        "id": "PlZcc8m_B9d_"
      },
      "source": [
        "x_val = x_train[:1000]\n",
        "partial_x_train = x_train[1000:]\n",
        "\n",
        "y_val = one_hot_train_labels[:1000]\n",
        "partial_y_train = one_hot_train_labels[1000:]"
      ],
      "execution_count": null,
      "outputs": []
    },
    {
      "cell_type": "markdown",
      "metadata": {
        "id": "Y_ZktszRYcbO"
      },
      "source": [
        "- 여기에서는 varidation은 1000개를 빼내었다. "
      ]
    },
    {
      "cell_type": "markdown",
      "metadata": {
        "id": "IPJL-DtNB9d_"
      },
      "source": [
        "Now let's train our network for 20 epochs:"
      ]
    },
    {
      "cell_type": "code",
      "metadata": {
        "id": "ejPY9evSB9d_",
        "colab": {
          "base_uri": "https://localhost:8080/"
        },
        "outputId": "fbdf3c87-e69e-4ce4-8369-bfe8ddd2137b"
      },
      "source": [
        "history = model.fit(partial_x_train,\n",
        "                    partial_y_train,\n",
        "                    epochs=20,\n",
        "                    batch_size=512,\n",
        "                    validation_data=(x_val, y_val))"
      ],
      "execution_count": null,
      "outputs": [
        {
          "output_type": "stream",
          "text": [
            "Epoch 1/20\n",
            "16/16 [==============================] - 2s 62ms/step - loss: 3.1083 - accuracy: 0.3563 - val_loss: 1.7245 - val_accuracy: 0.6350\n",
            "Epoch 2/20\n",
            "16/16 [==============================] - 1s 48ms/step - loss: 1.5072 - accuracy: 0.6910 - val_loss: 1.3046 - val_accuracy: 0.7160\n",
            "Epoch 3/20\n",
            "16/16 [==============================] - 1s 46ms/step - loss: 1.1064 - accuracy: 0.7665 - val_loss: 1.1185 - val_accuracy: 0.7700\n",
            "Epoch 4/20\n",
            "16/16 [==============================] - 1s 46ms/step - loss: 0.8573 - accuracy: 0.8181 - val_loss: 1.0073 - val_accuracy: 0.7880\n",
            "Epoch 5/20\n",
            "16/16 [==============================] - 1s 47ms/step - loss: 0.6752 - accuracy: 0.8561 - val_loss: 0.9486 - val_accuracy: 0.8070\n",
            "Epoch 6/20\n",
            "16/16 [==============================] - 1s 46ms/step - loss: 0.5424 - accuracy: 0.8855 - val_loss: 0.9004 - val_accuracy: 0.8090\n",
            "Epoch 7/20\n",
            "16/16 [==============================] - 1s 46ms/step - loss: 0.4288 - accuracy: 0.9132 - val_loss: 0.8681 - val_accuracy: 0.8180\n",
            "Epoch 8/20\n",
            "16/16 [==============================] - 1s 45ms/step - loss: 0.3398 - accuracy: 0.9339 - val_loss: 0.8823 - val_accuracy: 0.8120\n",
            "Epoch 9/20\n",
            "16/16 [==============================] - 1s 46ms/step - loss: 0.2852 - accuracy: 0.9395 - val_loss: 0.8767 - val_accuracy: 0.8150\n",
            "Epoch 10/20\n",
            "16/16 [==============================] - 1s 47ms/step - loss: 0.2202 - accuracy: 0.9525 - val_loss: 0.8638 - val_accuracy: 0.8190\n",
            "Epoch 11/20\n",
            "16/16 [==============================] - 1s 46ms/step - loss: 0.2102 - accuracy: 0.9495 - val_loss: 0.9006 - val_accuracy: 0.8100\n",
            "Epoch 12/20\n",
            "16/16 [==============================] - 1s 47ms/step - loss: 0.1735 - accuracy: 0.9564 - val_loss: 0.9088 - val_accuracy: 0.8160\n",
            "Epoch 13/20\n",
            "16/16 [==============================] - 1s 46ms/step - loss: 0.1577 - accuracy: 0.9552 - val_loss: 0.9046 - val_accuracy: 0.8220\n",
            "Epoch 14/20\n",
            "16/16 [==============================] - 1s 47ms/step - loss: 0.1289 - accuracy: 0.9610 - val_loss: 0.9742 - val_accuracy: 0.7990\n",
            "Epoch 15/20\n",
            "16/16 [==============================] - 1s 47ms/step - loss: 0.1348 - accuracy: 0.9571 - val_loss: 0.9422 - val_accuracy: 0.8190\n",
            "Epoch 16/20\n",
            "16/16 [==============================] - 1s 47ms/step - loss: 0.1283 - accuracy: 0.9560 - val_loss: 1.0238 - val_accuracy: 0.7980\n",
            "Epoch 17/20\n",
            "16/16 [==============================] - 1s 47ms/step - loss: 0.1105 - accuracy: 0.9609 - val_loss: 1.0257 - val_accuracy: 0.8050\n",
            "Epoch 18/20\n",
            "16/16 [==============================] - 1s 46ms/step - loss: 0.1066 - accuracy: 0.9620 - val_loss: 1.0145 - val_accuracy: 0.8100\n",
            "Epoch 19/20\n",
            "16/16 [==============================] - 1s 47ms/step - loss: 0.1049 - accuracy: 0.9608 - val_loss: 1.0843 - val_accuracy: 0.7990\n",
            "Epoch 20/20\n",
            "16/16 [==============================] - 1s 46ms/step - loss: 0.0998 - accuracy: 0.9612 - val_loss: 1.0609 - val_accuracy: 0.8030\n"
          ],
          "name": "stdout"
        }
      ]
    },
    {
      "cell_type": "markdown",
      "metadata": {
        "id": "a2YqEGpcY3mg"
      },
      "source": [
        "- 여기에서는 history를 사용해서 모형을 적합시켜 보고"
      ]
    },
    {
      "cell_type": "markdown",
      "metadata": {
        "id": "bvU9vEF1B9d_"
      },
      "source": [
        "Let's display its loss and accuracy curves:"
      ]
    },
    {
      "cell_type": "markdown",
      "metadata": {
        "id": "mz0r31cLY-6_"
      },
      "source": [
        "- 이렇게 모형을 만든 다음에는 시각화를 해준다. "
      ]
    },
    {
      "cell_type": "code",
      "metadata": {
        "id": "9tE1YKPPB9eA",
        "colab": {
          "base_uri": "https://localhost:8080/"
        },
        "outputId": "05501326-fb85-4de5-aec6-387415218a56"
      },
      "source": [
        "history.history.keys()"
      ],
      "execution_count": null,
      "outputs": [
        {
          "output_type": "execute_result",
          "data": {
            "text/plain": [
              "dict_keys(['loss', 'accuracy', 'val_loss', 'val_accuracy'])"
            ]
          },
          "metadata": {
            "tags": []
          },
          "execution_count": 21
        }
      ]
    },
    {
      "cell_type": "code",
      "metadata": {
        "id": "H0WSBurwB9eA",
        "colab": {
          "base_uri": "https://localhost:8080/",
          "height": 295
        },
        "outputId": "484aeed6-c7bd-43f9-ceeb-beae3e4397bc"
      },
      "source": [
        "import matplotlib.pyplot as plt\n",
        "\n",
        "loss = history.history['loss']\n",
        "val_loss = history.history['val_loss']\n",
        "\n",
        "epochs = range(1, len(loss) + 1)\n",
        "\n",
        "plt.plot(epochs, loss, 'bo', label='Training loss')\n",
        "plt.plot(epochs, val_loss, 'b', label='Validation loss')\n",
        "plt.title('Training and validation loss')\n",
        "plt.xlabel('Epochs')\n",
        "plt.ylabel('Loss')\n",
        "plt.legend()\n",
        "\n",
        "plt.show()"
      ],
      "execution_count": null,
      "outputs": [
        {
          "output_type": "display_data",
          "data": {
            "image/png": "[encoded data removed]",
            "text/plain": [
              "<Figure size 432x288 with 1 Axes>"
            ]
          },
          "metadata": {
            "tags": [],
            "needs_background": "light"
          }
        }
      ]
    },
    {
      "cell_type": "markdown",
      "metadata": {
        "id": "snyrSC-4ZFUJ"
      },
      "source": [
        "- 여기에서도 validatin loss가 줄어들다가 조금씩 올라가는 것을 볼 수 있다.\n",
        "- 그리고 training loss는 계속 줄어드는 것을 볼 수 있다."
      ]
    },
    {
      "cell_type": "code",
      "metadata": {
        "id": "Dvc6QcrpB9eB",
        "outputId": "39d49d44-9494-4685-8801-ab3110dc1e28"
      },
      "source": [
        "plt.clf()   # clear figure\n",
        "\n",
        "acc = history.history['accuracy']\n",
        "val_acc = history.history['val_accuracy']\n",
        "\n",
        "plt.plot(epochs, acc, 'bo', label='Training acc')\n",
        "plt.plot(epochs, val_acc, 'b', label='Validation acc')\n",
        "plt.title('Training and validation accuracy')\n",
        "plt.xlabel('Epochs')\n",
        "plt.ylabel('Loss')\n",
        "plt.legend()\n",
        "\n",
        "plt.show()"
      ],
      "execution_count": null,
      "outputs": [
        {
          "output_type": "display_data",
          "data": {
            "image/png": "[encoded data removed]",
            "text/plain": [
              "<Figure size 432x288 with 1 Axes>"
            ]
          },
          "metadata": {
            "tags": []
          }
        }
      ]
    },
    {
      "cell_type": "markdown",
      "metadata": {
        "id": "BAmSHjZoZYbt"
      },
      "source": [
        "- 여기에서는 Training과 validation accuracy를 그려주었다."
      ]
    },
    {
      "cell_type": "markdown",
      "metadata": {
        "id": "QLcecojXB9eC"
      },
      "source": [
        "It seems that the network starts overfitting after 8 epochs. Let's train a new network from scratch for 8 epochs, then let's evaluate it on \n",
        "the test set:"
      ]
    },
    {
      "cell_type": "code",
      "metadata": {
        "id": "8RxOlDC7B9eC",
        "colab": {
          "base_uri": "https://localhost:8080/"
        },
        "outputId": "a465a175-661b-4521-9b8d-a3645548b890"
      },
      "source": [
        "model = models.Sequential()\n",
        "model.add(layers.Dense(64, activation='relu', input_shape=(10000,)))\n",
        "model.add(layers.Dense(64, activation='relu'))\n",
        "model.add(layers.Dense(46, activation='softmax'))\n",
        "\n",
        "model.compile(optimizer='rmsprop',\n",
        "              loss='categorical_crossentropy',\n",
        "              metrics=['accuracy'])\n",
        "model.fit(partial_x_train,\n",
        "          partial_y_train,\n",
        "          epochs=8,\n",
        "          batch_size=512,\n",
        "          validation_data=(x_val, y_val))\n",
        "results = model.evaluate(x_test, one_hot_test_labels)"
      ],
      "execution_count": null,
      "outputs": [
        {
          "output_type": "stream",
          "text": [
            "Epoch 1/8\n",
            "16/16 [==============================] - 1s 56ms/step - loss: 3.0732 - accuracy: 0.4234 - val_loss: 1.6363 - val_accuracy: 0.6480\n",
            "Epoch 2/8\n",
            "16/16 [==============================] - 1s 47ms/step - loss: 1.4050 - accuracy: 0.7055 - val_loss: 1.2684 - val_accuracy: 0.7260\n",
            "Epoch 3/8\n",
            "16/16 [==============================] - 1s 46ms/step - loss: 1.0352 - accuracy: 0.7729 - val_loss: 1.1238 - val_accuracy: 0.7530\n",
            "Epoch 4/8\n",
            "16/16 [==============================] - 1s 47ms/step - loss: 0.7882 - accuracy: 0.8379 - val_loss: 1.0324 - val_accuracy: 0.7790\n",
            "Epoch 5/8\n",
            "16/16 [==============================] - 1s 46ms/step - loss: 0.6390 - accuracy: 0.8668 - val_loss: 0.9729 - val_accuracy: 0.7910\n",
            "Epoch 6/8\n",
            "16/16 [==============================] - 1s 47ms/step - loss: 0.4935 - accuracy: 0.8985 - val_loss: 0.9274 - val_accuracy: 0.8070\n",
            "Epoch 7/8\n",
            "16/16 [==============================] - 1s 46ms/step - loss: 0.4073 - accuracy: 0.9168 - val_loss: 0.9153 - val_accuracy: 0.8050\n",
            "Epoch 8/8\n",
            "16/16 [==============================] - 1s 46ms/step - loss: 0.3225 - accuracy: 0.9310 - val_loss: 0.9178 - val_accuracy: 0.8040\n",
            "71/71 [==============================] - 0s 3ms/step - loss: 1.0027 - accuracy: 0.7805\n"
          ],
          "name": "stdout"
        }
      ]
    },
    {
      "cell_type": "markdown",
      "metadata": {
        "id": "0UrXWkRmZjAD"
      },
      "source": [
        "- 여기에서는 epochs를 8번 사용해서 구해주었다. "
      ]
    },
    {
      "cell_type": "code",
      "metadata": {
        "id": "JYKgPWQZB9eC",
        "outputId": "0444aefb-f6b2-425d-89a0-457762564001"
      },
      "source": [
        "results"
      ],
      "execution_count": null,
      "outputs": [
        {
          "output_type": "execute_result",
          "data": {
            "text/plain": [
              "[0.9629409742058119, 0.7885129]"
            ]
          },
          "metadata": {
            "tags": []
          },
          "execution_count": 24
        }
      ]
    },
    {
      "cell_type": "markdown",
      "metadata": {
        "id": "HBNbcwSIZpf9"
      },
      "source": [
        "- 결과는 78%정도 나온것을 볼 수 있다. "
      ]
    },
    {
      "cell_type": "markdown",
      "metadata": {
        "id": "JhpjxnEgB9eC"
      },
      "source": [
        "\n",
        "Our approach reaches an accuracy of ~78%. With a balanced binary classification problem, the accuracy reached by a purely random classifier \n",
        "would be 50%, but in our case it is closer to 19%, so our results seem pretty good, at least when compared to a random baseline:"
      ]
    },
    {
      "cell_type": "code",
      "metadata": {
        "id": "P0uyjI7WB9eD",
        "colab": {
          "base_uri": "https://localhost:8080/"
        },
        "outputId": "9c2af92b-2f2e-452d-9872-41e18d0a3554"
      },
      "source": [
        "import copy\n",
        "\n",
        "test_labels_copy = copy.copy(test_labels)\n",
        "np.random.shuffle(test_labels_copy)\n",
        "float(np.sum(np.array(test_labels) == np.array(test_labels_copy))) / len(test_labels)"
      ],
      "execution_count": null,
      "outputs": [
        {
          "output_type": "execute_result",
          "data": {
            "text/plain": [
              "0.18210151380231523"
            ]
          },
          "metadata": {
            "tags": []
          },
          "execution_count": 24
        }
      ]
    },
    {
      "cell_type": "markdown",
      "metadata": {
        "id": "bv6zcaAOB9eD"
      },
      "source": [
        "## Generating predictions on new data\n",
        "\n",
        "We can verify that the `predict` method of our model instance returns a probability distribution over all 46 topics. Let's generate topic \n",
        "predictions for all of the test data:"
      ]
    },
    {
      "cell_type": "markdown",
      "metadata": {
        "id": "N_wEz-sqZxwW"
      },
      "source": [
        "- 여기에서는 새로운것을 predictions하는 것이 나와 있다. "
      ]
    },
    {
      "cell_type": "code",
      "metadata": {
        "id": "liruj5k4B9eD"
      },
      "source": [
        "predictions = model.predict(x_test)"
      ],
      "execution_count": null,
      "outputs": []
    },
    {
      "cell_type": "code",
      "metadata": {
        "colab": {
          "base_uri": "https://localhost:8080/"
        },
        "id": "jIlzv9tiZ5dm",
        "outputId": "8ed30d24-7fa5-4c41-9d36-fdb82ec7c7e7"
      },
      "source": [
        "predictions[:5]  #아래보이는 것처럼 46개씩 나오게 되며, 거기에서 제일 높은 값이 predictions되는 값이다."
      ],
      "execution_count": null,
      "outputs": [
        {
          "output_type": "execute_result",
          "data": {
            "text/plain": [
              "array([[3.07086120e-05, 3.31066985e-04, 2.90786829e-05, 8.38530242e-01,\n",
              "        1.45413607e-01, 4.48656538e-05, 9.36699962e-06, 4.45744081e-05,\n",
              "        2.67458451e-03, 1.57969727e-04, 4.63383403e-05, 8.45032337e-04,\n",
              "        5.53703401e-04, 3.82761209e-04, 7.77720288e-06, 8.53238307e-05,\n",
              "        5.60246350e-04, 7.74193832e-05, 4.58032173e-06, 9.06090252e-04,\n",
              "        5.77513035e-03, 1.80793591e-04, 1.21367608e-04, 3.68963840e-04,\n",
              "        9.46226100e-06, 7.59524410e-05, 2.78104417e-05, 2.41364760e-05,\n",
              "        1.51079648e-05, 2.68188422e-04, 6.09311392e-04, 1.03616367e-04,\n",
              "        4.56750195e-06, 4.17206356e-05, 3.76470853e-05, 1.81813466e-05,\n",
              "        5.01699396e-04, 3.28038072e-06, 2.80787772e-05, 7.06108462e-04,\n",
              "        1.55706493e-05, 1.75470195e-05, 1.53679375e-05, 2.83323810e-04,\n",
              "        3.27402972e-06, 8.48169748e-06],\n",
              "       [2.00526416e-02, 4.18223917e-01, 1.39713287e-01, 7.50251493e-05,\n",
              "        1.70211634e-03, 7.60607596e-04, 1.04532787e-03, 2.67872419e-05,\n",
              "        8.17682958e-05, 2.87714927e-03, 3.39429677e-01, 2.66664370e-04,\n",
              "        1.46572432e-03, 9.69102792e-03, 6.48196600e-03, 5.00094437e-04,\n",
              "        2.39921757e-03, 2.47092365e-04, 1.03122846e-03, 1.04989973e-04,\n",
              "        3.85822525e-04, 1.46925240e-03, 1.52981898e-04, 1.41575641e-03,\n",
              "        2.22526118e-03, 3.58198828e-04, 8.68697462e-05, 4.83525306e-04,\n",
              "        1.79097205e-02, 2.68038770e-04, 1.65934107e-05, 5.01086516e-03,\n",
              "        6.82038721e-03, 7.11133737e-07, 3.51233804e-03, 1.90079008e-05,\n",
              "        9.80616664e-04, 2.60892487e-03, 3.75768659e-03, 2.11761100e-03,\n",
              "        5.21254726e-04, 3.38758761e-03, 4.29836327e-05, 2.55551655e-04,\n",
              "        4.66685924e-06, 1.15121084e-05],\n",
              "       [9.27731209e-03, 7.31362700e-01, 5.60576376e-03, 8.34049133e-04,\n",
              "        1.83726859e-03, 7.58086983e-03, 5.95864560e-03, 1.70678919e-04,\n",
              "        1.42546464e-03, 1.32086931e-03, 5.82606765e-03, 5.49187243e-04,\n",
              "        2.12882319e-03, 3.80275175e-02, 3.52787203e-03, 1.36132399e-03,\n",
              "        2.28462256e-02, 2.25912165e-02, 7.02262158e-04, 2.09455888e-04,\n",
              "        7.59399962e-03, 3.72826890e-03, 7.83380703e-04, 9.67269484e-03,\n",
              "        2.83595780e-03, 3.85750202e-04, 3.49353417e-04, 2.41026958e-03,\n",
              "        3.18268873e-02, 3.17664002e-03, 2.59974564e-04, 3.56145650e-02,\n",
              "        3.90246860e-03, 2.59091088e-04, 9.19264928e-03, 1.22507292e-04,\n",
              "        3.66997556e-03, 3.64130805e-03, 4.66665626e-03, 2.82161380e-03,\n",
              "        1.06240204e-03, 5.56326378e-03, 6.78009645e-04, 1.92058750e-03,\n",
              "        2.64367409e-04, 4.53813147e-04],\n",
              "       [3.20777239e-04, 1.15133030e-03, 3.74434603e-05, 1.59536853e-01,\n",
              "        6.42575264e-01, 9.05161360e-05, 1.15429761e-03, 2.50506164e-05,\n",
              "        1.13539933e-03, 4.06933046e-04, 4.82362011e-05, 2.22345334e-04,\n",
              "        7.99158006e-05, 3.80099937e-03, 2.70878772e-05, 1.60814641e-04,\n",
              "        1.67322561e-01, 5.77874761e-03, 4.96063922e-06, 8.44350783e-04,\n",
              "        6.11158507e-03, 5.92923432e-04, 1.01440295e-04, 1.37024932e-03,\n",
              "        4.79561786e-05, 8.49499775e-04, 8.14864034e-05, 3.86104599e-04,\n",
              "        4.00449317e-05, 2.16874207e-04, 3.57090066e-05, 6.91506080e-04,\n",
              "        2.72555062e-05, 2.50930688e-03, 5.19717105e-05, 1.79063154e-05,\n",
              "        1.95081651e-04, 1.03863509e-04, 5.10492355e-05, 8.61983455e-04,\n",
              "        1.00122983e-04, 3.82578903e-04, 8.84762776e-05, 2.45854171e-04,\n",
              "        6.08760138e-06, 1.09268723e-04],\n",
              "       [1.21948266e-04, 1.10386615e-03, 3.92951843e-05, 1.29355132e-04,\n",
              "        8.72491291e-05, 1.84318051e-04, 1.28906497e-04, 5.39482153e-06,\n",
              "        3.69189860e-04, 5.94578887e-05, 1.37380336e-03, 2.72960642e-06,\n",
              "        8.05961554e-06, 9.73410547e-01, 1.93576008e-04, 8.43585804e-06,\n",
              "        1.72178932e-02, 4.98807931e-04, 2.49672721e-05, 1.39519470e-04,\n",
              "        7.53864064e-04, 3.91442627e-05, 1.23288301e-05, 3.58778809e-04,\n",
              "        7.37184246e-06, 6.84385523e-05, 2.55298310e-05, 3.41139821e-05,\n",
              "        1.90605133e-05, 9.24113465e-06, 1.30541430e-05, 7.38311384e-04,\n",
              "        2.81693850e-04, 4.45380647e-05, 1.40800141e-03, 1.06362677e-05,\n",
              "        1.34419251e-05, 1.71042866e-05, 2.59619064e-05, 4.71736530e-05,\n",
              "        7.88079051e-04, 1.12841582e-04, 1.30052094e-05, 2.98865871e-05,\n",
              "        2.57634298e-07, 2.08805432e-05]], dtype=float32)"
            ]
          },
          "metadata": {
            "tags": []
          },
          "execution_count": 27
        }
      ]
    },
    {
      "cell_type": "markdown",
      "metadata": {
        "id": "QSKCmC7lB9eD"
      },
      "source": [
        "Each entry in `predictions` is a vector of length 46:"
      ]
    },
    {
      "cell_type": "code",
      "metadata": {
        "id": "OpQRXKX3B9eD",
        "colab": {
          "base_uri": "https://localhost:8080/"
        },
        "outputId": "b530bad9-f9b7-486b-e625-882103f0d5fe"
      },
      "source": [
        "predictions[0].shape"
      ],
      "execution_count": null,
      "outputs": [
        {
          "output_type": "execute_result",
          "data": {
            "text/plain": [
              "(46,)"
            ]
          },
          "metadata": {
            "tags": []
          },
          "execution_count": 28
        }
      ]
    },
    {
      "cell_type": "markdown",
      "metadata": {
        "id": "z7lB7ThoB9eD"
      },
      "source": [
        "The coefficients in this vector sum to 1:"
      ]
    },
    {
      "cell_type": "code",
      "metadata": {
        "id": "5WYYEtCcB9eE",
        "colab": {
          "base_uri": "https://localhost:8080/"
        },
        "outputId": "b6e23a81-e231-44ce-f631-4fb3c22fd8da"
      },
      "source": [
        "np.sum(predictions[0])"
      ],
      "execution_count": null,
      "outputs": [
        {
          "output_type": "execute_result",
          "data": {
            "text/plain": [
              "0.99999994"
            ]
          },
          "metadata": {
            "tags": []
          },
          "execution_count": 32
        }
      ]
    },
    {
      "cell_type": "markdown",
      "metadata": {
        "id": "O84qFwXDB9eE"
      },
      "source": [
        "The largest entry is the predicted class, i.e. the class with the highest probability:"
      ]
    },
    {
      "cell_type": "code",
      "metadata": {
        "id": "zM97Jx8MB9eE",
        "colab": {
          "base_uri": "https://localhost:8080/"
        },
        "outputId": "828ea8ce-0afa-4bf5-b89a-2e1825d9a689"
      },
      "source": [
        "np.argmax(predictions[0])"
      ],
      "execution_count": null,
      "outputs": [
        {
          "output_type": "execute_result",
          "data": {
            "text/plain": [
              "3"
            ]
          },
          "metadata": {
            "tags": []
          },
          "execution_count": 29
        }
      ]
    },
    {
      "cell_type": "markdown",
      "metadata": {
        "id": "DA--J6sVaRk5"
      },
      "source": [
        "- np.argmax이걸 사용해서 그 값의 최대가 되는 위치를 표현해준다."
      ]
    },
    {
      "cell_type": "markdown",
      "metadata": {
        "id": "GNR1u63LB9eE"
      },
      "source": [
        "## A different way to handle the labels and the loss\n",
        "\n",
        "We mentioned earlier that another way to encode the labels would be to cast them as an integer tensor, like such:"
      ]
    },
    {
      "cell_type": "code",
      "metadata": {
        "id": "hxxSP_DOB9eE"
      },
      "source": [
        "y_train = np.array(train_labels)\n",
        "y_test = np.array(test_labels)"
      ],
      "execution_count": null,
      "outputs": []
    },
    {
      "cell_type": "markdown",
      "metadata": {
        "id": "HM0-Cbo7ac6p"
      },
      "source": [
        "- 만약에 labels을 위와 같은 코드로 정의하게 되었으면, 컴파일 할 때 loss='sparse_categorical_crossentropy'이것을 아래 코드에 쳐줘야 더미변수를 인코딩 안해도(one_hot 인코딩)을 안해도 one_hot 인코딩 한 것 처럼 쓸 수 있다.  "
      ]
    },
    {
      "cell_type": "markdown",
      "metadata": {
        "id": "YoOl2wtLB9eE"
      },
      "source": [
        "\n",
        "The only thing it would change is the choice of the loss function. Our previous loss, `categorical_crossentropy`, expects the labels to \n",
        "follow a categorical encoding. With integer labels, we should use `sparse_categorical_crossentropy`:"
      ]
    },
    {
      "cell_type": "code",
      "metadata": {
        "id": "ZH7aDc8NB9eE"
      },
      "source": [
        "model.compile(optimizer='rmsprop', loss='sparse_categorical_crossentropy', metrics=['acc'])"
      ],
      "execution_count": null,
      "outputs": []
    },
    {
      "cell_type": "markdown",
      "metadata": {
        "id": "SjJ1FMq4B9eF"
      },
      "source": [
        "This new loss function is still mathematically the same as `categorical_crossentropy`; it just has a different interface."
      ]
    },
    {
      "cell_type": "markdown",
      "metadata": {
        "id": "Ff4StY6lB9eF"
      },
      "source": [
        "## On the importance of having sufficiently large intermediate layers\n",
        "\n",
        "\n",
        "We mentioned earlier that since our final outputs were 46-dimensional, we should avoid intermediate layers with much less than 46 hidden \n",
        "units. Now let's try to see what happens when we introduce an information bottleneck by having intermediate layers significantly less than \n",
        "46-dimensional, e.g. 4-dimensional."
      ]
    },
    {
      "cell_type": "code",
      "metadata": {
        "id": "ZHUVxUaOB9eF",
        "colab": {
          "base_uri": "https://localhost:8080/"
        },
        "outputId": "0a6f32d3-665b-4064-e01a-127de6ea383f"
      },
      "source": [
        "model = models.Sequential()\n",
        "model.add(layers.Dense(64, activation='relu', input_shape=(10000,)))\n",
        "model.add(layers.Dense(4, activation='relu'))    #여기는 중간에 4로 조금 두었다가 46으로 두게 되면, 정보의 손실이 발생하여 성능이 떨어진다는 얘기이다.\n",
        "model.add(layers.Dense(46, activation='softmax'))\n",
        "\n",
        "model.compile(optimizer='rmsprop',\n",
        "              loss='categorical_crossentropy',\n",
        "              metrics=['accuracy'])\n",
        "model.fit(partial_x_train,\n",
        "          partial_y_train,\n",
        "          epochs=20,\n",
        "          batch_size=128,\n",
        "          validation_data=(x_val, y_val))"
      ],
      "execution_count": null,
      "outputs": [
        {
          "output_type": "stream",
          "text": [
            "Epoch 1/20\n",
            "63/63 [==============================] - 2s 19ms/step - loss: 3.2721 - accuracy: 0.2410 - val_loss: 1.9532 - val_accuracy: 0.5450\n",
            "Epoch 2/20\n",
            "63/63 [==============================] - 1s 16ms/step - loss: 1.7267 - accuracy: 0.5451 - val_loss: 1.5676 - val_accuracy: 0.5570\n",
            "Epoch 3/20\n",
            "63/63 [==============================] - 1s 17ms/step - loss: 1.3759 - accuracy: 0.5791 - val_loss: 1.4183 - val_accuracy: 0.6060\n",
            "Epoch 4/20\n",
            "63/63 [==============================] - 1s 16ms/step - loss: 1.1792 - accuracy: 0.6441 - val_loss: 1.3339 - val_accuracy: 0.6630\n",
            "Epoch 5/20\n",
            "63/63 [==============================] - 1s 16ms/step - loss: 1.0569 - accuracy: 0.7011 - val_loss: 1.3011 - val_accuracy: 0.7020\n",
            "Epoch 6/20\n",
            "63/63 [==============================] - 1s 16ms/step - loss: 0.8934 - accuracy: 0.7729 - val_loss: 1.3084 - val_accuracy: 0.7090\n",
            "Epoch 7/20\n",
            "63/63 [==============================] - 1s 17ms/step - loss: 0.8574 - accuracy: 0.7867 - val_loss: 1.2717 - val_accuracy: 0.7250\n",
            "Epoch 8/20\n",
            "63/63 [==============================] - 1s 17ms/step - loss: 0.7396 - accuracy: 0.8077 - val_loss: 1.2745 - val_accuracy: 0.7290\n",
            "Epoch 9/20\n",
            "63/63 [==============================] - 1s 17ms/step - loss: 0.7221 - accuracy: 0.8154 - val_loss: 1.3247 - val_accuracy: 0.7180\n",
            "Epoch 10/20\n",
            "63/63 [==============================] - 1s 17ms/step - loss: 0.6404 - accuracy: 0.8246 - val_loss: 1.3483 - val_accuracy: 0.7180\n",
            "Epoch 11/20\n",
            "63/63 [==============================] - 1s 17ms/step - loss: 0.5877 - accuracy: 0.8360 - val_loss: 1.3824 - val_accuracy: 0.7140\n",
            "Epoch 12/20\n",
            "63/63 [==============================] - 1s 16ms/step - loss: 0.5689 - accuracy: 0.8379 - val_loss: 1.4146 - val_accuracy: 0.7180\n",
            "Epoch 13/20\n",
            "63/63 [==============================] - 1s 17ms/step - loss: 0.5150 - accuracy: 0.8569 - val_loss: 1.4550 - val_accuracy: 0.7190\n",
            "Epoch 14/20\n",
            "63/63 [==============================] - 1s 17ms/step - loss: 0.4933 - accuracy: 0.8579 - val_loss: 1.4861 - val_accuracy: 0.7240\n",
            "Epoch 15/20\n",
            "63/63 [==============================] - 1s 16ms/step - loss: 0.4632 - accuracy: 0.8706 - val_loss: 1.5800 - val_accuracy: 0.7120\n",
            "Epoch 16/20\n",
            "63/63 [==============================] - 1s 16ms/step - loss: 0.4482 - accuracy: 0.8726 - val_loss: 1.6111 - val_accuracy: 0.7230\n",
            "Epoch 17/20\n",
            "63/63 [==============================] - 1s 17ms/step - loss: 0.3950 - accuracy: 0.8907 - val_loss: 1.6593 - val_accuracy: 0.7190\n",
            "Epoch 18/20\n",
            "63/63 [==============================] - 1s 17ms/step - loss: 0.3970 - accuracy: 0.8981 - val_loss: 1.6529 - val_accuracy: 0.7290\n",
            "Epoch 19/20\n",
            "63/63 [==============================] - 1s 17ms/step - loss: 0.3848 - accuracy: 0.8957 - val_loss: 1.7373 - val_accuracy: 0.7230\n",
            "Epoch 20/20\n",
            "63/63 [==============================] - 1s 17ms/step - loss: 0.3770 - accuracy: 0.8964 - val_loss: 1.7812 - val_accuracy: 0.7090\n"
          ],
          "name": "stdout"
        },
        {
          "output_type": "execute_result",
          "data": {
            "text/plain": [
              "<tensorflow.python.keras.callbacks.History at 0x7f7e7ce70d10>"
            ]
          },
          "metadata": {
            "tags": []
          },
          "execution_count": 33
        }
      ]
    },
    {
      "cell_type": "markdown",
      "metadata": {
        "id": "p58WIK3GbHyb"
      },
      "source": [
        "- 여기는 중간에 4로 조금 두었다가 46으로 두게 되면, 정보의 손실이 발생하여 성능이 떨어진다는 얘기이다.\n",
        "- 그래서 여기는 성능이 8%정도 떨어졌다고 나오게 된다. "
      ]
    },
    {
      "cell_type": "markdown",
      "metadata": {
        "id": "2VHBh2fGB9eF"
      },
      "source": [
        "\n",
        "Our network now seems to peak at ~71% test accuracy, a 8% absolute drop. This drop is mostly due to the fact that we are now trying to \n",
        "compress a lot of information (enough information to recover the separation hyperplanes of 46 classes) into an intermediate space that is \n",
        "too low-dimensional. The network is able to cram _most_ of the necessary information into these 8-dimensional representations, but not all \n",
        "of it."
      ]
    },
    {
      "cell_type": "markdown",
      "metadata": {
        "id": "Ts9SWFxLB9eF"
      },
      "source": [
        "## Further experiments\n",
        "\n",
        "* Try using larger or smaller layers: 32 units, 128 units...\n",
        "* We were using two hidden layers. Now try to use a single hidden layer, or three hidden layers."
      ]
    },
    {
      "cell_type": "markdown",
      "metadata": {
        "id": "Dr8QNPXxB9eF"
      },
      "source": [
        "## Wrapping up\n",
        "\n",
        "\n",
        "Here's what you should take away from this example:\n",
        "\n",
        "* If you are trying to classify data points between N classes, your network should end with a `Dense` layer of size N.\n",
        "* In a single-label, multi-class classification problem, your network should end with a `softmax` activation, so that it will output a \n",
        "probability distribution over the N output classes.\n",
        "* _Categorical crossentropy_ is almost always the loss function you should use for such problems. It minimizes the distance between the \n",
        "probability distributions output by the network, and the true distribution of the targets.\n",
        "* There are two ways to handle labels in multi-class classification:\n",
        "    ** Encoding the labels via \"categorical encoding\" (also known as \"one-hot encoding\") and using `categorical_crossentropy` as your loss \n",
        "function.\n",
        "    ** Encoding the labels as integers and using the `sparse_categorical_crossentropy` loss function.\n",
        "* If you need to classify data into a large number of categories, then you should avoid creating information bottlenecks in your network by having \n",
        "intermediate layers that are too small."
      ]
    }
  ]
}