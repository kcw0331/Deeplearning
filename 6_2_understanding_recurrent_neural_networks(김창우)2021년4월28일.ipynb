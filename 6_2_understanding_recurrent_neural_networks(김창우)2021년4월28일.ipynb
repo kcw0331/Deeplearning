{
  "nbformat": 4,
  "nbformat_minor": 0,
  "metadata": {
    "kernelspec": {
      "display_name": "Python 3",
      "language": "python",
      "name": "python3"
    },
    "language_info": {
      "codemirror_mode": {
        "name": "ipython",
        "version": 3
      },
      "file_extension": ".py",
      "mimetype": "text/x-python",
      "name": "python",
      "nbconvert_exporter": "python",
      "pygments_lexer": "ipython3",
      "version": "3.6.5"
    },
    "colab": {
      "name": "6.2-understanding-recurrent-neural-networks(김창우)2021년4월28일.ipynb",
      "provenance": [],
      "collapsed_sections": [],
      "include_colab_link": true
    },
    "accelerator": "GPU"
  },
  "cells": [
    {
      "cell_type": "markdown",
      "metadata": {
        "id": "view-in-github",
        "colab_type": "text"
      },
      "source": [
        "<a href=\"https://colab.research.google.com/github/kcw0331/Deeplearning/blob/main/6_2_understanding_recurrent_neural_networks(%EA%B9%80%EC%B0%BD%EC%9A%B0)2021%EB%85%844%EC%9B%9428%EC%9D%BC.ipynb\" target=\"_parent\"><img src=\"https://colab.research.google.com/assets/colab-badge.svg\" alt=\"Open In Colab\"/></a>"
      ]
    },
    {
      "cell_type": "code",
      "metadata": {
        "id": "bYDkOshN8jcm",
        "colab": {
          "base_uri": "https://localhost:8080/",
          "height": 34
        },
        "outputId": "dcc06c87-b127-4019-ba3f-80f8bbed8836"
      },
      "source": [
        "import tensorflow\n",
        "tensorflow.keras.__version__"
      ],
      "execution_count": null,
      "outputs": [
        {
          "output_type": "execute_result",
          "data": {
            "application/vnd.google.colaboratory.intrinsic+json": {
              "type": "string"
            },
            "text/plain": [
              "'2.4.0'"
            ]
          },
          "metadata": {
            "tags": []
          },
          "execution_count": 1
        }
      ]
    },
    {
      "cell_type": "markdown",
      "metadata": {
        "id": "YzN1Jjmf8jcr"
      },
      "source": [
        "# Understanding recurrent neural networks\n",
        "\n",
        "This notebook contains the code samples found in Chapter 6, Section 2 of [Deep Learning with Python](https://www.manning.com/books/deep-learning-with-python?a_aid=keras&a_bid=76564dff). Note that the original text features far more content, in particular further explanations and figures: in this notebook, you will only find source code and related comments.\n",
        "\n",
        "---\n",
        "\n",
        "[...]\n",
        "\n",
        "## A first recurrent layer in Keras\n",
        "\n",
        "The process we just naively implemented in Numpy corresponds to an actual Keras layer: the `SimpleRNN` layer:\n"
      ]
    },
    {
      "cell_type": "code",
      "metadata": {
        "id": "v2Y28nFo8jcr"
      },
      "source": [
        "from tensorflow.keras.layers import SimpleRNN   "
      ],
      "execution_count": null,
      "outputs": []
    },
    {
      "cell_type": "markdown",
      "metadata": {
        "id": "Hj_Pz2bQmxjs"
      },
      "source": [
        "- RNN에서는 SimpleRNN을 사용해서 RNN을 사용할 수 있다. "
      ]
    },
    {
      "cell_type": "markdown",
      "metadata": {
        "id": "_Ql1apuR8jcs"
      },
      "source": [
        "There is just one minor difference: `SimpleRNN` processes batches of sequences, like all other Keras layers, not just a single sequence like \n",
        "in our Numpy example. This means that it takes inputs of shape `(batch_size, timesteps, input_features)`, rather than `(timesteps, \n",
        "input_features)`.\n",
        "\n",
        "Like all recurrent layers in Keras, `SimpleRNN` can be run in two different modes: it can return either the full sequences of successive \n",
        "outputs for each timestep (a 3D tensor of shape `(batch_size, timesteps, output_features)`), or it can return only the last output for each \n",
        "input sequence (a 2D tensor of shape `(batch_size, output_features)`). These two modes are controlled by the `return_sequences` constructor \n",
        "argument. Let's take a look at an example:"
      ]
    },
    {
      "cell_type": "markdown",
      "metadata": {
        "id": "sTDLWcK_m3Wo"
      },
      "source": [
        "- 모델은 Sequential을 이용해서 사용을 해준다. \n",
        "- 그리고 지난주에 배웠던 Embedding layer를 붙일 것이다. \n",
        "- 그래서 Embedding layer와 SimpleRNN하면 아래와 같이 만들어 진다."
      ]
    },
    {
      "cell_type": "code",
      "metadata": {
        "id": "cWpSWQkT8jcs",
        "colab": {
          "base_uri": "https://localhost:8080/"
        },
        "outputId": "8ac75f33-ccef-43be-a128-553c317a4d66"
      },
      "source": [
        "from tensorflow.keras.models import Sequential  \n",
        "from tensorflow.keras.layers import Embedding, SimpleRNN\n",
        "\n",
        "model = Sequential()\n",
        "model.add(Embedding(10000, 32))\n",
        "model.add(SimpleRNN(32))  #여기에서는 RNN 블럭이 32개 있다는 것이다. \n",
        "model.summary()"
      ],
      "execution_count": null,
      "outputs": [
        {
          "output_type": "stream",
          "text": [
            "Model: \"sequential_1\"\n",
            "_________________________________________________________________\n",
            "Layer (type)                 Output Shape              Param #   \n",
            "=================================================================\n",
            "embedding_1 (Embedding)      (None, None, 32)          320000    \n",
            "_________________________________________________________________\n",
            "simple_rnn_1 (SimpleRNN)     (None, 32)                2080      \n",
            "=================================================================\n",
            "Total params: 322,080\n",
            "Trainable params: 322,080\n",
            "Non-trainable params: 0\n",
            "_________________________________________________________________\n"
          ],
          "name": "stdout"
        }
      ]
    },
    {
      "cell_type": "code",
      "metadata": {
        "id": "2rCGSOY_8jcs",
        "colab": {
          "base_uri": "https://localhost:8080/"
        },
        "outputId": "e361e1e5-20d9-46a1-d670-25636b2a6bfe"
      },
      "source": [
        "model = Sequential()\n",
        "model.add(Embedding(10000, 32))\n",
        "model.add(SimpleRNN(32, return_sequences=True))  #return_sequences=True이걸 해주게 되면 sequences길이 만큼 return을 해준다. 예를 들어 I am tom이라고하면 3개의 sequneces를 가지게 된다. \n",
        "model.summary()"
      ],
      "execution_count": null,
      "outputs": [
        {
          "output_type": "stream",
          "text": [
            "Model: \"sequential_2\"\n",
            "_________________________________________________________________\n",
            "Layer (type)                 Output Shape              Param #   \n",
            "=================================================================\n",
            "embedding_2 (Embedding)      (None, None, 32)          320000    \n",
            "_________________________________________________________________\n",
            "simple_rnn_2 (SimpleRNN)     (None, None, 32)          2080      \n",
            "=================================================================\n",
            "Total params: 322,080\n",
            "Trainable params: 322,080\n",
            "Non-trainable params: 0\n",
            "_________________________________________________________________\n"
          ],
          "name": "stdout"
        }
      ]
    },
    {
      "cell_type": "markdown",
      "metadata": {
        "id": "scm9o_kK8jct"
      },
      "source": [
        "It is sometimes useful to stack several recurrent layers one after the other in order to increase the representational power of a network. \n",
        "In such a setup, you have to get all intermediate layers to return full sequences:"
      ]
    },
    {
      "cell_type": "markdown",
      "metadata": {
        "id": "I93V_5xcseMv"
      },
      "source": [
        "- RNN구조를 여러 층으로 쌓고 싶으면, return_sequences르 여러개 만들어 주면된다."
      ]
    },
    {
      "cell_type": "code",
      "metadata": {
        "id": "O6x45t2g8jct",
        "colab": {
          "base_uri": "https://localhost:8080/"
        },
        "outputId": "4fa083f1-1eaa-4460-8a3d-d5ee22b298a3"
      },
      "source": [
        "model = Sequential()\n",
        "model.add(Embedding(10000, 32))\n",
        "model.add(SimpleRNN(32, return_sequences=True))\n",
        "model.add(SimpleRNN(32, return_sequences=True))\n",
        "model.add(SimpleRNN(32, return_sequences=True))\n",
        "model.add(SimpleRNN(32))  # This last layer only returns the last outputs.\n",
        "model.summary()"
      ],
      "execution_count": null,
      "outputs": [
        {
          "output_type": "stream",
          "text": [
            "Model: \"sequential_3\"\n",
            "_________________________________________________________________\n",
            "Layer (type)                 Output Shape              Param #   \n",
            "=================================================================\n",
            "embedding_3 (Embedding)      (None, None, 32)          320000    \n",
            "_________________________________________________________________\n",
            "simple_rnn_3 (SimpleRNN)     (None, None, 32)          2080      \n",
            "_________________________________________________________________\n",
            "simple_rnn_4 (SimpleRNN)     (None, None, 32)          2080      \n",
            "_________________________________________________________________\n",
            "simple_rnn_5 (SimpleRNN)     (None, None, 32)          2080      \n",
            "_________________________________________________________________\n",
            "simple_rnn_6 (SimpleRNN)     (None, 32)                2080      \n",
            "=================================================================\n",
            "Total params: 328,320\n",
            "Trainable params: 328,320\n",
            "Non-trainable params: 0\n",
            "_________________________________________________________________\n"
          ],
          "name": "stdout"
        }
      ]
    },
    {
      "cell_type": "markdown",
      "metadata": {
        "id": "J02mhweKstYp"
      },
      "source": [
        "- 만약에 IMDB에서 movie가 positive인지 negative인지를 판단해줄려면 마지막에 return_sequences=True을 안해주고 model.add(SimpleRNN(32))이것을 해주게 되면 마지막 output을 통해서 movie가 positive인지 negative인지를 판단할 수 있게된다. \n",
        "\n",
        "- 근데 우리가 사용하는게 여러가지 결과들을 받아 와서 사용하는 경우에는 마지막에 model.add(SimpleRNN(32, return_sequences=True)를 써줘서 해야 하는 경우도 있다고 교수님이 말씀하심."
      ]
    },
    {
      "cell_type": "markdown",
      "metadata": {
        "id": "NY398Wh_8jct"
      },
      "source": [
        "Now let's try to use such a model on the IMDB movie review classification problem. First, let's preprocess the data:"
      ]
    },
    {
      "cell_type": "markdown",
      "metadata": {
        "id": "GqbkGyEStYwz"
      },
      "source": [
        "- 우리가 보게 될 데이터는 IMDB의 movie데이터 이다. "
      ]
    },
    {
      "cell_type": "code",
      "metadata": {
        "id": "dEXylX_I8jcu",
        "colab": {
          "base_uri": "https://localhost:8080/"
        },
        "outputId": "e52c4a50-e43d-4457-ad05-895bbeefe4bb"
      },
      "source": [
        "from tensorflow.keras.datasets import imdb\n",
        "from tensorflow.keras.preprocessing import sequence\n",
        "\n",
        "max_features = 10000  # number of words to consider as features 빈도수가 많은 단어를 사용해준다. \n",
        "maxlen = 500  # cut texts after this number of words (among top max_features most common words) 그리고 여기에서 앞에서 500단어까지만 보겠다는 것이다. \n",
        "batch_size = 32 #그리고 batch_size는 32가 된다. \n",
        "\n",
        "print('Loading data...')\n",
        "(input_train, y_train), (input_test, y_test) = imdb.load_data(num_words=max_features)\n",
        "print(len(input_train), 'train sequences')\n",
        "print(len(input_test), 'test sequences')\n",
        "\n",
        "print('Pad sequences (samples x time)')\n",
        "input_train = sequence.pad_sequences(input_train, maxlen=maxlen)\n",
        "input_test = sequence.pad_sequences(input_test, maxlen=maxlen)\n",
        "print('input_train shape:', input_train.shape)\n",
        "print('input_test shape:', input_test.shape)"
      ],
      "execution_count": null,
      "outputs": [
        {
          "output_type": "stream",
          "text": [
            "Loading data...\n",
            "Downloading data from https://storage.googleapis.com/tensorflow/tf-keras-datasets/imdb.npz\n",
            "17465344/17464789 [==============================] - 0s 0us/step\n"
          ],
          "name": "stdout"
        },
        {
          "output_type": "stream",
          "text": [
            "<string>:6: VisibleDeprecationWarning: Creating an ndarray from ragged nested sequences (which is a list-or-tuple of lists-or-tuples-or ndarrays with different lengths or shapes) is deprecated. If you meant to do this, you must specify 'dtype=object' when creating the ndarray\n",
            "/usr/local/lib/python3.7/dist-packages/tensorflow/python/keras/datasets/imdb.py:159: VisibleDeprecationWarning: Creating an ndarray from ragged nested sequences (which is a list-or-tuple of lists-or-tuples-or ndarrays with different lengths or shapes) is deprecated. If you meant to do this, you must specify 'dtype=object' when creating the ndarray\n",
            "  x_train, y_train = np.array(xs[:idx]), np.array(labels[:idx])\n",
            "/usr/local/lib/python3.7/dist-packages/tensorflow/python/keras/datasets/imdb.py:160: VisibleDeprecationWarning: Creating an ndarray from ragged nested sequences (which is a list-or-tuple of lists-or-tuples-or ndarrays with different lengths or shapes) is deprecated. If you meant to do this, you must specify 'dtype=object' when creating the ndarray\n",
            "  x_test, y_test = np.array(xs[idx:]), np.array(labels[idx:])\n"
          ],
          "name": "stderr"
        },
        {
          "output_type": "stream",
          "text": [
            "25000 train sequences\n",
            "25000 test sequences\n",
            "Pad sequences (samples x time)\n",
            "input_train shape: (25000, 500)\n",
            "input_test shape: (25000, 500)\n"
          ],
          "name": "stdout"
        }
      ]
    },
    {
      "cell_type": "markdown",
      "metadata": {
        "id": "p5jJrPz0m3mG"
      },
      "source": [
        "- pad_sequences ; 길이가 같지 않고 적거나 많을 때 일정한 길이로 맞춰 줄 때 사용한다. 2021년 5월 3일 복습할때 적음."
      ]
    },
    {
      "cell_type": "markdown",
      "metadata": {
        "id": "bJoYyTL38jcu"
      },
      "source": [
        "Let's train a simple recurrent network using an `Embedding` layer and a `SimpleRNN` layer:"
      ]
    },
    {
      "cell_type": "markdown",
      "metadata": {
        "id": "vh7Q6-IVt7A_"
      },
      "source": [
        "- 여기에서는 tensor flow 모형을 만든다. "
      ]
    },
    {
      "cell_type": "code",
      "metadata": {
        "id": "ZEhdAP6i8jcu",
        "colab": {
          "base_uri": "https://localhost:8080/"
        },
        "outputId": "c6d51f8c-4d62-4f8d-fd46-93ae372a4174"
      },
      "source": [
        "from tensorflow.keras.layers import Dense\n",
        "\n",
        "model = Sequential()\n",
        "model.add(Embedding(max_features, 32))  #Embedding을 해줘서 10000개를 32차원으로 해준다. \n",
        "model.add(SimpleRNN(32))  #그 Embedding된 32차원의 feature를 SimpleRNN구조로 해서 사용을 한다음에 \n",
        "model.add(Dense(1, activation='sigmoid'))  #마지막 layer에서 dense layer로 빼가지고 결과를 보겠다는 것이다. \n",
        "\n",
        "model.compile(optimizer='rmsprop', loss='binary_crossentropy', metrics=['acc'])\n",
        "history = model.fit(input_train, y_train,\n",
        "                    epochs=10,\n",
        "                    batch_size=128,\n",
        "                    validation_split=0.2)"
      ],
      "execution_count": null,
      "outputs": [
        {
          "output_type": "stream",
          "text": [
            "Epoch 1/10\n",
            "157/157 [==============================] - 76s 476ms/step - loss: 0.6604 - acc: 0.5863 - val_loss: 0.4268 - val_acc: 0.8260\n",
            "Epoch 2/10\n",
            "157/157 [==============================] - 75s 476ms/step - loss: 0.3861 - acc: 0.8425 - val_loss: 0.3930 - val_acc: 0.8382\n",
            "Epoch 3/10\n",
            "157/157 [==============================] - 74s 472ms/step - loss: 0.2886 - acc: 0.8858 - val_loss: 0.3446 - val_acc: 0.8594\n",
            "Epoch 4/10\n",
            "157/157 [==============================] - 74s 470ms/step - loss: 0.2232 - acc: 0.9175 - val_loss: 0.4152 - val_acc: 0.8078\n",
            "Epoch 5/10\n",
            "157/157 [==============================] - 75s 479ms/step - loss: 0.1719 - acc: 0.9398 - val_loss: 0.3638 - val_acc: 0.8578\n",
            "Epoch 6/10\n",
            "157/157 [==============================] - 76s 481ms/step - loss: 0.1127 - acc: 0.9616 - val_loss: 0.4000 - val_acc: 0.8462\n",
            "Epoch 7/10\n",
            "157/157 [==============================] - 75s 477ms/step - loss: 0.0761 - acc: 0.9763 - val_loss: 0.4334 - val_acc: 0.8592\n",
            "Epoch 8/10\n",
            "157/157 [==============================] - 75s 478ms/step - loss: 0.0544 - acc: 0.9836 - val_loss: 0.5747 - val_acc: 0.8028\n",
            "Epoch 9/10\n",
            "157/157 [==============================] - 75s 479ms/step - loss: 0.0513 - acc: 0.9834 - val_loss: 0.5364 - val_acc: 0.8370\n",
            "Epoch 10/10\n",
            "157/157 [==============================] - 75s 478ms/step - loss: 0.0217 - acc: 0.9940 - val_loss: 0.7996 - val_acc: 0.7342\n"
          ],
          "name": "stdout"
        }
      ]
    },
    {
      "cell_type": "markdown",
      "metadata": {
        "id": "8LNdrKNk8jcu"
      },
      "source": [
        "Let's display the training and validation loss and accuracy:"
      ]
    },
    {
      "cell_type": "markdown",
      "metadata": {
        "id": "eByg_ayIvp_u"
      },
      "source": [
        "- 위를 통해 나온 결과를 아래 코드를 통해 그림으로 그려본다."
      ]
    },
    {
      "cell_type": "code",
      "metadata": {
        "id": "YJW5rlfV8jcv",
        "colab": {
          "base_uri": "https://localhost:8080/",
          "height": 545
        },
        "outputId": "5d4b302b-071e-4049-b38f-21aa0496a077"
      },
      "source": [
        "import matplotlib.pyplot as plt\n",
        "\n",
        "acc = history.history['acc']\n",
        "val_acc = history.history['val_acc']\n",
        "loss = history.history['loss']\n",
        "val_loss = history.history['val_loss']\n",
        "\n",
        "epochs = range(len(acc))\n",
        "\n",
        "plt.plot(epochs, acc, 'bo', label='Training acc')\n",
        "plt.plot(epochs, val_acc, 'b', label='Validation acc')\n",
        "plt.title('Training and validation accuracy')\n",
        "plt.legend()\n",
        "\n",
        "plt.figure()\n",
        "\n",
        "plt.plot(epochs, loss, 'bo', label='Training loss')\n",
        "plt.plot(epochs, val_loss, 'b', label='Validation loss')\n",
        "plt.title('Training and validation loss')\n",
        "plt.legend()\n",
        "\n",
        "plt.show()"
      ],
      "execution_count": null,
      "outputs": [
        {
          "output_type": "display_data",
          "data": {
            "image/png": "[encoded data removed]",
            "text/plain": [
              "<Figure size 432x288 with 1 Axes>"
            ]
          },
          "metadata": {
            "tags": [],
            "needs_background": "light"
          }
        },
        {
          "output_type": "display_data",
          "data": {
            "image/png": "[encoded data removed]",
            "text/plain": [
              "<Figure size 432x288 with 1 Axes>"
            ]
          },
          "metadata": {
            "tags": [],
            "needs_background": "light"
          }
        }
      ]
    },
    {
      "cell_type": "markdown",
      "metadata": {
        "id": "H7lgkO1UvvQ3"
      },
      "source": [
        "- chapter 3에서는 88%의 test accuracy가 나왔는데, small recurrent network에서는 85%의 validation accuracy가 나와서 좋은 결과를 가지지 못했다고 나오게 된다. \n",
        "\n",
        "- 여기에서는 SimpelRNN이여서 좋은 결과를 가지지 못했지만 아래에서 나오는 LSTM이던지 추가적으로 GRU를 통해 좋은 결과를 가진다는 것을 볼 수 있을 것이다.\n",
        "\n",
        "- 그래서 RNN구조가 Simple했다는 문제점도 말해주고 있다. \n",
        "\n",
        "- 여기까지 설명을 하고 강의 노트 p11로 가서 강의노트를 설명하심."
      ]
    },
    {
      "cell_type": "markdown",
      "metadata": {
        "id": "Zf8MoC-C8jcv"
      },
      "source": [
        "As a reminder, in chapter 3, our very first naive approach to this very dataset got us to 88% test accuracy. Unfortunately, our small \n",
        "recurrent network doesn't perform very well at all compared to this baseline (only up to 85% validation accuracy). Part of the problem is \n",
        "that our inputs only consider the first 500 words rather the full sequences -- \n",
        "hence our RNN has access to less information than our earlier baseline model. The remainder of the problem is simply that `SimpleRNN` isn't very good at processing long sequences, like text. Other types of recurrent layers perform much better. Let's take a look at some \n",
        "more advanced layers."
      ]
    },
    {
      "cell_type": "markdown",
      "metadata": {
        "id": "x1RqUxJq8jcv"
      },
      "source": [
        "[...]\n",
        "\n",
        "## A concrete LSTM example in Keras\n",
        "\n",
        "Now let's switch to more practical concerns: we will set up a model using a LSTM layer and train it on the IMDB data. Here's the network, \n",
        "similar to the one with `SimpleRNN` that we just presented. We only specify the output dimensionality of the LSTM layer, and leave every \n",
        "other argument (there are lots) to the Keras defaults. Keras has good defaults, and things will almost always \"just work\" without you \n",
        "having to spend time tuning parameters by hand."
      ]
    },
    {
      "cell_type": "code",
      "metadata": {
        "id": "cQ_qIoYv8jcw",
        "colab": {
          "base_uri": "https://localhost:8080/"
        },
        "outputId": "5cf3479e-80ec-432a-80cb-0a79b2093e99"
      },
      "source": [
        "from tensorflow.keras.layers import LSTM\n",
        "\n",
        "model = Sequential()\n",
        "model.add(Embedding(max_features, 32))\n",
        "model.add(LSTM(32))  #기존에 SimpleRNN이 있던 부분을 LSTM으로 바꾸어 주었다. \n",
        "model.add(Dense(1, activation='sigmoid'))\n",
        "\n",
        "model.compile(optimizer='rmsprop',\n",
        "              loss='binary_crossentropy',\n",
        "              metrics=['acc'])\n",
        "history = model.fit(input_train, y_train,\n",
        "                    epochs=10,\n",
        "                    batch_size=128,\n",
        "                    validation_split=0.2)"
      ],
      "execution_count": null,
      "outputs": [
        {
          "output_type": "stream",
          "text": [
            "Epoch 1/10\n",
            "157/157 [==============================] - 43s 95ms/step - loss: 0.6055 - acc: 0.6644 - val_loss: 0.3373 - val_acc: 0.8674\n",
            "Epoch 2/10\n",
            "157/157 [==============================] - 14s 91ms/step - loss: 0.3160 - acc: 0.8782 - val_loss: 0.2877 - val_acc: 0.8850\n",
            "Epoch 3/10\n",
            "157/157 [==============================] - 14s 91ms/step - loss: 0.2368 - acc: 0.9133 - val_loss: 0.2867 - val_acc: 0.8816\n",
            "Epoch 4/10\n",
            "157/157 [==============================] - 14s 91ms/step - loss: 0.1957 - acc: 0.9279 - val_loss: 0.5390 - val_acc: 0.8122\n",
            "Epoch 5/10\n",
            "157/157 [==============================] - 14s 91ms/step - loss: 0.1808 - acc: 0.9364 - val_loss: 0.3180 - val_acc: 0.8746\n",
            "Epoch 6/10\n",
            "157/157 [==============================] - 14s 91ms/step - loss: 0.1504 - acc: 0.9471 - val_loss: 0.3038 - val_acc: 0.8726\n",
            "Epoch 7/10\n",
            "157/157 [==============================] - 14s 91ms/step - loss: 0.1414 - acc: 0.9510 - val_loss: 0.3687 - val_acc: 0.8778\n",
            "Epoch 8/10\n",
            "157/157 [==============================] - 14s 91ms/step - loss: 0.1234 - acc: 0.9581 - val_loss: 0.3167 - val_acc: 0.8816\n",
            "Epoch 9/10\n",
            "157/157 [==============================] - 14s 91ms/step - loss: 0.1084 - acc: 0.9620 - val_loss: 0.4021 - val_acc: 0.8600\n",
            "Epoch 10/10\n",
            "157/157 [==============================] - 14s 91ms/step - loss: 0.1077 - acc: 0.9600 - val_loss: 0.3498 - val_acc: 0.8766\n"
          ],
          "name": "stdout"
        }
      ]
    },
    {
      "cell_type": "code",
      "metadata": {
        "id": "vv1vXWso8jcw",
        "colab": {
          "base_uri": "https://localhost:8080/",
          "height": 545
        },
        "outputId": "6fac8938-985c-42e6-a6df-3915f7f4b99b"
      },
      "source": [
        "acc = history.history['acc']\n",
        "val_acc = history.history['val_acc']\n",
        "loss = history.history['loss']\n",
        "val_loss = history.history['val_loss']\n",
        "\n",
        "epochs = range(len(acc))\n",
        "\n",
        "plt.plot(epochs, acc, 'bo', label='Training acc')\n",
        "plt.plot(epochs, val_acc, 'b', label='Validation acc')\n",
        "plt.title('Training and validation accuracy')\n",
        "plt.legend()\n",
        "\n",
        "plt.figure()\n",
        "\n",
        "plt.plot(epochs, loss, 'bo', label='Training loss')\n",
        "plt.plot(epochs, val_loss, 'b', label='Validation loss')\n",
        "plt.title('Training and validation loss')\n",
        "plt.legend()\n",
        "\n",
        "plt.show()"
      ],
      "execution_count": null,
      "outputs": [
        {
          "output_type": "display_data",
          "data": {
            "image/png": "[encoded data removed]",
            "text/plain": [
              "<Figure size 432x288 with 1 Axes>"
            ]
          },
          "metadata": {
            "tags": [],
            "needs_background": "light"
          }
        },
        {
          "output_type": "display_data",
          "data": {
            "image/png": "[encoded data removed]",
            "text/plain": [
              "<Figure size 432x288 with 1 Axes>"
            ]
          },
          "metadata": {
            "tags": [],
            "needs_background": "light"
          }
        }
      ]
    },
    {
      "cell_type": "markdown",
      "metadata": {
        "id": "BK2YGKAqo6mQ"
      },
      "source": [
        "- Training and validation accuracy에서는 Training accuracy는 1에 가깝게 되는데, validation accuracy는 4부분에서 0.87정도 나오기 때문에 4에서 멈추는 것이 좋다고 판단이 된다. 그래서 epoch을 2에서 3정도에서 멈춰 주는것이 좋겠다. \n",
        "\n",
        "- 여기까지 강의노트 p14부분이고 강의노트로 넘어가서 p15부터 강의노트에 대해 설명을 하심."
      ]
    },
    {
      "cell_type": "code",
      "metadata": {
        "id": "slIu85os8jcw"
      },
      "source": [
        ""
      ],
      "execution_count": null,
      "outputs": []
    }
  ]
}