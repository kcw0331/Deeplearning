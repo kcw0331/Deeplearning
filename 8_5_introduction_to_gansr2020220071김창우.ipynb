{
  "nbformat": 4,
  "nbformat_minor": 0,
  "metadata": {
    "kernelspec": {
      "display_name": "Python 3",
      "language": "python",
      "name": "python3"
    },
    "language_info": {
      "codemirror_mode": {
        "name": "ipython",
        "version": 3
      },
      "file_extension": ".py",
      "mimetype": "text/x-python",
      "name": "python",
      "nbconvert_exporter": "python",
      "pygments_lexer": "ipython3",
      "version": "3.5.2"
    },
    "colab": {
      "name": "8.5-introduction-to-gansr2020220071김창우.ipynb",
      "provenance": [],
      "collapsed_sections": [],
      "include_colab_link": true
    },
    "accelerator": "GPU"
  },
  "cells": [
    {
      "cell_type": "markdown",
      "metadata": {
        "id": "view-in-github",
        "colab_type": "text"
      },
      "source": [
        "<a href=\"https://colab.research.google.com/github/kcw0331/Deeplearning/blob/main/8_5_introduction_to_gansr2020220071%EA%B9%80%EC%B0%BD%EC%9A%B0.ipynb\" target=\"_parent\"><img src=\"https://colab.research.google.com/assets/colab-badge.svg\" alt=\"Open In Colab\"/></a>"
      ]
    },
    {
      "cell_type": "code",
      "metadata": {
        "id": "fSdo8cbzUU8G",
        "colab": {
          "base_uri": "https://localhost:8080/",
          "height": 35
        },
        "outputId": "d0945def-bc2c-4c67-c1b9-a58499f45df3"
      },
      "source": [
        "import tensorflow.keras\n",
        "tensorflow.keras.__version__"
      ],
      "execution_count": null,
      "outputs": [
        {
          "output_type": "execute_result",
          "data": {
            "application/vnd.google.colaboratory.intrinsic+json": {
              "type": "string"
            },
            "text/plain": [
              "'2.5.0'"
            ]
          },
          "metadata": {
            "tags": []
          },
          "execution_count": 1
        }
      ]
    },
    {
      "cell_type": "markdown",
      "metadata": {
        "id": "K-Br6sBTUU8I"
      },
      "source": [
        "# Introduction to generative adversarial networks\n",
        "\n",
        "This notebook contains the second code sample found in Chapter 8, Section 5 of [Deep Learning with Python](https://www.manning.com/books/deep-learning-with-python?a_aid=keras&a_bid=76564dff). Note that the original text features far more content, in particular further explanations and figures: in this notebook, you will only find source code and related comments.\n",
        "\n",
        "---\n",
        "[...]"
      ]
    },
    {
      "cell_type": "markdown",
      "metadata": {
        "id": "Wtuf8nIxUU8J"
      },
      "source": [
        "## A schematic GAN implementation\n",
        "\n",
        "\n",
        "In what follows, we explain how to implement a GAN in Keras, in its barest form -- since GANs are quite advanced, diving deeply into the \n",
        "technical details would be out of scope for us. Our specific implementation will be a deep convolutional GAN, or DCGAN: a GAN where the \n",
        "generator and discriminator are deep convnets. In particular, it leverages a `Conv2DTranspose` layer for image upsampling in the generator.\n",
        "\n",
        "We will train our GAN on images from CIFAR10, a dataset of 50,000 32x32 RGB images belong to 10 classes (5,000 images per class). To make \n",
        "things even easier, we will only use images belonging to the class \"frog\".\n",
        "\n",
        "Schematically, our GAN looks like this:\n",
        "\n",
        "* A `generator` network maps vectors of shape `(latent_dim,)` to images of shape `(32, 32, 3)`.\n",
        "* A `discriminator` network maps images of shape (32, 32, 3) to a binary score estimating the probability that the image is real.\n",
        "* A `gan` network chains the generator and the discriminator together: `gan(x) = discriminator(generator(x))`. Thus this `gan` network maps \n",
        "latent space vectors to the discriminator's assessment of the realism of these latent vectors as decoded by the generator.\n",
        "* We train the discriminator using examples of real and fake images along with \"real\"/\"fake\" labels, as we would train any regular image \n",
        "classification model.\n",
        "* To train the generator, we use the gradients of the generator's weights with regard to the loss of the `gan` model. This means that, at \n",
        "every step, we move the weights of the generator in a direction that will make the discriminator more likely to classify as \"real\" the \n",
        "images decoded by the generator. I.e. we train the generator to fool the discriminator."
      ]
    },
    {
      "cell_type": "markdown",
      "metadata": {
        "id": "AF85FWAGUU8L"
      },
      "source": [
        "## A bag of tricks\n",
        "\n",
        "\n",
        "Training GANs and tuning GAN implementations is notoriously difficult. There are a number of known \"tricks\" that one should keep in mind. \n",
        "Like most things in deep learning, it is more alchemy than science: these tricks are really just heuristics, not theory-backed guidelines. \n",
        "They are backed by some level of intuitive understanding of the phenomenon at hand, and they are known to work well empirically, albeit not \n",
        "necessarily in every context.\n",
        "\n",
        "Here are a few of the tricks that we leverage in our own implementation of a GAN generator and discriminator below. It is not an exhaustive \n",
        "list of GAN-related tricks; you will find many more across the GAN literature.\n",
        "\n",
        "* We use `tanh` as the last activation in the generator, instead of `sigmoid`, which would be more commonly found in other types of models.\n",
        "* We sample points from the latent space using a _normal distribution_ (Gaussian distribution), not a uniform distribution.\n",
        "* Stochasticity is good to induce robustness. Since GAN training results in a dynamic equilibrium, GANs are likely to get \"stuck\" in all sorts of ways. \n",
        "Introducing randomness during training helps prevent this. We introduce randomness in two ways: 1) we use dropout in the discriminator, 2) \n",
        "we add some random noise to the labels for the discriminator.\n",
        "* Sparse gradients can hinder GAN training. In deep learning, sparsity is often a desirable property, but not in GANs. There are two things \n",
        "that can induce gradient sparsity: 1) max pooling operations, 2) ReLU activations. Instead of max pooling, we recommend using strided \n",
        "convolutions for downsampling, and we recommend using a `LeakyReLU` layer instead of a ReLU activation. It is similar to ReLU but it \n",
        "relaxes sparsity constraints by allowing small negative activation values.\n",
        "* In generated images, it is common to see \"checkerboard artifacts\" caused by unequal coverage of the pixel space in the generator. To fix \n",
        "this, we use a kernel size that is divisible by the stride size, whenever we use a strided `Conv2DTranpose` or `Conv2D` in both the \n",
        "generator and discriminator."
      ]
    },
    {
      "cell_type": "markdown",
      "metadata": {
        "id": "lw120Y-TbrDs"
      },
      "source": [
        "- 아래 보이는 코드들은 generator를 만드는 코드들 이다."
      ]
    },
    {
      "cell_type": "markdown",
      "metadata": {
        "id": "zaSD2AuYUU8N"
      },
      "source": [
        "## The generator\n",
        "\n",
        "\n",
        "First, we develop a `generator` model, which turns a vector (from the latent space -- during training it will sampled at random) into a \n",
        "candidate image. One of the many issues that commonly arise with GANs is that the generator gets stuck with generated images that look like \n",
        "noise. A possible solution is to use dropout on both the discriminator and generator."
      ]
    },
    {
      "cell_type": "markdown",
      "metadata": {
        "id": "T-S7qHMia-g4"
      },
      "source": [
        "- 여기 해당 클래스에서는 개구리를 5000개만 사용해서 해본다고 말씀하심."
      ]
    },
    {
      "cell_type": "markdown",
      "metadata": {
        "id": "LGymmS10bL3U"
      },
      "source": [
        "- generator가 만들어 내는 가짜 이미지들이랑 그리고 가짜 이미지와 진짜 이미지를 구별하는 discriminator가 있다. "
      ]
    },
    {
      "cell_type": "code",
      "metadata": {
        "id": "fgzYD_WMUU8O",
        "colab": {
          "base_uri": "https://localhost:8080/"
        },
        "outputId": "0390a949-339a-47d0-b12b-d454d1076bee"
      },
      "source": [
        "import keras\n",
        "from keras import layers\n",
        "import numpy as np\n",
        "\n",
        "latent_dim = 32  #latent 벡터는 32차원을 썼다.\n",
        "height = 32   #output은 (32,32,3)을 사용하였다.\n",
        "width = 32\n",
        "channels = 3\n",
        "\n",
        "generator_input = keras.Input(shape=(latent_dim,))  #latent벡터를 사용해서 이미지를 generator하는 것이다.\n",
        "\n",
        "# First, transform the input into a 16x16 128-channels feature map\n",
        "x = layers.Dense(128 * 16 * 16)(generator_input)\n",
        "x = layers.LeakyReLU()(x)\n",
        "x = layers.Reshape((16, 16, 128))(x)\n",
        "\n",
        "# Then, add a convolution layer\n",
        "x = layers.Conv2D(256, 5, padding='same')(x)\n",
        "x = layers.LeakyReLU()(x)\n",
        "\n",
        "# Upsample to 32x32\n",
        "x = layers.Conv2DTranspose(256, 4, strides=2, padding='same')(x)\n",
        "x = layers.LeakyReLU()(x)\n",
        "\n",
        "# Few more conv layers\n",
        "x = layers.Conv2D(256, 5, padding='same')(x)\n",
        "x = layers.LeakyReLU()(x)\n",
        "x = layers.Conv2D(256, 5, padding='same')(x)\n",
        "x = layers.LeakyReLU()(x)\n",
        "\n",
        "# Produce a 32x32 1-channel feature map\n",
        "x = layers.Conv2D(channels, 7, activation='tanh', padding='same')(x)\n",
        "generator = keras.models.Model(generator_input, x)\n",
        "generator.summary()"
      ],
      "execution_count": null,
      "outputs": [
        {
          "output_type": "stream",
          "text": [
            "Model: \"model\"\n",
            "_________________________________________________________________\n",
            "Layer (type)                 Output Shape              Param #   \n",
            "=================================================================\n",
            "input_1 (InputLayer)         [(None, 32)]              0         \n",
            "_________________________________________________________________\n",
            "dense (Dense)                (None, 32768)             1081344   \n",
            "_________________________________________________________________\n",
            "leaky_re_lu (LeakyReLU)      (None, 32768)             0         \n",
            "_________________________________________________________________\n",
            "reshape (Reshape)            (None, 16, 16, 128)       0         \n",
            "_________________________________________________________________\n",
            "conv2d (Conv2D)              (None, 16, 16, 256)       819456    \n",
            "_________________________________________________________________\n",
            "leaky_re_lu_1 (LeakyReLU)    (None, 16, 16, 256)       0         \n",
            "_________________________________________________________________\n",
            "conv2d_transpose (Conv2DTran (None, 32, 32, 256)       1048832   \n",
            "_________________________________________________________________\n",
            "leaky_re_lu_2 (LeakyReLU)    (None, 32, 32, 256)       0         \n",
            "_________________________________________________________________\n",
            "conv2d_1 (Conv2D)            (None, 32, 32, 256)       1638656   \n",
            "_________________________________________________________________\n",
            "leaky_re_lu_3 (LeakyReLU)    (None, 32, 32, 256)       0         \n",
            "_________________________________________________________________\n",
            "conv2d_2 (Conv2D)            (None, 32, 32, 256)       1638656   \n",
            "_________________________________________________________________\n",
            "leaky_re_lu_4 (LeakyReLU)    (None, 32, 32, 256)       0         \n",
            "_________________________________________________________________\n",
            "conv2d_3 (Conv2D)            (None, 32, 32, 3)         37635     \n",
            "=================================================================\n",
            "Total params: 6,264,579\n",
            "Trainable params: 6,264,579\n",
            "Non-trainable params: 0\n",
            "_________________________________________________________________\n"
          ],
          "name": "stdout"
        }
      ]
    },
    {
      "cell_type": "markdown",
      "metadata": {
        "id": "DbzoYZc9cTja"
      },
      "source": [
        "- model이 처음에는 32였던게 마지막에는 (32,32,3)이 된 것을 확인할 수 있다. "
      ]
    },
    {
      "cell_type": "markdown",
      "metadata": {
        "id": "ER887uNjUU8P"
      },
      "source": [
        "## The discriminator\n",
        "\n",
        "\n",
        "Then, we develop a `discriminator` model, that takes as input a candidate image (real or synthetic) and classifies it into one of two \n",
        "classes, either \"generated image\" or \"real image that comes from the training set\"."
      ]
    },
    {
      "cell_type": "markdown",
      "metadata": {
        "id": "5JQt-o9jcehK"
      },
      "source": [
        "- discriminator는 binary을 판별해주는 역할을 한다."
      ]
    },
    {
      "cell_type": "code",
      "metadata": {
        "id": "fDNJEL3iUU8Q",
        "colab": {
          "base_uri": "https://localhost:8080/"
        },
        "outputId": "01670d86-7e3a-4ba6-8ec2-b757fb2e0c38"
      },
      "source": [
        "discriminator_input = layers.Input(shape=(height, width, channels))\n",
        "x = layers.Conv2D(128, 3)(discriminator_input)\n",
        "x = layers.LeakyReLU()(x)\n",
        "x = layers.Conv2D(128, 4, strides=2)(x)  #여기에서는 maxpooling을 쓰지 않고 strides를 2로 사용을 하였다.\n",
        "x = layers.LeakyReLU()(x)   #여기에서는 ReLU대신에 LeakyReLU를 사용하였다.\n",
        "x = layers.Conv2D(128, 4, strides=2)(x)\n",
        "x = layers.LeakyReLU()(x)\n",
        "x = layers.Conv2D(128, 4, strides=2)(x)\n",
        "x = layers.LeakyReLU()(x)\n",
        "x = layers.Flatten()(x)\n",
        "\n",
        "# One dropout layer - important trick!\n",
        "x = layers.Dropout(0.4)(x)   #로버스트하게 만들기 위해 Dropout을 사용하였다.\n",
        "\n",
        "# Classification layer\n",
        "x = layers.Dense(1, activation='sigmoid')(x)\n",
        "\n",
        "discriminator = keras.models.Model(discriminator_input, x)\n",
        "discriminator.summary()\n",
        "\n",
        "# To stabilize training, we use learning rate decay\n",
        "# and gradient clipping (by value) in the optimizer.\n",
        "discriminator_optimizer = keras.optimizers.RMSprop(lr=0.0008, clipvalue=1.0, decay=1e-8)\n",
        "discriminator.compile(optimizer=discriminator_optimizer, loss='binary_crossentropy')"
      ],
      "execution_count": null,
      "outputs": [
        {
          "output_type": "stream",
          "text": [
            "Model: \"model_1\"\n",
            "_________________________________________________________________\n",
            "Layer (type)                 Output Shape              Param #   \n",
            "=================================================================\n",
            "input_2 (InputLayer)         [(None, 32, 32, 3)]       0         \n",
            "_________________________________________________________________\n",
            "conv2d_4 (Conv2D)            (None, 30, 30, 128)       3584      \n",
            "_________________________________________________________________\n",
            "leaky_re_lu_5 (LeakyReLU)    (None, 30, 30, 128)       0         \n",
            "_________________________________________________________________\n",
            "conv2d_5 (Conv2D)            (None, 14, 14, 128)       262272    \n",
            "_________________________________________________________________\n",
            "leaky_re_lu_6 (LeakyReLU)    (None, 14, 14, 128)       0         \n",
            "_________________________________________________________________\n",
            "conv2d_6 (Conv2D)            (None, 6, 6, 128)         262272    \n",
            "_________________________________________________________________\n",
            "leaky_re_lu_7 (LeakyReLU)    (None, 6, 6, 128)         0         \n",
            "_________________________________________________________________\n",
            "conv2d_7 (Conv2D)            (None, 2, 2, 128)         262272    \n",
            "_________________________________________________________________\n",
            "leaky_re_lu_8 (LeakyReLU)    (None, 2, 2, 128)         0         \n",
            "_________________________________________________________________\n",
            "flatten (Flatten)            (None, 512)               0         \n",
            "_________________________________________________________________\n",
            "dropout (Dropout)            (None, 512)               0         \n",
            "_________________________________________________________________\n",
            "dense_1 (Dense)              (None, 1)                 513       \n",
            "=================================================================\n",
            "Total params: 790,913\n",
            "Trainable params: 790,913\n",
            "Non-trainable params: 0\n",
            "_________________________________________________________________\n"
          ],
          "name": "stdout"
        },
        {
          "output_type": "stream",
          "text": [
            "/usr/local/lib/python3.7/dist-packages/tensorflow/python/keras/optimizer_v2/optimizer_v2.py:375: UserWarning: The `lr` argument is deprecated, use `learning_rate` instead.\n",
            "  \"The `lr` argument is deprecated, use `learning_rate` instead.\")\n"
          ],
          "name": "stderr"
        }
      ]
    },
    {
      "cell_type": "markdown",
      "metadata": {
        "id": "hC0Ms17LUU8R"
      },
      "source": [
        "## The adversarial network\n",
        "\n",
        "Finally, we setup the GAN, which chains the generator and the discriminator. This is the model that, when trained, will move the generator \n",
        "in a direction that improves its ability to fool the discriminator. This model turns latent space points into a classification decision, \n",
        "\"fake\" or \"real\", and it is meant to be trained with labels that are always \"these are real images\". So training `gan` will updates the \n",
        "weights of `generator` in a way that makes `discriminator` more likely to predict \"real\" when looking at fake images. Very importantly, we \n",
        "set the discriminator to be frozen during training (non-trainable): its weights will not be updated when training `gan`. If the \n",
        "discriminator weights could be updated during this process, then we would be training the discriminator to always predict \"real\", which is \n",
        "not what we want!"
      ]
    },
    {
      "cell_type": "markdown",
      "metadata": {
        "id": "RFDmZWccdUKQ"
      },
      "source": [
        "- 여기에서는 adversarial network를 gan으로 정의를 하였다."
      ]
    },
    {
      "cell_type": "code",
      "metadata": {
        "collapsed": true,
        "id": "_vv_tkjiUU8S",
        "colab": {
          "base_uri": "https://localhost:8080/"
        },
        "outputId": "8b3b333d-2560-4998-decb-c63a6b1bc786"
      },
      "source": [
        "# Set discriminator weights to non-trainable\n",
        "# (will only apply to the `gan` model)\n",
        "discriminator.trainable = False  #여기에서 discriminator에 파라메터들은 trainable하지 않게 만들어 주었다. 그래서 gan network를 할 때 discriminator가 작동을 하지 않게 만들어 주었다.\n",
        "\n",
        "gan_input = keras.Input(shape=(latent_dim,))\n",
        "gan_output = discriminator(generator(gan_input))   #discriminator에 generator를 넣은 모양으로 정의를 하였다.\n",
        "gan = keras.models.Model(gan_input, gan_output)\n",
        "\n",
        "gan_optimizer = keras.optimizers.RMSprop(lr=0.0004, clipvalue=1.0, decay=1e-8)\n",
        "gan.compile(optimizer=gan_optimizer, loss='binary_crossentropy')"
      ],
      "execution_count": null,
      "outputs": [
        {
          "output_type": "stream",
          "text": [
            "/usr/local/lib/python3.7/dist-packages/tensorflow/python/keras/optimizer_v2/optimizer_v2.py:375: UserWarning: The `lr` argument is deprecated, use `learning_rate` instead.\n",
            "  \"The `lr` argument is deprecated, use `learning_rate` instead.\")\n"
          ],
          "name": "stderr"
        }
      ]
    },
    {
      "cell_type": "markdown",
      "metadata": {
        "id": "zG29zL_vUU8S"
      },
      "source": [
        "## How to train your DCGAN\n",
        "\n",
        "Now we can start training. To recapitulate, this is schematically what the training loop looks like:\n",
        "\n",
        "```\n",
        "for each epoch:\n",
        "    * Draw random points in the latent space (random noise).\n",
        "    * Generate images with `generator` using this random noise.\n",
        "    * Mix the generated images with real ones.\n",
        "    * Train `discriminator` using these mixed images, with corresponding targets, either \"real\" (for the real images) or \"fake\" (for the generated images).\n",
        "    * Draw new random points in the latent space.\n",
        "    * Train `gan` using these random vectors, with targets that all say \"these are real images\". This will update the weights of the generator (only, since discriminator is frozen inside `gan`) to move them towards getting the discriminator to predict \"these are real images\" for generated images, i.e. this trains the generator to fool the discriminator.\n",
        "```\n",
        "\n",
        "Let's implement it:"
      ]
    },
    {
      "cell_type": "code",
      "metadata": {
        "id": "siv5bDHTUU8S",
        "colab": {
          "base_uri": "https://localhost:8080/"
        },
        "outputId": "11b7d386-5d82-4d6f-cefe-d293cd286bca"
      },
      "source": [
        "import os\n",
        "from tensorflow.keras.preprocessing import image\n",
        "import tensorflow\n",
        "\n",
        "# Load CIFAR10 data    #처음에는 CIFAR10부분을 읽어와 주었다.\n",
        "(x_train, y_train), (_, _) = tensorflow.keras.datasets.cifar10.load_data()\n",
        "\n",
        "# Select frog images (class 6)   #x_train데이터를 frog만 가져오게 만들어 주었다. \n",
        "x_train = x_train[y_train.flatten() == 6]\n",
        "\n",
        "# Normalize data   #여기에서는 Normalize해주어 255로 나누어서 0에서 1사이에 값을 가질 수 있게 해주었다. \n",
        "x_train = x_train.reshape(\n",
        "    (x_train.shape[0],) + (height, width, channels)).astype('float32') / 255.\n",
        "\n",
        "iterations = 10000  #그리고 iterations은 10000번을 해준다. \n",
        "batch_size = 20\n",
        "save_dir = '/'   #그리고 ganimages에 저장을 한다. \n",
        "\n",
        "# Start training loop\n",
        "start = 0\n",
        "for step in range(iterations):   #여기에서는 for문을 해서 iterations을 돌려준다. \n",
        "    # Sample random points in the latent space\n",
        "    random_latent_vectors = np.random.normal(size=(batch_size, latent_dim))   #random_latent_vectors를 batch_size만큼 만들고\n",
        "\n",
        "    # Decode them to fake images\n",
        "    generated_images = generator.predict(random_latent_vectors)  #이미지를 generator를 한다.\n",
        "\n",
        "    # Combine them with real images\n",
        "    stop = start + batch_size\n",
        "    real_images = x_train[start: stop]  #real_images에서도 batch사이즈 만큼의 이미지들을 불러와 준다. \n",
        "    combined_images = np.concatenate([generated_images, real_images])  #combined_images를 generated_images와 real_images로 합쳐서 만들어 준다. \n",
        "\n",
        "    # Assemble labels discriminating real from fake images\n",
        "    labels = np.concatenate([np.ones((batch_size, 1)),  #그리고 labels을 만들 때, generted_images를 1로 하고 real_images를 0으로 해준다. \n",
        "                             np.zeros((batch_size, 1))])\n",
        "    # Add random noise to the labels - important trick!\n",
        "    labels += 0.05 * np.random.random(labels.shape)\n",
        "\n",
        "    # Train the discriminator\n",
        "    d_loss = discriminator.train_on_batch(combined_images, labels)\n",
        "\n",
        "    # sample random points in the latent space\n",
        "    random_latent_vectors = np.random.normal(size=(batch_size, latent_dim))\n",
        "\n",
        "    # Assemble labels that say \"all real images\"\n",
        "    misleading_targets = np.zeros((batch_size, 1))\n",
        "\n",
        "    # Train the generator (via the gan model,\n",
        "    # where the discriminator weights are frozen)\n",
        "    a_loss = gan.train_on_batch(random_latent_vectors, misleading_targets)\n",
        "    \n",
        "    start += batch_size\n",
        "    if start > len(x_train) - batch_size:\n",
        "      start = 0\n",
        "\n",
        "    # Occasionally save / plot\n",
        "    if step % 100 == 0:\n",
        "        # Save model weights\n",
        "        gan.save_weights('gan.h5')\n",
        "\n",
        "        # Print metrics\n",
        "        print('discriminator loss at step %s: %s' % (step, d_loss))\n",
        "        print('adversarial loss at step %s: %s' % (step, a_loss))\n",
        "\n",
        "        # Save one generated image\n",
        "        img = image.array_to_img(generated_images[0] * 255., scale=False)\n",
        "        img.save(os.path.join(save_dir, 'generated_frog' + str(step) + '.png'))\n",
        "\n",
        "        # Save one real image, for comparison\n",
        "        img = image.array_to_img(real_images[0] * 255., scale=False)\n",
        "        img.save(os.path.join(save_dir, 'real_frog' + str(step) + '.png'))"
      ],
      "execution_count": null,
      "outputs": [
        {
          "output_type": "stream",
          "text": [
            "discriminator loss at step 0: 2.350587844848633\n",
            "adversarial loss at step 0: 20.70819091796875\n",
            "discriminator loss at step 100: 0.6855213046073914\n",
            "adversarial loss at step 100: 0.9259705543518066\n",
            "discriminator loss at step 200: 0.7144326567649841\n",
            "adversarial loss at step 200: 0.7660754919052124\n",
            "discriminator loss at step 300: 0.683475911617279\n",
            "adversarial loss at step 300: 0.7334230542182922\n",
            "discriminator loss at step 400: 0.6954408884048462\n",
            "adversarial loss at step 400: 0.8317897915840149\n",
            "discriminator loss at step 500: 0.6929126381874084\n",
            "adversarial loss at step 500: 0.7543660402297974\n",
            "discriminator loss at step 600: 0.7020691633224487\n",
            "adversarial loss at step 600: 0.7323079109191895\n",
            "discriminator loss at step 700: 0.7014182209968567\n",
            "adversarial loss at step 700: 0.7767497301101685\n",
            "discriminator loss at step 800: 0.7054824829101562\n",
            "adversarial loss at step 800: 0.744277834892273\n",
            "discriminator loss at step 900: 0.6675850749015808\n",
            "adversarial loss at step 900: 0.7512572407722473\n",
            "discriminator loss at step 1000: 0.7046701908111572\n",
            "adversarial loss at step 1000: 0.7560726404190063\n",
            "discriminator loss at step 1100: 0.6914081573486328\n",
            "adversarial loss at step 1100: 0.7475690245628357\n",
            "discriminator loss at step 1200: 0.7186071276664734\n",
            "adversarial loss at step 1200: 0.779729425907135\n",
            "discriminator loss at step 1300: 0.6890727281570435\n",
            "adversarial loss at step 1300: 0.7576848268508911\n",
            "discriminator loss at step 1400: 0.6924505233764648\n",
            "adversarial loss at step 1400: 0.771048903465271\n",
            "discriminator loss at step 1500: 0.6978083848953247\n",
            "adversarial loss at step 1500: 0.7432767748832703\n",
            "discriminator loss at step 1600: 0.7183676958084106\n",
            "adversarial loss at step 1600: 0.7318852543830872\n",
            "discriminator loss at step 1700: 0.7123757600784302\n",
            "adversarial loss at step 1700: 0.7732852697372437\n",
            "discriminator loss at step 1800: 0.7070046663284302\n",
            "adversarial loss at step 1800: 0.7685602903366089\n",
            "discriminator loss at step 1900: 1.2377769947052002\n",
            "adversarial loss at step 1900: 0.7821803092956543\n",
            "discriminator loss at step 2000: 0.7010575532913208\n",
            "adversarial loss at step 2000: 0.7410916686058044\n",
            "discriminator loss at step 2100: 0.6971433758735657\n",
            "adversarial loss at step 2100: 0.765854001045227\n",
            "discriminator loss at step 2200: 0.6880337595939636\n",
            "adversarial loss at step 2200: 0.8125302195549011\n",
            "discriminator loss at step 2300: 0.7151029706001282\n",
            "adversarial loss at step 2300: 0.7452191114425659\n",
            "discriminator loss at step 2400: 0.7235347628593445\n",
            "adversarial loss at step 2400: 0.7858128547668457\n",
            "discriminator loss at step 2500: 0.6774530410766602\n",
            "adversarial loss at step 2500: 0.7215830683708191\n",
            "discriminator loss at step 2600: 0.6772263050079346\n",
            "adversarial loss at step 2600: 0.7191401720046997\n",
            "discriminator loss at step 2700: 0.7072044014930725\n",
            "adversarial loss at step 2700: 0.7329003214836121\n",
            "discriminator loss at step 2800: 0.7108117938041687\n",
            "adversarial loss at step 2800: 0.735693097114563\n",
            "discriminator loss at step 2900: 0.6989654898643494\n",
            "adversarial loss at step 2900: 0.7580111622810364\n",
            "discriminator loss at step 3000: 0.6931790113449097\n",
            "adversarial loss at step 3000: 0.7535942792892456\n",
            "discriminator loss at step 3100: 0.7053459286689758\n",
            "adversarial loss at step 3100: 0.7518414258956909\n",
            "discriminator loss at step 3200: 0.7012322545051575\n",
            "adversarial loss at step 3200: 0.7884522676467896\n",
            "discriminator loss at step 3300: 0.7080992460250854\n",
            "adversarial loss at step 3300: 0.7320386171340942\n",
            "discriminator loss at step 3400: 0.6971001625061035\n",
            "adversarial loss at step 3400: 0.708769679069519\n",
            "discriminator loss at step 3500: 0.6834419965744019\n",
            "adversarial loss at step 3500: 0.7473306655883789\n",
            "discriminator loss at step 3600: 0.6905001401901245\n",
            "adversarial loss at step 3600: 0.6754227876663208\n",
            "discriminator loss at step 3700: 0.681623101234436\n",
            "adversarial loss at step 3700: 0.7509645223617554\n",
            "discriminator loss at step 3800: 0.6829895973205566\n",
            "adversarial loss at step 3800: 0.8808510899543762\n",
            "discriminator loss at step 3900: 0.6986047029495239\n",
            "adversarial loss at step 3900: 0.7703582644462585\n",
            "discriminator loss at step 4000: 0.6805126667022705\n",
            "adversarial loss at step 4000: 0.8266080617904663\n",
            "discriminator loss at step 4100: 0.6866347789764404\n",
            "adversarial loss at step 4100: 0.7289438247680664\n",
            "discriminator loss at step 4200: 0.6925172805786133\n",
            "adversarial loss at step 4200: 0.7523429989814758\n",
            "discriminator loss at step 4300: 0.6933068037033081\n",
            "adversarial loss at step 4300: 0.7280074954032898\n",
            "discriminator loss at step 4400: 0.7021561861038208\n",
            "adversarial loss at step 4400: 0.7586492896080017\n",
            "discriminator loss at step 4500: 0.7021708488464355\n",
            "adversarial loss at step 4500: 0.7310545444488525\n",
            "discriminator loss at step 4600: 0.6939849257469177\n",
            "adversarial loss at step 4600: 0.7360130548477173\n",
            "discriminator loss at step 4700: 0.6882407069206238\n",
            "adversarial loss at step 4700: 0.7553093433380127\n",
            "discriminator loss at step 4800: 0.6923403739929199\n",
            "adversarial loss at step 4800: 0.7326829433441162\n",
            "discriminator loss at step 4900: 0.6917088627815247\n",
            "adversarial loss at step 4900: 0.6969398260116577\n",
            "discriminator loss at step 5000: 0.702980637550354\n",
            "adversarial loss at step 5000: 0.8027900457382202\n",
            "discriminator loss at step 5100: 0.6952083706855774\n",
            "adversarial loss at step 5100: 0.7490085959434509\n",
            "discriminator loss at step 5200: 0.7003148794174194\n",
            "adversarial loss at step 5200: 0.720466673374176\n",
            "discriminator loss at step 5300: 0.6907728910446167\n",
            "adversarial loss at step 5300: 0.7437981367111206\n",
            "discriminator loss at step 5400: 0.6793614625930786\n",
            "adversarial loss at step 5400: 0.6104767918586731\n",
            "discriminator loss at step 5500: 0.6951748132705688\n",
            "adversarial loss at step 5500: 0.7620099186897278\n",
            "discriminator loss at step 5600: 0.6937082409858704\n",
            "adversarial loss at step 5600: 0.7599179148674011\n",
            "discriminator loss at step 5700: 0.6989070177078247\n",
            "adversarial loss at step 5700: 0.750697910785675\n",
            "discriminator loss at step 5800: 0.6927514672279358\n",
            "adversarial loss at step 5800: 0.8157709240913391\n",
            "discriminator loss at step 5900: 0.6927159428596497\n",
            "adversarial loss at step 5900: 0.7821835279464722\n",
            "discriminator loss at step 6000: 0.6919364929199219\n",
            "adversarial loss at step 6000: 0.7795056700706482\n",
            "discriminator loss at step 6100: 0.705187201499939\n",
            "adversarial loss at step 6100: 0.7828348875045776\n",
            "discriminator loss at step 6200: 0.6838226914405823\n",
            "adversarial loss at step 6200: 0.8435055017471313\n",
            "discriminator loss at step 6300: 0.6904775500297546\n",
            "adversarial loss at step 6300: 0.6648707389831543\n",
            "discriminator loss at step 6400: 0.6932158470153809\n",
            "adversarial loss at step 6400: 0.7537810206413269\n",
            "discriminator loss at step 6500: 0.6928865313529968\n",
            "adversarial loss at step 6500: 0.7563201189041138\n",
            "discriminator loss at step 6600: 0.6821058392524719\n",
            "adversarial loss at step 6600: 0.7337645292282104\n",
            "discriminator loss at step 6700: 0.7042625546455383\n",
            "adversarial loss at step 6700: 0.797622561454773\n",
            "discriminator loss at step 6800: 0.6895207762718201\n",
            "adversarial loss at step 6800: 0.7977374196052551\n",
            "discriminator loss at step 6900: 0.7765920162200928\n",
            "adversarial loss at step 6900: 0.7407062649726868\n",
            "discriminator loss at step 7000: 0.7077631950378418\n",
            "adversarial loss at step 7000: 0.7783914804458618\n",
            "discriminator loss at step 7100: 0.7075570225715637\n",
            "adversarial loss at step 7100: 0.7659719586372375\n",
            "discriminator loss at step 7200: 0.6930271983146667\n",
            "adversarial loss at step 7200: 0.784876823425293\n",
            "discriminator loss at step 7300: 0.6530196666717529\n",
            "adversarial loss at step 7300: 1.008574366569519\n",
            "discriminator loss at step 7400: 0.6995247006416321\n",
            "adversarial loss at step 7400: 0.7480075359344482\n",
            "discriminator loss at step 7500: 0.6842626333236694\n",
            "adversarial loss at step 7500: 0.7891541719436646\n",
            "discriminator loss at step 7600: 0.6893405914306641\n",
            "adversarial loss at step 7600: 0.7574746608734131\n",
            "discriminator loss at step 7700: 0.6634629964828491\n",
            "adversarial loss at step 7700: 0.8640510439872742\n",
            "discriminator loss at step 7800: 0.6949470043182373\n",
            "adversarial loss at step 7800: 0.8536174893379211\n",
            "discriminator loss at step 7900: 0.6847586631774902\n",
            "adversarial loss at step 7900: 0.7402238845825195\n",
            "discriminator loss at step 8000: 0.6996791362762451\n",
            "adversarial loss at step 8000: 1.0216144323349\n",
            "discriminator loss at step 8100: 0.6795156598091125\n",
            "adversarial loss at step 8100: 0.6860729455947876\n",
            "discriminator loss at step 8200: 0.7065375447273254\n",
            "adversarial loss at step 8200: 0.8566652536392212\n",
            "discriminator loss at step 8300: 0.6904295086860657\n",
            "adversarial loss at step 8300: 0.5428565144538879\n",
            "discriminator loss at step 8400: 0.6796676516532898\n",
            "adversarial loss at step 8400: 0.7954673767089844\n",
            "discriminator loss at step 8500: 0.6671031713485718\n",
            "adversarial loss at step 8500: 0.7977971434593201\n",
            "discriminator loss at step 8600: 0.6827913522720337\n",
            "adversarial loss at step 8600: 0.7861839532852173\n",
            "discriminator loss at step 8700: 0.6880359649658203\n",
            "adversarial loss at step 8700: 0.8165332674980164\n",
            "discriminator loss at step 8800: 0.6636204719543457\n",
            "adversarial loss at step 8800: 0.800498366355896\n",
            "discriminator loss at step 8900: 0.7091593742370605\n",
            "adversarial loss at step 8900: 1.2943038940429688\n",
            "discriminator loss at step 9000: 0.6965407133102417\n",
            "adversarial loss at step 9000: 0.8659027218818665\n",
            "discriminator loss at step 9100: 0.6730229258537292\n",
            "adversarial loss at step 9100: 0.7875840067863464\n",
            "discriminator loss at step 9200: 0.7189297080039978\n",
            "adversarial loss at step 9200: 0.7629042267799377\n",
            "discriminator loss at step 9300: 0.6892722845077515\n",
            "adversarial loss at step 9300: 0.8468132019042969\n",
            "discriminator loss at step 9400: 0.7085343599319458\n",
            "adversarial loss at step 9400: 0.7133792042732239\n",
            "discriminator loss at step 9500: 0.6674841046333313\n",
            "adversarial loss at step 9500: 0.9165142774581909\n",
            "discriminator loss at step 9600: 0.661159336566925\n",
            "adversarial loss at step 9600: 0.8217560648918152\n",
            "discriminator loss at step 9700: 0.7528290748596191\n",
            "adversarial loss at step 9700: 0.8266509175300598\n",
            "discriminator loss at step 9800: 0.6725993752479553\n",
            "adversarial loss at step 9800: 0.7841829061508179\n",
            "discriminator loss at step 9900: 0.7816869020462036\n",
            "adversarial loss at step 9900: 1.326768159866333\n"
          ],
          "name": "stdout"
        }
      ]
    },
    {
      "cell_type": "markdown",
      "metadata": {
        "collapsed": true,
        "id": "x24hfAN5UU8T"
      },
      "source": [
        "Let's display a few of our fake images:"
      ]
    },
    {
      "cell_type": "code",
      "metadata": {
        "id": "dxZQKg-WUU8U",
        "colab": {
          "base_uri": "https://localhost:8080/",
          "height": 1000
        },
        "outputId": "81142562-c1d4-4a0c-9e4d-fa9892aab15b"
      },
      "source": [
        "import matplotlib.pyplot as plt\n",
        "\n",
        "# Sample random points in the latent space\n",
        "random_latent_vectors = np.random.normal(size=(10, latent_dim))   #random으로 10개를 뽑는다.\n",
        "\n",
        "# Decode them to fake images\n",
        "generated_images = generator.predict(random_latent_vectors)  #그리고 10개의 generator 이미지를 그려본 것이다.\n",
        "\n",
        "for i in range(generated_images.shape[0]):\n",
        "    img = image.array_to_img(generated_images[i] * 255., scale=False)\n",
        "    plt.figure()\n",
        "    plt.imshow(img)\n",
        "    \n",
        "plt.show()"
      ],
      "execution_count": null,
      "outputs": [
        {
          "output_type": "display_data",
          "data": {
            "image/png": "[encoded data removed]",
            "text/plain": [
              "<Figure size 432x288 with 1 Axes>"
            ]
          },
          "metadata": {
            "tags": [],
            "needs_background": "light"
          }
        },
        {
          "output_type": "display_data",
          "data": {
            "image/png": "[encoded data removed]",
            "text/plain": [
              "<Figure size 432x288 with 1 Axes>"
            ]
          },
          "metadata": {
            "tags": [],
            "needs_background": "light"
          }
        },
        {
          "output_type": "display_data",
          "data": {
            "image/png": "[encoded data removed]",
            "text/plain": [
              "<Figure size 432x288 with 1 Axes>"
            ]
          },
          "metadata": {
            "tags": [],
            "needs_background": "light"
          }
        },
        {
          "output_type": "display_data",
          "data": {
            "image/png": "[encoded data removed]",
            "text/plain": [
              "<Figure size 432x288 with 1 Axes>"
            ]
          },
          "metadata": {
            "tags": [],
            "needs_background": "light"
          }
        },
        {
          "output_type": "display_data",
          "data": {
            "image/png": "[encoded data removed]",
            "text/plain": [
              "<Figure size 432x288 with 1 Axes>"
            ]
          },
          "metadata": {
            "tags": [],
            "needs_background": "light"
          }
        },
        {
          "output_type": "display_data",
          "data": {
            "image/png": "[encoded data removed]",
            "text/plain": [
              "<Figure size 432x288 with 1 Axes>"
            ]
          },
          "metadata": {
            "tags": [],
            "needs_background": "light"
          }
        },
        {
          "output_type": "display_data",
          "data": {
            "image/png": "[encoded data removed]",
            "text/plain": [
              "<Figure size 432x288 with 1 Axes>"
            ]
          },
          "metadata": {
            "tags": [],
            "needs_background": "light"
          }
        },
        {
          "output_type": "display_data",
          "data": {
            "image/png": "[encoded data removed]",
            "text/plain": [
              "<Figure size 432x288 with 1 Axes>"
            ]
          },
          "metadata": {
            "tags": [],
            "needs_background": "light"
          }
        },
        {
          "output_type": "display_data",
          "data": {
            "image/png": "[encoded data removed]",
            "text/plain": [
              "<Figure size 432x288 with 1 Axes>"
            ]
          },
          "metadata": {
            "tags": [],
            "needs_background": "light"
          }
        },
        {
          "output_type": "display_data",
          "data": {
            "image/png": "[encoded data removed]",
            "text/plain": [
              "<Figure size 432x288 with 1 Axes>"
            ]
          },
          "metadata": {
            "tags": [],
            "needs_background": "light"
          }
        }
      ]
    },
    {
      "cell_type": "markdown",
      "metadata": {
        "id": "cRIMNs39UU8U"
      },
      "source": [
        "Froggy with some pixellated artifacts."
      ]
    },
    {
      "cell_type": "code",
      "metadata": {
        "id": "VCddyejoUg9C"
      },
      "source": [
        ""
      ],
      "execution_count": null,
      "outputs": []
    }
  ]
}