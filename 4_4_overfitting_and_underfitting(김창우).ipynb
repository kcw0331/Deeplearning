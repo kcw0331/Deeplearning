{
  "nbformat": 4,
  "nbformat_minor": 0,
  "metadata": {
    "kernelspec": {
      "display_name": "Python 3",
      "language": "python",
      "name": "python3"
    },
    "language_info": {
      "codemirror_mode": {
        "name": "ipython",
        "version": 3
      },
      "file_extension": ".py",
      "mimetype": "text/x-python",
      "name": "python",
      "nbconvert_exporter": "python",
      "pygments_lexer": "ipython3",
      "version": "3.6.5"
    },
    "colab": {
      "name": "4_4_overfitting_and_underfitting(김창우).ipynb",
      "provenance": [],
      "collapsed_sections": [],
      "include_colab_link": true
    }
  },
  "cells": [
    {
      "cell_type": "markdown",
      "metadata": {
        "id": "view-in-github",
        "colab_type": "text"
      },
      "source": [
        "<a href=\"https://colab.research.google.com/github/kcw0331/Deeplearning/blob/main/4_4_overfitting_and_underfitting(%EA%B9%80%EC%B0%BD%EC%9A%B0).ipynb\" target=\"_parent\"><img src=\"https://colab.research.google.com/assets/colab-badge.svg\" alt=\"Open In Colab\"/></a>"
      ]
    },
    {
      "cell_type": "code",
      "metadata": {
        "colab": {
          "base_uri": "https://localhost:8080/"
        },
        "id": "MNMEcLmDispR",
        "outputId": "607ec49a-61bc-4326-8748-029baab407fd"
      },
      "source": [
        "!nvidia-smi"
      ],
      "execution_count": null,
      "outputs": [
        {
          "output_type": "stream",
          "text": [
            "Tue Mar 30 02:58:26 2021       \n",
            "+-----------------------------------------------------------------------------+\n",
            "| NVIDIA-SMI 460.56       Driver Version: 460.32.03    CUDA Version: 11.2     |\n",
            "|-------------------------------+----------------------+----------------------+\n",
            "| GPU  Name        Persistence-M| Bus-Id        Disp.A | Volatile Uncorr. ECC |\n",
            "| Fan  Temp  Perf  Pwr:Usage/Cap|         Memory-Usage | GPU-Util  Compute M. |\n",
            "|                               |                      |               MIG M. |\n",
            "|===============================+======================+======================|\n",
            "|   0  Tesla T4            Off  | 00000000:00:04.0 Off |                    0 |\n",
            "| N/A   66C    P8    12W /  70W |      0MiB / 15109MiB |      0%      Default |\n",
            "|                               |                      |                  N/A |\n",
            "+-------------------------------+----------------------+----------------------+\n",
            "                                                                               \n",
            "+-----------------------------------------------------------------------------+\n",
            "| Processes:                                                                  |\n",
            "|  GPU   GI   CI        PID   Type   Process name                  GPU Memory |\n",
            "|        ID   ID                                                   Usage      |\n",
            "|=============================================================================|\n",
            "|  No running processes found                                                 |\n",
            "+-----------------------------------------------------------------------------+\n"
          ],
          "name": "stdout"
        }
      ]
    },
    {
      "cell_type": "code",
      "metadata": {
        "id": "gGfnjHM7x_oW",
        "colab": {
          "base_uri": "https://localhost:8080/",
          "height": 36
        },
        "outputId": "f7516e30-6611-4995-df40-bb4f2ec867d4"
      },
      "source": [
        "import tensorflow\n",
        "tensorflow.keras.__version__"
      ],
      "execution_count": null,
      "outputs": [
        {
          "output_type": "execute_result",
          "data": {
            "application/vnd.google.colaboratory.intrinsic+json": {
              "type": "string"
            },
            "text/plain": [
              "'2.4.0'"
            ]
          },
          "metadata": {
            "tags": []
          },
          "execution_count": 1
        }
      ]
    },
    {
      "cell_type": "markdown",
      "metadata": {
        "id": "sR9FcKYnx_ob"
      },
      "source": [
        "# Overfitting and underfitting\n",
        "\n",
        "This notebook contains the code samples found in Chapter 3, Section 6 of [Deep Learning with Python](https://www.manning.com/books/deep-learning-with-python?a_aid=keras&a_bid=76564dff). Note that the original text features far more content, in particular further explanations and figures: in this notebook, you will only find source code and related comments.\n",
        "\n",
        "----\n",
        "\n",
        "\n",
        "In all the examples we saw in the previous chapter -- movie review sentiment prediction, topic classification, and house price regression -- \n",
        "we could notice that the performance of our model on the held-out validation data would always peak after a few epochs and would then start \n",
        "degrading, i.e. our model would quickly start to _overfit_ to the training data. Overfitting happens in every single machine learning \n",
        "problem. Learning how to deal with overfitting is essential to mastering machine learning.\n",
        "\n",
        "The fundamental issue in machine learning is the tension between optimization and generalization. \"Optimization\" refers to the process of \n",
        "adjusting a model to get the best performance possible on the training data (the \"learning\" in \"machine learning\"), while \"generalization\" \n",
        "refers to how well the trained model would perform on data it has never seen before. The goal of the game is to get good generalization, of \n",
        "course, but you do not control generalization; you can only adjust the model based on its training data.\n",
        "\n",
        "At the beginning of training, optimization and generalization are correlated: the lower your loss on training data, the lower your loss on \n",
        "test data. While this is happening, your model is said to be _under-fit_: there is still progress to be made; the network hasn't yet \n",
        "modeled all relevant patterns in the training data. But after a certain number of iterations on the training data, generalization stops \n",
        "improving, validation metrics stall then start degrading: the model is then starting to over-fit, i.e. is it starting to learn patterns \n",
        "that are specific to the training data but that are misleading or irrelevant when it comes to new data.\n",
        "\n",
        "To prevent a model from learning misleading or irrelevant patterns found in the training data, _the best solution is of course to get \n",
        "more training data_. A model trained on more data will naturally generalize better. When that is no longer possible, the next best solution \n",
        "is to modulate the quantity of information that your model is allowed to store, or to add constraints on what information it is allowed to \n",
        "store. If a network can only afford to memorize a small number of patterns, the optimization process will force it to focus on the most \n",
        "prominent patterns, which have a better chance of generalizing well.\n",
        "\n",
        "The processing of fighting overfitting in this way is called _regularization_. Let's review some of the most common regularization \n",
        "techniques, and let's apply them in practice to improve our movie classification model from  the previous chapter."
      ]
    },
    {
      "cell_type": "markdown",
      "metadata": {
        "id": "jaW6_tYyjWFZ"
      },
      "source": [
        "- The fundamental issue in machine learning is the tension between optimization and generalization. \"Optimization\" refers to the process of adjusting a model to get the best performance possible on the training data (the \"learning\" in \"machine learning\"), while \"generalization\" refers to how well the trained model would perform on data it has never seen before.\n",
        "\n",
        "- 여기는 overfitting과 underfitting에 대해서 소개하고 있다.\n",
        "-  Training data를 통해서 최적화 시키는거랑 이벨류에잇 셋에서 제너럴라이제이션이 얼마나 잘 되는지he fundamental issue in machine learning is the tension between optimization and generalization. \"Optimization\" refers to the process of adjusting a model to get the best performance possible on the training data"
      ]
    },
    {
      "cell_type": "markdown",
      "metadata": {
        "id": "496SQPitx_oc"
      },
      "source": [
        "Note: in this notebook we will be using the IMDB test set as our validation set. It doesn't matter in this context.\n",
        "\n",
        "Let's prepare the data using the code from Chapter 3, Section 5:"
      ]
    },
    {
      "cell_type": "markdown",
      "metadata": {
        "id": "OCxL51vlkQI1"
      },
      "source": [
        "- 우리는 데이터를 사용해서 과적합이 어떠한 상황인지랑 레귤렐리제이션의 기법들이 어떤것들이 있는지에 대해 예제를 진행하신다고 말씀하심. 그리고 여기에서 사용하는 것은 Chapter3의 Section 5에 있는 imovie에 대한 데이터이다."
      ]
    },
    {
      "cell_type": "code",
      "metadata": {
        "id": "ulR00miPx_oc",
        "colab": {
          "base_uri": "https://localhost:8080/"
        },
        "outputId": "60afca43-274b-4949-a2f8-9e765c21a513"
      },
      "source": [
        "#그래서 여기에서는 imdb에 대한 데이터를 불러오고 있다.\n",
        "from tensorflow.keras.datasets import imdb\n",
        "import numpy as np\n",
        "\n",
        "(train_data, train_labels), (test_data, test_labels) = imdb.load_data(num_words=10000)\n",
        "\n",
        "def vectorize_sequences(sequences, dimension=10000):\n",
        "    # Create an all-zero matrix of shape (len(sequences), dimension)\n",
        "    results = np.zeros((len(sequences), dimension))\n",
        "    for i, sequence in enumerate(sequences):\n",
        "        results[i, sequence] = 1.  # set specific indices of results[i] to 1s\n",
        "    return results\n",
        "\n",
        "# Our vectorized training data\n",
        "x_train = vectorize_sequences(train_data)\n",
        "# Our vectorized test data\n",
        "x_test = vectorize_sequences(test_data)\n",
        "# Our vectorized labels\n",
        "y_train = np.asarray(train_labels).astype('float32')\n",
        "y_test = np.asarray(test_labels).astype('float32')"
      ],
      "execution_count": null,
      "outputs": [
        {
          "output_type": "stream",
          "text": [
            "<string>:6: VisibleDeprecationWarning: Creating an ndarray from ragged nested sequences (which is a list-or-tuple of lists-or-tuples-or ndarrays with different lengths or shapes) is deprecated. If you meant to do this, you must specify 'dtype=object' when creating the ndarray\n",
            "/usr/local/lib/python3.7/dist-packages/tensorflow/python/keras/datasets/imdb.py:159: VisibleDeprecationWarning: Creating an ndarray from ragged nested sequences (which is a list-or-tuple of lists-or-tuples-or ndarrays with different lengths or shapes) is deprecated. If you meant to do this, you must specify 'dtype=object' when creating the ndarray\n",
            "  x_train, y_train = np.array(xs[:idx]), np.array(labels[:idx])\n",
            "/usr/local/lib/python3.7/dist-packages/tensorflow/python/keras/datasets/imdb.py:160: VisibleDeprecationWarning: Creating an ndarray from ragged nested sequences (which is a list-or-tuple of lists-or-tuples-or ndarrays with different lengths or shapes) is deprecated. If you meant to do this, you must specify 'dtype=object' when creating the ndarray\n",
            "  x_test, y_test = np.array(xs[idx:]), np.array(labels[idx:])\n"
          ],
          "name": "stderr"
        }
      ]
    },
    {
      "cell_type": "markdown",
      "metadata": {
        "id": "9-49z9fRx_oc"
      },
      "source": [
        "# Fighting overfitting\n",
        "\n",
        "## Reducing the network's size\n",
        "\n",
        "\n",
        "The simplest way to prevent overfitting is to reduce the size of the model, i.e. the number of learnable parameters in the model (which is \n",
        "determined by the number of layers and the number of units per layer). In deep learning, the number of learnable parameters in a model is \n",
        "often referred to as the model's \"capacity\". Intuitively, a model with more parameters will have more \"memorization capacity\" and therefore \n",
        "will be able to easily learn a perfect dictionary-like mapping between training samples and their targets, a mapping without any \n",
        "generalization power. For instance, a model with 500,000 binary parameters could easily be made to learn the class of every digits in the \n",
        "MNIST training set: we would only need 10 binary parameters for each of the 50,000 digits. Such a model would be useless for classifying \n",
        "new digit samples. Always keep this in mind: deep learning models tend to be good at fitting to the training data, but the real challenge \n",
        "is generalization, not fitting.\n",
        "\n",
        "On the other hand, if the network has limited memorization resources, it will not be able to learn this mapping as easily, and thus, in \n",
        "order to minimize its loss, it will have to resort to learning compressed representations that have predictive power regarding the targets \n",
        "-- precisely the type of representations that we are interested in. At the same time, keep in mind that you should be using models that have \n",
        "enough parameters that they won't be underfitting: your model shouldn't be starved for memorization resources. There is a compromise to be \n",
        "found between \"too much capacity\" and \"not enough capacity\".\n",
        "\n",
        "Unfortunately, there is no magical formula to determine what the right number of layers is, or what the right size for each layer is. You \n",
        "will have to evaluate an array of different architectures (on your validation set, not on your test set, of course) in order to find the \n",
        "right model size for your data. The general workflow to find an appropriate model size is to start with relatively few layers and \n",
        "parameters, and start increasing the size of the layers or adding new layers until you see diminishing returns with regard to the \n",
        "validation loss.\n",
        "\n",
        "Let's try this on our movie review classification network. Our original network was as such:"
      ]
    },
    {
      "cell_type": "markdown",
      "metadata": {
        "id": "YkNvexTlk5-V"
      },
      "source": [
        "- overfitting과 싸우는 방법 중 하나가 network를 단순하게 만들어 주는 방법이 있다."
      ]
    },
    {
      "cell_type": "code",
      "metadata": {
        "id": "Kd2sHC_yx_od"
      },
      "source": [
        "#이 코드는 기존에 있던 모형에 대한 것이다.\n",
        "from tensorflow.keras import models\n",
        "from tensorflow.keras import layers\n",
        "\n",
        "original_model = models.Sequential()  #Sequntial모델로 정의를 하고\n",
        "original_model.add(layers.Dense(16, activation='relu', input_shape=(10000,)))  #Dense layers를 16짜리를 하나 달고,\n",
        "original_model.add(layers.Dense(16, activation='relu'))  #그 다음 Dense layers를 16짜리를 하나 더 달고,\n",
        "original_model.add(layers.Dense(1, activation='sigmoid')) #그리고 여기에서 sigmoid함수를 사용해서 Dense layers를 1개 달아 준 다음에\n",
        "\n",
        "original_model.compile(optimizer='rmsprop',   #그리고 여기에서 컴파일을 해서 초기모형을 달았다.\n",
        "                       loss='binary_crossentropy',\n",
        "                       metrics=['acc'])"
      ],
      "execution_count": null,
      "outputs": []
    },
    {
      "cell_type": "markdown",
      "metadata": {
        "id": "PgSBEIsIx_od"
      },
      "source": [
        "Now let's try to replace it with this smaller network:"
      ]
    },
    {
      "cell_type": "markdown",
      "metadata": {
        "id": "-rNx3epGXGtp"
      },
      "source": [
        "# 사이즈를 작게 해주는 방법"
      ]
    },
    {
      "cell_type": "code",
      "metadata": {
        "id": "pqfiG3Uvx_oe"
      },
      "source": [
        "#위에서는 Dense layer를 16으로 잡았는데, 여기에서는 Dense layer를 4로 잡아서 단순화 시켰다.\n",
        "smaller_model = models.Sequential()\n",
        "smaller_model.add(layers.Dense(4, activation='relu', input_shape=(10000,)))  #여기에서는 위에서 16으로 했던것을 4로 단다음에\n",
        "smaller_model.add(layers.Dense(4, activation='relu')) #그리고 여기에도 4로 달아주고\n",
        "smaller_model.add(layers.Dense(1, activation='sigmoid')) #여기에서는 1로 달어줘서 이전의 코드보다 훨씬 작게 해주었다.\n",
        "\n",
        "smaller_model.compile(optimizer='rmsprop',\n",
        "                      loss='binary_crossentropy',\n",
        "                      metrics=['acc'])"
      ],
      "execution_count": null,
      "outputs": []
    },
    {
      "cell_type": "code",
      "metadata": {
        "colab": {
          "base_uri": "https://localhost:8080/"
        },
        "id": "DaJn95Q-m0ee",
        "outputId": "0250f030-445f-40e3-f339-f76f5d7c2d7f"
      },
      "source": [
        "#여기는 교수님이 학습을 하기전에 original_model에 대해서 summary를 본다고 하심.\n",
        "original_model.summary()"
      ],
      "execution_count": null,
      "outputs": [
        {
          "output_type": "stream",
          "text": [
            "Model: \"sequential\"\n",
            "_________________________________________________________________\n",
            "Layer (type)                 Output Shape              Param #   \n",
            "=================================================================\n",
            "dense (Dense)                (None, 16)                160016    \n",
            "_________________________________________________________________\n",
            "dense_1 (Dense)              (None, 16)                272       \n",
            "_________________________________________________________________\n",
            "dense_2 (Dense)              (None, 1)                 17        \n",
            "=================================================================\n",
            "Total params: 160,305\n",
            "Trainable params: 160,305\n",
            "Non-trainable params: 0\n",
            "_________________________________________________________________\n"
          ],
          "name": "stdout"
        }
      ]
    },
    {
      "cell_type": "code",
      "metadata": {
        "colab": {
          "base_uri": "https://localhost:8080/"
        },
        "id": "u0rKdl7PnG-k",
        "outputId": "fddd6b4d-90fa-4ec0-a6e7-ed1274cb1198"
      },
      "source": [
        "#그리고 smaller_model에 대해 summary를 해주심.\n",
        "smaller_model.summary()\n",
        "\n",
        "#그래서 여기에서 보면 Shape이 16에서 4로 줄어든 것을 볼 수 있다. 그리고 Trainable params가 160,305에서 40,029로 줄어든 것을 볼 수 있다."
      ],
      "execution_count": null,
      "outputs": [
        {
          "output_type": "stream",
          "text": [
            "Model: \"sequential_1\"\n",
            "_________________________________________________________________\n",
            "Layer (type)                 Output Shape              Param #   \n",
            "=================================================================\n",
            "dense_3 (Dense)              (None, 4)                 40004     \n",
            "_________________________________________________________________\n",
            "dense_4 (Dense)              (None, 4)                 20        \n",
            "_________________________________________________________________\n",
            "dense_5 (Dense)              (None, 1)                 5         \n",
            "=================================================================\n",
            "Total params: 40,029\n",
            "Trainable params: 40,029\n",
            "Non-trainable params: 0\n",
            "_________________________________________________________________\n"
          ],
          "name": "stdout"
        }
      ]
    },
    {
      "cell_type": "markdown",
      "metadata": {
        "id": "SkgJcrvdx_oe"
      },
      "source": [
        "\n",
        "Here's a comparison of the validation losses of the original network and the smaller network. The dots are the validation loss values of \n",
        "the smaller network, and the crosses are the initial network (remember: a lower validation loss signals a better model)."
      ]
    },
    {
      "cell_type": "code",
      "metadata": {
        "id": "MhgWG5Bxx_oe",
        "colab": {
          "base_uri": "https://localhost:8080/"
        },
        "outputId": "adc95a24-d04d-4a9a-8226-25de07359c92"
      },
      "source": [
        "#여기에서는 original model을 train시켜본다.\n",
        "original_hist = original_model.fit(x_train, y_train,\n",
        "                                   epochs=20,  #epochs은 20으로 하고 \n",
        "                                   batch_size=512, #batch_size는 512로 해준다.\n",
        "                                   validation_data=(x_test, y_test))\n",
        "#그래서 코드를 돌려보면 train acc는 계속해서 숫자가 올라가는 것을 볼 수 있지만, val_acc는 어느 정도 올라가다가 정체되는 것을 볼 수 있다."
      ],
      "execution_count": null,
      "outputs": [
        {
          "output_type": "stream",
          "text": [
            "Epoch 1/20\n",
            "49/49 [==============================] - 4s 67ms/step - loss: 0.5486 - acc: 0.7399 - val_loss: 0.3372 - val_acc: 0.8814\n",
            "Epoch 2/20\n",
            "49/49 [==============================] - 2s 43ms/step - loss: 0.2722 - acc: 0.9088 - val_loss: 0.3254 - val_acc: 0.8651\n",
            "Epoch 3/20\n",
            "49/49 [==============================] - 2s 43ms/step - loss: 0.2023 - acc: 0.9289 - val_loss: 0.2805 - val_acc: 0.8880\n",
            "Epoch 4/20\n",
            "49/49 [==============================] - 2s 43ms/step - loss: 0.1627 - acc: 0.9442 - val_loss: 0.3267 - val_acc: 0.8722\n",
            "Epoch 5/20\n",
            "49/49 [==============================] - 2s 43ms/step - loss: 0.1416 - acc: 0.9531 - val_loss: 0.3177 - val_acc: 0.8776\n",
            "Epoch 6/20\n",
            "49/49 [==============================] - 2s 43ms/step - loss: 0.1223 - acc: 0.9582 - val_loss: 0.3361 - val_acc: 0.8758\n",
            "Epoch 7/20\n",
            "49/49 [==============================] - 2s 43ms/step - loss: 0.1116 - acc: 0.9618 - val_loss: 0.3590 - val_acc: 0.8722\n",
            "Epoch 8/20\n",
            "49/49 [==============================] - 2s 43ms/step - loss: 0.0931 - acc: 0.9713 - val_loss: 0.3818 - val_acc: 0.8696\n",
            "Epoch 9/20\n",
            "49/49 [==============================] - 2s 43ms/step - loss: 0.0840 - acc: 0.9724 - val_loss: 0.4172 - val_acc: 0.8636\n",
            "Epoch 10/20\n",
            "49/49 [==============================] - 2s 43ms/step - loss: 0.0781 - acc: 0.9760 - val_loss: 0.4459 - val_acc: 0.8618\n",
            "Epoch 11/20\n",
            "49/49 [==============================] - 2s 43ms/step - loss: 0.0667 - acc: 0.9801 - val_loss: 0.4612 - val_acc: 0.8618\n",
            "Epoch 12/20\n",
            "49/49 [==============================] - 2s 43ms/step - loss: 0.0586 - acc: 0.9835 - val_loss: 0.5222 - val_acc: 0.8549\n",
            "Epoch 13/20\n",
            "49/49 [==============================] - 2s 43ms/step - loss: 0.0525 - acc: 0.9848 - val_loss: 0.5447 - val_acc: 0.8550\n",
            "Epoch 14/20\n",
            "49/49 [==============================] - 2s 43ms/step - loss: 0.0478 - acc: 0.9868 - val_loss: 0.5586 - val_acc: 0.8550\n",
            "Epoch 15/20\n",
            "49/49 [==============================] - 2s 43ms/step - loss: 0.0453 - acc: 0.9867 - val_loss: 0.6293 - val_acc: 0.8484\n",
            "Epoch 16/20\n",
            "49/49 [==============================] - 2s 43ms/step - loss: 0.0375 - acc: 0.9896 - val_loss: 0.6211 - val_acc: 0.8528\n",
            "Epoch 17/20\n",
            "49/49 [==============================] - 2s 43ms/step - loss: 0.0340 - acc: 0.9913 - val_loss: 0.6556 - val_acc: 0.8511\n",
            "Epoch 18/20\n",
            "49/49 [==============================] - 2s 43ms/step - loss: 0.0305 - acc: 0.9926 - val_loss: 0.6922 - val_acc: 0.8502\n",
            "Epoch 19/20\n",
            "49/49 [==============================] - 2s 43ms/step - loss: 0.0251 - acc: 0.9939 - val_loss: 0.7255 - val_acc: 0.8487\n",
            "Epoch 20/20\n",
            "49/49 [==============================] - 2s 43ms/step - loss: 0.0213 - acc: 0.9952 - val_loss: 0.7651 - val_acc: 0.8463\n"
          ],
          "name": "stdout"
        }
      ]
    },
    {
      "cell_type": "code",
      "metadata": {
        "id": "8VJ08JXEx_oe",
        "colab": {
          "base_uri": "https://localhost:8080/"
        },
        "outputId": "8f3e6a1f-2db5-4a41-f925-3c940dbf003f"
      },
      "source": [
        "#마찬가지로 여기에서는 samller model에 대해서 돌려주고 있다.\n",
        "smaller_model_hist = smaller_model.fit(x_train, y_train,\n",
        "                                       epochs=20,\n",
        "                                       batch_size=512,\n",
        "                                       validation_data=(x_test, y_test))\n",
        "#그래서 코드를 돌려보면 train acc는 계속해서 숫자가 올라가는 것을 볼 수 있지만, val_acc는 어느 정도 올라가다가 정체되는 것을 볼 수 있다."
      ],
      "execution_count": null,
      "outputs": [
        {
          "output_type": "stream",
          "text": [
            "Epoch 1/20\n",
            "49/49 [==============================] - 3s 42ms/step - loss: 0.6713 - acc: 0.5839 - val_loss: 0.6179 - val_acc: 0.8069\n",
            "Epoch 2/20\n",
            "49/49 [==============================] - 2s 33ms/step - loss: 0.5862 - acc: 0.7761 - val_loss: 0.5530 - val_acc: 0.7996\n",
            "Epoch 3/20\n",
            "49/49 [==============================] - 2s 33ms/step - loss: 0.5189 - acc: 0.8313 - val_loss: 0.5112 - val_acc: 0.8455\n",
            "Epoch 4/20\n",
            "49/49 [==============================] - 2s 33ms/step - loss: 0.4721 - acc: 0.8694 - val_loss: 0.4821 - val_acc: 0.8526\n",
            "Epoch 5/20\n",
            "49/49 [==============================] - 2s 33ms/step - loss: 0.4412 - acc: 0.8907 - val_loss: 0.4624 - val_acc: 0.8610\n",
            "Epoch 6/20\n",
            "49/49 [==============================] - 2s 33ms/step - loss: 0.4070 - acc: 0.9095 - val_loss: 0.4488 - val_acc: 0.8666\n",
            "Epoch 7/20\n",
            "49/49 [==============================] - 2s 34ms/step - loss: 0.3833 - acc: 0.9217 - val_loss: 0.4379 - val_acc: 0.8727\n",
            "Epoch 8/20\n",
            "49/49 [==============================] - 2s 33ms/step - loss: 0.3654 - acc: 0.9321 - val_loss: 0.4291 - val_acc: 0.8779\n",
            "Epoch 9/20\n",
            "49/49 [==============================] - 2s 33ms/step - loss: 0.3488 - acc: 0.9423 - val_loss: 0.4218 - val_acc: 0.8815\n",
            "Epoch 10/20\n",
            "49/49 [==============================] - 2s 33ms/step - loss: 0.3297 - acc: 0.9482 - val_loss: 0.4191 - val_acc: 0.8790\n",
            "Epoch 11/20\n",
            "49/49 [==============================] - 2s 33ms/step - loss: 0.3171 - acc: 0.9510 - val_loss: 0.4260 - val_acc: 0.8724\n",
            "Epoch 12/20\n",
            "49/49 [==============================] - 2s 33ms/step - loss: 0.3003 - acc: 0.9575 - val_loss: 0.4163 - val_acc: 0.8776\n",
            "Epoch 13/20\n",
            "49/49 [==============================] - 2s 34ms/step - loss: 0.2891 - acc: 0.9599 - val_loss: 0.4177 - val_acc: 0.8756\n",
            "Epoch 14/20\n",
            "49/49 [==============================] - 2s 33ms/step - loss: 0.2745 - acc: 0.9643 - val_loss: 0.4289 - val_acc: 0.8715\n",
            "Epoch 15/20\n",
            "49/49 [==============================] - 2s 33ms/step - loss: 0.2620 - acc: 0.9664 - val_loss: 0.4205 - val_acc: 0.8742\n",
            "Epoch 16/20\n",
            "49/49 [==============================] - 2s 33ms/step - loss: 0.2516 - acc: 0.9707 - val_loss: 0.4119 - val_acc: 0.8723\n",
            "Epoch 17/20\n",
            "49/49 [==============================] - 2s 33ms/step - loss: 0.2435 - acc: 0.9698 - val_loss: 0.4226 - val_acc: 0.8712\n",
            "Epoch 18/20\n",
            "49/49 [==============================] - 2s 33ms/step - loss: 0.2323 - acc: 0.9729 - val_loss: 0.4371 - val_acc: 0.8688\n",
            "Epoch 19/20\n",
            "49/49 [==============================] - 2s 33ms/step - loss: 0.2220 - acc: 0.9748 - val_loss: 0.4366 - val_acc: 0.8676\n",
            "Epoch 20/20\n",
            "49/49 [==============================] - 2s 33ms/step - loss: 0.2117 - acc: 0.9776 - val_loss: 0.4474 - val_acc: 0.8672\n"
          ],
          "name": "stdout"
        }
      ]
    },
    {
      "cell_type": "code",
      "metadata": {
        "id": "VfvzHdqsx_of"
      },
      "source": [
        "#train 시켜준것을 history에 저장을 해서 original_val_loss랑 samller_model_val_loss에 대한 그림을 그려준다.\n",
        "epochs = range(1, 21)\n",
        "original_val_loss = original_hist.history['val_loss']\n",
        "smaller_model_val_loss = smaller_model_hist.history['val_loss']"
      ],
      "execution_count": null,
      "outputs": []
    },
    {
      "cell_type": "code",
      "metadata": {
        "id": "97KNkYJzx_of",
        "colab": {
          "base_uri": "https://localhost:8080/",
          "height": 279
        },
        "outputId": "d047b4b2-97f0-494d-fcf6-7f985755b5a1"
      },
      "source": [
        "import matplotlib.pyplot as plt\n",
        "\n",
        "# b+ is for \"blue cross\"\n",
        "plt.plot(epochs, original_val_loss, 'b+', label='Original model') #original은 파란색 +로 되어있고,\n",
        "# \"bo\" is for \"blue dot\"\n",
        "plt.plot(epochs, smaller_model_val_loss, 'bo', label='Smaller model') #smaller는 파랜색 o로 되어 있는 것을 볼 수 있다.\n",
        "plt.xlabel('Epochs')\n",
        "plt.ylabel('Validation loss')\n",
        "plt.legend()\n",
        "\n",
        "plt.show()\n",
        "#그림에서 보면 original model이 처음에는 최적화 되었다가 점차 overfitting되어가는 것을 볼 수 있다.\n",
        "#그리고 smaller는 조금사용해서 과적합이 조금더 천천히 일어나는 것을 볼 수 있다."
      ],
      "execution_count": null,
      "outputs": [
        {
          "output_type": "display_data",
          "data": {
            "image/png": "[encoded data removed]",
            "text/plain": [
              "<Figure size 432x288 with 1 Axes>"
            ]
          },
          "metadata": {
            "tags": [],
            "needs_background": "light"
          }
        }
      ]
    },
    {
      "cell_type": "markdown",
      "metadata": {
        "id": "yxfB9CZYx_of"
      },
      "source": [
        "\n",
        "As you can see, the smaller network starts overfitting later than the reference one (after 6 epochs rather than 4) and its performance \n",
        "degrades much more slowly once it starts overfitting.\n",
        "\n",
        "Now, for kicks, let's add to this benchmark a network that has much more capacity, far more than the problem would warrant:"
      ]
    },
    {
      "cell_type": "markdown",
      "metadata": {
        "id": "Uwd2bibGXnkm"
      },
      "source": [
        "# 사이즈를 크게 한 경우"
      ]
    },
    {
      "cell_type": "code",
      "metadata": {
        "id": "2wwVDbUYx_of"
      },
      "source": [
        "#smaller로 줄이게 되면 위에 보이는 그림 처럼 과적합이 천천히 되는 것을 볼 수 있었는데, 우리는 여기에서 bigger로 하게되면 어떠하게 되는지에 대해 보게된다. \n",
        "bigger_model = models.Sequential()\n",
        "bigger_model.add(layers.Dense(512, activation='relu', input_shape=(10000,)))  #여기에서는 512개를 달아가지고 \n",
        "bigger_model.add(layers.Dense(512, activation='relu')) #여기도 512를 달아주고 \n",
        "bigger_model.add(layers.Dense(1, activation='sigmoid')) #마지막에는 1을 달아준다. 그리고 모형을 만들어 준다.\n",
        "\n",
        "bigger_model.compile(optimizer='rmsprop',\n",
        "                     loss='binary_crossentropy',\n",
        "                     metrics=['acc'])"
      ],
      "execution_count": null,
      "outputs": []
    },
    {
      "cell_type": "code",
      "metadata": {
        "colab": {
          "base_uri": "https://localhost:8080/"
        },
        "id": "wuWwzuy2qB9v",
        "outputId": "a01e0a29-93c3-4511-c392-40dd84954723"
      },
      "source": [
        "#여기에서는 교수님이 bigger model에 대한 summary를 보셨다.\n",
        "bigger_model.summary()\n",
        "\n",
        "#코드를 돌려본 결과 Trainable params가 5,383,681개의 parameter를 수행하는 것을 볼 수 있다.\n",
        "#즉, 크기를 크게 한 결과 Trainable params의 숫자도 커진것을 확인 할 수 있습니다."
      ],
      "execution_count": null,
      "outputs": [
        {
          "output_type": "stream",
          "text": [
            "Model: \"sequential_2\"\n",
            "_________________________________________________________________\n",
            "Layer (type)                 Output Shape              Param #   \n",
            "=================================================================\n",
            "dense_6 (Dense)              (None, 512)               5120512   \n",
            "_________________________________________________________________\n",
            "dense_7 (Dense)              (None, 512)               262656    \n",
            "_________________________________________________________________\n",
            "dense_8 (Dense)              (None, 1)                 513       \n",
            "=================================================================\n",
            "Total params: 5,383,681\n",
            "Trainable params: 5,383,681\n",
            "Non-trainable params: 0\n",
            "_________________________________________________________________\n"
          ],
          "name": "stdout"
        }
      ]
    },
    {
      "cell_type": "code",
      "metadata": {
        "id": "o2jsHQ1cx_of",
        "colab": {
          "base_uri": "https://localhost:8080/"
        },
        "outputId": "1e9fc73e-1ecd-499a-83ec-664e0daa843d"
      },
      "source": [
        "#여기에서는 bigger model로 train을 진행해준다.\n",
        "bigger_model_hist = bigger_model.fit(x_train, y_train,\n",
        "                                     epochs=20,\n",
        "                                     batch_size=512,\n",
        "                                     validation_data=(x_test, y_test))\n",
        "#그리고 parameter를 많이 사용하다보니깐 train acc가 점점 높아지는 것을 알 수 있다.\n",
        "#그래서 너무 많은 parameter를 사용하다 보니 train acc가 1.0000으로 되서 과적합이 일어나는 것을 볼 수 있다."
      ],
      "execution_count": null,
      "outputs": [
        {
          "output_type": "stream",
          "text": [
            "Epoch 1/20\n",
            "49/49 [==============================] - 17s 336ms/step - loss: 0.6075 - acc: 0.7051 - val_loss: 0.2863 - val_acc: 0.8830\n",
            "Epoch 2/20\n",
            "49/49 [==============================] - 16s 321ms/step - loss: 0.2272 - acc: 0.9101 - val_loss: 0.3402 - val_acc: 0.8654\n",
            "Epoch 3/20\n",
            "49/49 [==============================] - 16s 321ms/step - loss: 0.1250 - acc: 0.9569 - val_loss: 0.6596 - val_acc: 0.7865\n",
            "Epoch 4/20\n",
            "49/49 [==============================] - 16s 323ms/step - loss: 0.0745 - acc: 0.9758 - val_loss: 1.1603 - val_acc: 0.7501\n",
            "Epoch 5/20\n",
            "49/49 [==============================] - 16s 321ms/step - loss: 0.1262 - acc: 0.9658 - val_loss: 0.5559 - val_acc: 0.8332\n",
            "Epoch 6/20\n",
            "49/49 [==============================] - 16s 321ms/step - loss: 0.0116 - acc: 0.9995 - val_loss: 0.6637 - val_acc: 0.8804\n",
            "Epoch 7/20\n",
            "49/49 [==============================] - 16s 321ms/step - loss: 0.0247 - acc: 0.9971 - val_loss: 0.5634 - val_acc: 0.8758\n",
            "Epoch 8/20\n",
            "49/49 [==============================] - 16s 322ms/step - loss: 9.8869e-04 - acc: 1.0000 - val_loss: 0.7650 - val_acc: 0.8776\n",
            "Epoch 9/20\n",
            "49/49 [==============================] - 16s 322ms/step - loss: 1.6776e-04 - acc: 0.9999 - val_loss: 0.9484 - val_acc: 0.8774\n",
            "Epoch 10/20\n",
            "49/49 [==============================] - 16s 322ms/step - loss: 0.1400 - acc: 0.9891 - val_loss: 0.7752 - val_acc: 0.8734\n",
            "Epoch 11/20\n",
            "49/49 [==============================] - 16s 324ms/step - loss: 1.1209e-04 - acc: 1.0000 - val_loss: 0.8737 - val_acc: 0.8753\n",
            "Epoch 12/20\n",
            "49/49 [==============================] - 16s 322ms/step - loss: 2.4766e-05 - acc: 1.0000 - val_loss: 1.0062 - val_acc: 0.8762\n",
            "Epoch 13/20\n",
            "49/49 [==============================] - 16s 321ms/step - loss: 4.1208e-06 - acc: 1.0000 - val_loss: 1.1753 - val_acc: 0.8760\n",
            "Epoch 14/20\n",
            "49/49 [==============================] - 16s 323ms/step - loss: 0.0946 - acc: 0.9941 - val_loss: 0.9329 - val_acc: 0.8760\n",
            "Epoch 15/20\n",
            "49/49 [==============================] - 16s 323ms/step - loss: 7.5363e-06 - acc: 1.0000 - val_loss: 0.9603 - val_acc: 0.8757\n",
            "Epoch 16/20\n",
            "49/49 [==============================] - 16s 323ms/step - loss: 4.1071e-06 - acc: 1.0000 - val_loss: 0.9986 - val_acc: 0.8759\n",
            "Epoch 17/20\n",
            "49/49 [==============================] - 16s 324ms/step - loss: 2.3054e-06 - acc: 1.0000 - val_loss: 1.1009 - val_acc: 0.8769\n",
            "Epoch 18/20\n",
            "49/49 [==============================] - 16s 323ms/step - loss: 7.6850e-07 - acc: 1.0000 - val_loss: 1.2419 - val_acc: 0.8774\n",
            "Epoch 19/20\n",
            "49/49 [==============================] - 16s 323ms/step - loss: 1.3700e-07 - acc: 1.0000 - val_loss: 1.3841 - val_acc: 0.8776\n",
            "Epoch 20/20\n",
            "49/49 [==============================] - 16s 323ms/step - loss: 3.8560e-08 - acc: 1.0000 - val_loss: 1.4657 - val_acc: 0.8774\n"
          ],
          "name": "stdout"
        }
      ]
    },
    {
      "cell_type": "markdown",
      "metadata": {
        "id": "MlCfbURBx_og"
      },
      "source": [
        "Here's how the bigger network fares compared to the reference one. The dots are the validation loss values of the bigger network, and the \n",
        "crosses are the initial network."
      ]
    },
    {
      "cell_type": "code",
      "metadata": {
        "id": "0K-ciRNBx_og",
        "colab": {
          "base_uri": "https://localhost:8080/",
          "height": 279
        },
        "outputId": "b49f130a-f18d-440b-b789-a8ab44e80181"
      },
      "source": [
        "#여기에서는 original과 bigger를 비교를 해서 그림을 그려준다.(original_val_loss와 bigger_model_val_loss를 사용함.)\n",
        "bigger_model_val_loss = bigger_model_hist.history['val_loss']\n",
        "\n",
        "plt.plot(epochs, original_val_loss, 'b+', label='Original model')\n",
        "plt.plot(epochs, bigger_model_val_loss, 'bo', label='Bigger model')\n",
        "plt.xlabel('Epochs')\n",
        "plt.ylabel('Validation loss')\n",
        "plt.legend()\n",
        "\n",
        "plt.show()\n",
        "#그림에서 보았을 때, bigger model은 어느정도 해까지 근접했다가 되게 빠르게 안좋아지는 것을 볼 수 있다. 그래서 overfitting이 더 빠르게 일어나는 것을 알 수 있다."
      ],
      "execution_count": null,
      "outputs": [
        {
          "output_type": "display_data",
          "data": {
            "image/png": "[encoded data removed]",
            "text/plain": [
              "<Figure size 432x288 with 1 Axes>"
            ]
          },
          "metadata": {
            "tags": [],
            "needs_background": "light"
          }
        }
      ]
    },
    {
      "cell_type": "markdown",
      "metadata": {
        "id": "5r38lCtbx_og"
      },
      "source": [
        "\n",
        "The bigger network starts overfitting almost right away, after just one epoch, and overfits much more severely. Its validation loss is also \n",
        "more noisy.\n",
        "\n",
        "Meanwhile, here are the training losses for our two networks:"
      ]
    },
    {
      "cell_type": "code",
      "metadata": {
        "id": "BHwuu6mpx_og",
        "colab": {
          "base_uri": "https://localhost:8080/",
          "height": 279
        },
        "outputId": "3cae6dcf-a12a-4910-8177-885d39a0ae30"
      },
      "source": [
        "#여기는 train loss에 대해서 보고 있으며, 그림에서 보았을 때 거의 0을 찍고 있다는 것을 볼 수 있다.\n",
        "#그래서 bigger가 train set에 대해서 과적합이 심하게 일어났다는 것을 알 수 있다. \n",
        "original_train_loss = original_hist.history['loss']\n",
        "bigger_model_train_loss = bigger_model_hist.history['loss']\n",
        "\n",
        "plt.plot(epochs, original_train_loss, 'b+', label='Original model')\n",
        "plt.plot(epochs, bigger_model_train_loss, 'bo', label='Bigger model')\n",
        "plt.xlabel('Epochs')\n",
        "plt.ylabel('Training loss')\n",
        "plt.legend()\n",
        "\n",
        "plt.show()"
      ],
      "execution_count": null,
      "outputs": [
        {
          "output_type": "display_data",
          "data": {
            "image/png": "[encoded data removed]",
            "text/plain": [
              "<Figure size 432x288 with 1 Axes>"
            ]
          },
          "metadata": {
            "tags": [],
            "needs_background": "light"
          }
        }
      ]
    },
    {
      "cell_type": "markdown",
      "metadata": {
        "id": "tRBq3QNSx_oh"
      },
      "source": [
        "As you can see, the bigger network gets its training loss near zero very quickly. The more capacity the network has, the quicker it will be \n",
        "able to model the training data (resulting in a low training loss), but the more susceptible it is to overfitting (resulting in a large \n",
        "difference between the training and validation loss)."
      ]
    },
    {
      "cell_type": "markdown",
      "metadata": {
        "id": "9rMMJGO3x_oh"
      },
      "source": [
        "## Adding weight regularization\n",
        "\n",
        "\n",
        "You may be familiar with _Occam's Razor_ principle: given two explanations for something, the explanation most likely to be correct is the \n",
        "\"simplest\" one, the one that makes the least amount of assumptions. This also applies to the models learned by neural networks: given some \n",
        "training data and a network architecture, there are multiple sets of weights values (multiple _models_) that could explain the data, and \n",
        "simpler models are less likely to overfit than complex ones.\n",
        "\n",
        "A \"simple model\" in this context is a model where the distribution of parameter values has less entropy (or a model with fewer \n",
        "parameters altogether, as we saw in the section above). Thus a common way to mitigate overfitting is to put constraints on the complexity \n",
        "of a network by forcing its weights to only take small values, which makes the distribution of weight values more \"regular\". This is called \n",
        "\"weight regularization\", and it is done by adding to the loss function of the network a _cost_ associated with having large weights. This \n",
        "cost comes in two flavors:\n",
        "\n",
        "* L1 regularization, where the cost added is proportional to the _absolute value of the weights coefficients_ (i.e. to what is called the \n",
        "\"L1 norm\" of the weights).\n",
        "* L2 regularization, where the cost added is proportional to the _square of the value of the weights coefficients_ (i.e. to what is called \n",
        "the \"L2 norm\" of the weights). L2 regularization is also called _weight decay_ in the context of neural networks. Don't let the different \n",
        "name confuse you: weight decay is mathematically the exact same as L2 regularization.\n",
        "\n",
        "In Keras, weight regularization is added by passing _weight regularizer instances_ to layers as keyword arguments. Let's add L2 weight \n",
        "regularization to our movie review classification network:"
      ]
    },
    {
      "cell_type": "markdown",
      "metadata": {
        "id": "_mzUTmPxvoc2"
      },
      "source": [
        "- You may be familiar with Occam's Razor principle: given two explanations for something, the explanation most likely to be correct is the \"simplest\" one, the one that makes the least amount of assumptions.\n",
        "\n",
        "- simple model이 좋다는 것을 강조를 하고 있다. \n",
        "\n",
        "- A \"simple model\" in this context is a model where the distribution of parameter values has less entropy (or a model with fewer parameters altogether, as we saw in the section above). \n",
        "\n",
        "- parameter들이 entropy를 적게 갖는것이 simple한 model이라고 설명하고 있다.그리고 parameter들이 위로 팍 치고 나가는 것을 방지하기 위해서 regularization기법들을 적용해가지고, l1-regularization, l2-regularization을 설명하고 있는데, 여기에서 l1-regularization은 l1-norm(절대값)을 loss뒤에 추가해줘서 parameter들이 l1-norm기준으로 커지는 것을 막아주는 그러한 것이 되고, l2-regularization은  loss에 다가 parameter들에 대한 l2-norm을 regularization으로 줘서 parameter들의 값이 많이 커지지 않겠금 해주는 역할 이라고 할 수 있다.\n",
        "\n",
        "- 그리고 케라스에서는 regularization을 쉽게 달 수 있다. "
      ]
    },
    {
      "cell_type": "code",
      "metadata": {
        "id": "JaN3TWwcx_oh"
      },
      "source": [
        "from tensorflow.keras import regularizers\n",
        "\n",
        "l2_model = models.Sequential()\n",
        "l2_model.add(layers.Dense(16, kernel_regularizer=regularizers.l2(0.001), #original data에서는 앞에와 다똑같은데, kernel_regularizer=regularizers.l2(0.001)가 다르다.\n",
        "                          activation='relu', input_shape=(10000,)))  #0.001이 숫자는 l2-regularization을 얼마나 심하게 할 건지를 조절해주는 parameter가 된다.\n",
        "l2_model.add(layers.Dense(16, kernel_regularizer=regularizers.l2(0.001),\n",
        "                          activation='relu'))\n",
        "l2_model.add(layers.Dense(1, activation='sigmoid'))"
      ],
      "execution_count": null,
      "outputs": []
    },
    {
      "cell_type": "code",
      "metadata": {
        "id": "g28Sp8IRx_oh"
      },
      "source": [
        "l2_model.compile(optimizer='rmsprop',   #이 부분에서 컴파일을 해주고\n",
        "                 loss='binary_crossentropy',\n",
        "                 metrics=['acc'])"
      ],
      "execution_count": null,
      "outputs": []
    },
    {
      "cell_type": "code",
      "metadata": {
        "colab": {
          "base_uri": "https://localhost:8080/"
        },
        "id": "E0CXuzObyELy",
        "outputId": "e6575abb-5a86-46a6-9cb7-66a6a939ec8a"
      },
      "source": [
        "#l2-norm은 재미있는게 parameter의 숫자는 똑같다.\n",
        "l2_model.summary()\n",
        "\n",
        "#코드를 돌려보았을때, Trainable params는 160,305 그래서 parameter의 갯수 자체는 똑같은데, loss를 minimized할때, parameter가 튀지 않는 그 부분을 추가 해줌으로써\n",
        "#더 simple한 모델이 나올 수 있겠금 해준다. 그런 부분이 되겠다."
      ],
      "execution_count": null,
      "outputs": [
        {
          "output_type": "stream",
          "text": [
            "Model: \"sequential_3\"\n",
            "_________________________________________________________________\n",
            "Layer (type)                 Output Shape              Param #   \n",
            "=================================================================\n",
            "dense_9 (Dense)              (None, 16)                160016    \n",
            "_________________________________________________________________\n",
            "dense_10 (Dense)             (None, 16)                272       \n",
            "_________________________________________________________________\n",
            "dense_11 (Dense)             (None, 1)                 17        \n",
            "=================================================================\n",
            "Total params: 160,305\n",
            "Trainable params: 160,305\n",
            "Non-trainable params: 0\n",
            "_________________________________________________________________\n"
          ],
          "name": "stdout"
        }
      ]
    },
    {
      "cell_type": "markdown",
      "metadata": {
        "id": "1vrfoxNkx_oh"
      },
      "source": [
        "`l2(0.001)` means that every coefficient in the weight matrix of the layer will add `0.001 * weight_coefficient_value` to the total loss of \n",
        "the network. Note that because this penalty is _only added at training time_, the loss for this network will be much higher at training \n",
        "than at test time.\n",
        "\n",
        "Here's the impact of our L2 regularization penalty:"
      ]
    },
    {
      "cell_type": "code",
      "metadata": {
        "id": "SHdcuOivx_oj",
        "colab": {
          "base_uri": "https://localhost:8080/"
        },
        "outputId": "5e7925b3-ac1d-43c5-ba0b-f51d07054995"
      },
      "source": [
        "l2_model_hist = l2_model.fit(x_train, y_train, \n",
        "                             epochs=20,\n",
        "                             batch_size=512,\n",
        "                             validation_data=(x_test, y_test))\n",
        "#이 코들를 돌리게 되면 train acc가 막 올라가지 않는것을 볼 수 있는데, 이게 overfitting이 안된다는 증거이다.\n",
        "#train loss가 막 치고 올라가는 것을 너무 좋은게 아니라 그건 overfitting이 되고 있다라고 판단해도 좋다.\n",
        "#그래서 이렇게 덜 올라가는게 더 좋을 수 도 있다."
      ],
      "execution_count": null,
      "outputs": [
        {
          "output_type": "stream",
          "text": [
            "Epoch 1/20\n",
            "49/49 [==============================] - 3s 60ms/step - loss: 0.5821 - acc: 0.7431 - val_loss: 0.3723 - val_acc: 0.8850\n",
            "Epoch 2/20\n",
            "49/49 [==============================] - 2s 38ms/step - loss: 0.3196 - acc: 0.9102 - val_loss: 0.3331 - val_acc: 0.8897\n",
            "Epoch 3/20\n",
            "49/49 [==============================] - 2s 39ms/step - loss: 0.2674 - acc: 0.9243 - val_loss: 0.3585 - val_acc: 0.8731\n",
            "Epoch 4/20\n",
            "49/49 [==============================] - 2s 39ms/step - loss: 0.2417 - acc: 0.9338 - val_loss: 0.3444 - val_acc: 0.8806\n",
            "Epoch 5/20\n",
            "49/49 [==============================] - 2s 39ms/step - loss: 0.2251 - acc: 0.9410 - val_loss: 0.3425 - val_acc: 0.8837\n",
            "Epoch 6/20\n",
            "49/49 [==============================] - 2s 39ms/step - loss: 0.2222 - acc: 0.9394 - val_loss: 0.3512 - val_acc: 0.8808\n",
            "Epoch 7/20\n",
            "49/49 [==============================] - 2s 38ms/step - loss: 0.2105 - acc: 0.9461 - val_loss: 0.4245 - val_acc: 0.8562\n",
            "Epoch 8/20\n",
            "49/49 [==============================] - 2s 38ms/step - loss: 0.2092 - acc: 0.9461 - val_loss: 0.3708 - val_acc: 0.8751\n",
            "Epoch 9/20\n",
            "49/49 [==============================] - 2s 38ms/step - loss: 0.2038 - acc: 0.9474 - val_loss: 0.3727 - val_acc: 0.8760\n",
            "Epoch 10/20\n",
            "49/49 [==============================] - 2s 38ms/step - loss: 0.2011 - acc: 0.9478 - val_loss: 0.3788 - val_acc: 0.8746\n",
            "Epoch 11/20\n",
            "49/49 [==============================] - 2s 38ms/step - loss: 0.1927 - acc: 0.9531 - val_loss: 0.4075 - val_acc: 0.8686\n",
            "Epoch 12/20\n",
            "49/49 [==============================] - 2s 38ms/step - loss: 0.1959 - acc: 0.9495 - val_loss: 0.3955 - val_acc: 0.8718\n",
            "Epoch 13/20\n",
            "49/49 [==============================] - 2s 39ms/step - loss: 0.1961 - acc: 0.9493 - val_loss: 0.4232 - val_acc: 0.8653\n",
            "Epoch 14/20\n",
            "49/49 [==============================] - 2s 39ms/step - loss: 0.1877 - acc: 0.9540 - val_loss: 0.3975 - val_acc: 0.8715\n",
            "Epoch 15/20\n",
            "49/49 [==============================] - 2s 39ms/step - loss: 0.1897 - acc: 0.9536 - val_loss: 0.4019 - val_acc: 0.8702\n",
            "Epoch 16/20\n",
            "49/49 [==============================] - 2s 39ms/step - loss: 0.1868 - acc: 0.9520 - val_loss: 0.4229 - val_acc: 0.8654\n",
            "Epoch 17/20\n",
            "49/49 [==============================] - 2s 39ms/step - loss: 0.1807 - acc: 0.9561 - val_loss: 0.4218 - val_acc: 0.8692\n",
            "Epoch 18/20\n",
            "49/49 [==============================] - 2s 39ms/step - loss: 0.1770 - acc: 0.9572 - val_loss: 0.4434 - val_acc: 0.8629\n",
            "Epoch 19/20\n",
            "49/49 [==============================] - 2s 39ms/step - loss: 0.1764 - acc: 0.9568 - val_loss: 0.4599 - val_acc: 0.8599\n",
            "Epoch 20/20\n",
            "49/49 [==============================] - 2s 40ms/step - loss: 0.1724 - acc: 0.9602 - val_loss: 0.4215 - val_acc: 0.8675\n"
          ],
          "name": "stdout"
        }
      ]
    },
    {
      "cell_type": "code",
      "metadata": {
        "id": "DvvztDM_x_oj",
        "colab": {
          "base_uri": "https://localhost:8080/",
          "height": 279
        },
        "outputId": "4038edf5-29c7-483a-dbab-9f51f7fc6de1"
      },
      "source": [
        "#여기에서는 original_val_loss과 l2_model_val_loss를 비교해서 그림을 그려보았다.\n",
        "l2_model_val_loss = l2_model_hist.history['val_loss']  \n",
        "\n",
        "plt.plot(epochs, original_val_loss, 'b+', label='Original model')\n",
        "plt.plot(epochs, l2_model_val_loss, 'bo', label='L2-regularized model')\n",
        "plt.xlabel('Epochs')\n",
        "plt.ylabel('Validation loss')\n",
        "plt.legend()\n",
        "\n",
        "plt.show()\n",
        "#original_model이것은 처음에는 내려가다가 계속해서 overfitting해서 올라가는 반면에, \n",
        "#l2_model_model이것은 overfitting 되는 것을 잘 막아주고 있다는 것을 볼 수 있다.\n",
        "\n",
        "#그런데 그림에서 보이는 것 처럼 original model이 Epochs가 2.5부분에서는 l2_model보다 Validation loss가 낮기 때문에 더 좋다는것을 알 수 있다.\n",
        "#그래서 교수님이 말씀하시길 original mode의 Epochs를 2.5부분 쯤에서 짤라서 사용하는 것도 좋다고 말씀하심.\n",
        "#그래서 nurel network에서는 l1과 l2말고도 dropot을 사용한다고 말씀하심."
      ],
      "execution_count": null,
      "outputs": [
        {
          "output_type": "display_data",
          "data": {
            "image/png": "[encoded data removed]",
            "text/plain": [
              "<Figure size 432x288 with 1 Axes>"
            ]
          },
          "metadata": {
            "tags": [],
            "needs_background": "light"
          }
        }
      ]
    },
    {
      "cell_type": "markdown",
      "metadata": {
        "id": "E5eSLdHnx_ok"
      },
      "source": [
        "\n",
        "\n",
        "As you can see, the model with L2 regularization (dots) has become much more resistant to overfitting than the reference model (crosses), \n",
        "even though both models have the same number of parameters.\n",
        "\n",
        "As alternatives to L2 regularization, you could use one of the following Keras weight regularizers:"
      ]
    },
    {
      "cell_type": "code",
      "metadata": {
        "id": "lq3WTNpqx_ok",
        "colab": {
          "base_uri": "https://localhost:8080/"
        },
        "outputId": "47f94946-b41a-490e-dccb-373fcbb4fb9e"
      },
      "source": [
        "from tensorflow.keras import regularizers\n",
        "\n",
        "# L1 regularization\n",
        "regularizers.l1(0.001)  #위에서는 l2를 달아 주었지만, 여기에서 처럼 l1으로 해서 코드를 달아 줄 수 있다.\n",
        "\n",
        "# L1 and L2 regularization at the same time\n",
        "regularizers.l1_l2(l1=0.001, l2=0.001)  #그리고 여기에서 처럼 l1과 l2를 같이 사용해서도 사용할 수 있다."
      ],
      "execution_count": null,
      "outputs": [
        {
          "output_type": "execute_result",
          "data": {
            "text/plain": [
              "<tensorflow.python.keras.regularizers.L1L2 at 0x7f633a2043d0>"
            ]
          },
          "metadata": {
            "tags": []
          },
          "execution_count": 23
        }
      ]
    },
    {
      "cell_type": "code",
      "metadata": {
        "id": "qGUIhJGB1eTn"
      },
      "source": [
        "#이거는 L1 regularization을 사용한 방법이다.\n",
        "from tensorflow.keras import regularizers\n",
        "\n",
        "l1_model = models.Sequential()\n",
        "l1_model.add(layers.Dense(16, kernel_regularizer=regularizers.l1(0.001), \n",
        "                          activation='relu', input_shape=(10000,)))  \n",
        "l1_model.add(layers.Dense(16, kernel_regularizer=regularizers.l1(0.001),\n",
        "                          activation='relu'))\n",
        "l1_model.add(layers.Dense(1, activation='sigmoid'))\n",
        "#그리고 L1과 L2를 같이 사용하기 위해서는 regularizers.l1_l2(l1=0.001, l2=0.001)이렇게 바꾸어 주면 된다."
      ],
      "execution_count": null,
      "outputs": []
    },
    {
      "cell_type": "markdown",
      "metadata": {
        "id": "0xi0hhVAx_ok"
      },
      "source": [
        "## Adding dropout\n",
        "\n",
        "\n",
        "Dropout is one of the most effective and most commonly used regularization techniques for neural networks, developed by Hinton and his \n",
        "students at the University of Toronto. Dropout, applied to a layer, consists of randomly \"dropping out\" (i.e. setting to zero) a number of \n",
        "output features of the layer during training. Let's say a given layer would normally have returned a vector `[0.2, 0.5, 1.3, 0.8, 1.1]` for a \n",
        "given input sample during training; after applying dropout, this vector will have a few zero entries distributed at random, e.g. `[0, 0.5, \n",
        "1.3, 0, 1.1]`. The \"dropout rate\" is the fraction of the features that are being zeroed-out; it is usually set between 0.2 and 0.5. At test \n",
        "time, no units are dropped out, and instead the layer's output values are scaled down by a factor equal to the dropout rate, so as to \n",
        "balance for the fact that more units are active than at training time.\n",
        "\n",
        "Consider a Numpy matrix containing the output of a layer, `layer_output`, of shape `(batch_size, features)`. At training time, we would be \n",
        "zero-ing out at random a fraction of the values in the matrix:"
      ]
    },
    {
      "cell_type": "markdown",
      "metadata": {
        "id": "eymAU8h96MAC"
      },
      "source": [
        "- dropout에 대한 예제를 진행해 본다.\n",
        "\n",
        "-  Dropout is one of the most effective and most commonly used regularization techniques for neural networks, developed by Hinton and his students at the University of Toronto.\n",
        "\n",
        "- Drpout은 neural networks 쪽에서 가장 효율적이고 가장 많이 사용하는 regularization 방법이고, 성능면에서는 l1, l2보다 dropout이 더 좋다는 것을 알 수 있다. \n",
        "\n",
        "- Dropout의 아이디어는 layer에서 random하게 droping out해가지고 일부 node들을 0으로 만들고 나머지들은 그대로 두는 방법으로 해두게된다.\n",
        "\n",
        "-그래서 왜 이렇게 하면 성능이 좋아지냐? node전체를 사용해서 해 나아가다 보면,일부 node에 쏠리게 되는 현상이 발생하게 된다.그래서 node들이 전부 트레이닝 하게 되면 일부 node들이 쏠리는 현상이 발생하게 되는데, [0, 0.5, 1.3, 0, 1.1]이런식으로 일부 node들을 drop하게 되면 그런 쏠림현상이 많이 줄어들게 되고, 그리고 쏠림현상이 줄어들게 되면 다른쪽으로도 길을 많이 터주기 때문에 그래서 전체적으로보았을 때 일부 node에 쏠리는 현상을 막아 줄 수 있다. 그래서 reguralization되는 효과도 있다.\n",
        "\n",
        "- 그리고 dropout이 randomforest와 비슷하게 앙상블을 사용해서 합쳐줘서 사용하는 것 같은 효과가 있다는 점에서 비슷하다고 볼 수 있다."
      ]
    },
    {
      "cell_type": "code",
      "metadata": {
        "colab": {
          "base_uri": "https://localhost:8080/"
        },
        "id": "OGrz0P0584tM",
        "outputId": "0ba8554c-3db5-480b-8c8a-8df8460ebd54"
      },
      "source": [
        "import numpy as np \n",
        "np.random.randint(0, high=2, size=20)\n",
        "#대충 50%의 점들을 0으로 만들거나 1로 만들어주고 \n",
        "#여기에 layer_output을 곱해주게 되면 1이 있는 부분은 살아남게 되고, 0이 있는 부분은 0으로 되는 것을 알 수 있다. "
      ],
      "execution_count": null,
      "outputs": [
        {
          "output_type": "execute_result",
          "data": {
            "text/plain": [
              "array([1, 1, 0, 0, 1, 0, 0, 0, 1, 0, 1, 1, 1, 0, 0, 0, 0, 1, 0, 0])"
            ]
          },
          "metadata": {
            "tags": []
          },
          "execution_count": 24
        }
      ]
    },
    {
      "cell_type": "code",
      "metadata": {
        "id": "vXPbQSdUx_ok",
        "colab": {
          "base_uri": "https://localhost:8080/",
          "height": 213
        },
        "outputId": "15238cae-e399-4799-b9df-e2feab898e65"
      },
      "source": [
        "# At training time: we drop out 50% of the units in the output\n",
        "layer_output *= np.randint(0, high=2, size=layer_output.shape)   #이거는 이런 느낌으로 구현된다고 생각할 수 있는 예제이다. \n",
        "#이거는 layer_output에 np.randint(0, high=2, size=layer_output.shape)이거를 곱해준다는 것인데 "
      ],
      "execution_count": null,
      "outputs": [
        {
          "output_type": "error",
          "ename": "NameError",
          "evalue": "ignored",
          "traceback": [
            "\u001b[0;31m---------------------------------------------------------------------------\u001b[0m",
            "\u001b[0;31mNameError\u001b[0m                                 Traceback (most recent call last)",
            "\u001b[0;32m<ipython-input-25-6071f7dfcafd>\u001b[0m in \u001b[0;36m<module>\u001b[0;34m()\u001b[0m\n\u001b[1;32m      1\u001b[0m \u001b[0;31m# At training time: we drop out 50% of the units in the output\u001b[0m\u001b[0;34m\u001b[0m\u001b[0;34m\u001b[0m\u001b[0;34m\u001b[0m\u001b[0m\n\u001b[0;32m----> 2\u001b[0;31m \u001b[0mlayer_output\u001b[0m \u001b[0;34m*=\u001b[0m \u001b[0mnp\u001b[0m\u001b[0;34m.\u001b[0m\u001b[0mrandint\u001b[0m\u001b[0;34m(\u001b[0m\u001b[0;36m0\u001b[0m\u001b[0;34m,\u001b[0m \u001b[0mhigh\u001b[0m\u001b[0;34m=\u001b[0m\u001b[0;36m2\u001b[0m\u001b[0;34m,\u001b[0m \u001b[0msize\u001b[0m\u001b[0;34m=\u001b[0m\u001b[0mlayer_output\u001b[0m\u001b[0;34m.\u001b[0m\u001b[0mshape\u001b[0m\u001b[0;34m)\u001b[0m   \u001b[0;31m#이거는 이런 느낌으로 구현된다고 생각할 수 있는 예제이다.\u001b[0m\u001b[0;34m\u001b[0m\u001b[0;34m\u001b[0m\u001b[0m\n\u001b[0m\u001b[1;32m      3\u001b[0m \u001b[0;31m#이거는 layer_output에 np.randint(0, high=2, size=layer_output.shape)이거를 곱해준다는 것인데\u001b[0m\u001b[0;34m\u001b[0m\u001b[0;34m\u001b[0m\u001b[0;34m\u001b[0m\u001b[0m\n",
            "\u001b[0;31mNameError\u001b[0m: name 'layer_output' is not defined"
          ]
        }
      ]
    },
    {
      "cell_type": "markdown",
      "metadata": {
        "id": "TU84VCIox_ok"
      },
      "source": [
        "\n",
        "At test time, we would be scaling the output down by the dropout rate. Here we scale by 0.5 (because we were previous dropping half the \n",
        "units):"
      ]
    },
    {
      "cell_type": "code",
      "metadata": {
        "collapsed": true,
        "id": "Kd4Jyqo2x_ol"
      },
      "source": [
        "# At test time:\n",
        "layer_output *= 0.5\n",
        "#락다운 안된 전체 애들이 살아 있어서 그래서 전체가 살아 있어서 가중치를 0.5를 곱해서 testing time에서 해주겠다는 것이다. \n",
        "#그리고 여기에서는 위에 0.5를 해주었기 때문에 test time에 0.5를 곱해준다."
      ],
      "execution_count": null,
      "outputs": []
    },
    {
      "cell_type": "markdown",
      "metadata": {
        "id": "8w7VGyyIx_ol"
      },
      "source": [
        "\n",
        "Note that this process can be implemented by doing both operations at training time and leaving the output unchanged at test time, which is \n",
        "often the way it is implemented in practice:"
      ]
    },
    {
      "cell_type": "code",
      "metadata": {
        "collapsed": true,
        "id": "CdPaf1zfx_ol"
      },
      "source": [
        "# At training time:\n",
        "layer_output *= np.randint(0, high=2, size=layer_output.shape)\n",
        "# Note that we are scaling *up* rather scaling *down* in this case\n",
        "layer_output /= 0.5  #위에 있는 코드를 똑같이 해주려면 train time에서 layer_output을 0.5로 나누어주면 test time에서 따로 layer_output *= 0.5해주지 않아도 된다.\n",
        "#그래서 실제로 dropout의 구현은 이런느낌으로 되어 있다라는 것을 볼 수 있다. "
      ],
      "execution_count": null,
      "outputs": []
    },
    {
      "cell_type": "markdown",
      "metadata": {
        "id": "Asu9EMfvx_ol"
      },
      "source": [
        "\n",
        "This technique may seem strange and arbitrary. Why would this help reduce overfitting? Geoff Hinton has said that he was inspired, among \n",
        "other things, by a fraud prevention mechanism used by banks -- in his own words: _\"I went to my bank. The tellers kept changing and I asked \n",
        "one of them why. He said he didn’t know but they got moved around a lot. I figured it must be because it would require cooperation \n",
        "between employees to successfully defraud the bank. This made me realize that randomly removing a different subset of neurons on each \n",
        "example would prevent conspiracies and thus reduce overfitting\"_.\n",
        "\n",
        "The core idea is that introducing noise in the output values of a layer can break up happenstance patterns that are not significant (what \n",
        "Hinton refers to as \"conspiracies\"), which the network would start memorizing if no noise was present. \n",
        "\n",
        "In Keras you can introduce dropout in a network via the `Dropout` layer, which gets applied to the output of layer right before it, e.g.:"
      ]
    },
    {
      "cell_type": "code",
      "metadata": {
        "id": "II_16FK7x_ol",
        "colab": {
          "base_uri": "https://localhost:8080/",
          "height": 176
        },
        "outputId": "cddafe1e-a708-4d1e-dd64-e7e005ea5572"
      },
      "source": [
        "model.add(layers.Dropout(0.5))"
      ],
      "execution_count": null,
      "outputs": [
        {
          "output_type": "error",
          "ename": "NameError",
          "evalue": "ignored",
          "traceback": [
            "\u001b[0;31m---------------------------------------------------------------------------\u001b[0m",
            "\u001b[0;31mNameError\u001b[0m                                 Traceback (most recent call last)",
            "\u001b[0;32m<ipython-input-25-65ed89de200e>\u001b[0m in \u001b[0;36m<module>\u001b[0;34m()\u001b[0m\n\u001b[0;32m----> 1\u001b[0;31m \u001b[0mmodel\u001b[0m\u001b[0;34m.\u001b[0m\u001b[0madd\u001b[0m\u001b[0;34m(\u001b[0m\u001b[0mlayers\u001b[0m\u001b[0;34m.\u001b[0m\u001b[0mDropout\u001b[0m\u001b[0;34m(\u001b[0m\u001b[0;36m0.5\u001b[0m\u001b[0;34m)\u001b[0m\u001b[0;34m)\u001b[0m\u001b[0;34m\u001b[0m\u001b[0;34m\u001b[0m\u001b[0m\n\u001b[0m",
            "\u001b[0;31mNameError\u001b[0m: name 'model' is not defined"
          ]
        }
      ]
    },
    {
      "cell_type": "markdown",
      "metadata": {
        "id": "2pRjKAtTx_ol"
      },
      "source": [
        "Let's add two `Dropout` layers in our IMDB network to see how well they do at reducing overfitting:"
      ]
    },
    {
      "cell_type": "code",
      "metadata": {
        "id": "xqVt2o2Hx_om"
      },
      "source": [
        "dpt_model = models.Sequential()\n",
        "dpt_model.add(layers.Dense(16, activation='relu', input_shape=(10000,)))\n",
        "dpt_model.add(layers.Dropout(0.5))   #케라스에서는 간단하게 0.5를 dropout해주면 되겠다라고 하는 것이다. \n",
        "#Dense layers 16에다가 Dropout을 0.5적용한 것이고\n",
        "dpt_model.add(layers.Dense(16, activation='relu'))\n",
        "dpt_model.add(layers.Dropout(0.5))\n",
        "#Dense layers 16에다가 Dropout을 0.5적용한 것이고\n",
        "dpt_model.add(layers.Dense(1, activation='sigmoid'))   #그래서 두 층에 dropout layers를 추가한것을 볼 수 있다.\n",
        "\n",
        "dpt_model.compile(optimizer='rmsprop',\n",
        "                  loss='binary_crossentropy',\n",
        "                  metrics=['acc'])"
      ],
      "execution_count": null,
      "outputs": []
    },
    {
      "cell_type": "code",
      "metadata": {
        "colab": {
          "base_uri": "https://localhost:8080/"
        },
        "id": "S1ZHoSDO_Dvj",
        "outputId": "8543c08b-cffc-4a25-cb16-f108ca0c6cc6"
      },
      "source": [
        "#dropout을 하게 되더라도 모델의 개수에는 변함이 없다.\n",
        "dpt_model.summary()\n",
        "#그래서 Trainable params는 160.305가 되는 것을 볼 수 있다. 그리고 아래 보이는 것 처럼 dropout layer만 추가 된 것을 볼 수 있다."
      ],
      "execution_count": null,
      "outputs": [
        {
          "output_type": "stream",
          "text": [
            "Model: \"sequential_4\"\n",
            "_________________________________________________________________\n",
            "Layer (type)                 Output Shape              Param #   \n",
            "=================================================================\n",
            "dense_12 (Dense)             (None, 16)                160016    \n",
            "_________________________________________________________________\n",
            "dropout (Dropout)            (None, 16)                0         \n",
            "_________________________________________________________________\n",
            "dense_13 (Dense)             (None, 16)                272       \n",
            "_________________________________________________________________\n",
            "dropout_1 (Dropout)          (None, 16)                0         \n",
            "_________________________________________________________________\n",
            "dense_14 (Dense)             (None, 1)                 17        \n",
            "=================================================================\n",
            "Total params: 160,305\n",
            "Trainable params: 160,305\n",
            "Non-trainable params: 0\n",
            "_________________________________________________________________\n"
          ],
          "name": "stdout"
        }
      ]
    },
    {
      "cell_type": "code",
      "metadata": {
        "id": "wP05buc4x_om",
        "colab": {
          "base_uri": "https://localhost:8080/"
        },
        "outputId": "f472afca-33bf-4f91-86e6-0480a9add0df"
      },
      "source": [
        "#dropout이 된 것을 train해주게 되면 \n",
        "dpt_model_hist = dpt_model.fit(x_train, y_train,\n",
        "                               epochs=20,\n",
        "                               batch_size=512,\n",
        "                               validation_data=(x_test, y_test))\n",
        "#original model보다는 acc가 더 빠르게 올라기지 않는 것을 볼 수 있다. "
      ],
      "execution_count": null,
      "outputs": [
        {
          "output_type": "stream",
          "text": [
            "Epoch 1/20\n",
            "49/49 [==============================] - 6s 102ms/step - loss: 0.6364 - acc: 0.6197 - val_loss: 0.4408 - val_acc: 0.8667\n",
            "Epoch 2/20\n",
            "49/49 [==============================] - 3s 69ms/step - loss: 0.4567 - acc: 0.8101 - val_loss: 0.3370 - val_acc: 0.8836\n",
            "Epoch 3/20\n",
            "49/49 [==============================] - 2s 39ms/step - loss: 0.3693 - acc: 0.8658 - val_loss: 0.2991 - val_acc: 0.8875\n",
            "Epoch 4/20\n",
            "49/49 [==============================] - 2s 39ms/step - loss: 0.3089 - acc: 0.8969 - val_loss: 0.2844 - val_acc: 0.8886\n",
            "Epoch 5/20\n",
            "49/49 [==============================] - 2s 39ms/step - loss: 0.2574 - acc: 0.9159 - val_loss: 0.2902 - val_acc: 0.8793\n",
            "Epoch 6/20\n",
            "49/49 [==============================] - 2s 38ms/step - loss: 0.2289 - acc: 0.9282 - val_loss: 0.2962 - val_acc: 0.8880\n",
            "Epoch 7/20\n",
            "49/49 [==============================] - 2s 39ms/step - loss: 0.2025 - acc: 0.9392 - val_loss: 0.3140 - val_acc: 0.8819\n",
            "Epoch 8/20\n",
            "49/49 [==============================] - 2s 39ms/step - loss: 0.1754 - acc: 0.9437 - val_loss: 0.3483 - val_acc: 0.8826\n",
            "Epoch 9/20\n",
            "49/49 [==============================] - 2s 39ms/step - loss: 0.1654 - acc: 0.9469 - val_loss: 0.3508 - val_acc: 0.8842\n",
            "Epoch 10/20\n",
            "49/49 [==============================] - 2s 38ms/step - loss: 0.1512 - acc: 0.9526 - val_loss: 0.3816 - val_acc: 0.8795\n",
            "Epoch 11/20\n",
            "49/49 [==============================] - 2s 39ms/step - loss: 0.1420 - acc: 0.9550 - val_loss: 0.3990 - val_acc: 0.8803\n",
            "Epoch 12/20\n",
            "49/49 [==============================] - 2s 39ms/step - loss: 0.1284 - acc: 0.9598 - val_loss: 0.4154 - val_acc: 0.8785\n",
            "Epoch 13/20\n",
            "49/49 [==============================] - 2s 40ms/step - loss: 0.1321 - acc: 0.9546 - val_loss: 0.4474 - val_acc: 0.8785\n",
            "Epoch 14/20\n",
            "49/49 [==============================] - 2s 39ms/step - loss: 0.1198 - acc: 0.9617 - val_loss: 0.4813 - val_acc: 0.8766\n",
            "Epoch 15/20\n",
            "49/49 [==============================] - 2s 39ms/step - loss: 0.1170 - acc: 0.9610 - val_loss: 0.5026 - val_acc: 0.8766\n",
            "Epoch 16/20\n",
            "49/49 [==============================] - 2s 39ms/step - loss: 0.1166 - acc: 0.9601 - val_loss: 0.5014 - val_acc: 0.8756\n",
            "Epoch 17/20\n",
            "49/49 [==============================] - 2s 39ms/step - loss: 0.1144 - acc: 0.9620 - val_loss: 0.5262 - val_acc: 0.8739\n",
            "Epoch 18/20\n",
            "49/49 [==============================] - 2s 39ms/step - loss: 0.1024 - acc: 0.9653 - val_loss: 0.5448 - val_acc: 0.8746\n",
            "Epoch 19/20\n",
            "49/49 [==============================] - 2s 39ms/step - loss: 0.0998 - acc: 0.9657 - val_loss: 0.5762 - val_acc: 0.8739\n",
            "Epoch 20/20\n",
            "49/49 [==============================] - 2s 39ms/step - loss: 0.1032 - acc: 0.9636 - val_loss: 0.5767 - val_acc: 0.8713\n"
          ],
          "name": "stdout"
        }
      ]
    },
    {
      "cell_type": "markdown",
      "metadata": {
        "id": "rV5dPnlYx_om"
      },
      "source": [
        "Let's plot the results:"
      ]
    },
    {
      "cell_type": "code",
      "metadata": {
        "id": "GAz5QyQfx_om",
        "colab": {
          "base_uri": "https://localhost:8080/",
          "height": 279
        },
        "outputId": "392fb21c-8a93-4e6e-a7d9-1283d191390a"
      },
      "source": [
        "dpt_model_val_loss = dpt_model_hist.history['val_loss']\n",
        "\n",
        "plt.plot(epochs, original_val_loss, 'b+', label='Original model')\n",
        "plt.plot(epochs, dpt_model_val_loss, 'bo', label='Dropout-regularized model')\n",
        "plt.xlabel('Epochs')\n",
        "plt.ylabel('Validation loss')\n",
        "plt.legend()\n",
        "\n",
        "plt.show()\n",
        "#위에서 acc가 빠르게 올라가지 않는것은 여기에서 original_val_loss와 dpt_model_val_loss를 보았을 때 알 수 있다. \n",
        "#dropout도 물론 overfitting이 일어나지만 original보다 천천히 일어난다는 것을 알 수 있다. \n",
        "#그리고 그림에서 보았을때, l1과 l2보다 Epochs 2.5에서 5.0사이가 dropout했을 때 좀더 좋아 진것을 볼 수 있다. 즉 Validation loss가 더 좋아졌다.\n",
        "#이래서 l1과 l2보다 dropout을 많이 사용을 한다. 그 이유가 성능면에서도 더 좋아지는 경우가 많아서 overfitting을 방지해주면서도 높은 성능을 유지해주는 그런 기법이여서\n",
        "#neural network에서는 많이 사용하고 있다. "
      ],
      "execution_count": null,
      "outputs": [
        {
          "output_type": "display_data",
          "data": {
            "image/png": "[encoded data removed]",
            "text/plain": [
              "<Figure size 432x288 with 1 Axes>"
            ]
          },
          "metadata": {
            "tags": [],
            "needs_background": "light"
          }
        }
      ]
    },
    {
      "cell_type": "markdown",
      "metadata": {
        "id": "c9bwTmFqx_om"
      },
      "source": [
        "\n",
        "Again, a clear improvement over the reference network.\n",
        "\n",
        "To recap: here the most common ways to prevent overfitting in neural networks:\n",
        "\n",
        "* Getting more training data.\n",
        "* Reducing the capacity of the network.\n",
        "* Adding weight regularization.\n",
        "* Adding dropout."
      ]
    }
  ]
}