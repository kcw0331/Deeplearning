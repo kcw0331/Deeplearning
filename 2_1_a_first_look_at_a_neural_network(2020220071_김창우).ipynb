{
  "nbformat": 4,
  "nbformat_minor": 0,
  "metadata": {
    "colab": {
      "name": "2_1_a_first_look_at_a_neural_network(2020220071_김창우).ipynb",
      "provenance": [],
      "collapsed_sections": [],
      "include_colab_link": true
    },
    "kernelspec": {
      "display_name": "Python 3",
      "language": "python",
      "name": "python3"
    },
    "language_info": {
      "codemirror_mode": {
        "name": "ipython",
        "version": 3
      },
      "file_extension": ".py",
      "mimetype": "text/x-python",
      "name": "python",
      "nbconvert_exporter": "python",
      "pygments_lexer": "ipython3",
      "version": "3.8.5"
    }
  },
  "cells": [
    {
      "cell_type": "markdown",
      "metadata": {
        "id": "view-in-github",
        "colab_type": "text"
      },
      "source": [
        "<a href=\"https://colab.research.google.com/github/kcw0331/Deeplearning/blob/main/2_1_a_first_look_at_a_neural_network(2020220071_%EA%B9%80%EC%B0%BD%EC%9A%B0).ipynb\" target=\"_parent\"><img src=\"https://colab.research.google.com/assets/colab-badge.svg\" alt=\"Open In Colab\"/></a>"
      ]
    },
    {
      "cell_type": "code",
      "metadata": {
        "id": "v3w29yunlRt5",
        "colab": {
          "base_uri": "https://localhost:8080/",
          "height": 36
        },
        "outputId": "3da598dd-8edc-4997-bb86-a539e18ec71c"
      },
      "source": [
        "import tensorflow\n",
        "tensorflow.keras.__version__    "
      ],
      "execution_count": null,
      "outputs": [
        {
          "output_type": "execute_result",
          "data": {
            "application/vnd.google.colaboratory.intrinsic+json": {
              "type": "string"
            },
            "text/plain": [
              "'2.4.0'"
            ]
          },
          "metadata": {
            "tags": []
          },
          "execution_count": 5
        }
      ]
    },
    {
      "cell_type": "markdown",
      "metadata": {
        "id": "BKcjWUsqejfc"
      },
      "source": [
        "- **tensorflow.keras.__version__**은 tencorflow의 버전을 확인해 주기 위해서 만들어진 코드 입니다."
      ]
    },
    {
      "cell_type": "markdown",
      "metadata": {
        "id": "wx71V7mFlRt9"
      },
      "source": [
        "# A first look at a neural network\n",
        "\n",
        "This notebook contains the code samples found in Chapter 2, Section 1 of [Deep Learning with Python](https://www.manning.com/books/deep-learning-with-python?a_aid=keras&a_bid=76564dff). Note that the original text features far more content, in particular further explanations and figures: in this notebook, you will only find source code and related comments.\n",
        "\n",
        "----\n",
        "\n",
        "We will now take a look at a first concrete example of a neural network, which makes use of the Python library Keras to learn to classify \n",
        "hand-written digits. Unless you already have experience with Keras or similar libraries, you will not understand everything about this \n",
        "first example right away. You probably haven't even installed Keras yet. Don't worry, that is perfectly fine. In the next chapter, we will \n",
        "review each element in our example and explain them in detail. So don't worry if some steps seem arbitrary or look like magic to you! \n",
        "We've got to start somewhere.\n",
        "\n",
        "The problem we are trying to solve here is to classify grayscale images of handwritten digits (28 pixels by 28 pixels), into their 10 \n",
        "categories (0 to 9). The dataset we will use is the MNIST dataset, a classic dataset in the machine learning community, which has been \n",
        "around for almost as long as the field itself and has been very intensively studied. It's a set of 60,000 training images, plus 10,000 test \n",
        "images, assembled by the National Institute of Standards and Technology (the NIST in MNIST) in the 1980s. You can think of \"solving\" MNIST \n",
        "as the \"Hello World\" of deep learning -- it's what you do to verify that your algorithms are working as expected. As you become a machine \n",
        "learning practitioner, you will see MNIST come up over and over again, in scientific papers, blog posts, and so on."
      ]
    },
    {
      "cell_type": "markdown",
      "metadata": {
        "id": "7jnLy2YwlRt-"
      },
      "source": [
        "The MNIST dataset comes pre-loaded in Keras, in the form of a set of four Numpy arrays:"
      ]
    },
    {
      "cell_type": "code",
      "metadata": {
        "id": "PqFqALuulRt-",
        "colab": {
          "base_uri": "https://localhost:8080/"
        },
        "outputId": "8801aada-9e15-46a1-f849-06f8849c2f62"
      },
      "source": [
        "from tensorflow.keras.datasets import mnist\n",
        "\n",
        "(train_images, train_labels), (test_images, test_labels) = mnist.load_data()"
      ],
      "execution_count": null,
      "outputs": [
        {
          "output_type": "stream",
          "text": [
            "Downloading data from https://storage.googleapis.com/tensorflow/tf-keras-datasets/mnist.npz\n",
            "11493376/11490434 [==============================] - 0s 0us/step\n"
          ],
          "name": "stdout"
        }
      ]
    },
    {
      "cell_type": "markdown",
      "metadata": {
        "id": "t_lSa1YKd7T8"
      },
      "source": [
        "**<Listing 2.1 Loading the Mnist dataset in Keras>**\n",
        "- **(train_images, train_labels), (test_images, test_labels)**은 return 값을 받아 \n",
        "줍니다.\n",
        "- **mnist.load_data()**는 3차원으로 되어있으며, 이 코드는 Mnist를 load하는 데이터 입니다."
      ]
    },
    {
      "cell_type": "markdown",
      "metadata": {
        "id": "VJOLfGnPlRt_"
      },
      "source": [
        "`train_images` and `train_labels` form the \"training set\", the data that the model will learn from. The model will then be tested on the \n",
        "\"test set\", `test_images` and `test_labels`. Our images are encoded as Numpy arrays, and the labels are simply an array of digits, ranging \n",
        "from 0 to 9. There is a one-to-one correspondence between the images and the labels.\n",
        "\n",
        "Let's have a look at the training data:"
      ]
    },
    {
      "cell_type": "markdown",
      "metadata": {
        "id": "8WHcdAsVlRt_"
      },
      "source": [
        "퍼미션 에러가 나는 경우도 있는데, sudo 를 사용해서 노트북을 열거나, 에러가 나는 폴더(데이터 저장폴더)의 권한을 쓰기 가능하도록 변경해주어야 합니다. "
      ]
    },
    {
      "cell_type": "code",
      "metadata": {
        "id": "8DR3FDlVu8Vz",
        "colab": {
          "base_uri": "https://localhost:8080/"
        },
        "outputId": "4e644419-28e9-415d-a12d-d82ba0525f17"
      },
      "source": [
        "train_images[:2,:,:]"
      ],
      "execution_count": null,
      "outputs": [
        {
          "output_type": "execute_result",
          "data": {
            "text/plain": [
              "array([[[0, 0, 0, ..., 0, 0, 0],\n",
              "        [0, 0, 0, ..., 0, 0, 0],\n",
              "        [0, 0, 0, ..., 0, 0, 0],\n",
              "        ...,\n",
              "        [0, 0, 0, ..., 0, 0, 0],\n",
              "        [0, 0, 0, ..., 0, 0, 0],\n",
              "        [0, 0, 0, ..., 0, 0, 0]],\n",
              "\n",
              "       [[0, 0, 0, ..., 0, 0, 0],\n",
              "        [0, 0, 0, ..., 0, 0, 0],\n",
              "        [0, 0, 0, ..., 0, 0, 0],\n",
              "        ...,\n",
              "        [0, 0, 0, ..., 0, 0, 0],\n",
              "        [0, 0, 0, ..., 0, 0, 0],\n",
              "        [0, 0, 0, ..., 0, 0, 0]]], dtype=uint8)"
            ]
          },
          "metadata": {
            "tags": []
          },
          "execution_count": 7
        }
      ]
    },
    {
      "cell_type": "markdown",
      "metadata": {
        "id": "3WwOwWgZkSce"
      },
      "source": [
        "- **train_images[:2 , : , :]**은 3개의 array가 되는 것을 볼 수 있습니다.\n"
      ]
    },
    {
      "cell_type": "code",
      "metadata": {
        "id": "3fHGBqC4lRt_",
        "colab": {
          "base_uri": "https://localhost:8080/"
        },
        "outputId": "7a7d6fd9-5c28-4e88-eea1-08874e62ced2"
      },
      "source": [
        "train_images.shape"
      ],
      "execution_count": null,
      "outputs": [
        {
          "output_type": "execute_result",
          "data": {
            "text/plain": [
              "(60000, 28, 28)"
            ]
          },
          "metadata": {
            "tags": []
          },
          "execution_count": 8
        }
      ]
    },
    {
      "cell_type": "markdown",
      "metadata": {
        "id": "YYqT-cYJkbl1"
      },
      "source": [
        "- **train_images.shape**을 통해서 train data안에 60000개와 28x28픽셀이 있는 것을 shape을 통해 알 수 있습니다."
      ]
    },
    {
      "cell_type": "code",
      "metadata": {
        "id": "YPMnXlhYlRt_",
        "colab": {
          "base_uri": "https://localhost:8080/"
        },
        "outputId": "58e35fbe-9ffc-42ff-bb83-f613f5277de5"
      },
      "source": [
        "len(train_labels)"
      ],
      "execution_count": null,
      "outputs": [
        {
          "output_type": "execute_result",
          "data": {
            "text/plain": [
              "60000"
            ]
          },
          "metadata": {
            "tags": []
          },
          "execution_count": 9
        }
      ]
    },
    {
      "cell_type": "markdown",
      "metadata": {
        "id": "5Z6OAMWDwnHu"
      },
      "source": [
        "- **len(train_labels)**을 통해서 train_labels의 크기가 60000개라는 것을 알 수 있습니다."
      ]
    },
    {
      "cell_type": "code",
      "metadata": {
        "id": "092os8XqlRuA",
        "colab": {
          "base_uri": "https://localhost:8080/"
        },
        "outputId": "a40e3af3-7ae7-44a4-9df4-808d76bcc0d6"
      },
      "source": [
        "train_labels"
      ],
      "execution_count": null,
      "outputs": [
        {
          "output_type": "execute_result",
          "data": {
            "text/plain": [
              "array([5, 0, 4, ..., 5, 6, 8], dtype=uint8)"
            ]
          },
          "metadata": {
            "tags": []
          },
          "execution_count": 10
        }
      ]
    },
    {
      "cell_type": "markdown",
      "metadata": {
        "id": "oyA5V96LDq2Y"
      },
      "source": [
        "- **train_labels**을 해줘서 0~9까지의 숫자가 나오게되고 dtype이 integer를 가지고 8비트라는 것을 알 수 있습니다."
      ]
    },
    {
      "cell_type": "markdown",
      "metadata": {
        "id": "YEBCFGCXlRuA"
      },
      "source": [
        "Let's have a look at the test data:"
      ]
    },
    {
      "cell_type": "code",
      "metadata": {
        "id": "g7zlDpVDlRuA",
        "colab": {
          "base_uri": "https://localhost:8080/"
        },
        "outputId": "27f0bc0c-3cc0-4778-9985-de508ca9f490"
      },
      "source": [
        "test_images.shape  "
      ],
      "execution_count": null,
      "outputs": [
        {
          "output_type": "execute_result",
          "data": {
            "text/plain": [
              "(10000, 28, 28)"
            ]
          },
          "metadata": {
            "tags": []
          },
          "execution_count": 11
        }
      ]
    },
    {
      "cell_type": "markdown",
      "metadata": {
        "id": "7lMJ04I3DS_m"
      },
      "source": [
        "- **test_images.shape**을 통해서 test_images의 각 차원의 수를 알 수 있습니다."
      ]
    },
    {
      "cell_type": "code",
      "metadata": {
        "id": "HcN7Xzn-lRuA",
        "colab": {
          "base_uri": "https://localhost:8080/"
        },
        "outputId": "9028cb98-5af0-4565-a581-732515802f89"
      },
      "source": [
        "len(test_labels)"
      ],
      "execution_count": null,
      "outputs": [
        {
          "output_type": "execute_result",
          "data": {
            "text/plain": [
              "10000"
            ]
          },
          "metadata": {
            "tags": []
          },
          "execution_count": 12
        }
      ]
    },
    {
      "cell_type": "markdown",
      "metadata": {
        "id": "5vUANwVkDbGt"
      },
      "source": [
        "- **len(test_labels)**를 사용해서 test_labels의 크기가 1000이라는 것을 알 수 있습니다."
      ]
    },
    {
      "cell_type": "code",
      "metadata": {
        "id": "YRiOLxM6lRuB",
        "colab": {
          "base_uri": "https://localhost:8080/"
        },
        "outputId": "66d13943-f9ff-421d-be45-b7c0ae6a79e7"
      },
      "source": [
        "test_labels"
      ],
      "execution_count": null,
      "outputs": [
        {
          "output_type": "execute_result",
          "data": {
            "text/plain": [
              "array([7, 2, 1, ..., 4, 5, 6], dtype=uint8)"
            ]
          },
          "metadata": {
            "tags": []
          },
          "execution_count": 13
        }
      ]
    },
    {
      "cell_type": "markdown",
      "metadata": {
        "id": "LuCNe7HvEBA5"
      },
      "source": [
        "- **test_labels**을 통해서 0~9까지의 숫자가 나오게 되며, dtype이 integer를 가지며 8비트라는 것을 알 수 있습니다."
      ]
    },
    {
      "cell_type": "markdown",
      "metadata": {
        "id": "A9ZkxofclRuB"
      },
      "source": [
        "Our workflow will be as follow: first we will present our neural network with the training data, `train_images` and `train_labels`. The \n",
        "network will then learn to associate images and labels. Finally, we will ask the network to produce predictions for `test_images`, and we \n",
        "will verify if these predictions match the labels from `test_labels`.\n",
        "\n",
        "Let's build our network -- again, remember that you aren't supposed to understand everything about this example just yet."
      ]
    },
    {
      "cell_type": "code",
      "metadata": {
        "id": "0WkUM7eglRuB"
      },
      "source": [
        "from tensorflow.keras import models        #여기서 모형을 define 해줍니다.\n",
        "from tensorflow.keras import layers\n",
        "\n",
        "network = models.Sequential()\n",
        "network.add(layers.Dense(512, activation='relu', input_shape=(28 * 28,)))  #28x28인데 Dense를 사용해서 output을 512차원으로 만들어 줍니다.\n",
        "network.add(layers.Dense(10, activation='softmax'))   #그리고 여기에서 Dense를 사용해서 output이 10차원이 되게 해줍니다. softmax activation을 사용해서 내보내주게 됩니다."
      ],
      "execution_count": null,
      "outputs": []
    },
    {
      "cell_type": "markdown",
      "metadata": {
        "id": "oHemeJN0lBGb"
      },
      "source": [
        "**<List2.2 The network architecture>**\n",
        "- input data 그림을 넣고, 그림을 넣으면 512차원의 output이 나오고 그 512차원의 output을 그 다음 Network에 넣으면 그 다음 Network에선 10차원의 data가 나오게 되는데, 이 10차원의 데이터가 나올 때, activation = 'softmx'를 써서 0~9까지 어떤게 나올지 구성을 하게 됩니다."
      ]
    },
    {
      "cell_type": "markdown",
      "metadata": {
        "id": "veqmd9-elRuB"
      },
      "source": [
        "\n",
        "The core building block of neural networks is the \"layer\", a data-processing module which you can conceive as a \"filter\" for data. Some \n",
        "data comes in, and comes out in a more useful form. Precisely, layers extract _representations_ out of the data fed into them -- hopefully \n",
        "representations that are more meaningful for the problem at hand. Most of deep learning really consists of chaining together simple layers \n",
        "which will implement a form of progressive \"data distillation\". A deep learning model is like a sieve for data processing, made of a \n",
        "succession of increasingly refined data filters -- the \"layers\".\n",
        "\n",
        "Here our network consists of a sequence of two `Dense` layers, which are densely-connected (also called \"fully-connected\") neural layers. \n",
        "The second (and last) layer is a 10-way \"softmax\" layer, which means it will return an array of 10 probability scores (summing to 1). Each \n",
        "score will be the probability that the current digit image belongs to one of our 10 digit classes.\n",
        "\n",
        "To make our network ready for training, we need to pick three more things, as part of \"compilation\" step:\n",
        "\n",
        "* A loss function: the is how the network will be able to measure how good a job it is doing on its training data, and thus how it will be \n",
        "able to steer itself in the right direction.\n",
        "* An optimizer: this is the mechanism through which the network will update itself based on the data it sees and its loss function.\n",
        "* Metrics to monitor during training and testing. Here we will only care about accuracy (the fraction of the images that were correctly \n",
        "classified).\n",
        "\n",
        "The exact purpose of the loss function and the optimizer will be made clear throughout the next two chapters."
      ]
    },
    {
      "cell_type": "code",
      "metadata": {
        "id": "RdMrU0EClRuC"
      },
      "source": [
        "network.compile(optimizer='rmsprop',   #optimizer는 rmsprop를 사용하였고\n",
        "                loss='categorical_crossentropy',  #그리고 categorical_crossentropy loss를 사용하였으며\n",
        "                metrics=['accuracy'])  #accuracy를 사용하였습니다."
      ],
      "execution_count": null,
      "outputs": []
    },
    {
      "cell_type": "markdown",
      "metadata": {
        "id": "xsEPqN2vn30s"
      },
      "source": [
        "**<Listing 2.3 The compilation step>**\n",
        "- **optimizer** : 들어오는 데이터랑 Loss function에 기반해서 Network parameter를 업데이트 해주게 됩니다.\n",
        "- **Loss funtion** : Network의 performance를 measure해 줍니다.\n",
        "- **Metrics** : training이랑 testing할 때, 성능을 monitoring하는 measure입니다."
      ]
    },
    {
      "cell_type": "markdown",
      "metadata": {
        "id": "KkbKhjImlRuC"
      },
      "source": [
        "\n",
        "Before training, we will preprocess our data by reshaping it into the shape that the network expects, and scaling it so that all values are in \n",
        "the `[0, 1]` interval. Previously, our training images for instance were stored in an array of shape `(60000, 28, 28)` of type `uint8` with \n",
        "values in the `[0, 255]` interval. We transform it into a `float32` array of shape `(60000, 28 * 28)` with values between 0 and 1."
      ]
    },
    {
      "cell_type": "code",
      "metadata": {
        "colab": {
          "base_uri": "https://localhost:8080/"
        },
        "id": "WFOely_CF_O-",
        "outputId": "dee250c5-2db3-4e61-ba58-31a8a65ca6ac"
      },
      "source": [
        "import numpy as np\n",
        "np.max(train_images)   #train_images가 0에서 255의 값이 있으며, 여기에서는 max를 해주어서 255가 나오게 됩니다."
      ],
      "execution_count": null,
      "outputs": [
        {
          "output_type": "execute_result",
          "data": {
            "text/plain": [
              "255"
            ]
          },
          "metadata": {
            "tags": []
          },
          "execution_count": 16
        }
      ]
    },
    {
      "cell_type": "markdown",
      "metadata": {
        "id": "o1zVWSrrz3cM"
      },
      "source": [
        "- **np.max(train_images)** : train_images가 0에서 255의 값이 있으며, 여기에서는 max를 해주어서 255가 나오게 됩니다."
      ]
    },
    {
      "cell_type": "code",
      "metadata": {
        "colab": {
          "base_uri": "https://localhost:8080/"
        },
        "id": "-u_aQaAZGSsg",
        "outputId": "82a9014e-2469-4702-a958-deac7fdd9d03"
      },
      "source": [
        "train_images.shape    #train_images.shape을 해주게 되면, 60000개와 28x28이 생기게 됩니다."
      ],
      "execution_count": null,
      "outputs": [
        {
          "output_type": "execute_result",
          "data": {
            "text/plain": [
              "(60000, 28, 28)"
            ]
          },
          "metadata": {
            "tags": []
          },
          "execution_count": 17
        }
      ]
    },
    {
      "cell_type": "markdown",
      "metadata": {
        "id": "i8hWl-_e0DHj"
      },
      "source": [
        "- **train_images.shape** : 각 차원의 수를 알 수 있으며, 현재 train_images에는 60000개와 28x28이 생기게 됩니다."
      ]
    },
    {
      "cell_type": "code",
      "metadata": {
        "id": "Pu3kPe5VlRuC"
      },
      "source": [
        "train_images = train_images.reshape((60000, 28 * 28))\n",
        "train_images = train_images.astype('float32') / 255\n",
        "\n",
        "test_images = test_images.reshape((10000, 28 * 28))\n",
        "test_images = test_images.astype('float32') / 255"
      ],
      "execution_count": null,
      "outputs": []
    },
    {
      "cell_type": "markdown",
      "metadata": {
        "id": "h0VvnRWTuqNd"
      },
      "source": [
        "**<Listing 2.4 Preparing the image data>**\n",
        "- train data와 test data를 255로 나누어서 0에서 1의 값이 되도록 만들어 줍니다. \n",
        "- 그리고 **astype**을 사용하여 integer를 float32로 해서 소수점이 나오는 형태로 32비트로 저장을 해줍니다."
      ]
    },
    {
      "cell_type": "code",
      "metadata": {
        "colab": {
          "base_uri": "https://localhost:8080/"
        },
        "id": "v-LCnX-7GktU",
        "outputId": "14449478-81f1-4d94-d82d-8bd7ed298140"
      },
      "source": [
        "import numpy as np\n",
        "np.max(train_images)   #바로 위의 코드에서 255로 나누었기 때문에, train_images의 max가 1의 값으로 바뀌게 됩니다."
      ],
      "execution_count": null,
      "outputs": [
        {
          "output_type": "execute_result",
          "data": {
            "text/plain": [
              "1.0"
            ]
          },
          "metadata": {
            "tags": []
          },
          "execution_count": 19
        }
      ]
    },
    {
      "cell_type": "markdown",
      "metadata": {
        "id": "Rm_lQWwN0iQh"
      },
      "source": [
        "- **np.max(train_images)** : 바로 위의 코드에서 255로 나누었기 때문에, train_images의 max가 1의 값으로 바뀌게 됩니다."
      ]
    },
    {
      "cell_type": "code",
      "metadata": {
        "colab": {
          "base_uri": "https://localhost:8080/"
        },
        "id": "JwPb0ZzGGnqe",
        "outputId": "0edbf0de-732e-4fc3-8329-a0ffaa679ac7"
      },
      "source": [
        "train_images.shape   #그리고 여기에서도 train_images.reshape을 해주었기 때문에 28x28에서 784차원으로 바뀌게 됩니다."
      ],
      "execution_count": null,
      "outputs": [
        {
          "output_type": "execute_result",
          "data": {
            "text/plain": [
              "(60000, 784)"
            ]
          },
          "metadata": {
            "tags": []
          },
          "execution_count": 20
        }
      ]
    },
    {
      "cell_type": "markdown",
      "metadata": {
        "id": "inCBJnSn02XL"
      },
      "source": [
        "- **train_images.shape** : 그리고 여기에서도 train_images.reshape을 해주었기 때문에 28x28에서 784차원으로 바뀌게 됩니다."
      ]
    },
    {
      "cell_type": "markdown",
      "metadata": {
        "id": "S4l6bb62lRuC"
      },
      "source": [
        "We also need to categorically encode the labels, a step which we explain in chapter 3:"
      ]
    },
    {
      "cell_type": "code",
      "metadata": {
        "colab": {
          "base_uri": "https://localhost:8080/"
        },
        "id": "7EtAVAZIHfko",
        "outputId": "1b4d2baf-a1a9-4de9-e179-c5404233f825"
      },
      "source": [
        "train_labels   #train_labels를 하게 되면 0에서 9까지의 숫자가 됩니다."
      ],
      "execution_count": null,
      "outputs": [
        {
          "output_type": "execute_result",
          "data": {
            "text/plain": [
              "array([5, 0, 4, ..., 5, 6, 8], dtype=uint8)"
            ]
          },
          "metadata": {
            "tags": []
          },
          "execution_count": 21
        }
      ]
    },
    {
      "cell_type": "markdown",
      "metadata": {
        "id": "LlT5u1iy0_YP"
      },
      "source": [
        "- **train_labels** : train_labels를 하게 되면 0에서 9까지의 숫자가 됩니다."
      ]
    },
    {
      "cell_type": "code",
      "metadata": {
        "id": "Wza5VqudlRuC"
      },
      "source": [
        "from tensorflow.keras.utils import to_categorical\n",
        "\n",
        "train_labels = to_categorical(train_labels)\n",
        "test_labels = to_categorical(test_labels)"
      ],
      "execution_count": null,
      "outputs": []
    },
    {
      "cell_type": "markdown",
      "metadata": {
        "id": "vkrFvBwQxI6X"
      },
      "source": [
        "**<Listing 2.5 Preparing the labels>**\n",
        "- 앞에서 test와 train을 0~9까지 정해줄 때, 그걸 **categorical encording**해주는 것입니다."
      ]
    },
    {
      "cell_type": "code",
      "metadata": {
        "colab": {
          "base_uri": "https://localhost:8080/"
        },
        "id": "-RfXeY3lH7pk",
        "outputId": "f1b3be8a-2e7b-46a6-af3f-800b275d8b1a"
      },
      "source": [
        "train_labels  #위의 categorical을 실행해 주게 되면, 5가 0으로 바뀌고, 0은 1로 바뀌고, 4는 0으로 바뀌는 것을 알 수 있다. "
      ],
      "execution_count": null,
      "outputs": [
        {
          "output_type": "execute_result",
          "data": {
            "text/plain": [
              "array([[0., 0., 0., ..., 0., 0., 0.],\n",
              "       [1., 0., 0., ..., 0., 0., 0.],\n",
              "       [0., 0., 0., ..., 0., 0., 0.],\n",
              "       ...,\n",
              "       [0., 0., 0., ..., 0., 0., 0.],\n",
              "       [0., 0., 0., ..., 0., 0., 0.],\n",
              "       [0., 0., 0., ..., 0., 1., 0.]], dtype=float32)"
            ]
          },
          "metadata": {
            "tags": []
          },
          "execution_count": 23
        }
      ]
    },
    {
      "cell_type": "markdown",
      "metadata": {
        "id": "IghmVM5K1LC7"
      },
      "source": [
        "- 위의 코드에서 **categorical**을 실행해 주게 되면서, train_labels하게 되면 5가 0으로 바뀌고, 0은 1로 바뀌고, 4는 0으로 바뀌는 것을 알 수 있습니다."
      ]
    },
    {
      "cell_type": "markdown",
      "metadata": {
        "id": "YSKz2q7nlRuC"
      },
      "source": [
        "We are now ready to train our network, which in Keras is done via a call to the `fit` method of the network: \n",
        "we \"fit\" the model to its training data."
      ]
    },
    {
      "cell_type": "code",
      "metadata": {
        "id": "joR7ZSGzlRuD",
        "colab": {
          "base_uri": "https://localhost:8080/"
        },
        "outputId": "ddfa459b-e828-45d4-c6c5-7b3c0ef8bf1d"
      },
      "source": [
        "network.fit(train_images, train_labels, epochs=5, batch_size=128)"
      ],
      "execution_count": null,
      "outputs": [
        {
          "output_type": "stream",
          "text": [
            "Epoch 1/5\n",
            "469/469 [==============================] - 5s 10ms/step - loss: 0.4237 - accuracy: 0.8763\n",
            "Epoch 2/5\n",
            "469/469 [==============================] - 5s 10ms/step - loss: 0.1063 - accuracy: 0.9701\n",
            "Epoch 3/5\n",
            "469/469 [==============================] - 5s 10ms/step - loss: 0.0680 - accuracy: 0.9797\n",
            "Epoch 4/5\n",
            "469/469 [==============================] - 5s 10ms/step - loss: 0.0476 - accuracy: 0.9867\n",
            "Epoch 5/5\n",
            "469/469 [==============================] - 5s 10ms/step - loss: 0.0340 - accuracy: 0.9904\n"
          ],
          "name": "stdout"
        },
        {
          "output_type": "execute_result",
          "data": {
            "text/plain": [
              "<tensorflow.python.keras.callbacks.History at 0x7fa3920eaf50>"
            ]
          },
          "metadata": {
            "tags": []
          },
          "execution_count": 24
        }
      ]
    },
    {
      "cell_type": "markdown",
      "metadata": {
        "id": "7LaH84H5EhOv"
      },
      "source": [
        "- **network.fit**을 사용해서 training이 5000개가 있다고 생각한다면 이 5000개를 한번에 쓰지 않고 128개씩 쓰면서 parametor들을 업데이트 시켜나가는 것입니다. 그리고 epochs를 사용해서 전체를 5번 돌려주겠다는 의미입니다."
      ]
    },
    {
      "cell_type": "markdown",
      "metadata": {
        "id": "-g0pi3X2lRuD"
      },
      "source": [
        "Two quantities are being displayed during training: the \"loss\" of the network over the training data, and the accuracy of the network over \n",
        "the training data.\n",
        "\n",
        "We quickly reach an accuracy of 0.989 (i.e. 98.9%) on the training data. Now let's check that our model performs well on the test set too:"
      ]
    },
    {
      "cell_type": "code",
      "metadata": {
        "id": "jJrojdejlRuD",
        "colab": {
          "base_uri": "https://localhost:8080/"
        },
        "outputId": "007d3d88-72cf-4f92-e7ff-f647078869bc"
      },
      "source": [
        "test_loss, test_acc = network.evaluate(test_images, test_labels)"
      ],
      "execution_count": null,
      "outputs": [
        {
          "output_type": "stream",
          "text": [
            "313/313 [==============================] - 1s 2ms/step - loss: 0.0691 - accuracy: 0.9797\n"
          ],
          "name": "stdout"
        }
      ]
    },
    {
      "cell_type": "markdown",
      "metadata": {
        "id": "K3CxeM-ZxVXH"
      },
      "source": [
        "- **evaluate**를 사용하여 tes_loss와 test_acc를 계산해줍니다."
      ]
    },
    {
      "cell_type": "code",
      "metadata": {
        "id": "c8XkOyJolRuD",
        "colab": {
          "base_uri": "https://localhost:8080/"
        },
        "outputId": "951b2fda-8fb4-4ec4-a74c-74de83708edf"
      },
      "source": [
        "print('test_acc:', test_acc)"
      ],
      "execution_count": null,
      "outputs": [
        {
          "output_type": "stream",
          "text": [
            "test_acc: 0.9797000288963318\n"
          ],
          "name": "stdout"
        }
      ]
    },
    {
      "cell_type": "markdown",
      "metadata": {
        "id": "7RPMSnlwyGAE"
      },
      "source": [
        "- **test_acc**를 사용하여 test의 accuracy의 결과를 print를 통해서 출력해 줍니다.\n",
        "- print 결과 97%의 accuracy를 가지고 있는 것을 알 수 있습니다."
      ]
    },
    {
      "cell_type": "markdown",
      "metadata": {
        "id": "ldboj-MAlRuD"
      },
      "source": [
        "\n",
        "Our test set accuracy turns out to be 97.8% -- that's quite a bit lower than the training set accuracy. \n",
        "This gap between training accuracy and test accuracy is an example of \"overfitting\", \n",
        "the fact that machine learning models tend to perform worse on new data than on their training data. \n",
        "Overfitting will be a central topic in chapter 3.\n",
        "\n",
        "This concludes our very first example -- you just saw how we could build and a train a neural network to classify handwritten digits, in \n",
        "less than 20 lines of Python code. In the next chapter, we will go in detail over every moving piece we just previewed, and clarify what is really \n",
        "going on behind the scenes. You will learn about \"tensors\", the data-storing objects going into the network, about tensor operations, which \n",
        "layers are made of, and about gradient descent, which allows our network to learn from its training examples."
      ]
    },
    {
      "cell_type": "markdown",
      "metadata": {
        "id": "eCMyYmfAx_ai"
      },
      "source": [
        "**<Tensor에 대한 예>**"
      ]
    },
    {
      "cell_type": "code",
      "metadata": {
        "colab": {
          "base_uri": "https://localhost:8080/"
        },
        "id": "9-CLPWwTyIzY",
        "outputId": "79b84d12-104d-4af5-ee6b-4f17f41890f9"
      },
      "source": [
        "#0D tensors(Scalars)\n",
        "import numpy as np \n",
        "x = np.array(12)\n",
        "x"
      ],
      "execution_count": null,
      "outputs": [
        {
          "output_type": "execute_result",
          "data": {
            "text/plain": [
              "array(12)"
            ]
          },
          "metadata": {
            "tags": []
          },
          "execution_count": 27
        }
      ]
    },
    {
      "cell_type": "code",
      "metadata": {
        "colab": {
          "base_uri": "https://localhost:8080/"
        },
        "id": "7l9FeNx7y-6w",
        "outputId": "c69d79dc-d529-4d56-81b3-b33c613f94cd"
      },
      "source": [
        "x.ndim  #ndim을 사용해서 차원의 수를 알 수 있습니다. 그래서 차원이 1차원이라는 것을 알 수 있습니다."
      ],
      "execution_count": null,
      "outputs": [
        {
          "output_type": "execute_result",
          "data": {
            "text/plain": [
              "0"
            ]
          },
          "metadata": {
            "tags": []
          },
          "execution_count": 28
        }
      ]
    },
    {
      "cell_type": "code",
      "metadata": {
        "colab": {
          "base_uri": "https://localhost:8080/"
        },
        "id": "tgVVUr4DzKk8",
        "outputId": "ea3a4e8e-76bc-4cfd-f590-51405e6d729c"
      },
      "source": [
        "#1D tensors(Vectors)\n",
        "import numpy as np\n",
        "x = np.array([12,3,6,14])\n",
        "x"
      ],
      "execution_count": null,
      "outputs": [
        {
          "output_type": "execute_result",
          "data": {
            "text/plain": [
              "array([12,  3,  6, 14])"
            ]
          },
          "metadata": {
            "tags": []
          },
          "execution_count": 29
        }
      ]
    },
    {
      "cell_type": "code",
      "metadata": {
        "colab": {
          "base_uri": "https://localhost:8080/"
        },
        "id": "61t_m0fBzY3l",
        "outputId": "7e0319ce-bc3b-42e8-d33b-a1c5e39961a7"
      },
      "source": [
        "x.ndim  #ndim을 사용해서 차원의 수를 알 수 있습니다. 그래서 차원이 1차원이라는 것을 알 수 있습니다."
      ],
      "execution_count": null,
      "outputs": [
        {
          "output_type": "execute_result",
          "data": {
            "text/plain": [
              "1"
            ]
          },
          "metadata": {
            "tags": []
          },
          "execution_count": 30
        }
      ]
    },
    {
      "cell_type": "code",
      "metadata": {
        "colab": {
          "base_uri": "https://localhost:8080/"
        },
        "id": "KCqtI8YhzqCf",
        "outputId": "f8fa7c43-a480-4acf-df4a-da869f87180e"
      },
      "source": [
        "#2D tensors(Matrics)\n",
        "import numpy as np\n",
        "x = np.array([[5,78,2,34,0],[6,79,3,35,1],[7,80,4,36,2]])\n",
        "x"
      ],
      "execution_count": null,
      "outputs": [
        {
          "output_type": "execute_result",
          "data": {
            "text/plain": [
              "array([[ 5, 78,  2, 34,  0],\n",
              "       [ 6, 79,  3, 35,  1],\n",
              "       [ 7, 80,  4, 36,  2]])"
            ]
          },
          "metadata": {
            "tags": []
          },
          "execution_count": 31
        }
      ]
    },
    {
      "cell_type": "code",
      "metadata": {
        "colab": {
          "base_uri": "https://localhost:8080/"
        },
        "id": "bQXF6h00z_XH",
        "outputId": "d3e332ce-537d-4db6-e671-059f87f1b60b"
      },
      "source": [
        "x.ndim   #ndim을 사용해서 차원의 수를 알 수 있습니다. 그래서 차원이 2차원이라는 것을 알 수 있습니다."
      ],
      "execution_count": null,
      "outputs": [
        {
          "output_type": "execute_result",
          "data": {
            "text/plain": [
              "2"
            ]
          },
          "metadata": {
            "tags": []
          },
          "execution_count": 32
        }
      ]
    },
    {
      "cell_type": "code",
      "metadata": {
        "colab": {
          "base_uri": "https://localhost:8080/"
        },
        "id": "0SPJSr2b1aij",
        "outputId": "9bbc4cf5-d79c-44bd-eaeb-6e2dd7c626c3"
      },
      "source": [
        "#3D tensors and higher-dimensional tensors\n",
        "import numpy as np\n",
        "x = np.array([[[5,78,2,34,0],[6,79,3,35,1],[7,80,4,36,2]],[[5,78,2,34,0],[6,79,3,35,1],[7,80,4,36,2]],[[5,78,2,34,0],[6,79,3,35,1],[7,80,4,36,2]]])\n",
        "x.ndim  #ndim을 사용해서 차원의 수를 알 수 있습니다. 그래서 차원이 3차원이라는 것을 알 수 있습니다."
      ],
      "execution_count": null,
      "outputs": [
        {
          "output_type": "execute_result",
          "data": {
            "text/plain": [
              "3"
            ]
          },
          "metadata": {
            "tags": []
          },
          "execution_count": 33
        }
      ]
    },
    {
      "cell_type": "markdown",
      "metadata": {
        "id": "Ae2Z766o5xuq"
      },
      "source": [
        "**<Key attributes for tensors 예>**"
      ]
    },
    {
      "cell_type": "code",
      "metadata": {
        "id": "ECK9V6PY54Qw"
      },
      "source": [
        "from tensorflow.keras.datasets import mnist\n",
        "(train_images, train_labels),(test_images,test_labels) = mnist.load_data()   #mnist.load_data() <- 이 형식으로 해서 데이터를 읽어 줍니다."
      ],
      "execution_count": null,
      "outputs": []
    },
    {
      "cell_type": "code",
      "metadata": {
        "colab": {
          "base_uri": "https://localhost:8080/"
        },
        "id": "-c1GZ0Lr6NGL",
        "outputId": "92825774-6ba4-4ce6-c43c-d7d449377fa8"
      },
      "source": [
        "print(train_images.ndim)   #ndim을 사용해서 차원의 수를 확인해 줍니다."
      ],
      "execution_count": null,
      "outputs": [
        {
          "output_type": "stream",
          "text": [
            "3\n"
          ],
          "name": "stdout"
        }
      ]
    },
    {
      "cell_type": "code",
      "metadata": {
        "colab": {
          "base_uri": "https://localhost:8080/"
        },
        "id": "0M34DHov6fu5",
        "outputId": "d9a56622-6d85-4d34-d73a-12748bcab3e9"
      },
      "source": [
        "print(train_images.shape)  #shape을 사용해서 각 차원 별로 몇개씩 있는지 알 수 있습니다."
      ],
      "execution_count": null,
      "outputs": [
        {
          "output_type": "stream",
          "text": [
            "(60000, 28, 28)\n"
          ],
          "name": "stdout"
        }
      ]
    },
    {
      "cell_type": "code",
      "metadata": {
        "colab": {
          "base_uri": "https://localhost:8080/"
        },
        "id": "917mNY_a6spu",
        "outputId": "96c8d8b4-13de-4363-81e6-6a01bafcd6f1"
      },
      "source": [
        "print(train_images.dtype)  #dtype을 사용해서 integer라는 것을 알 수 있습니다."
      ],
      "execution_count": null,
      "outputs": [
        {
          "output_type": "stream",
          "text": [
            "uint8\n"
          ],
          "name": "stdout"
        }
      ]
    },
    {
      "cell_type": "markdown",
      "metadata": {
        "id": "FasxbUM28Em7"
      },
      "source": [
        "**< Displaying Digits >**\n"
      ]
    },
    {
      "cell_type": "code",
      "metadata": {
        "colab": {
          "base_uri": "https://localhost:8080/",
          "height": 265
        },
        "id": "jJ4qdYEa8D51",
        "outputId": "32528698-362a-4f0a-9b68-098dcde09d7d"
      },
      "source": [
        "digit = train_images[4]\n",
        "\n",
        "import matplotlib.pyplot as plt\n",
        "plt.imshow(digit, cmap=plt.cm.binary)   #matplotlib을 간단하게 plt로 바꾸어주고 plt.show를 사용하여 이미지를 출력해 줍니다.\n",
        "plt.show()"
      ],
      "execution_count": null,
      "outputs": [
        {
          "output_type": "display_data",
          "data": {
            "image/png": "[encoded data removed]",
            "text/plain": [
              "<Figure size 432x288 with 1 Axes>"
            ]
          },
          "metadata": {
            "tags": [],
            "needs_background": "light"
          }
        }
      ]
    },
    {
      "cell_type": "code",
      "metadata": {
        "colab": {
          "base_uri": "https://localhost:8080/",
          "height": 265
        },
        "id": "jEl4wuenCqJV",
        "outputId": "e8bc8f8f-2644-4ae8-d82d-4a4c0b5810d9"
      },
      "source": [
        "my_slice = train_images[2,:,:]    #이 3번째 거를 그냥 출력했을 때의 결과 입니다.\n",
        "plt.imshow(my_slice, cmap=plt.cm.binary)\n",
        "plt.show()"
      ],
      "execution_count": null,
      "outputs": [
        {
          "output_type": "display_data",
          "data": {
            "image/png": "[encoded data removed]",
            "text/plain": [
              "<Figure size 432x288 with 1 Axes>"
            ]
          },
          "metadata": {
            "tags": [],
            "needs_background": "light"
          }
        }
      ]
    },
    {
      "cell_type": "markdown",
      "metadata": {
        "id": "6SJ9LYxP_cTv"
      },
      "source": [
        "**< Tensor slicing >**"
      ]
    },
    {
      "cell_type": "code",
      "metadata": {
        "colab": {
          "base_uri": "https://localhost:8080/"
        },
        "id": "otSH_Wjs_b7R",
        "outputId": "b83ce1b7-37f4-47c2-9dc0-bfb4062bb03c"
      },
      "source": [
        "my_slice = train_images[10:100]   #처음 10번째 부터 100번째 꺼 까지를 잘라줍니다.\n",
        "print(my_slice.shape)     "
      ],
      "execution_count": null,
      "outputs": [
        {
          "output_type": "stream",
          "text": [
            "(90, 28, 28)\n"
          ],
          "name": "stdout"
        }
      ]
    },
    {
      "cell_type": "code",
      "metadata": {
        "colab": {
          "base_uri": "https://localhost:8080/"
        },
        "id": "2zFzCfOh_yjh",
        "outputId": "39f5f72b-afef-4d00-c721-4b7356756c6d"
      },
      "source": [
        "my_slice = train_images[10:100,:,:]   #뒤의 차원을 비워두고 차원을 다 써주는 경우입니다.\n",
        "my_slice.shape"
      ],
      "execution_count": null,
      "outputs": [
        {
          "output_type": "execute_result",
          "data": {
            "text/plain": [
              "(90, 28, 28)"
            ]
          },
          "metadata": {
            "tags": []
          },
          "execution_count": 65
        }
      ]
    },
    {
      "cell_type": "code",
      "metadata": {
        "colab": {
          "base_uri": "https://localhost:8080/"
        },
        "id": "Dg75mJcoABVA",
        "outputId": "6b40b5ef-d632-4852-8e4c-8c6ad308f703"
      },
      "source": [
        "my_slice = train_images[10:100,0:28,0:28]  #28과 28을 모두 다 써주기 때문에 3가지 모두 같은 값이 나오는 것을 알 수 있습니다.\n",
        "my_slice.shape"
      ],
      "execution_count": null,
      "outputs": [
        {
          "output_type": "execute_result",
          "data": {
            "text/plain": [
              "(90, 28, 28)"
            ]
          },
          "metadata": {
            "tags": []
          },
          "execution_count": 66
        }
      ]
    },
    {
      "cell_type": "code",
      "metadata": {
        "colab": {
          "base_uri": "https://localhost:8080/",
          "height": 265
        },
        "id": "3F2BNVZeAgn8",
        "outputId": "98b365b6-5d1c-4633-ca7b-097f7fee5b08"
      },
      "source": [
        "my_slice = train_images[2,14:,14:]  #3번째 거를 14, 14로 잘라서 출력했을 때 입니다.\n",
        "plt.imshow(my_slice, cmap=plt.cm.binary)\n",
        "plt.show()"
      ],
      "execution_count": null,
      "outputs": [
        {
          "output_type": "display_data",
          "data": {
            "image/png": "[encoded data removed]",
            "text/plain": [
              "<Figure size 432x288 with 1 Axes>"
            ]
          },
          "metadata": {
            "tags": [],
            "needs_background": "light"
          }
        }
      ]
    },
    {
      "cell_type": "code",
      "metadata": {
        "colab": {
          "base_uri": "https://localhost:8080/",
          "height": 265
        },
        "id": "X0OdMGupA-Nw",
        "outputId": "04ac5331-f505-4ab7-a8d5-641334a58487"
      },
      "source": [
        "my_slice = train_images[2,7:-7,7:-7]  #7하고 -7을 해줘서 가운데만 자르는 결과를 얻을 수 있습니다.\n",
        "plt.imshow(my_slice, cmap=plt.cm.binary)\n",
        "plt.show()"
      ],
      "execution_count": null,
      "outputs": [
        {
          "output_type": "display_data",
          "data": {
            "image/png": "[encoded data removed]",
            "text/plain": [
              "<Figure size 432x288 with 1 Axes>"
            ]
          },
          "metadata": {
            "tags": [],
            "needs_background": "light"
          }
        }
      ]
    },
    {
      "cell_type": "code",
      "metadata": {
        "colab": {
          "base_uri": "https://localhost:8080/",
          "height": 265
        },
        "id": "onUmKVX7DG1L",
        "outputId": "6c6ea1d1-a70c-444f-a861-c92be799bc76"
      },
      "source": [
        "my_slice = train_images[2,2:-2,2:-2]  #2하고 -2을 해줘서 앞부분만 살짝씩 잘라주는 결과를 얻을 수 있습니다.\n",
        "plt.imshow(my_slice, cmap=plt.cm.binary)\n",
        "plt.show()"
      ],
      "execution_count": null,
      "outputs": [
        {
          "output_type": "display_data",
          "data": {
            "image/png": "[encoded data removed]",
            "text/plain": [
              "<Figure size 432x288 with 1 Axes>"
            ]
          },
          "metadata": {
            "tags": [],
            "needs_background": "light"
          }
        }
      ]
    },
    {
      "cell_type": "markdown",
      "metadata": {
        "id": "N4ULRGWpH3BD"
      },
      "source": [
        "**< Batches >**"
      ]
    },
    {
      "cell_type": "code",
      "metadata": {
        "id": "sGH1Xc6FH9iW"
      },
      "source": [
        "#1th batch\n",
        "batch = train_images[:128]  #처음부터 128까지 잘라낼 수 있습니다."
      ],
      "execution_count": null,
      "outputs": []
    },
    {
      "cell_type": "code",
      "metadata": {
        "id": "Y3NYlJ6GIXQ9"
      },
      "source": [
        "#2th batch\n",
        "batch = train_images[128:256]  #128부터 256까지 잘라낼 수 있습니다."
      ],
      "execution_count": null,
      "outputs": []
    },
    {
      "cell_type": "markdown",
      "metadata": {
        "id": "bSW31CJfroUs"
      },
      "source": [
        "**<relu and addition에 대한 예제>**"
      ]
    },
    {
      "cell_type": "code",
      "metadata": {
        "id": "-0iWvp2-rn8d"
      },
      "source": [
        "def naive_relu(x):\n",
        "  assert len(x.shape) == 2, 'x.ndim() must 2' #x.ndim() must 2 이렇게 되지 않으면 에러구문이 나오게 하는것을 넣어준 것 입니다.\n",
        "\n",
        "  x == x.copy()   #이걸 안해주게 되면 원본의 x값이 변하기 때문에 x = x.copy()를 해줘서 원본 x의 값이 바뀌지 않게 해주는 것입니다.\n",
        "  for i in range(x.shape[0]):\n",
        "    for j in range(x.shape[1]):\n",
        "      x[i, j] = max(x[i,j],0)   #for구문을 돌려주고 여기에서는 0보다 작은 값들은 0을로 바꾸어 주는 역할을 해주고 있습니다.\n",
        "\n",
        "  return x"
      ],
      "execution_count": null,
      "outputs": []
    },
    {
      "cell_type": "code",
      "metadata": {
        "colab": {
          "base_uri": "https://localhost:8080/"
        },
        "id": "NHRHFBdJseqE",
        "outputId": "81c2a9fc-9cfe-44d3-84af-7a3d943c4a84"
      },
      "source": [
        "x   "
      ],
      "execution_count": null,
      "outputs": [
        {
          "output_type": "execute_result",
          "data": {
            "text/plain": [
              "array([[[ 5, 78,  2, 34,  0],\n",
              "        [ 6, 79,  3, 35,  1],\n",
              "        [ 7, 80,  4, 36,  2]],\n",
              "\n",
              "       [[ 5, 78,  2, 34,  0],\n",
              "        [ 6, 79,  3, 35,  1],\n",
              "        [ 7, 80,  4, 36,  2]],\n",
              "\n",
              "       [[ 5, 78,  2, 34,  0],\n",
              "        [ 6, 79,  3, 35,  1],\n",
              "        [ 7, 80,  4, 36,  2]]])"
            ]
          },
          "metadata": {
            "tags": []
          },
          "execution_count": 39
        }
      ]
    },
    {
      "cell_type": "markdown",
      "metadata": {
        "id": "dDh_E0xzZ7AG"
      },
      "source": [
        "**<Broadcasting에 대한 예제>**\n"
      ]
    },
    {
      "cell_type": "code",
      "metadata": {
        "id": "qIwmZV7HZ57c"
      },
      "source": [
        "import numpy as np\n",
        "x = np.array([1,2,3,4,5])\n",
        "y = np.array([[1,1,1,1,1],[1,1,1,1,1]])"
      ],
      "execution_count": null,
      "outputs": []
    },
    {
      "cell_type": "code",
      "metadata": {
        "colab": {
          "base_uri": "https://localhost:8080/"
        },
        "id": "lKIQoSJ9ab4J",
        "outputId": "58b82dfd-4143-4c5d-884c-e54858680cc6"
      },
      "source": [
        "x.shape   #shape을 사용하여 x의 차원을 확인해 줍니다. 그래서 x는 5차원이라는 것을 알 수 있습니다."
      ],
      "execution_count": null,
      "outputs": [
        {
          "output_type": "execute_result",
          "data": {
            "text/plain": [
              "(5,)"
            ]
          },
          "metadata": {
            "tags": []
          },
          "execution_count": 41
        }
      ]
    },
    {
      "cell_type": "code",
      "metadata": {
        "colab": {
          "base_uri": "https://localhost:8080/"
        },
        "id": "oqql5SVqafJ8",
        "outputId": "9bedce5a-4570-4293-850c-ab6fdd7b7dae"
      },
      "source": [
        "y.shape  #shape을 사용하여 y의 차원을 확인해 줍니다. 그래서 y는 2콤마 5라는 것을 알 수 있습니다."
      ],
      "execution_count": null,
      "outputs": [
        {
          "output_type": "execute_result",
          "data": {
            "text/plain": [
              "(2, 5)"
            ]
          },
          "metadata": {
            "tags": []
          },
          "execution_count": 42
        }
      ]
    },
    {
      "cell_type": "code",
      "metadata": {
        "colab": {
          "base_uri": "https://localhost:8080/"
        },
        "id": "0ugoCabra70Z",
        "outputId": "3094c554-8c98-4782-90d9-07c1cc727293"
      },
      "source": [
        "x + y  #Broadcasting이 어떻게되는지 확인을 해줍니다. 그러면 x의 차원이 부족하기 때문에 x에서 Broadcasting을 해줘서 y의 차원과 같아지게 만들고 나서 x 와 y를 더해줍니다."
      ],
      "execution_count": null,
      "outputs": [
        {
          "output_type": "execute_result",
          "data": {
            "text/plain": [
              "array([[2, 3, 4, 5, 6],\n",
              "       [2, 3, 4, 5, 6]])"
            ]
          },
          "metadata": {
            "tags": []
          },
          "execution_count": 43
        }
      ]
    },
    {
      "cell_type": "markdown",
      "metadata": {
        "id": "FzOMaaq0liIO"
      },
      "source": [
        "**<Tensor reshaping에 대한 예제>** "
      ]
    },
    {
      "cell_type": "code",
      "metadata": {
        "id": "UIMjMhpQ9FPk"
      },
      "source": [
        "import numpy as np"
      ],
      "execution_count": null,
      "outputs": []
    },
    {
      "cell_type": "code",
      "metadata": {
        "id": "lTeoJTAy9PAy"
      },
      "source": [
        "x = np.array([[0.,1.],[2.,3.],[4.,5.]])"
      ],
      "execution_count": null,
      "outputs": []
    },
    {
      "cell_type": "code",
      "metadata": {
        "colab": {
          "base_uri": "https://localhost:8080/"
        },
        "id": "3yNtf47O9RK2",
        "outputId": "6c774036-7829-4e43-923a-cd7096ee6409"
      },
      "source": [
        "x    #그럼 x는 이렇게 정의가 됩니다."
      ],
      "execution_count": null,
      "outputs": [
        {
          "output_type": "execute_result",
          "data": {
            "text/plain": [
              "array([[0., 1.],\n",
              "       [2., 3.],\n",
              "       [4., 5.]])"
            ]
          },
          "metadata": {
            "tags": []
          },
          "execution_count": 46
        }
      ]
    },
    {
      "cell_type": "code",
      "metadata": {
        "colab": {
          "base_uri": "https://localhost:8080/"
        },
        "id": "63NHw0Ps9egA",
        "outputId": "ce8f079f-6678-40ff-8121-4ac7de40042a"
      },
      "source": [
        "x.shape  #그럼 x는 3콤마 2를 가지는 shape이라는 메트릭스가 됩니다."
      ],
      "execution_count": null,
      "outputs": [
        {
          "output_type": "execute_result",
          "data": {
            "text/plain": [
              "(3, 2)"
            ]
          },
          "metadata": {
            "tags": []
          },
          "execution_count": 47
        }
      ]
    },
    {
      "cell_type": "code",
      "metadata": {
        "colab": {
          "base_uri": "https://localhost:8080/"
        },
        "id": "GmUhU8jw9wJM",
        "outputId": "3c8555ce-c1ad-4de8-c8e2-700f409e9a95"
      },
      "source": [
        "x.reshape((6,1))   #resahpe을 하게 되면 0,1,2,3,4,5로 재배치가 됩니다."
      ],
      "execution_count": null,
      "outputs": [
        {
          "output_type": "execute_result",
          "data": {
            "text/plain": [
              "array([[0.],\n",
              "       [1.],\n",
              "       [2.],\n",
              "       [3.],\n",
              "       [4.],\n",
              "       [5.]])"
            ]
          },
          "metadata": {
            "tags": []
          },
          "execution_count": 48
        }
      ]
    },
    {
      "cell_type": "code",
      "metadata": {
        "colab": {
          "base_uri": "https://localhost:8080/"
        },
        "id": "mTluYfEb97L0",
        "outputId": "1739b27e-9df5-47e6-a021-5065c595890d"
      },
      "source": [
        "x.reshape((2,3))  #reshape을 하게 되면, (0.,1.,2.) (3.,4.,5.)으로 됩니다.  "
      ],
      "execution_count": null,
      "outputs": [
        {
          "output_type": "execute_result",
          "data": {
            "text/plain": [
              "array([[0., 1., 2.],\n",
              "       [3., 4., 5.]])"
            ]
          },
          "metadata": {
            "tags": []
          },
          "execution_count": 49
        }
      ]
    },
    {
      "cell_type": "code",
      "metadata": {
        "id": "4wfgUy5olgpg"
      },
      "source": [
        "x = x.reshape((6,1))  #reshape((6,1))을 하게 되면 6,1 매트릭트가 나오는 것을 알 수 있습니다."
      ],
      "execution_count": null,
      "outputs": []
    },
    {
      "cell_type": "code",
      "metadata": {
        "colab": {
          "base_uri": "https://localhost:8080/"
        },
        "id": "cLanx2tv841A",
        "outputId": "f977f310-5356-4dc0-e03c-ba1f714d5591"
      },
      "source": [
        "x  "
      ],
      "execution_count": null,
      "outputs": [
        {
          "output_type": "execute_result",
          "data": {
            "text/plain": [
              "array([[0.],\n",
              "       [1.],\n",
              "       [2.],\n",
              "       [3.],\n",
              "       [4.],\n",
              "       [5.]])"
            ]
          },
          "metadata": {
            "tags": []
          },
          "execution_count": 53
        }
      ]
    },
    {
      "cell_type": "code",
      "metadata": {
        "id": "TXrjRwdU83EN"
      },
      "source": [
        "x = x.reshape((2,3))"
      ],
      "execution_count": null,
      "outputs": []
    },
    {
      "cell_type": "code",
      "metadata": {
        "colab": {
          "base_uri": "https://localhost:8080/"
        },
        "id": "MZzbWdwE9GgH",
        "outputId": "a15bec7d-4020-491c-97bb-fe3a22f40331"
      },
      "source": [
        "x    #reshape((2,3))을 하게 되면 2,3차원이 나오는 것을 알 수 있습니다."
      ],
      "execution_count": null,
      "outputs": [
        {
          "output_type": "execute_result",
          "data": {
            "text/plain": [
              "array([[0., 1., 2.],\n",
              "       [3., 4., 5.]])"
            ]
          },
          "metadata": {
            "tags": []
          },
          "execution_count": 55
        }
      ]
    },
    {
      "cell_type": "markdown",
      "metadata": {
        "id": "3MqZIlLF-qv0"
      },
      "source": [
        "**Reshape에 대한 예(Geometric interpretation of tensor operations)**\n"
      ]
    },
    {
      "cell_type": "code",
      "metadata": {
        "colab": {
          "base_uri": "https://localhost:8080/"
        },
        "id": "-BiRjE_H-6Tb",
        "outputId": "e6594a28-af49-4799-9985-1cf77b55bae7"
      },
      "source": [
        "import numpy as np\n",
        "x = np.array([[[1,2,3,4,5],[1,1,1,1,1]],[[1,1,1,1,1],[1,2,3,4,5]]])\n",
        "x.shape  #shape은 각 차원의 수를 알 수 있습니다."
      ],
      "execution_count": null,
      "outputs": [
        {
          "output_type": "execute_result",
          "data": {
            "text/plain": [
              "(2, 2, 5)"
            ]
          },
          "metadata": {
            "tags": []
          },
          "execution_count": 56
        }
      ]
    },
    {
      "cell_type": "code",
      "metadata": {
        "colab": {
          "base_uri": "https://localhost:8080/"
        },
        "id": "HI2Qm9HD_WYu",
        "outputId": "b1eedbb5-d0dd-4def-e455-7ea770a5aa9c"
      },
      "source": [
        "x.reshape(2,10)  #reshape(2,10)을 하게 되면 차원이 (2,10)이 되는 것을 알 수 있습니다."
      ],
      "execution_count": null,
      "outputs": [
        {
          "output_type": "execute_result",
          "data": {
            "text/plain": [
              "array([[1, 2, 3, 4, 5, 1, 1, 1, 1, 1],\n",
              "       [1, 1, 1, 1, 1, 1, 2, 3, 4, 5]])"
            ]
          },
          "metadata": {
            "tags": []
          },
          "execution_count": 57
        }
      ]
    },
    {
      "cell_type": "code",
      "metadata": {
        "colab": {
          "base_uri": "https://localhost:8080/"
        },
        "id": "wUtSP5LC_dpB",
        "outputId": "1bbe42d7-af0e-4743-f575-b3a9b3e194d3"
      },
      "source": [
        "x.reshape(4,5)   #reshape(4,5)을 하게 되면 차원이 (4,5)이 되는 것을 알 수 있습니다."
      ],
      "execution_count": null,
      "outputs": [
        {
          "output_type": "execute_result",
          "data": {
            "text/plain": [
              "array([[1, 2, 3, 4, 5],\n",
              "       [1, 1, 1, 1, 1],\n",
              "       [1, 1, 1, 1, 1],\n",
              "       [1, 2, 3, 4, 5]])"
            ]
          },
          "metadata": {
            "tags": []
          },
          "execution_count": 58
        }
      ]
    }
  ]
}