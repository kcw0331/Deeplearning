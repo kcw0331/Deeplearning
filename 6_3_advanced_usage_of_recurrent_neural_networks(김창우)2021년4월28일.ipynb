{
  "nbformat": 4,
  "nbformat_minor": 0,
  "metadata": {
    "colab": {
      "name": "6_3_advanced_usage_of_recurrent_neural_networks(김창우)2021년4월28일.ipynb",
      "provenance": [],
      "collapsed_sections": [
        "Y8tUsgONRBk-",
        "xh3rnpp4RBlA",
        "U3tOByfZRBlB",
        "uDuwz9OKRBlE",
        "vwDjvQ2VRBlF",
        "TkG18bc1RBlF",
        "RJDryiLCRBlG",
        "VPJwyN7ZRBlJ"
      ],
      "include_colab_link": true
    },
    "kernelspec": {
      "display_name": "Python 3",
      "language": "python",
      "name": "python3"
    },
    "language_info": {
      "codemirror_mode": {
        "name": "ipython",
        "version": 3
      },
      "file_extension": ".py",
      "mimetype": "text/x-python",
      "name": "python",
      "nbconvert_exporter": "python",
      "pygments_lexer": "ipython3",
      "version": "3.8.5"
    }
  },
  "cells": [
    {
      "cell_type": "markdown",
      "metadata": {
        "id": "view-in-github",
        "colab_type": "text"
      },
      "source": [
        "<a href=\"https://colab.research.google.com/github/kcw0331/Deeplearning/blob/main/6_3_advanced_usage_of_recurrent_neural_networks(%EA%B9%80%EC%B0%BD%EC%9A%B0)2021%EB%85%844%EC%9B%9428%EC%9D%BC.ipynb\" target=\"_parent\"><img src=\"https://colab.research.google.com/assets/colab-badge.svg\" alt=\"Open In Colab\"/></a>"
      ]
    },
    {
      "cell_type": "code",
      "metadata": {
        "id": "M3UMifQ1RBk0",
        "outputId": "4b52b983-3b7f-48d2-8958-df8ab555816e"
      },
      "source": [
        "import tensorflow\n",
        "tensorflow.keras.__version__"
      ],
      "execution_count": null,
      "outputs": [
        {
          "output_type": "execute_result",
          "data": {
            "text/plain": [
              "'2.4.0'"
            ]
          },
          "metadata": {
            "tags": []
          },
          "execution_count": 1
        }
      ]
    },
    {
      "cell_type": "markdown",
      "metadata": {
        "id": "vNq97M1LRBk6"
      },
      "source": [
        "# Advanced usage of recurrent neural networks\n",
        "\n",
        "This notebook contains the code samples found in Chapter 6, Section 3 of [Deep Learning with Python](https://www.manning.com/books/deep-learning-with-python?a_aid=keras&a_bid=76564dff). Note that the original text features far more content, in particular further explanations and figures: in this notebook, you will only find source code and related comments.\n",
        "\n",
        "---\n",
        "\n",
        "In this section, we will review three advanced techniques for improving the performance and generalization power of recurrent neural \n",
        "networks. By the end of the section, you will know most of what there is to know about using recurrent networks with Keras. We will \n",
        "demonstrate all three concepts on a weather forecasting problem, where we have access to a timeseries of data points coming from sensors \n",
        "installed on the roof of a building, such as temperature, air pressure, and humidity, which we use to predict what the temperature will be \n",
        "24 hours after the last data point collected. This is a fairly challenging problem that exemplifies many common difficulties encountered \n",
        "when working with timeseries.\n",
        "\n",
        "We will cover the following techniques:\n",
        "\n",
        "* *Recurrent dropout*, a specific, built-in way to use dropout to fight overfitting in recurrent layers.\n",
        "* *Stacking recurrent layers*, to increase the representational power of the network (at the cost of higher computational loads).\n",
        "* *Bidirectional recurrent layers*, which presents the same information to a recurrent network in different ways, increasing accuracy and \n",
        "mitigating forgetting issues."
      ]
    },
    {
      "cell_type": "markdown",
      "metadata": {
        "id": "TxI6j2sORBk7"
      },
      "source": [
        "## A temperature forecasting problem\n",
        "\n",
        "Until now, the only sequence data we have covered has been text data, for instance the IMDB dataset and the Reuters dataset. But sequence \n",
        "data is found in many more problems than just language processing. In all of our examples in this section, we will be playing with a weather \n",
        "timeseries dataset recorded at the Weather Station at the Max-Planck-Institute for Biogeochemistry in Jena, Germany: http://www.bgc-jena.mpg.de/wetter/.\n",
        "\n",
        "In this dataset, fourteen different quantities (such air temperature, atmospheric pressure, humidity, wind direction, etc.) are recorded \n",
        "every ten minutes, over several years. The original data goes back to 2003, but we limit ourselves to data from 2009-2016. This dataset is \n",
        "perfect for learning to work with numerical timeseries. We will use it to build a model that takes as input some data from the recent past (a \n",
        "few days worth of data points) and predicts the air temperature 24 hours in the future."
      ]
    },
    {
      "cell_type": "markdown",
      "metadata": {
        "id": "6Yj24jyJRBk7"
      },
      "source": [
        "Let's take a look at the data:"
      ]
    },
    {
      "cell_type": "code",
      "metadata": {
        "id": "U8kqzJ2ARBk7",
        "outputId": "14b24285-d229-46a0-edd2-881e794d226b"
      },
      "source": [
        "!gdown --id 1-sm1SThDT-PJQJA_egRpGSH-dOi7r6Tx"
      ],
      "execution_count": null,
      "outputs": [
        {
          "output_type": "stream",
          "text": [
            "'gdown'은(는) 내부 또는 외부 명령, 실행할 수 있는 프로그램, 또는\n",
            "배치 파일이 아닙니다.\n"
          ],
          "name": "stderr"
        }
      ]
    },
    {
      "cell_type": "code",
      "metadata": {
        "id": "B0jm5YXERBk8",
        "outputId": "bd3c3182-2f42-4ff9-bc27-d6623f10d792"
      },
      "source": [
        "import os\n",
        "\n",
        "data_dir = 'D:/대학원 자료/중앙대학교 대학원 자료/중앙대학교 수업/2021년 1학기 수업자료/파이썬을이용한딥러닝(대학원)/9주차/'\n",
        "fname = os.path.join(data_dir, 'jena_climate_2009_2016.csv')\n",
        "#fname = 'jena_climate_2009_2016.csv'\n",
        "\n",
        "\n",
        "f = open(fname)\n",
        "data = f.read()\n",
        "f.close()\n",
        "\n",
        "lines = data.split('\\n')\n",
        "header = lines[0].split(',')\n",
        "lines = lines[1:]\n",
        "\n",
        "print(header)  #print(header) 부분이 아래의 영어로 나오는 것을 볼 수 있다. \n",
        "print(len(lines))  #이거를 통해서 데이터 포인트 개수가 420451개가 있는 것을 알 수 있다. "
      ],
      "execution_count": null,
      "outputs": [
        {
          "output_type": "stream",
          "text": [
            "['\"Date Time\"', '\"p (mbar)\"', '\"T (degC)\"', '\"Tpot (K)\"', '\"Tdew (degC)\"', '\"rh (%)\"', '\"VPmax (mbar)\"', '\"VPact (mbar)\"', '\"VPdef (mbar)\"', '\"sh (g/kg)\"', '\"H2OC (mmol/mol)\"', '\"rho (g/m**3)\"', '\"wv (m/s)\"', '\"max. wv (m/s)\"', '\"wd (deg)\"']\n",
            "420451\n"
          ],
          "name": "stdout"
        }
      ]
    },
    {
      "cell_type": "markdown",
      "metadata": {
        "id": "_t9Z8Sp8RBk8"
      },
      "source": [
        "Let's convert all of these 420,551 lines of data into a Numpy array:"
      ]
    },
    {
      "cell_type": "code",
      "metadata": {
        "id": "lufEEUkrf8Az",
        "outputId": "03b6443a-de30-4aa4-828a-8516bfae2998"
      },
      "source": [
        "lines[:5]   #이렇게 lines의 정보가 있는데 시간정보는 필요가 없어서 2번째거부터 받아오게 된다."
      ],
      "execution_count": null,
      "outputs": [
        {
          "output_type": "execute_result",
          "data": {
            "text/plain": [
              "['01.01.2009 00:10:00,996.52,-8.02,265.40,-8.90,93.30,3.33,3.11,0.22,1.94,3.12,1307.75,1.03,1.75,152.30',\n",
              " '01.01.2009 00:20:00,996.57,-8.41,265.01,-9.28,93.40,3.23,3.02,0.21,1.89,3.03,1309.80,0.72,1.50,136.10',\n",
              " '01.01.2009 00:30:00,996.53,-8.51,264.91,-9.31,93.90,3.21,3.01,0.20,1.88,3.02,1310.24,0.19,0.63,171.60',\n",
              " '01.01.2009 00:40:00,996.51,-8.31,265.12,-9.07,94.20,3.26,3.07,0.19,1.92,3.08,1309.19,0.34,0.50,198.00',\n",
              " '01.01.2009 00:50:00,996.51,-8.27,265.15,-9.04,94.10,3.27,3.08,0.19,1.92,3.09,1309.00,0.32,0.63,214.30']"
            ]
          },
          "metadata": {
            "tags": []
          },
          "execution_count": 10
        }
      ]
    },
    {
      "cell_type": "code",
      "metadata": {
        "id": "y_eSX-h7RBk8"
      },
      "source": [
        "import numpy as np\n",
        "\n",
        "float_data = np.zeros((len(lines), len(header) - 1))\n",
        "for i, line in enumerate(lines):\n",
        "    values = [float(x) for x in line.split(',')[1:]]   #두번째거 부터 float(x)로 해가지고 저장된 values를 float_data에 넣겠다는 것이다. \n",
        "    float_data[i, :] = values"
      ],
      "execution_count": null,
      "outputs": []
    },
    {
      "cell_type": "code",
      "metadata": {
        "id": "KHaGBzqZf8A0",
        "outputId": "4a310a2a-b486-4d72-ba9e-f871b98958d1"
      },
      "source": [
        "[float(x) for x in line.split(',')[1:]] "
      ],
      "execution_count": null,
      "outputs": [
        {
          "output_type": "execute_result",
          "data": {
            "text/plain": [
              "[999.82,\n",
              " -4.82,\n",
              " 268.36,\n",
              " -8.42,\n",
              " 75.7,\n",
              " 4.27,\n",
              " 3.23,\n",
              " 1.04,\n",
              " 2.01,\n",
              " 3.23,\n",
              " 1296.38,\n",
              " 1.23,\n",
              " 1.96,\n",
              " 184.9]"
            ]
          },
          "metadata": {
            "tags": []
          },
          "execution_count": 14
        }
      ]
    },
    {
      "cell_type": "code",
      "metadata": {
        "id": "7ibV9CZlf8A0",
        "outputId": "5c1fe717-9080-448e-d5a5-5f582456e0a5"
      },
      "source": [
        "line.split(',')[1:]   #이거를 보면 앞에 시간 정보는 없어지고 결과가 출력되는 것을 볼 수 있다. "
      ],
      "execution_count": null,
      "outputs": [
        {
          "output_type": "execute_result",
          "data": {
            "text/plain": [
              "['999.82',\n",
              " '-4.82',\n",
              " '268.36',\n",
              " '-8.42',\n",
              " '75.70',\n",
              " '4.27',\n",
              " '3.23',\n",
              " '1.04',\n",
              " '2.01',\n",
              " '3.23',\n",
              " '1296.38',\n",
              " '1.23',\n",
              " '1.96',\n",
              " '184.90']"
            ]
          },
          "metadata": {
            "tags": []
          },
          "execution_count": 15
        }
      ]
    },
    {
      "cell_type": "code",
      "metadata": {
        "id": "f3cp_tBDf8A0",
        "outputId": "58614977-2048-4672-d433-ade200dd151c"
      },
      "source": [
        "line"
      ],
      "execution_count": null,
      "outputs": [
        {
          "output_type": "execute_result",
          "data": {
            "text/plain": [
              "'01.01.2017 00:00:00,999.82,-4.82,268.36,-8.42,75.70,4.27,3.23,1.04,2.01,3.23,1296.38,1.23,1.96,184.90'"
            ]
          },
          "metadata": {
            "tags": []
          },
          "execution_count": 13
        }
      ]
    },
    {
      "cell_type": "code",
      "metadata": {
        "id": "UM_r_OEzf8A1",
        "outputId": "eb14c68a-e9fb-440d-b97c-b8b62a58529a"
      },
      "source": [
        "values   #그래서 values가 어떻게 되는지를 보면 이런식으로 저장이 되는 것을 볼 수 있다. "
      ],
      "execution_count": null,
      "outputs": [
        {
          "output_type": "execute_result",
          "data": {
            "text/plain": [
              "[999.82,\n",
              " -4.82,\n",
              " 268.36,\n",
              " -8.42,\n",
              " 75.7,\n",
              " 4.27,\n",
              " 3.23,\n",
              " 1.04,\n",
              " 2.01,\n",
              " 3.23,\n",
              " 1296.38,\n",
              " 1.23,\n",
              " 1.96,\n",
              " 184.9]"
            ]
          },
          "metadata": {
            "tags": []
          },
          "execution_count": 11
        }
      ]
    },
    {
      "cell_type": "markdown",
      "metadata": {
        "id": "z_f-MUm5RBk8"
      },
      "source": [
        "For instance, here is the plot of temperature (in degrees Celsius) over time:"
      ]
    },
    {
      "cell_type": "markdown",
      "metadata": {
        "id": "gNoBpThof8A1"
      },
      "source": [
        "- 여기에서는 데이터를 plot해본다."
      ]
    },
    {
      "cell_type": "code",
      "metadata": {
        "id": "LlvrTpPZRBk9",
        "outputId": "1b44fb88-8331-4a31-ded1-13c5ce35ec3b"
      },
      "source": [
        "from matplotlib import pyplot as plt\n",
        "\n",
        "temp = float_data[:, 1]  # temperature (in degrees Celsius)  \n",
        "plt.plot(range(len(temp)), temp)  #전체 데이터 temp만 떼와서 plot하면 이런식으로 볼 수 있다. 아마도 8년치의 자료인것 같다고 말씀하심.\n",
        "plt.show()"
      ],
      "execution_count": null,
      "outputs": [
        {
          "output_type": "display_data",
          "data": {
            "image/png": "[encoded data removed]",
            "text/plain": [
              "<Figure size 432x288 with 1 Axes>"
            ]
          },
          "metadata": {
            "tags": [],
            "needs_background": "light"
          }
        }
      ]
    },
    {
      "cell_type": "markdown",
      "metadata": {
        "id": "4lmtyjmwRBk9"
      },
      "source": [
        "\n",
        "On this plot, you can clearly see the yearly periodicity of temperature.\n",
        "\n",
        "Here is a more narrow plot of the first ten days of temperature data (since the data is recorded every ten minutes, we get 144 data points \n",
        "per day):"
      ]
    },
    {
      "cell_type": "markdown",
      "metadata": {
        "id": "t-4qV5ajf8A2"
      },
      "source": [
        "- 여기에서 144 data point per day가 10일치 데이터를 사용한 것 같다.\n",
        "- 10일치가 1440이고 1일치가 144인것 같다."
      ]
    },
    {
      "cell_type": "code",
      "metadata": {
        "id": "iOQfiOR6RBk9",
        "outputId": "70798b50-b7dd-4b88-e163-497d9abdecf2"
      },
      "source": [
        "plt.plot(range(1440), temp[:1440])  #이렇게 앞데이터를 살펴보게 되면 daily effect를 볼 수 있다. \n",
        "plt.show()"
      ],
      "execution_count": null,
      "outputs": [
        {
          "output_type": "display_data",
          "data": {
            "image/png": "[encoded data removed]",
            "text/plain": [
              "<Figure size 432x288 with 1 Axes>"
            ]
          },
          "metadata": {
            "tags": [],
            "needs_background": "light"
          }
        }
      ]
    },
    {
      "cell_type": "markdown",
      "metadata": {
        "id": "04tit2RnRBk9"
      },
      "source": [
        "\n",
        "On this plot, you can see daily periodicity, especially evident for the last 4 days. We can also note that this ten-days period must be \n",
        "coming from a fairly cold winter month.\n",
        "\n",
        "If we were trying to predict average temperature for the next month given a few month of past data, the problem would be easy, due to the \n",
        "reliable year-scale periodicity of the data. But looking at the data over a scale of days, the temperature looks a lot more chaotic. So is \n",
        "this timeseries predictable at a daily scale? Let's find out."
      ]
    },
    {
      "cell_type": "markdown",
      "metadata": {
        "id": "Y8tUsgONRBk-"
      },
      "source": [
        "## Preparing the data\n",
        "\n",
        "\n",
        "The exact formulation of our problem will be the following: given data going as far back as `lookback` timesteps (a timestep is 10 minutes) \n",
        "and sampled every `steps` timesteps, can we predict the temperature in `delay` timesteps?\n",
        "\n",
        "We will use the following parameter values:\n",
        "\n",
        "* `lookback = 720`, i.e. our observations will go back 5 days.\n",
        "* `steps = 6`, i.e. our observations will be sampled at one data point per hour.\n",
        "* `delay = 144`, i.e. our targets will be 24 hours in the future.\n",
        "\n",
        "To get started, we need to do two things:\n",
        "\n",
        "* Preprocess the data to a format a neural network can ingest. This is easy: the data is already numerical, so we don't need to do any \n",
        "vectorization. However each timeseries in the data is on a different scale (e.g. temperature is typically between -20 and +30, but \n",
        "pressure, measured in mbar, is around 1000). So we will normalize each timeseries independently so that they all take small values on a \n",
        "similar scale.\n",
        "* Write a Python generator that takes our current array of float data and yields batches of data from the recent past, alongside with a \n",
        "target temperature in the future. Since the samples in our dataset are highly redundant (e.g. sample `N` and sample `N + 1` will have most \n",
        "of their timesteps in common), it would be very wasteful to explicitly allocate every sample. Instead, we will generate the samples on the \n",
        "fly using the original data.\n",
        "\n",
        "We preprocess the data by subtracting the mean of each timeseries and dividing by the standard deviation. We plan on using the first \n",
        "200,000 timesteps as training data, so we compute the mean and standard deviation only on this fraction of the data:"
      ]
    },
    {
      "cell_type": "markdown",
      "metadata": {
        "id": "TPXUeXhef8A3"
      },
      "source": [
        "- 여기는 Preparing the data해서 데이터를 표준화해주는 방법이다.\n",
        "- 그리고 여기에서는 lookback이랑 steps이랑 delay이에 대한 설명이 나와 있다. "
      ]
    },
    {
      "cell_type": "code",
      "metadata": {
        "id": "E-2ST_2SRBk-"
      },
      "source": [
        "mean = float_data[:200000].mean(axis=0)\n",
        "float_data -= mean\n",
        "std = float_data[:200000].std(axis=0)\n",
        "float_data /= std"
      ],
      "execution_count": null,
      "outputs": []
    },
    {
      "cell_type": "markdown",
      "metadata": {
        "id": "9KZvJN7hRBk-"
      },
      "source": [
        "\n",
        "Now here is the data generator that we will use. It yields a tuple `(samples, targets)` where `samples` is one batch of input data and \n",
        "`targets` is the corresponding array of target temperatures. It takes the following arguments:\n",
        "\n",
        "* `data`: The original array of floating point data, which we just normalized in the code snippet above.\n",
        "* `lookback`: How many timesteps back should our input data go.\n",
        "* `delay`: How many timesteps in the future should our target be.\n",
        "* `min_index` and `max_index`: Indices in the `data` array that delimit which timesteps to draw from. This is useful for keeping a segment \n",
        "of the data for validation and another one for testing.\n",
        "* `shuffle`: Whether to shuffle our samples or draw them in chronological order.\n",
        "* `batch_size`: The number of samples per batch.\n",
        "* `step`: The period, in timesteps, at which we sample data. We will set it 6 in order to draw one data point every hour."
      ]
    },
    {
      "cell_type": "markdown",
      "metadata": {
        "id": "dCgE7opff8A4"
      },
      "source": [
        "- 그리고 generator해주기에 앞서서 parameter들을 바로 위에 설명이 되어 있는 것을 볼 수 있다. "
      ]
    },
    {
      "cell_type": "code",
      "metadata": {
        "id": "o6N04JPKRBk_"
      },
      "source": [
        "def generator(data, lookback, delay, min_index, max_index,\n",
        "              shuffle=False, batch_size=128, step=6):\n",
        "    if max_index is None:\n",
        "        max_index = len(data) - delay - 1\n",
        "    i = min_index + lookback\n",
        "    while 1:\n",
        "        if shuffle:\n",
        "            rows = np.random.randint(\n",
        "                min_index + lookback, max_index, size=batch_size)\n",
        "        else:\n",
        "            if i + batch_size >= max_index:\n",
        "                i = min_index + lookback\n",
        "            rows = np.arange(i, min(i + batch_size, max_index))\n",
        "            i += len(rows)\n",
        "\n",
        "        samples = np.zeros((len(rows),\n",
        "                           lookback // step,\n",
        "                           data.shape[-1]))\n",
        "        targets = np.zeros((len(rows),))\n",
        "        for j, row in enumerate(rows):\n",
        "            indices = range(rows[j] - lookback, rows[j], step)\n",
        "            samples[j] = data[indices]\n",
        "            targets[j] = data[rows[j] + delay][1]\n",
        "        yield samples, targets"
      ],
      "execution_count": null,
      "outputs": []
    },
    {
      "cell_type": "markdown",
      "metadata": {
        "id": "I80nCX1uf8A4"
      },
      "source": [
        "- 교수님이 위에 있는 generator를 돌려보고 어떠한 부분이 이해가 안된다면 그부분을 떼와서 부분부분 보는 것도 이해하는데에 많은 도움이 된다고 말씀하심. 여기는 강의노트에서 설명을 하셔서 넘어가심."
      ]
    },
    {
      "cell_type": "markdown",
      "metadata": {
        "id": "15PrtaafRBk_"
      },
      "source": [
        "\n",
        "Now let's use our abstract generator function to instantiate three generators, one for training, one for validation and one for testing. \n",
        "Each will look at different temporal segments of the original data: the training generator looks at the first 200,000 timesteps, the \n",
        "validation generator looks at the following 100,000, and the test generator looks at the remainder."
      ]
    },
    {
      "cell_type": "code",
      "metadata": {
        "id": "l-tn9dGxRBk_"
      },
      "source": [
        "lookback = 1440\n",
        "step = 6\n",
        "delay = 144\n",
        "batch_size = 128\n",
        "\n",
        "train_gen = generator(float_data,\n",
        "                      lookback=lookback,\n",
        "                      delay=delay,\n",
        "                      min_index=0,\n",
        "                      max_index=200000,\n",
        "                      shuffle=True,\n",
        "                      step=step, \n",
        "                      batch_size=batch_size)\n",
        "val_gen = generator(float_data,\n",
        "                    lookback=lookback,\n",
        "                    delay=delay,\n",
        "                    min_index=200001,\n",
        "                    max_index=210000,\n",
        "                    step=step,\n",
        "                    batch_size=batch_size)\n",
        "test_gen = generator(float_data,\n",
        "                     lookback=lookback,\n",
        "                     delay=delay,\n",
        "                     min_index=300001,\n",
        "                     max_index=None,\n",
        "                     step=step,\n",
        "                     batch_size=batch_size)\n",
        "\n",
        "# This is how many steps to draw from `val_gen`\n",
        "# in order to see the whole validation set:\n",
        "val_steps = (300000 - 200001 - lookback) // batch_size\n",
        "\n",
        "# This is how many steps to draw from `test_gen`\n",
        "# in order to see the whole test set:\n",
        "test_steps = (len(float_data) - 300001 - lookback) // batch_size"
      ],
      "execution_count": null,
      "outputs": []
    },
    {
      "cell_type": "markdown",
      "metadata": {
        "id": "Vey7b-ftf8A5"
      },
      "source": [
        "- 여기까지 강의노트 p25까지 설명하심 부분이고 p26부터는 강의노트를 보면서 설명을 하심."
      ]
    },
    {
      "cell_type": "markdown",
      "metadata": {
        "id": "hCF8Q7Z6f8A5"
      },
      "source": [
        "- p28까지 강의노트로 설명을 하시고 여기서부터 실습을 진행하심."
      ]
    },
    {
      "cell_type": "markdown",
      "metadata": {
        "id": "xh3rnpp4RBlA"
      },
      "source": [
        "## A common sense, non-machine learning baseline\n",
        "\n",
        "\n",
        "Before we start leveraging black-box deep learning models to solve our temperature prediction problem, let's try out a simple common-sense \n",
        "approach. It will serve as a sanity check, and it will establish a baseline that we will have to beat in order to demonstrate the \n",
        "usefulness of more advanced machine learning models. Such common-sense baselines can be very useful when approaching a new problem for \n",
        "which there is no known solution (yet). A classic example is that of unbalanced classification tasks, where some classes can be much more \n",
        "common than others. If your dataset contains 90% of instances of class A and 10% of instances of class B, then a common sense approach to \n",
        "the classification task would be to always predict \"A\" when presented with a new sample. Such a classifier would be 90% accurate overall, \n",
        "and any learning-based approach should therefore beat this 90% score in order to demonstrate usefulness. Sometimes such elementary \n",
        "baseline can prove surprisingly hard to beat.\n",
        "\n",
        "In our case, the temperature timeseries can safely be assumed to be continuous (the temperatures tomorrow are likely to be close to the \n",
        "temperatures today) as well as periodical with a daily period. Thus a common sense approach would be to always predict that the temperature \n",
        "24 hours from now will be equal to the temperature right now. Let's evaluate this approach, using the Mean Absolute Error metric (MAE). \n",
        "Mean Absolute Error is simply equal to:"
      ]
    },
    {
      "cell_type": "markdown",
      "metadata": {
        "id": "i2V3uED2f8A5"
      },
      "source": [
        "- non-machine learning baseline에서는 그 전날 prediction한것을 예측값으로 사용하는 것이다. "
      ]
    },
    {
      "cell_type": "code",
      "metadata": {
        "id": "DSqFrUBKRBlA",
        "outputId": "3ead7e4c-00cc-4663-afd5-aab04960ba5e"
      },
      "source": [
        "np.mean(np.abs(preds - targets))"
      ],
      "execution_count": null,
      "outputs": [
        {
          "output_type": "error",
          "ename": "NameError",
          "evalue": "name 'preds' is not defined",
          "traceback": [
            "\u001b[0;31m---------------------------------------------------------------------------\u001b[0m",
            "\u001b[0;31mNameError\u001b[0m                                 Traceback (most recent call last)",
            "\u001b[0;32m<ipython-input-12-2c3bc3683db5>\u001b[0m in \u001b[0;36m<module>\u001b[0;34m\u001b[0m\n\u001b[0;32m----> 1\u001b[0;31m \u001b[0mnp\u001b[0m\u001b[0;34m.\u001b[0m\u001b[0mmean\u001b[0m\u001b[0;34m(\u001b[0m\u001b[0mnp\u001b[0m\u001b[0;34m.\u001b[0m\u001b[0mabs\u001b[0m\u001b[0;34m(\u001b[0m\u001b[0mpreds\u001b[0m \u001b[0;34m-\u001b[0m \u001b[0mtargets\u001b[0m\u001b[0;34m)\u001b[0m\u001b[0;34m)\u001b[0m\u001b[0;34m\u001b[0m\u001b[0;34m\u001b[0m\u001b[0m\n\u001b[0m",
            "\u001b[0;31mNameError\u001b[0m: name 'preds' is not defined"
          ]
        }
      ]
    },
    {
      "cell_type": "markdown",
      "metadata": {
        "id": "ypMihQwARBlA"
      },
      "source": [
        "Here's our evaluation loop:"
      ]
    },
    {
      "cell_type": "code",
      "metadata": {
        "id": "orbwTgeaRBlA",
        "outputId": "486828fb-d8cf-4269-debf-bb40f4b09cc7"
      },
      "source": [
        "def evaluate_naive_method():\n",
        "    batch_maes = []\n",
        "    for step in range(val_steps):\n",
        "        samples, targets = next(val_gen)\n",
        "        preds = samples[:, -1, 1]   #여기에서 그 전날 꺼를 prediction값으로 사용을 해준다.그래서 -1을 쓴것이다.\n",
        "        mae = np.mean(np.abs(preds - targets))  #그래서 현재 targets에 대해서 얼마나 예측을 할 수 있는지를 볼 수 있다. \n",
        "        batch_maes.append(mae)\n",
        "    print(np.mean(batch_maes))\n",
        "    \n",
        "evaluate_naive_method()"
      ],
      "execution_count": null,
      "outputs": [
        {
          "output_type": "stream",
          "text": [
            "0.28381896323029493\n"
          ],
          "name": "stdout"
        }
      ]
    },
    {
      "cell_type": "markdown",
      "metadata": {
        "id": "uea7xYm-f8A6"
      },
      "source": [
        "- 이런식으로 했을때, loss가 0.289가 되는 것을 볼 수 있다. \n",
        "- 이거와 같은 경우에는 temperature_std를 곱해가지고 0.29*temperature_std이걸로 Celsius degrees를 살펴보면 2.57이 되는데 꽤 큰 정도라고 하고 있다. \n",
        "- 그래서 과거시점 데이터보다는 잘 했으면 좋겠다라고 하는 것이다. "
      ]
    },
    {
      "cell_type": "markdown",
      "metadata": {
        "id": "8VlKCUygRBlB"
      },
      "source": [
        "It yields a MAE of 0.29. Since our temperature data has been normalized to be centered on 0 and have a standard deviation of one, this \n",
        "number is not immediately interpretable. It translates to an average absolute error of `0.29 * temperature_std` degrees Celsius, i.e. \n",
        "2.57˚C. That's a fairly large average absolute error -- now the game is to leverage our knowledge of deep learning to do better. "
      ]
    },
    {
      "cell_type": "markdown",
      "metadata": {
        "id": "U3tOByfZRBlB"
      },
      "source": [
        "## A basic machine learning approach\n",
        "\n",
        "In the same way that it is useful to establish a common sense baseline before trying machine learning approaches, it is useful to try \n",
        "simple and cheap machine learning models (such as small densely-connected networks) before looking into complicated and computationally \n",
        "expensive models such as RNNs. This is the best way to make sure that any further complexity we throw at the problem later on is legitimate \n",
        "and delivers real benefits.\n",
        "\n",
        "Here is a simply fully-connected model in which we start by flattening the data, then run it through two `Dense` layers. Note the lack of \n",
        "activation function on the last `Dense` layer, which is typical for a regression problem. We use MAE as the loss. Since we are evaluating \n",
        "on the exact same data and with the exact same metric as with our common sense approach, the results will be directly comparable."
      ]
    },
    {
      "cell_type": "markdown",
      "metadata": {
        "id": "1Yn_YrdBf8A7"
      },
      "source": [
        "- 여기에서는 machine learning approach를 하나 돌려본다."
      ]
    },
    {
      "cell_type": "code",
      "metadata": {
        "id": "tsRmLS0WRBlB",
        "outputId": "0e07249a-8657-487e-f84a-0636a684efb1"
      },
      "source": [
        "from tensorflow.keras.models import Sequential\n",
        "from tensorflow.keras import layers\n",
        "from tensorflow.keras.optimizers import RMSprop\n",
        "\n",
        "model = Sequential()\n",
        "model.add(layers.Flatten(input_shape=(lookback // step, float_data.shape[-1]))) #여기에서는 기본적으로 데이터를 flatten시킨다음에 Dense layer를 그대로 달아서 돌려보면 과연 성능이 얼마정도 일까? 라는 것이다. \n",
        "model.add(layers.Dense(32, activation='relu'))\n",
        "model.add(layers.Dense(1))\n",
        "\n",
        "model.compile(optimizer=RMSprop(), loss='mae')\n",
        "history = model.fit_generator(train_gen,\n",
        "                              steps_per_epoch=200,\n",
        "                              epochs=20,\n",
        "                              validation_data=val_gen,\n",
        "                              validation_steps=val_steps)"
      ],
      "execution_count": null,
      "outputs": [
        {
          "output_type": "stream",
          "text": [
            "C:\\Users\\김창우\\AppData\\Roaming\\Python\\Python38\\site-packages\\tensorflow\\python\\keras\\engine\\training.py:1844: UserWarning: `Model.fit_generator` is deprecated and will be removed in a future version. Please use `Model.fit`, which supports generators.\n",
            "  warnings.warn('`Model.fit_generator` is deprecated and '\n"
          ],
          "name": "stderr"
        },
        {
          "output_type": "stream",
          "text": [
            "Epoch 1/20\n",
            "200/200 [==============================] - 7s 34ms/step - loss: 2.4156 - val_loss: 1.2918\n",
            "Epoch 2/20\n",
            "200/200 [==============================] - 6s 32ms/step - loss: 1.0764 - val_loss: 0.6496\n",
            "Epoch 3/20\n",
            "200/200 [==============================] - 6s 32ms/step - loss: 0.7036 - val_loss: 0.5131\n",
            "Epoch 4/20\n",
            "200/200 [==============================] - 6s 31ms/step - loss: 0.4867 - val_loss: 0.3622\n",
            "Epoch 5/20\n",
            "200/200 [==============================] - 6s 32ms/step - loss: 0.3613 - val_loss: 0.4110\n",
            "Epoch 6/20\n",
            "200/200 [==============================] - 6s 32ms/step - loss: 0.3140 - val_loss: 0.3616\n",
            "Epoch 7/20\n",
            "200/200 [==============================] - 6s 32ms/step - loss: 0.2872 - val_loss: 0.3669\n",
            "Epoch 8/20\n",
            "200/200 [==============================] - 6s 32ms/step - loss: 0.2709 - val_loss: 0.3908\n",
            "Epoch 9/20\n",
            "200/200 [==============================] - 6s 32ms/step - loss: 0.2681 - val_loss: 0.3505\n",
            "Epoch 10/20\n",
            "200/200 [==============================] - 6s 32ms/step - loss: 0.2612 - val_loss: 0.3381\n",
            "Epoch 11/20\n",
            "200/200 [==============================] - 6s 31ms/step - loss: 0.2574 - val_loss: 0.3396\n",
            "Epoch 12/20\n",
            "200/200 [==============================] - 6s 32ms/step - loss: 0.2488 - val_loss: 0.3307\n",
            "Epoch 13/20\n",
            "200/200 [==============================] - 6s 32ms/step - loss: 0.2485 - val_loss: 0.3282\n",
            "Epoch 14/20\n",
            "200/200 [==============================] - 6s 32ms/step - loss: 0.2427 - val_loss: 0.3487\n",
            "Epoch 15/20\n",
            "200/200 [==============================] - 6s 31ms/step - loss: 0.2404 - val_loss: 0.3746\n",
            "Epoch 16/20\n",
            "200/200 [==============================] - 6s 32ms/step - loss: 0.2374 - val_loss: 0.3404\n",
            "Epoch 17/20\n",
            "200/200 [==============================] - 6s 32ms/step - loss: 0.2381 - val_loss: 0.3301\n",
            "Epoch 18/20\n",
            "200/200 [==============================] - 6s 32ms/step - loss: 0.2349 - val_loss: 0.3426\n",
            "Epoch 19/20\n",
            "200/200 [==============================] - 6s 32ms/step - loss: 0.2337 - val_loss: 0.3757\n",
            "Epoch 20/20\n",
            "200/200 [==============================] - 6s 32ms/step - loss: 0.2261 - val_loss: 0.3361\n"
          ],
          "name": "stdout"
        }
      ]
    },
    {
      "cell_type": "markdown",
      "metadata": {
        "id": "dgzk4in9f8A7"
      },
      "source": [
        "- loss들을 살펴보면, 기본적인 딥러닝을 썼을때 성능이 별로 안좋은 것을 알 수 있다. \n",
        "\n",
        "- 그래서 우리는 GRU나 LTSM을 써야겠다라는 결론을 내리게 된다."
      ]
    },
    {
      "cell_type": "markdown",
      "metadata": {
        "id": "0Y270DU5RBlD"
      },
      "source": [
        "Let's display the loss curves for validation and training:"
      ]
    },
    {
      "cell_type": "code",
      "metadata": {
        "id": "cg8ifvCrRBlD",
        "outputId": "aab3640d-b941-4512-c2ae-d99fdb2a85c8"
      },
      "source": [
        "import matplotlib.pyplot as plt\n",
        "\n",
        "loss = history.history['loss']\n",
        "val_loss = history.history['val_loss']\n",
        "\n",
        "epochs = range(len(loss))\n",
        "\n",
        "plt.figure()\n",
        "\n",
        "plt.plot(epochs, loss, 'bo', label='Training loss')\n",
        "plt.plot(epochs, val_loss, 'b', label='Validation loss')\n",
        "plt.title('Training and validation loss')\n",
        "plt.legend()\n",
        "\n",
        "plt.show()"
      ],
      "execution_count": null,
      "outputs": [
        {
          "output_type": "display_data",
          "data": {
            "image/png": "[encoded data removed]",
            "text/plain": [
              "<Figure size 432x288 with 1 Axes>"
            ]
          },
          "metadata": {
            "tags": [],
            "needs_background": "light"
          }
        }
      ]
    },
    {
      "cell_type": "markdown",
      "metadata": {
        "id": "B21eV33QRBlD"
      },
      "source": [
        "\n",
        "Some of our validation losses get close to the no-learning baseline, but not very reliably. This goes to show the merit of having had this baseline in the first place: it turns out not to be so easy to outperform. Our \n",
        "common sense contains already a lot of valuable information that a machine learning model does not have access to.\n",
        "\n",
        "You may ask, if there exists a simple, well-performing model to go from the data to the targets (our common sense baseline), why doesn't \n",
        "the model we are training find it and improve on it? Simply put: because this simple solution is not what our training setup is looking \n",
        "for. The space of models in which we are searching for a solution, i.e. our hypothesis space, is the space of all possible 2-layer networks \n",
        "with the configuration that we defined. These networks are already fairly complicated. When looking for a solution with a space of \n",
        "complicated models, the simple well-performing baseline might be unlearnable, even if it's technically part of the hypothesis space. That \n",
        "is a pretty significant limitation of machine learning in general: unless the learning algorithm is hard-coded to look for a specific kind \n",
        "of simple model, parameter learning can sometimes fail to find a simple solution to a simple problem."
      ]
    },
    {
      "cell_type": "markdown",
      "metadata": {
        "id": "uDuwz9OKRBlE"
      },
      "source": [
        "## A first recurrent baseline\n",
        "\n",
        "\n",
        "Our first fully-connected approach didn't do so well, but that doesn't mean machine learning is not applicable to our problem. The approach \n",
        "above consisted in first flattening the timeseries, which removed the notion of time from the input data. Let us instead look at our data \n",
        "as what it is: a sequence, where causality and order matter. We will try a recurrent sequence processing model -- it should be the perfect \n",
        "fit for such sequence data, precisely because it does exploit the temporal ordering of data points, unlike our first approach.\n",
        "\n",
        "Instead of the `LSTM` layer introduced in the previous section, we will use the `GRU` layer, developed by Cho et al. in 2014. `GRU` layers \n",
        "(which stands for \"gated recurrent unit\") work by leveraging the same principle as LSTM, but they are somewhat streamlined and thus cheaper \n",
        "to run, albeit they may not have quite as much representational power as LSTM. This trade-off between computational expensiveness and \n",
        "representational power is seen everywhere in machine learning."
      ]
    },
    {
      "cell_type": "markdown",
      "metadata": {
        "id": "BkFrXA80f8A8"
      },
      "source": [
        "- 여기에서는 RNN방식으로 train을 해보자는 것이다."
      ]
    },
    {
      "cell_type": "code",
      "metadata": {
        "id": "ycrgePCqRBlE",
        "outputId": "0594243b-bf41-4408-81af-a1efeb84e260"
      },
      "source": [
        "from tensorflow.keras.models import Sequential\n",
        "from tensorflow.keras import layers\n",
        "from tensorflow.keras.optimizers import RMSprop\n",
        "\n",
        "model = Sequential()\n",
        "model.add(layers.GRU(32, input_shape=(None, float_data.shape[-1]))) #여기서는 GRU를 사용해본다. 그래서 GRU를 모델링 해보면 이런식이 된다. \n",
        "model.add(layers.Dense(1))\n",
        "\n",
        "model.compile(optimizer=RMSprop(), loss='mae')\n",
        "history = model.fit_generator(train_gen,\n",
        "                              steps_per_epoch=200,\n",
        "                              epochs=20,\n",
        "                              validation_data=val_gen,\n",
        "                              validation_steps=val_steps)"
      ],
      "execution_count": null,
      "outputs": [
        {
          "output_type": "stream",
          "text": [
            "Epoch 1/20\n",
            "200/200 [==============================] - 22s 101ms/step - loss: 0.3279 - val_loss: 0.2835\n",
            "Epoch 2/20\n",
            "200/200 [==============================] - 20s 100ms/step - loss: 0.2975 - val_loss: 0.2784\n",
            "Epoch 3/20\n",
            "200/200 [==============================] - 20s 100ms/step - loss: 0.2894 - val_loss: 0.2688\n",
            "Epoch 4/20\n",
            "200/200 [==============================] - 20s 101ms/step - loss: 0.2866 - val_loss: 0.2684\n",
            "Epoch 5/20\n",
            "200/200 [==============================] - 20s 101ms/step - loss: 0.2816 - val_loss: 0.2641\n",
            "Epoch 6/20\n",
            "200/200 [==============================] - 20s 101ms/step - loss: 0.2797 - val_loss: 0.2651\n",
            "Epoch 7/20\n",
            "200/200 [==============================] - 20s 102ms/step - loss: 0.2770 - val_loss: 0.2592\n",
            "Epoch 8/20\n",
            "200/200 [==============================] - 21s 103ms/step - loss: 0.2801 - val_loss: 0.2657\n",
            "Epoch 9/20\n",
            "200/200 [==============================] - 20s 102ms/step - loss: 0.2750 - val_loss: 0.2628\n",
            "Epoch 10/20\n",
            "200/200 [==============================] - 20s 103ms/step - loss: 0.2697 - val_loss: 0.2580\n",
            "Epoch 11/20\n",
            "200/200 [==============================] - 20s 102ms/step - loss: 0.2703 - val_loss: 0.2616\n",
            "Epoch 12/20\n",
            "200/200 [==============================] - 20s 102ms/step - loss: 0.2687 - val_loss: 0.2627\n",
            "Epoch 13/20\n",
            "200/200 [==============================] - 20s 102ms/step - loss: 0.2689 - val_loss: 0.2671\n",
            "Epoch 14/20\n",
            "200/200 [==============================] - 20s 102ms/step - loss: 0.2626 - val_loss: 0.2623\n",
            "Epoch 15/20\n",
            "200/200 [==============================] - 20s 103ms/step - loss: 0.2624 - val_loss: 0.2611\n",
            "Epoch 16/20\n",
            "200/200 [==============================] - 21s 103ms/step - loss: 0.2600 - val_loss: 0.2597\n",
            "Epoch 17/20\n",
            "200/200 [==============================] - 21s 103ms/step - loss: 0.2590 - val_loss: 0.2574\n",
            "Epoch 18/20\n",
            "200/200 [==============================] - 20s 102ms/step - loss: 0.2546 - val_loss: 0.2566\n",
            "Epoch 19/20\n",
            "200/200 [==============================] - 21s 103ms/step - loss: 0.2611 - val_loss: 0.2721\n",
            "Epoch 20/20\n",
            "200/200 [==============================] - 20s 102ms/step - loss: 0.2511 - val_loss: 0.2539\n"
          ],
          "name": "stdout"
        }
      ]
    },
    {
      "cell_type": "markdown",
      "metadata": {
        "id": "vbyYGmUKf8A8"
      },
      "source": [
        "- 앞에 코드에서는 0.3까지 떨어졌는데, 여기에서는 0.28몇까기 떨어지는 것을 볼 수 있다."
      ]
    },
    {
      "cell_type": "markdown",
      "metadata": {
        "id": "WU-hKHwXRBlE"
      },
      "source": [
        "Let look at our results:"
      ]
    },
    {
      "cell_type": "code",
      "metadata": {
        "id": "whco0kgLRBlE",
        "outputId": "3d652e30-25c7-4964-f6b5-db2816d3050c"
      },
      "source": [
        "loss = history.history['loss']\n",
        "val_loss = history.history['val_loss']\n",
        "\n",
        "epochs = range(len(loss))\n",
        "\n",
        "plt.figure()\n",
        "\n",
        "plt.plot(epochs, loss, 'bo', label='Training loss')\n",
        "plt.plot(epochs, val_loss, 'b', label='Validation loss')\n",
        "plt.title('Training and validation loss')\n",
        "plt.legend()\n",
        "\n",
        "plt.show()"
      ],
      "execution_count": null,
      "outputs": [
        {
          "output_type": "display_data",
          "data": {
            "image/png": "[encoded data removed]",
            "text/plain": [
              "<Figure size 432x288 with 1 Axes>"
            ]
          },
          "metadata": {
            "tags": [],
            "needs_background": "light"
          }
        }
      ]
    },
    {
      "cell_type": "markdown",
      "metadata": {
        "id": "26gQQ7V4f8A9"
      },
      "source": [
        "- 그래서 이 현상황을 그래프로 그래보면 train_loss는 쭉 떨어지는 반면에, validatio_loss는 어느정도 내려갔다가 다시 올라가는 것을 볼 수 있다. \n",
        "- 그래도 좋은 상황이라면 validatio_loss가 0.23까지 떨어지는 것을 볼 수 있다.\n",
        "- 그래서 base line보다 좋다라는 것이다. "
      ]
    },
    {
      "cell_type": "markdown",
      "metadata": {
        "id": "CX1zW5XORBlE"
      },
      "source": [
        "\n",
        "Much better! We are able to significantly beat the common sense baseline, such demonstrating the value of machine learning here, as well as \n",
        "the superiority of recurrent networks compared to sequence-flattening dense networks on this type of task.\n",
        "\n",
        "Our new validation MAE of ~0.265 (before we start significantly overfitting) translates to a mean absolute error of 2.35˚C after \n",
        "de-normalization. That's a solid gain on our initial error of 2.57˚C, but we probably still have a bit of margin for improvement."
      ]
    },
    {
      "cell_type": "markdown",
      "metadata": {
        "id": "vwDjvQ2VRBlF"
      },
      "source": [
        "## Using recurrent dropout to fight overfitting\n",
        "\n",
        "\n",
        "It is evident from our training and validation curves that our model is overfitting: the training and validation losses start diverging \n",
        "considerably after a few epochs. You are already familiar with a classic technique for fighting this phenomenon: dropout, consisting in \n",
        "randomly zeroing-out input units of a layer in order to break happenstance correlations in the training data that the layer is exposed to. \n",
        "How to correctly apply dropout in recurrent networks, however, is not a trivial question. It has long been known that applying dropout \n",
        "before a recurrent layer hinders learning rather than helping with regularization. In 2015, Yarin Gal, as part of his Ph.D. thesis on \n",
        "Bayesian deep learning, determined the proper way to use dropout with a recurrent network: the same dropout mask (the same pattern of \n",
        "dropped units) should be applied at every timestep, instead of a dropout mask that would vary randomly from timestep to timestep. What's \n",
        "more: in order to regularize the representations formed by the recurrent gates of layers such as GRU and LSTM, a temporally constant \n",
        "dropout mask should be applied to the inner recurrent activations of the layer (a \"recurrent\" dropout mask). Using the same dropout mask at \n",
        "every timestep allows the network to properly propagate its learning error through time; a temporally random dropout mask would instead \n",
        "disrupt this error signal and be harmful to the learning process.\n",
        "\n",
        "Yarin Gal did his research using Keras and helped build this mechanism directly into Keras recurrent layers. Every recurrent layer in Keras \n",
        "has two dropout-related arguments: `dropout`, a float specifying the dropout rate for input units of the layer, and `recurrent_dropout`, \n",
        "specifying the dropout rate of the recurrent units. Let's add dropout and recurrent dropout to our GRU layer and see how it impacts \n",
        "overfitting. Because networks being regularized with dropout always take longer to fully converge, we train our network for twice as many \n",
        "epochs."
      ]
    },
    {
      "cell_type": "markdown",
      "metadata": {
        "id": "TqJjroQof8A9"
      },
      "source": [
        "- 우리가 위에서 validation_loss가 0.23까지는 나왔지만 validation_loss가 overfitting되는 것을 볼 수 있기 때문에 이것을 방지해주기 위해서 dropout을 상요해줘서 overfitting이 되는 것을 막아 줄 수 있다. \n",
        "- 그래서 dropout을 recurrent에 적용해 줄 수 있는 방법이 있는데, dropout option을 적용해 줌으로 써 이걸 해줄 수 있다.  "
      ]
    },
    {
      "cell_type": "code",
      "metadata": {
        "id": "2Gduyy-ZRBlF",
        "outputId": "9581d3cb-17dc-4f75-9d0c-0c767e977f16"
      },
      "source": [
        "from tensorflow.keras.models import Sequential\n",
        "from tensorflow.keras import layers\n",
        "from tensorflow.keras.optimizers import RMSprop\n",
        "\n",
        "model = Sequential()\n",
        "model.add(layers.GRU(32,\n",
        "                     dropout=0.2,\n",
        "                     recurrent_dropout=0.2,\n",
        "                     input_shape=(None, float_data.shape[-1])))\n",
        "model.add(layers.Dense(1))\n",
        "\n",
        "model.compile(optimizer=RMSprop(), loss='mae')\n",
        "history = model.fit_generator(train_gen,\n",
        "                              steps_per_epoch=200,\n",
        "                              epochs=40,\n",
        "                              validation_data=val_gen,\n",
        "                              validation_steps=val_steps)"
      ],
      "execution_count": null,
      "outputs": [
        {
          "output_type": "stream",
          "text": [
            "Epoch 1/40\n",
            "200/200 [==============================] - 27s 125ms/step - loss: 0.4134 - val_loss: 0.3031\n",
            "Epoch 2/40\n",
            "200/200 [==============================] - 25s 126ms/step - loss: 0.3182 - val_loss: 0.3022\n",
            "Epoch 3/40\n",
            "200/200 [==============================] - 25s 126ms/step - loss: 0.3148 - val_loss: 0.2833\n",
            "Epoch 4/40\n",
            "200/200 [==============================] - 25s 123ms/step - loss: 0.3109 - val_loss: 0.2992\n",
            "Epoch 5/40\n",
            "200/200 [==============================] - 25s 124ms/step - loss: 0.3074 - val_loss: 0.2854\n",
            "Epoch 6/40\n",
            "200/200 [==============================] - 24s 122ms/step - loss: 0.3058 - val_loss: 0.2834\n",
            "Epoch 7/40\n",
            "200/200 [==============================] - 25s 125ms/step - loss: 0.2955 - val_loss: 0.2797\n",
            "Epoch 8/40\n",
            "200/200 [==============================] - 24s 120ms/step - loss: 0.2957 - val_loss: 0.2775\n",
            "Epoch 9/40\n",
            "200/200 [==============================] - 24s 121ms/step - loss: 0.2937 - val_loss: 0.2835\n",
            "Epoch 10/40\n",
            "200/200 [==============================] - 24s 121ms/step - loss: 0.2913 - val_loss: 0.2943\n",
            "Epoch 11/40\n",
            "200/200 [==============================] - 24s 122ms/step - loss: 0.2882 - val_loss: 0.2809\n",
            "Epoch 12/40\n",
            "200/200 [==============================] - 25s 124ms/step - loss: 0.2866 - val_loss: 0.2881\n",
            "Epoch 13/40\n",
            "200/200 [==============================] - 24s 120ms/step - loss: 0.2901 - val_loss: 0.2830\n",
            "Epoch 14/40\n",
            "200/200 [==============================] - 24s 122ms/step - loss: 0.2848 - val_loss: 0.2789\n",
            "Epoch 15/40\n",
            "200/200 [==============================] - 24s 121ms/step - loss: 0.2816 - val_loss: 0.2838\n",
            "Epoch 16/40\n",
            "200/200 [==============================] - 24s 121ms/step - loss: 0.2784 - val_loss: 0.2889\n",
            "Epoch 17/40\n",
            "200/200 [==============================] - 24s 121ms/step - loss: 0.2801 - val_loss: 0.2780\n",
            "Epoch 18/40\n",
            "200/200 [==============================] - 24s 121ms/step - loss: 0.2741 - val_loss: 0.2807\n",
            "Epoch 19/40\n",
            "200/200 [==============================] - 26s 131ms/step - loss: 0.2737 - val_loss: 0.2863\n",
            "Epoch 20/40\n",
            "200/200 [==============================] - 24s 121ms/step - loss: 0.2745 - val_loss: 0.2874\n",
            "Epoch 21/40\n",
            "200/200 [==============================] - 24s 122ms/step - loss: 0.2688 - val_loss: 0.2910\n",
            "Epoch 22/40\n",
            "200/200 [==============================] - 25s 125ms/step - loss: 0.2715 - val_loss: 0.2903\n",
            "Epoch 23/40\n",
            "200/200 [==============================] - 25s 123ms/step - loss: 0.2701 - val_loss: 0.2920\n",
            "Epoch 24/40\n",
            "200/200 [==============================] - 24s 121ms/step - loss: 0.2658 - val_loss: 0.2968\n",
            "Epoch 25/40\n",
            "200/200 [==============================] - 24s 122ms/step - loss: 0.2673 - val_loss: 0.2931\n",
            "Epoch 26/40\n",
            "200/200 [==============================] - 25s 124ms/step - loss: 0.2651 - val_loss: 0.2930\n",
            "Epoch 27/40\n",
            "200/200 [==============================] - 25s 126ms/step - loss: 0.2614 - val_loss: 0.2896\n",
            "Epoch 28/40\n",
            "200/200 [==============================] - 25s 123ms/step - loss: 0.2615 - val_loss: 0.2931\n",
            "Epoch 29/40\n",
            "200/200 [==============================] - 24s 122ms/step - loss: 0.2625 - val_loss: 0.3001\n",
            "Epoch 30/40\n",
            "200/200 [==============================] - 24s 121ms/step - loss: 0.2608 - val_loss: 0.3103\n",
            "Epoch 31/40\n",
            "200/200 [==============================] - 25s 127ms/step - loss: 0.2601 - val_loss: 0.3125\n",
            "Epoch 32/40\n",
            "200/200 [==============================] - 24s 122ms/step - loss: 0.2565 - val_loss: 0.2915\n",
            "Epoch 33/40\n",
            "200/200 [==============================] - 24s 121ms/step - loss: 0.2601 - val_loss: 0.2927\n",
            "Epoch 34/40\n",
            "200/200 [==============================] - 24s 123ms/step - loss: 0.2563 - val_loss: 0.2914\n",
            "Epoch 35/40\n",
            "200/200 [==============================] - 25s 125ms/step - loss: 0.2578 - val_loss: 0.2946\n",
            "Epoch 36/40\n",
            "200/200 [==============================] - 24s 123ms/step - loss: 0.2524 - val_loss: 0.3050\n",
            "Epoch 37/40\n",
            "200/200 [==============================] - 25s 123ms/step - loss: 0.2542 - val_loss: 0.2976\n",
            "Epoch 38/40\n",
            "200/200 [==============================] - 24s 121ms/step - loss: 0.2510 - val_loss: 0.2969\n",
            "Epoch 39/40\n",
            "200/200 [==============================] - 25s 125ms/step - loss: 0.2532 - val_loss: 0.2983\n",
            "Epoch 40/40\n",
            "200/200 [==============================] - 24s 120ms/step - loss: 0.2518 - val_loss: 0.3016\n"
          ],
          "name": "stdout"
        }
      ]
    },
    {
      "cell_type": "code",
      "metadata": {
        "id": "Vl8BoOX_RBlF",
        "outputId": "364e4c55-5e82-49cc-fc5e-39bc66dcc17d"
      },
      "source": [
        "loss = history.history['loss']\n",
        "val_loss = history.history['val_loss']\n",
        "\n",
        "epochs = range(len(loss))\n",
        "\n",
        "plt.figure()\n",
        "\n",
        "plt.plot(epochs, loss, 'bo', label='Training loss')\n",
        "plt.plot(epochs, val_loss, 'b', label='Validation loss')\n",
        "plt.title('Training and validation loss')\n",
        "plt.legend()\n",
        "\n",
        "plt.show()"
      ],
      "execution_count": null,
      "outputs": [
        {
          "output_type": "display_data",
          "data": {
            "image/png": "[encoded data removed]",
            "text/plain": [
              "<Figure size 432x288 with 1 Axes>"
            ]
          },
          "metadata": {
            "tags": [],
            "needs_background": "light"
          }
        }
      ]
    },
    {
      "cell_type": "markdown",
      "metadata": {
        "id": "cDcNpk3lf8A-"
      },
      "source": [
        "- dropout을 하였지만 모형자체가 좋지 않아서 validation_loss가 좋지 못하게 나온것을 알 수 있다."
      ]
    },
    {
      "cell_type": "markdown",
      "metadata": {
        "id": "Q7BfqoRVRBlF"
      },
      "source": [
        "Great success; we are no longer overfitting during the first 30 epochs. However, while we have more stable evaluation scores, our best \n",
        "scores are not much lower than they were previously."
      ]
    },
    {
      "cell_type": "markdown",
      "metadata": {
        "id": "cmY3nmRgf8A-"
      },
      "source": [
        "- 2021년 4월 29일 여기까지 실습하고 마치심."
      ]
    },
    {
      "cell_type": "markdown",
      "metadata": {
        "id": "TkG18bc1RBlF"
      },
      "source": [
        "## Stacking recurrent layers\n",
        "\n",
        "Since we are no longer overfitting yet we seem to have hit a performance bottleneck, we should start considering increasing the capacity of \n",
        "our network. If you remember our description of the \"universal machine learning workflow\": it is a generally a good idea to increase the \n",
        "capacity of your network until overfitting becomes your primary obstacle (assuming that you are already taking basic steps to mitigate \n",
        "overfitting, such as using dropout). As long as you are not overfitting too badly, then you are likely under-capacity.\n",
        "\n",
        "Increasing network capacity is typically done by increasing the number of units in the layers, or adding more layers. Recurrent layer \n",
        "stacking is a classic way to build more powerful recurrent networks: for instance, what currently powers the Google translate algorithm is \n",
        "a stack of seven large LSTM layers -- that's huge.\n",
        "\n",
        "To stack recurrent layers on top of each other in Keras, all intermediate layers should return their full sequence of outputs (a 3D tensor) \n",
        "rather than their output at the last timestep. This is done by specifying `return_sequences=True`: "
      ]
    },
    {
      "cell_type": "code",
      "metadata": {
        "id": "YO7Cfx06RBlG",
        "outputId": "7c842d1b-c9c3-4735-82cb-5c5da640fbb9"
      },
      "source": [
        "from tensorflow.keras.models import Sequential\n",
        "from tensorflow.keras import layers\n",
        "from tensorflow.keras.optimizers import RMSprop\n",
        "\n",
        "model = Sequential()\n",
        "model.add(layers.GRU(16,\n",
        "                     dropout=0.1,\n",
        "                     recurrent_dropout=0.5,\n",
        "                     return_sequences=True,\n",
        "                     input_shape=(None, float_data.shape[-1])))\n",
        "model.add(layers.GRU(32, activation='relu',\n",
        "                     dropout=0.1, \n",
        "                     recurrent_dropout=0.5\n",
        "                    ))\n",
        "model.add(layers.Dense(1))\n",
        "\n",
        "model.compile(optimizer=RMSprop(), loss='mae')\n",
        "history = model.fit_generator(train_gen,\n",
        "                              steps_per_epoch=25,\n",
        "                              epochs=10,\n",
        "                              validation_data=val_gen,\n",
        "                              validation_steps=val_steps)"
      ],
      "execution_count": null,
      "outputs": [
        {
          "output_type": "stream",
          "text": [
            "Epoch 1/10\n",
            "25/25 [==============================] - 24s 947ms/step - loss: 0.4404 - val_loss: 0.3173\n",
            "Epoch 2/10\n",
            "25/25 [==============================] - 23s 929ms/step - loss: 0.3595 - val_loss: 0.3157\n",
            "Epoch 3/10\n",
            "25/25 [==============================] - 23s 933ms/step - loss: 0.3438 - val_loss: 0.3341\n",
            "Epoch 4/10\n",
            "25/25 [==============================] - 23s 933ms/step - loss: 0.3271 - val_loss: 0.3169\n",
            "Epoch 5/10\n",
            "25/25 [==============================] - 23s 929ms/step - loss: 0.3296 - val_loss: 0.3181\n",
            "Epoch 6/10\n",
            "25/25 [==============================] - 23s 930ms/step - loss: 0.3345 - val_loss: 0.3201\n",
            "Epoch 7/10\n",
            "25/25 [==============================] - 23s 932ms/step - loss: 0.3249 - val_loss: 0.3115\n",
            "Epoch 8/10\n",
            "25/25 [==============================] - 23s 936ms/step - loss: 0.3184 - val_loss: 0.3144\n",
            "Epoch 9/10\n",
            "25/25 [==============================] - 23s 932ms/step - loss: 0.3250 - val_loss: 0.3022\n",
            "Epoch 10/10\n",
            "25/25 [==============================] - 23s 929ms/step - loss: 0.3191 - val_loss: 0.3073\n"
          ],
          "name": "stdout"
        }
      ]
    },
    {
      "cell_type": "markdown",
      "metadata": {
        "id": "fkvX_Fi2RBlG"
      },
      "source": [
        "Let's take a look at our results:"
      ]
    },
    {
      "cell_type": "code",
      "metadata": {
        "id": "aXHa6UmKRBlG",
        "outputId": "902f484d-2d86-4405-b56c-ef62ccc2da10"
      },
      "source": [
        "loss = history.history['loss']\n",
        "val_loss = history.history['val_loss']\n",
        "\n",
        "epochs = range(len(loss))\n",
        "\n",
        "plt.figure()\n",
        "\n",
        "plt.plot(epochs, loss, 'bo', label='Training loss')\n",
        "plt.plot(epochs, val_loss, 'b', label='Validation loss')\n",
        "plt.title('Training and validation loss')\n",
        "plt.legend()\n",
        "\n",
        "plt.show()"
      ],
      "execution_count": null,
      "outputs": [
        {
          "output_type": "display_data",
          "data": {
            "image/png": "[encoded data removed]",
            "text/plain": [
              "<Figure size 432x288 with 1 Axes>"
            ]
          },
          "metadata": {
            "tags": []
          }
        }
      ]
    },
    {
      "cell_type": "markdown",
      "metadata": {
        "id": "p7Z1z6NDRBlG"
      },
      "source": [
        "We can see that the added layers does improve ours results by a bit, albeit not very significantly. We can draw two conclusions:\n",
        "\n",
        "* Since we are still not overfitting too badly, we could safely increase the size of our layers, in quest for a bit of validation loss \n",
        "improvement. This does have a non-negligible computational cost, though. \n",
        "* Since adding a layer did not help us by a significant factor, we may be seeing diminishing returns to increasing network capacity at this \n",
        "point."
      ]
    },
    {
      "cell_type": "markdown",
      "metadata": {
        "id": "RJDryiLCRBlG"
      },
      "source": [
        "## Using bidirectional RNNs\n",
        "\n",
        "\n",
        "The last technique that we will introduce in this section is called \"bidirectional RNNs\". A bidirectional RNN is common RNN variant which \n",
        "can offer higher performance than a regular RNN on certain tasks. It is frequently used in natural language processing -- you could call it \n",
        "the Swiss army knife of deep learning for NLP.\n",
        "\n",
        "RNNs are notably order-dependent, or time-dependent: they process the timesteps of their input sequences in order, and shuffling or \n",
        "reversing the timesteps can completely change the representations that the RNN will extract from the sequence. This is precisely the reason \n",
        "why they perform well on problems where order is meaningful, such as our temperature forecasting problem. A bidirectional RNN exploits \n",
        "the order-sensitivity of RNNs: it simply consists of two regular RNNs, such as the GRU or LSTM layers that you are already familiar with, \n",
        "each processing input sequence in one direction (chronologically and antichronologically), then merging their representations. By \n",
        "processing a sequence both way, a bidirectional RNN is able to catch patterns that may have been overlooked by a one-direction RNN.\n",
        "\n",
        "Remarkably, the fact that the RNN layers in this section have so far processed sequences in chronological order (older timesteps first) may \n",
        "have been an arbitrary decision. At least, it's a decision we made no attempt at questioning so far. Could it be that our RNNs could have \n",
        "performed well enough if it were processing input sequences in antichronological order, for instance (newer timesteps first)? Let's try \n",
        "this in practice and see what we get. All we need to do is write a variant of our data generator, where the input sequences get reverted \n",
        "along the time dimension (replace the last line with `yield samples[:, ::-1, :], targets`). Training the same one-GRU-layer network as we \n",
        "used in the first experiment in this section, we get the following results:"
      ]
    },
    {
      "cell_type": "code",
      "metadata": {
        "id": "ZbDoPlC5RBlH"
      },
      "source": [
        "test = list(range(10))"
      ],
      "execution_count": null,
      "outputs": []
    },
    {
      "cell_type": "code",
      "metadata": {
        "id": "ysL-tIRcRBlH",
        "outputId": "fe263ffa-3c1c-441c-85bd-e3e97c499534"
      },
      "source": [
        "test"
      ],
      "execution_count": null,
      "outputs": [
        {
          "output_type": "execute_result",
          "data": {
            "text/plain": [
              "[0, 1, 2, 3, 4, 5, 6, 7, 8, 9]"
            ]
          },
          "metadata": {
            "tags": []
          },
          "execution_count": 39
        }
      ]
    },
    {
      "cell_type": "code",
      "metadata": {
        "id": "b3hyZUJ_RBlH",
        "outputId": "daf00f0e-42bc-43ee-c39c-c0d53b5dce38"
      },
      "source": [
        "test[::-1]"
      ],
      "execution_count": null,
      "outputs": [
        {
          "output_type": "execute_result",
          "data": {
            "text/plain": [
              "[9, 8, 7, 6, 5, 4, 3, 2, 1, 0]"
            ]
          },
          "metadata": {
            "tags": []
          },
          "execution_count": 40
        }
      ]
    },
    {
      "cell_type": "code",
      "metadata": {
        "id": "pOd2ZthkRBlH",
        "outputId": "222504db-4d1b-4338-9111-64bae50041fb"
      },
      "source": [
        "test[::-2]"
      ],
      "execution_count": null,
      "outputs": [
        {
          "output_type": "execute_result",
          "data": {
            "text/plain": [
              "[9, 7, 5, 3, 1]"
            ]
          },
          "metadata": {
            "tags": []
          },
          "execution_count": 42
        }
      ]
    },
    {
      "cell_type": "code",
      "metadata": {
        "id": "6IZmlYRaRBlH"
      },
      "source": [
        "def reverse_order_generator(data, lookback, delay, min_index, max_index,\n",
        "                            shuffle=False, batch_size=128, step=6):\n",
        "    if max_index is None:\n",
        "        max_index = len(data) - delay - 1\n",
        "    i = min_index + lookback\n",
        "    while 1:\n",
        "        if shuffle:\n",
        "            rows = np.random.randint(\n",
        "                min_index + lookback, max_index, size=batch_size)\n",
        "        else:\n",
        "            if i + batch_size >= max_index:\n",
        "                i = min_index + lookback\n",
        "            rows = np.arange(i, min(i + batch_size, max_index))\n",
        "            i += len(rows)\n",
        "\n",
        "        samples = np.zeros((len(rows),\n",
        "                           lookback // step,\n",
        "                           data.shape[-1]))\n",
        "        targets = np.zeros((len(rows),))\n",
        "        for j, row in enumerate(rows):\n",
        "            indices = range(rows[j] - lookback, rows[j], step)\n",
        "            samples[j] = data[indices]\n",
        "            targets[j] = data[rows[j] + delay][1]\n",
        "        yield samples[:, ::-1, :], targets\n",
        "        \n",
        "train_gen_reverse = reverse_order_generator(\n",
        "    float_data,\n",
        "    lookback=lookback,\n",
        "    delay=delay,\n",
        "    min_index=0,\n",
        "    max_index=200000,\n",
        "    shuffle=True,\n",
        "    step=step, \n",
        "    batch_size=batch_size)\n",
        "val_gen_reverse = reverse_order_generator(\n",
        "    float_data,\n",
        "    lookback=lookback,\n",
        "    delay=delay,\n",
        "    min_index=200001,\n",
        "    max_index=300000,\n",
        "    step=step,\n",
        "    batch_size=batch_size)"
      ],
      "execution_count": null,
      "outputs": []
    },
    {
      "cell_type": "code",
      "metadata": {
        "id": "8rI2OROdRBlH",
        "outputId": "b0193c0f-c45c-4a53-e9c6-4b4d0f21da3f"
      },
      "source": [
        "model = Sequential()\n",
        "model.add(layers.GRU(32, input_shape=(None, float_data.shape[-1])))\n",
        "model.add(layers.Dense(1))\n",
        "\n",
        "model.compile(optimizer=RMSprop(), loss='mae')\n",
        "history = model.fit_generator(train_gen_reverse,\n",
        "                              steps_per_epoch=200,\n",
        "                              epochs=20,\n",
        "                              validation_data=val_gen_reverse,\n",
        "                              validation_steps=val_steps)"
      ],
      "execution_count": null,
      "outputs": [
        {
          "output_type": "stream",
          "text": [
            "Epoch 1/20\n",
            "200/200 [==============================] - 12s 61ms/step - loss: 0.4880 - val_loss: 0.4875\n",
            "Epoch 2/20\n",
            "200/200 [==============================] - 12s 61ms/step - loss: 0.4733 - val_loss: 0.4812\n",
            "Epoch 3/20\n",
            "200/200 [==============================] - 12s 61ms/step - loss: 0.4592 - val_loss: 0.4748\n",
            "Epoch 4/20\n",
            "200/200 [==============================] - 12s 61ms/step - loss: 0.4454 - val_loss: 0.4882\n",
            "Epoch 5/20\n",
            "200/200 [==============================] - 12s 61ms/step - loss: 0.4256 - val_loss: 0.4569\n",
            "Epoch 6/20\n",
            "200/200 [==============================] - 12s 61ms/step - loss: 0.3997 - val_loss: 0.4664\n",
            "Epoch 7/20\n",
            "200/200 [==============================] - 12s 61ms/step - loss: 0.3812 - val_loss: 0.4588\n",
            "Epoch 8/20\n",
            "200/200 [==============================] - 12s 61ms/step - loss: 0.3666 - val_loss: 0.4409\n",
            "Epoch 9/20\n",
            "200/200 [==============================] - 12s 61ms/step - loss: 0.3567 - val_loss: 0.4296\n",
            "Epoch 10/20\n",
            "200/200 [==============================] - 12s 61ms/step - loss: 0.3458 - val_loss: 0.4163\n",
            "Epoch 11/20\n",
            "200/200 [==============================] - 12s 61ms/step - loss: 0.3404 - val_loss: 0.4045\n",
            "Epoch 12/20\n",
            "200/200 [==============================] - 12s 61ms/step - loss: 0.3342 - val_loss: 0.4122\n",
            "Epoch 13/20\n",
            "200/200 [==============================] - 12s 61ms/step - loss: 0.3265 - val_loss: 0.4084\n",
            "Epoch 14/20\n",
            "200/200 [==============================] - 12s 61ms/step - loss: 0.3220 - val_loss: 0.3997\n",
            "Epoch 15/20\n",
            "200/200 [==============================] - 12s 61ms/step - loss: 0.3132 - val_loss: 0.4014\n",
            "Epoch 16/20\n",
            "200/200 [==============================] - 12s 61ms/step - loss: 0.3102 - val_loss: 0.3809\n",
            "Epoch 17/20\n",
            "200/200 [==============================] - 12s 61ms/step - loss: 0.3079 - val_loss: 0.3959\n",
            "Epoch 18/20\n",
            "200/200 [==============================] - 12s 61ms/step - loss: 0.3008 - val_loss: 0.3843\n",
            "Epoch 19/20\n",
            "200/200 [==============================] - 12s 61ms/step - loss: 0.2970 - val_loss: 0.3754\n",
            "Epoch 20/20\n",
            "200/200 [==============================] - 12s 61ms/step - loss: 0.2953 - val_loss: 0.3842\n"
          ],
          "name": "stdout"
        }
      ]
    },
    {
      "cell_type": "code",
      "metadata": {
        "id": "y-yLuQDERBlI",
        "outputId": "ce1c2f5f-b2ff-4990-c391-c3046586bf32"
      },
      "source": [
        "loss = history.history['loss']\n",
        "val_loss = history.history['val_loss']\n",
        "\n",
        "epochs = range(len(loss))\n",
        "\n",
        "plt.figure()\n",
        "\n",
        "plt.plot(epochs, loss, 'bo', label='Training loss')\n",
        "plt.plot(epochs, val_loss, 'b', label='Validation loss')\n",
        "plt.title('Training and validation loss')\n",
        "plt.legend()\n",
        "\n",
        "plt.show()"
      ],
      "execution_count": null,
      "outputs": [
        {
          "output_type": "display_data",
          "data": {
            "image/png": "[encoded data removed]",
            "text/plain": [
              "<Figure size 432x288 with 1 Axes>"
            ]
          },
          "metadata": {
            "tags": []
          }
        }
      ]
    },
    {
      "cell_type": "markdown",
      "metadata": {
        "id": "I3X6JGB3RBlI"
      },
      "source": [
        "\n",
        "So the reversed-order GRU strongly underperforms even the common-sense baseline, indicating that the in our case chronological processing is very \n",
        "important to the success of our approach. This makes perfect sense: the underlying GRU layer will typically be better at remembering the \n",
        "recent past than the distant past, and naturally the more recent weather data points are more predictive than older data points in our \n",
        "problem (that's precisely what makes the common-sense baseline a fairly strong baseline). Thus the chronological version of the layer is \n",
        "bound to outperform the reversed-order version. Importantly, this is generally not true for many other problems, including natural \n",
        "language: intuitively, the importance of a word in understanding a sentence is not usually dependent on its position in the sentence. Let's \n",
        "try the same trick on the LSTM IMDB example from the previous section:"
      ]
    },
    {
      "cell_type": "code",
      "metadata": {
        "id": "ZZmHchUGRBlI",
        "outputId": "a3a49470-d94e-4ed7-c2fa-e019cedf44d6"
      },
      "source": [
        "from tensorflow.keras.datasets import imdb\n",
        "from tensorflow.keras.preprocessing import sequence\n",
        "from tensorflow.keras import layers\n",
        "from tensorflow.keras.models import Sequential\n",
        "\n",
        "# Number of words to consider as features\n",
        "max_features = 10000\n",
        "# Cut texts after this number of words (among top max_features most common words)\n",
        "maxlen = 500\n",
        "\n",
        "# Load data\n",
        "(x_train, y_train), (x_test, y_test) = imdb.load_data(num_words=max_features)\n",
        "\n",
        "# Reverse sequences\n",
        "x_train = [x[::-1] for x in x_train]\n",
        "x_test = [x[::-1] for x in x_test]\n",
        "\n",
        "# Pad sequences\n",
        "x_train = sequence.pad_sequences(x_train, maxlen=maxlen)\n",
        "x_test = sequence.pad_sequences(x_test, maxlen=maxlen)\n",
        "\n",
        "model = Sequential()\n",
        "model.add(layers.Embedding(max_features, 128))\n",
        "model.add(layers.LSTM(32))\n",
        "model.add(layers.Dense(1, activation='sigmoid'))\n",
        "\n",
        "model.compile(optimizer='rmsprop',\n",
        "              loss='binary_crossentropy',\n",
        "              metrics=['acc'])\n",
        "history = model.fit(x_train, y_train,\n",
        "                    epochs=10,\n",
        "                    batch_size=128,\n",
        "                    validation_split=0.2)"
      ],
      "execution_count": null,
      "outputs": [
        {
          "output_type": "stream",
          "text": [
            "Train on 20000 samples, validate on 5000 samples\n",
            "Epoch 1/10\n",
            "20000/20000 [==============================] - 8s 397us/sample - loss: 0.4977 - acc: 0.7647 - val_loss: 0.3630 - val_acc: 0.8552\n",
            "Epoch 2/10\n",
            "20000/20000 [==============================] - 7s 327us/sample - loss: 0.3203 - acc: 0.8763 - val_loss: 0.3136 - val_acc: 0.8818\n",
            "Epoch 3/10\n",
            "20000/20000 [==============================] - 7s 339us/sample - loss: 0.2538 - acc: 0.9088 - val_loss: 0.3614 - val_acc: 0.8732\n",
            "Epoch 4/10\n",
            "20000/20000 [==============================] - 7s 333us/sample - loss: 0.2224 - acc: 0.9190 - val_loss: 0.3239 - val_acc: 0.8762\n",
            "Epoch 5/10\n",
            "20000/20000 [==============================] - 6s 312us/sample - loss: 0.1938 - acc: 0.9297 - val_loss: 0.4121 - val_acc: 0.8714\n",
            "Epoch 6/10\n",
            "20000/20000 [==============================] - 6s 313us/sample - loss: 0.1707 - acc: 0.9420 - val_loss: 0.3919 - val_acc: 0.8754\n",
            "Epoch 7/10\n",
            "20000/20000 [==============================] - 6s 301us/sample - loss: 0.1590 - acc: 0.9440 - val_loss: 0.4110 - val_acc: 0.8580\n",
            "Epoch 8/10\n",
            "20000/20000 [==============================] - 7s 334us/sample - loss: 0.1403 - acc: 0.9504 - val_loss: 0.3721 - val_acc: 0.8730\n",
            "Epoch 9/10\n",
            "20000/20000 [==============================] - 7s 332us/sample - loss: 0.1340 - acc: 0.9541 - val_loss: 0.4021 - val_acc: 0.8632\n",
            "Epoch 10/10\n",
            "20000/20000 [==============================] - 6s 324us/sample - loss: 0.1281 - acc: 0.9579 - val_loss: 0.4091 - val_acc: 0.8750\n"
          ],
          "name": "stdout"
        }
      ]
    },
    {
      "cell_type": "markdown",
      "metadata": {
        "id": "ZhtO5CXyRBlI"
      },
      "source": [
        "\n",
        "We get near-identical performance as the chronological-order LSTM we tried in the previous section.\n",
        "\n",
        "Thus, remarkably, on such a text dataset, reversed-order processing works just as well as chronological processing, confirming our \n",
        "hypothesis that, albeit word order *does* matter in understanding language, *which* order you use isn't crucial. Importantly, a RNN trained \n",
        "on reversed sequences will learn different representations than one trained on the original sequences, in much the same way that you would \n",
        "have quite different mental models if time flowed backwards in the real world -- if you lived a life where you died on your first day and \n",
        "you were born on your last day. In machine learning, representations that are *different* yet *useful* are always worth exploiting, and the \n",
        "more they differ the better: they offer a new angle from which to look at your data, capturing aspects of the data that were missed by other \n",
        "approaches, and thus they can allow to boost performance on a task. This is the intuition behind \"ensembling\", a concept that we will \n",
        "introduce in the next chapter.\n",
        "\n",
        "A bidirectional RNN exploits this idea to improve upon the performance of chronological-order RNNs: it looks at its inputs sequence both \n",
        "ways, obtaining potentially richer representations and capturing patterns that may have been missed by the chronological-order version alone."
      ]
    },
    {
      "cell_type": "markdown",
      "metadata": {
        "id": "o9vGWSahRBlI"
      },
      "source": [
        "![bidirectional rnn](https://s3.amazonaws.com/book.keras.io/img/ch6/bidirectional_rnn.png)"
      ]
    },
    {
      "cell_type": "markdown",
      "metadata": {
        "id": "XIvr9o6TRBlJ"
      },
      "source": [
        "To instantiate a bidirectional RNN in Keras, one would use the `Bidirectional` layer, which takes as first argument a recurrent layer \n",
        "instance. `Bidirectional` will create a second, separate instance of this recurrent layer, and will use one instance for processing the \n",
        "input sequences in chronological order and the other instance for processing the input sequences in reversed order. Let's try it on the \n",
        "IMDB sentiment analysis task:"
      ]
    },
    {
      "cell_type": "code",
      "metadata": {
        "id": "LJ_n4X_yRBlJ"
      },
      "source": [
        "from tensorflow.keras import backend as K\n",
        "K.clear_session()"
      ],
      "execution_count": null,
      "outputs": []
    },
    {
      "cell_type": "code",
      "metadata": {
        "id": "wHBFx8euRBlJ",
        "outputId": "99b1154b-7a70-45ab-d7bb-663fdb5e91f2"
      },
      "source": [
        "model = Sequential()\n",
        "model.add(layers.Embedding(max_features, 32))\n",
        "model.add(layers.Bidirectional(layers.LSTM(32)))\n",
        "model.add(layers.Dense(1, activation='sigmoid'))\n",
        "\n",
        "model.compile(optimizer='rmsprop', loss='binary_crossentropy', metrics=['acc'])\n",
        "history = model.fit(x_train, y_train, epochs=10, batch_size=128, validation_split=0.2)"
      ],
      "execution_count": null,
      "outputs": [
        {
          "output_type": "stream",
          "text": [
            "Train on 20000 samples, validate on 5000 samples\n",
            "Epoch 1/10\n",
            "20000/20000 [==============================] - 11s 573us/sample - loss: 0.5499 - acc: 0.7313 - val_loss: 0.4589 - val_acc: 0.7980\n",
            "Epoch 2/10\n",
            "20000/20000 [==============================] - 10s 521us/sample - loss: 0.3415 - acc: 0.8665 - val_loss: 0.3472 - val_acc: 0.8560\n",
            "Epoch 3/10\n",
            "20000/20000 [==============================] - 10s 509us/sample - loss: 0.2719 - acc: 0.9020 - val_loss: 0.3682 - val_acc: 0.8508\n",
            "Epoch 4/10\n",
            "20000/20000 [==============================] - 10s 513us/sample - loss: 0.2266 - acc: 0.9182 - val_loss: 0.3310 - val_acc: 0.8616\n",
            "Epoch 5/10\n",
            "20000/20000 [==============================] - 10s 522us/sample - loss: 0.2040 - acc: 0.9287 - val_loss: 0.6012 - val_acc: 0.8344\n",
            "Epoch 6/10\n",
            "20000/20000 [==============================] - 10s 502us/sample - loss: 0.1817 - acc: 0.9362 - val_loss: 0.3160 - val_acc: 0.8788\n",
            "Epoch 7/10\n",
            "20000/20000 [==============================] - 10s 503us/sample - loss: 0.1629 - acc: 0.9441 - val_loss: 0.3461 - val_acc: 0.8696\n",
            "Epoch 8/10\n",
            "20000/20000 [==============================] - 10s 515us/sample - loss: 0.1428 - acc: 0.9525 - val_loss: 0.3502 - val_acc: 0.8596\n",
            "Epoch 9/10\n",
            "20000/20000 [==============================] - 11s 530us/sample - loss: 0.1393 - acc: 0.9539 - val_loss: 0.4040 - val_acc: 0.8786\n",
            "Epoch 10/10\n",
            "20000/20000 [==============================] - 10s 490us/sample - loss: 0.1348 - acc: 0.9572 - val_loss: 0.3788 - val_acc: 0.8764\n"
          ],
          "name": "stdout"
        }
      ]
    },
    {
      "cell_type": "markdown",
      "metadata": {
        "id": "kEV0cvJvRBlJ"
      },
      "source": [
        "It performs slightly better than the regular LSTM we tried in the previous section, going above 88% validation accuracy. It also seems to \n",
        "overfit faster, which is unsurprising since a bidirectional layer has twice more parameters than a chronological LSTM. With some \n",
        "regularization, the bidirectional approach would likely be a strong performer on this task.\n",
        "\n",
        "Now let's try the same approach on the weather prediction task:"
      ]
    },
    {
      "cell_type": "code",
      "metadata": {
        "id": "0Ztn47PWRBlJ",
        "outputId": "d1407909-fd59-4819-bd93-5c393f0d3750"
      },
      "source": [
        "from tensorflow.keras.models import Sequential\n",
        "from tensorflow.keras import layers\n",
        "from tensorflow.keras.optimizers import RMSprop\n",
        "\n",
        "model = Sequential()\n",
        "model.add(layers.Bidirectional(\n",
        "    layers.GRU(32), input_shape=(None, float_data.shape[-1])))\n",
        "model.add(layers.Dense(1))\n",
        "\n",
        "model.compile(optimizer=RMSprop(), loss='mae')\n",
        "history = model.fit_generator(train_gen,\n",
        "                              steps_per_epoch=200,\n",
        "                              epochs=20,\n",
        "                              validation_data=val_gen,\n",
        "                              validation_steps=val_steps)"
      ],
      "execution_count": null,
      "outputs": [
        {
          "output_type": "stream",
          "text": [
            "Epoch 1/20\n",
            "200/200 [==============================] - 17s 85ms/step - loss: 0.3106 - val_loss: 0.2871\n",
            "Epoch 2/20\n",
            "200/200 [==============================] - 17s 85ms/step - loss: 0.2852 - val_loss: 0.2765\n",
            "Epoch 3/20\n",
            "200/200 [==============================] - 17s 85ms/step - loss: 0.2803 - val_loss: 0.2753\n",
            "Epoch 4/20\n",
            "200/200 [==============================] - 17s 85ms/step - loss: 0.2736 - val_loss: 0.2808\n",
            "Epoch 5/20\n",
            "200/200 [==============================] - 17s 85ms/step - loss: 0.2728 - val_loss: 0.2628\n",
            "Epoch 6/20\n",
            "200/200 [==============================] - 17s 85ms/step - loss: 0.2686 - val_loss: 0.2652\n",
            "Epoch 7/20\n",
            "200/200 [==============================] - 17s 85ms/step - loss: 0.2679 - val_loss: 0.2620\n",
            "Epoch 8/20\n",
            "200/200 [==============================] - 17s 85ms/step - loss: 0.2659 - val_loss: 0.2567\n",
            "Epoch 9/20\n",
            "200/200 [==============================] - 17s 85ms/step - loss: 0.2614 - val_loss: 0.2596\n",
            "Epoch 10/20\n",
            "200/200 [==============================] - 17s 85ms/step - loss: 0.2619 - val_loss: 0.2642\n",
            "Epoch 11/20\n",
            "200/200 [==============================] - 17s 86ms/step - loss: 0.2605 - val_loss: 0.2663\n",
            "Epoch 12/20\n",
            "200/200 [==============================] - 17s 85ms/step - loss: 0.2561 - val_loss: 0.2675\n",
            "Epoch 13/20\n",
            "200/200 [==============================] - 17s 85ms/step - loss: 0.2549 - val_loss: 0.2672\n",
            "Epoch 14/20\n",
            "200/200 [==============================] - 17s 85ms/step - loss: 0.2548 - val_loss: 0.2753\n",
            "Epoch 15/20\n",
            "200/200 [==============================] - 17s 85ms/step - loss: 0.2522 - val_loss: 0.2637\n",
            "Epoch 16/20\n",
            "200/200 [==============================] - 17s 85ms/step - loss: 0.2496 - val_loss: 0.2670\n",
            "Epoch 17/20\n",
            "200/200 [==============================] - 17s 85ms/step - loss: 0.2470 - val_loss: 0.2668\n",
            "Epoch 18/20\n",
            "200/200 [==============================] - 17s 85ms/step - loss: 0.2446 - val_loss: 0.2741\n",
            "Epoch 19/20\n",
            "200/200 [==============================] - 17s 86ms/step - loss: 0.2408 - val_loss: 0.2748\n",
            "Epoch 20/20\n",
            "200/200 [==============================] - 17s 86ms/step - loss: 0.2398 - val_loss: 0.2690\n"
          ],
          "name": "stdout"
        }
      ]
    },
    {
      "cell_type": "markdown",
      "metadata": {
        "id": "JT9PifBQRBlJ"
      },
      "source": [
        "\n",
        "It performs about as well as the regular GRU layer. It's easy to understand why: all of the predictive capacity must be coming from the \n",
        "chronological half of the network, since the anti-chronological half is known to be severely underperforming on this task (again, because \n",
        "the recent past matters much more than the distant past in this case)."
      ]
    },
    {
      "cell_type": "markdown",
      "metadata": {
        "id": "VPJwyN7ZRBlJ"
      },
      "source": [
        "\n",
        "## Going even further\n",
        "\n",
        "At this stage, there are still many other things you could try in order to improve performance on our weather forecasting problem:\n",
        "\n",
        "* Adjust the number of units in each recurrent layer in the stacked setup. Our current choices are largely arbitrary and thus likely \n",
        "suboptimal.\n",
        "* Adjust the learning rate used by our `RMSprop` optimizer.\n",
        "* Try using `LSTM` layers instead of `GRU` layers.\n",
        "* Try using a bigger densely-connected regressor on top of the recurrent layers, i.e. a bigger `Dense` layer or even a stack of `Dense` \n",
        "layers.\n",
        "* Don't forget to eventually run the best performing models (in terms of validation MAE) on the test set! Least you start developing \n",
        "architectures that are overfitting to the validation set.   \n",
        "\n",
        "As usual: deep learning is more an art than a science, and while we can provide guidelines as to what is likely to work or not work on a \n",
        "given problem, ultimately every problem is unique and you will have to try and evaluate different strategies empirically. There is \n",
        "currently no theory that will tell you in advance precisely what you should do to optimally solve a problem. You must try and iterate.\n",
        "\n",
        "\n",
        "## Wrapping up\n",
        "\n",
        "Here's what you should take away from this section:\n",
        "\n",
        "* As you first learned in Chapter 4, when approaching a new problem, \n",
        "it is good to first establish common sense baselines for your metric of choice. If you don't have a \n",
        "baseline to beat, you can't tell if you are making any real progress.\n",
        "* Try simple models before expensive ones, to justify the additional expense. Sometimes a simple model will turn out to be your best option.\n",
        "* On data where temporal ordering matters, recurrent networks are a great fit and easily outperform models that first flatten the temporal \n",
        "data.\n",
        "* To use dropout with recurrent networks, one should use a time-constant dropout mask and recurrent dropout mask. This is built into Keras \n",
        "recurrent layers, so all you have to do is use the `dropout` and `recurrent_dropout` arguments of recurrent layers.\n",
        "* Stacked RNNs provide more representational power than a single RNN layer. They are also much more expensive, and thus not always worth it. \n",
        "While they offer clear gains on complex problems (e.g. machine translation), they might not always be relevant to smaller, simpler problems.\n",
        "* Bidirectional RNNs, which look at a sequence both ways, are very useful on natural language processing problems. However, they will not \n",
        "be strong performers on sequence data where the recent past is much more informative than the beginning of the sequence.\n",
        "\n",
        "Note there are two important concepts that we will not cover in detail here: recurrent \"attention\", and sequence masking. Both tend to be \n",
        "especially relevant for natural language processing, and are not particularly applicable to our temperature forecasting problem. We will \n",
        "leave them for future study outside of this book."
      ]
    },
    {
      "cell_type": "code",
      "metadata": {
        "id": "z4Kf-BdwRBlK"
      },
      "source": [
        ""
      ],
      "execution_count": null,
      "outputs": []
    }
  ]
}