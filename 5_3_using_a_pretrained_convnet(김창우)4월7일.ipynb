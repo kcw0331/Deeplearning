{
  "nbformat": 4,
  "nbformat_minor": 0,
  "metadata": {
    "kernelspec": {
      "display_name": "Python 3",
      "language": "python",
      "name": "python3"
    },
    "language_info": {
      "codemirror_mode": {
        "name": "ipython",
        "version": 3
      },
      "file_extension": ".py",
      "mimetype": "text/x-python",
      "name": "python",
      "nbconvert_exporter": "python",
      "pygments_lexer": "ipython3",
      "version": "3.6.5"
    },
    "colab": {
      "name": "5.3-using-a-pretrained-convnet(김창우)4월7일.ipynb",
      "provenance": [],
      "collapsed_sections": [],
      "include_colab_link": true
    },
    "accelerator": "GPU"
  },
  "cells": [
    {
      "cell_type": "markdown",
      "metadata": {
        "id": "view-in-github",
        "colab_type": "text"
      },
      "source": [
        "<a href=\"https://colab.research.google.com/github/kcw0331/Deeplearning/blob/main/5_3_using_a_pretrained_convnet(%EA%B9%80%EC%B0%BD%EC%9A%B0)4%EC%9B%947%EC%9D%BC.ipynb\" target=\"_parent\"><img src=\"https://colab.research.google.com/assets/colab-badge.svg\" alt=\"Open In Colab\"/></a>"
      ]
    },
    {
      "cell_type": "code",
      "metadata": {
        "id": "e_OQP6rsC6uT",
        "colab": {
          "base_uri": "https://localhost:8080/",
          "height": 35
        },
        "outputId": "eefdfe5f-430f-4351-e876-a780a8f40c4c"
      },
      "source": [
        "import tensorflow\n",
        "tensorflow.keras.__version__"
      ],
      "execution_count": null,
      "outputs": [
        {
          "output_type": "execute_result",
          "data": {
            "application/vnd.google.colaboratory.intrinsic+json": {
              "type": "string"
            },
            "text/plain": [
              "'2.4.0'"
            ]
          },
          "metadata": {
            "tags": []
          },
          "execution_count": 1
        }
      ]
    },
    {
      "cell_type": "markdown",
      "metadata": {
        "id": "dPjZl2W5C6uX"
      },
      "source": [
        "# Using a pre-trained convnet\n",
        "\n",
        "This notebook contains the code sample found in Chapter 5, Section 3 of [Deep Learning with Python](https://www.manning.com/books/deep-learning-with-python?a_aid=keras&a_bid=76564dff). Note that the original text features far more content, in particular further explanations and figures: in this notebook, you will only find source code and related comments.\n",
        "\n",
        "----\n",
        "\n",
        "A common and highly effective approach to deep learning on small image datasets is to leverage a pre-trained network. A pre-trained network \n",
        "is simply a saved network previously trained on a large dataset, typically on a large-scale image classification task. If this original \n",
        "dataset is large enough and general enough, then the spatial feature hierarchy learned by the pre-trained network can effectively act as a \n",
        "generic model of our visual world, and hence its features can prove useful for many different computer vision problems, even though these \n",
        "new problems might involve completely different classes from those of the original task. For instance, one might train a network on \n",
        "ImageNet (where classes are mostly animals and everyday objects) and then re-purpose this trained network for something as remote as \n",
        "identifying furniture items in images. Such portability of learned features across different problems is a key advantage of deep learning \n",
        "compared to many older shallow learning approaches, and it makes deep learning very effective for small-data problems.\n",
        "\n",
        "In our case, we will consider a large convnet trained on the ImageNet dataset (1.4 million labeled images and 1000 different classes). \n",
        "ImageNet contains many animal classes, including different species of cats and dogs, and we can thus expect to perform very well on our cat \n",
        "vs. dog classification problem.\n",
        "\n",
        "We will use the VGG16 architecture, developed by Karen Simonyan and Andrew Zisserman in 2014, a simple and widely used convnet architecture \n",
        "for ImageNet. Although it is a bit of an older model, far from the current state of the art and somewhat heavier than many other recent \n",
        "models, we chose it because its architecture is similar to what you are already familiar with, and easy to understand without introducing \n",
        "any new concepts. This may be your first encounter with one of these cutesie model names -- VGG, ResNet, Inception, Inception-ResNet, \n",
        "Xception... you will get used to them, as they will come up frequently if you keep doing deep learning for computer vision.\n",
        "\n",
        "There are two ways to leverage a pre-trained network: *feature extraction* and *fine-tuning*. We will cover both of them. Let's start with \n",
        "feature extraction."
      ]
    },
    {
      "cell_type": "markdown",
      "metadata": {
        "id": "tFSLrvtXC6uY"
      },
      "source": [
        "## Feature extraction\n",
        "\n",
        "Feature extraction consists of using the representations learned by a previous network to extract interesting features from new samples. \n",
        "These features are then run through a new classifier, which is trained from scratch.\n",
        "\n",
        "As we saw previously, convnets used for image classification comprise two parts: they start with a series of pooling and convolution \n",
        "layers, and they end with a densely-connected classifier. The first part is called the \"convolutional base\" of the model. In the case of \n",
        "convnets, \"feature extraction\" will simply consist of taking the convolutional base of a previously-trained network, running the new data \n",
        "through it, and training a new classifier on top of the output.\n",
        "\n",
        "![swapping FC classifiers](https://s3.amazonaws.com/book.keras.io/img/ch5/swapping_fc_classifier.png)\n",
        "\n",
        "Why only reuse the convolutional base? Could we reuse the densely-connected classifier as well? In general, it should be avoided. The \n",
        "reason is simply that the representations learned by the convolutional base are likely to be more generic and therefore more reusable: the \n",
        "feature maps of a convnet are presence maps of generic concepts over a picture, which is likely to be useful regardless of the computer \n",
        "vision problem at hand. On the other end, the representations learned by the classifier will necessarily be very specific to the set of \n",
        "classes that the model was trained on -- they will only contain information about the presence probability of this or that class in the \n",
        "entire picture. Additionally, representations found in densely-connected layers no longer contain any information about _where_ objects are \n",
        "located in the input image: these layers get rid of the notion of space, whereas the object location is still described by convolutional \n",
        "feature maps. For problems where object location matters, densely-connected features would be largely useless.\n",
        "\n",
        "Note that the level of generality (and therefore reusability) of the representations extracted by specific convolution layers depends on \n",
        "the depth of the layer in the model. Layers that come earlier in the model extract local, highly generic feature maps (such as visual \n",
        "edges, colors, and textures), while layers higher-up extract more abstract concepts (such as \"cat ear\" or \"dog eye\"). So if your new \n",
        "dataset differs a lot from the dataset that the original model was trained on, you may be better off using only the first few layers of the \n",
        "model to do feature extraction, rather than using the entire convolutional base.\n",
        "\n",
        "In our case, since the ImageNet class set did contain multiple dog and cat classes, it is likely that it would be beneficial to reuse the \n",
        "information contained in the densely-connected layers of the original model. However, we will chose not to, in order to cover the more \n",
        "general case where the class set of the new problem does not overlap with the class set of the original model."
      ]
    },
    {
      "cell_type": "markdown",
      "metadata": {
        "id": "Jg7T0UvKC6uZ"
      },
      "source": [
        "Let's put this in practice by using the convolutional base of the VGG16 network, trained on ImageNet, to extract interesting features from \n",
        "our cat and dog images, and then training a cat vs. dog classifier on top of these features.\n",
        "\n",
        "The VGG16 model, among others, comes pre-packaged with Keras. You can import it from the `keras.applications` module. Here's the list of \n",
        "image classification models (all pre-trained on the ImageNet dataset) that are available as part of `keras.applications`:\n",
        "\n",
        "* Xception\n",
        "* InceptionV3\n",
        "* ResNet50\n",
        "* VGG16\n",
        "* VGG19\n",
        "* MobileNet\n",
        "\n",
        "Let's instantiate the VGG16 model:"
      ]
    },
    {
      "cell_type": "code",
      "metadata": {
        "id": "teyRBIXHC6uZ",
        "colab": {
          "base_uri": "https://localhost:8080/"
        },
        "outputId": "082a9eba-3b9c-4402-ce60-6caaa48706eb"
      },
      "source": [
        "from tensorflow.keras.applications import VGG16  #VGG16의 네트워크를 불러온다음에 \n",
        "\n",
        "conv_base = VGG16(weights='imagenet',  #그리고 conv_base를 VGG16을 가지고 온다. weights는 imagenet을 가지고 오고 \n",
        "                  include_top=False,  #마지막에 classification layer는 빼서 feature를 가지고 오는 conv_base가 된다. \n",
        "                  input_shape=(150, 150, 3)) #그리고 input_shape는 150콤마 150콤마 3이 된다. "
      ],
      "execution_count": null,
      "outputs": [
        {
          "output_type": "stream",
          "text": [
            "Downloading data from https://storage.googleapis.com/tensorflow/keras-applications/vgg16/vgg16_weights_tf_dim_ordering_tf_kernels_notop.h5\n",
            "58892288/58889256 [==============================] - 1s 0us/step\n"
          ],
          "name": "stdout"
        }
      ]
    },
    {
      "cell_type": "markdown",
      "metadata": {
        "id": "ovApbx7TC6uZ"
      },
      "source": [
        "We passed three arguments to the constructor:\n",
        "\n",
        "* `weights`, to specify which weight checkpoint to initialize the model from\n",
        "* `include_top`, which refers to including or not the densely-connected classifier on top of the network. By default, this \n",
        "densely-connected classifier would correspond to the 1000 classes from ImageNet. Since we intend to use our own densely-connected \n",
        "classifier (with only two classes, cat and dog), we don't need to include it.\n",
        "* `input_shape`, the shape of the image tensors that we will feed to the network. This argument is purely optional: if we don't pass it, \n",
        "then the network will be able to process inputs of any size.\n",
        "\n",
        "Here's the detail of the architecture of the VGG16 convolutional base: it's very similar to the simple convnets that you are already \n",
        "familiar with."
      ]
    },
    {
      "cell_type": "code",
      "metadata": {
        "id": "4nMzL1RLC6ua",
        "colab": {
          "base_uri": "https://localhost:8080/"
        },
        "outputId": "0a193079-6b63-42ea-fdb5-25ed1681216f"
      },
      "source": [
        "conv_base.summary()"
      ],
      "execution_count": null,
      "outputs": [
        {
          "output_type": "stream",
          "text": [
            "Model: \"vgg16\"\n",
            "_________________________________________________________________\n",
            "Layer (type)                 Output Shape              Param #   \n",
            "=================================================================\n",
            "input_1 (InputLayer)         [(None, 150, 150, 3)]     0         \n",
            "_________________________________________________________________\n",
            "block1_conv1 (Conv2D)        (None, 150, 150, 64)      1792      \n",
            "_________________________________________________________________\n",
            "block1_conv2 (Conv2D)        (None, 150, 150, 64)      36928     \n",
            "_________________________________________________________________\n",
            "block1_pool (MaxPooling2D)   (None, 75, 75, 64)        0         \n",
            "_________________________________________________________________\n",
            "block2_conv1 (Conv2D)        (None, 75, 75, 128)       73856     \n",
            "_________________________________________________________________\n",
            "block2_conv2 (Conv2D)        (None, 75, 75, 128)       147584    \n",
            "_________________________________________________________________\n",
            "block2_pool (MaxPooling2D)   (None, 37, 37, 128)       0         \n",
            "_________________________________________________________________\n",
            "block3_conv1 (Conv2D)        (None, 37, 37, 256)       295168    \n",
            "_________________________________________________________________\n",
            "block3_conv2 (Conv2D)        (None, 37, 37, 256)       590080    \n",
            "_________________________________________________________________\n",
            "block3_conv3 (Conv2D)        (None, 37, 37, 256)       590080    \n",
            "_________________________________________________________________\n",
            "block3_pool (MaxPooling2D)   (None, 18, 18, 256)       0         \n",
            "_________________________________________________________________\n",
            "block4_conv1 (Conv2D)        (None, 18, 18, 512)       1180160   \n",
            "_________________________________________________________________\n",
            "block4_conv2 (Conv2D)        (None, 18, 18, 512)       2359808   \n",
            "_________________________________________________________________\n",
            "block4_conv3 (Conv2D)        (None, 18, 18, 512)       2359808   \n",
            "_________________________________________________________________\n",
            "block4_pool (MaxPooling2D)   (None, 9, 9, 512)         0         \n",
            "_________________________________________________________________\n",
            "block5_conv1 (Conv2D)        (None, 9, 9, 512)         2359808   \n",
            "_________________________________________________________________\n",
            "block5_conv2 (Conv2D)        (None, 9, 9, 512)         2359808   \n",
            "_________________________________________________________________\n",
            "block5_conv3 (Conv2D)        (None, 9, 9, 512)         2359808   \n",
            "_________________________________________________________________\n",
            "block5_pool (MaxPooling2D)   (None, 4, 4, 512)         0         \n",
            "=================================================================\n",
            "Total params: 14,714,688\n",
            "Trainable params: 14,714,688\n",
            "Non-trainable params: 0\n",
            "_________________________________________________________________\n"
          ],
          "name": "stdout"
        }
      ]
    },
    {
      "cell_type": "markdown",
      "metadata": {
        "id": "pn4OZ-2NuCT5"
      },
      "source": [
        "- conv_base summary를 하게 되면 간단한 VGG16이 나오는 것을 알 수 있다. \n",
        "- 그래서 summary를 보았을 때 4, 4, 512가 나오는 것을 알 수 있다. "
      ]
    },
    {
      "cell_type": "markdown",
      "metadata": {
        "id": "6FeiQSzfC6ua"
      },
      "source": [
        "The final feature map has shape `(4, 4, 512)`. That's the feature on top of which we will stick a densely-connected classifier.\n",
        "\n",
        "At this point, there are two ways we could proceed: \n",
        "\n",
        "* Running the convolutional base over our dataset, recording its output to a Numpy array on disk, then using this data as input to a \n",
        "standalone densely-connected classifier similar to those you have seen in the first chapters of this book. This solution is very fast and \n",
        "cheap to run, because it only requires running the convolutional base once for every input image, and the convolutional base is by far the \n",
        "most expensive part of the pipeline. However, for the exact same reason, this technique would not allow us to leverage data augmentation at \n",
        "all.\n",
        "* Extending the model we have (`conv_base`) by adding `Dense` layers on top, and running the whole thing end-to-end on the input data. This \n",
        "allows us to use data augmentation, because every input image is going through the convolutional base every time it is seen by the model. \n",
        "However, for this same reason, this technique is far more expensive than the first one.\n",
        "\n",
        "We will cover both techniques. Let's walk through the code required to set-up the first one: recording the output of `conv_base` on our \n",
        "data and using these outputs as inputs to a new model.\n",
        "\n",
        "We will start by simply running instances of the previously-introduced `ImageDataGenerator` to extract images as Numpy arrays as well as \n",
        "their labels. We will extract features from these images simply by calling the `predict` method of the `conv_base` model."
      ]
    },
    {
      "cell_type": "code",
      "metadata": {
        "id": "c4soU-mAC6ua"
      },
      "source": [
        "import os\n",
        "import numpy as np\n",
        "from tensorflow.keras.preprocessing.image import ImageDataGenerator"
      ],
      "execution_count": null,
      "outputs": []
    },
    {
      "cell_type": "code",
      "metadata": {
        "id": "HSv6a047C6ub",
        "colab": {
          "base_uri": "https://localhost:8080/"
        },
        "outputId": "d6aa5d55-e1d1-4920-df3d-0666e2fbb8ae"
      },
      "source": [
        "_URL = 'https://storage.googleapis.com/mledu-datasets/cats_and_dogs_filtered.zip'\n",
        "\n",
        "path_to_zip = tensorflow.keras.utils.get_file('cats_and_dogs.zip', origin=_URL, extract=True)   #그리고 데이터를 가지고 오는데, 우리가 가지고 오는 데이터는 cats_and_dogs의 데이터를 가지고 온다. \n",
        "\n",
        "PATH = os.path.join(os.path.dirname(path_to_zip), 'cats_and_dogs_filtered')\n",
        "\n",
        "train_dir = os.path.join(PATH, 'train')\n",
        "validation_dir = os.path.join(PATH, 'validation')\n",
        "\n",
        "train_cats_dir = os.path.join(train_dir, 'cats')  # directory with our training cat pictures\n",
        "train_dogs_dir = os.path.join(train_dir, 'dogs')  # directory with our training dog pictures\n",
        "validation_cats_dir = os.path.join(validation_dir, 'cats')  # directory with our validation cat pictures\n",
        "validation_dogs_dir = os.path.join(validation_dir, 'dogs')  # directory with our validation dog pictures"
      ],
      "execution_count": null,
      "outputs": [
        {
          "output_type": "stream",
          "text": [
            "Downloading data from https://storage.googleapis.com/mledu-datasets/cats_and_dogs_filtered.zip\n",
            "68608000/68606236 [==============================] - 0s 0us/step\n"
          ],
          "name": "stdout"
        }
      ]
    },
    {
      "cell_type": "code",
      "metadata": {
        "id": "wY7TBJ31C6ub",
        "colab": {
          "base_uri": "https://localhost:8080/"
        },
        "outputId": "c1b0c9dd-1910-4366-a9c2-41773dea87b8"
      },
      "source": [
        "#교수님이 책에서는 이렇게 코드를 썼는데, 이렇게 손으로 코드를 짜는 방법 말고도 다른 방법을 사용해서 하는 방법도 있다고 말씀하심. 그래서 이거 같은 경우는 코드를 보고 이렇게 코드를 짜는구나하는 것을 알아 두라고 말씀하심.\n",
        "datagen = ImageDataGenerator(rescale=1./255)\n",
        "batch_size = 20\n",
        "\n",
        "def extract_features(directory, sample_count):\n",
        "    features = np.zeros(shape=(sample_count, 4, 4, 512))\n",
        "    labels = np.zeros(shape=(sample_count))\n",
        "    generator = datagen.flow_from_directory(\n",
        "        directory,\n",
        "        target_size=(150, 150),\n",
        "        batch_size=batch_size,\n",
        "        class_mode='binary')\n",
        "    i = 0\n",
        "    for inputs_batch, labels_batch in generator:\n",
        "        features_batch = conv_base.predict(inputs_batch)\n",
        "        features[i * batch_size : (i + 1) * batch_size] = features_batch\n",
        "        labels[i * batch_size : (i + 1) * batch_size] = labels_batch\n",
        "        i += 1\n",
        "        if i * batch_size >= sample_count:\n",
        "            # Note that since generators yield data indefinitely in a loop,\n",
        "            # we must `break` after every image has been seen once.\n",
        "            break\n",
        "    return features, labels\n",
        "\n",
        "train_features, train_labels = extract_features(train_dir, 2000)\n",
        "validation_features, validation_labels = extract_features(validation_dir, 1000)\n",
        "#test_features, test_labels = extract_features(test_dir, 1000)"
      ],
      "execution_count": null,
      "outputs": [
        {
          "output_type": "stream",
          "text": [
            "Found 2000 images belonging to 2 classes.\n",
            "Found 1000 images belonging to 2 classes.\n"
          ],
          "name": "stdout"
        }
      ]
    },
    {
      "cell_type": "markdown",
      "metadata": {
        "id": "i9GaUti5wbm3"
      },
      "source": [
        "- train의 2000개의 데이터를 preprocessing을 해주기 때문에 시간이 많이 걸린다고 말씀하심.\n",
        "- 그리고 test set에서는 1000개의 데이터에 대해서 preprocessing을 해준다. "
      ]
    },
    {
      "cell_type": "code",
      "metadata": {
        "id": "UqcQFA0BC6ub",
        "colab": {
          "base_uri": "https://localhost:8080/"
        },
        "outputId": "e7136c52-2bb2-4aa2-fd75-970647cceb1f"
      },
      "source": [
        "#여기에서는 preprocessing이 끝나고 난다음에 확인을 하게되면 train_features를 4,4,512를 가지고 왔다는 것을 알 수 있다. \n",
        "train_features.shape    "
      ],
      "execution_count": null,
      "outputs": [
        {
          "output_type": "execute_result",
          "data": {
            "text/plain": [
              "(2000, 4, 4, 512)"
            ]
          },
          "metadata": {
            "tags": []
          },
          "execution_count": 14
        }
      ]
    },
    {
      "cell_type": "markdown",
      "metadata": {
        "id": "FiC0Mdy-xZo_"
      },
      "source": [
        "- 4,4,512 애를 feature라고 생각한 다음에 그리고나서 training을 진행하면 된다고 말씀하심."
      ]
    },
    {
      "cell_type": "code",
      "metadata": {
        "id": "oa-w1mpnC6uc"
      },
      "source": [
        ""
      ],
      "execution_count": null,
      "outputs": []
    },
    {
      "cell_type": "code",
      "metadata": {
        "id": "FJH_PdnlC6uc"
      },
      "source": [
        "#import os\n",
        "#import numpy as np\n",
        "#from tensorflow.keras.preprocessing.image import ImageDataGenerator\n",
        "\n",
        "#base_dir = '/Users/fchollet/Downloads/cats_and_dogs_small'\n",
        "\n",
        "#train_dir = os.path.join(base_dir, 'train')\n",
        "#validation_dir = os.path.join(base_dir, 'validation')\n",
        "#test_dir = os.path.join(base_dir, 'test')\n",
        "\n",
        "#datagen = ImageDataGenerator(rescale=1./255)\n",
        "#batch_size = 20\n",
        "\n",
        "def extract_features(directory, sample_count):\n",
        "    features = np.zeros(shape=(sample_count, 4, 4, 512))\n",
        "    labels = np.zeros(shape=(sample_count))\n",
        "    generator = datagen.flow_from_directory(\n",
        "        directory,\n",
        "        target_size=(150, 150),\n",
        "        batch_size=batch_size,\n",
        "        class_mode='binary')\n",
        "    i = 0\n",
        "    for inputs_batch, labels_batch in generator:\n",
        "        features_batch = conv_base.predict(inputs_batch)\n",
        "        features[i * batch_size : (i + 1) * batch_size] = features_batch\n",
        "        labels[i * batch_size : (i + 1) * batch_size] = labels_batch\n",
        "        i += 1\n",
        "        if i * batch_size >= sample_count:\n",
        "            # Note that since generators yield data indefinitely in a loop,\n",
        "            # we must `break` after every image has been seen once.\n",
        "            break\n",
        "    return features, labels\n",
        "\n",
        "#train_features, train_labels = extract_features(train_dir, 2000)\n",
        "#validation_features, validation_labels = extract_features(validation_dir, 1000)\n",
        "#test_features, test_labels = extract_features(test_dir, 1000)"
      ],
      "execution_count": null,
      "outputs": []
    },
    {
      "cell_type": "markdown",
      "metadata": {
        "id": "Tx1oKSqtC6uc"
      },
      "source": [
        "The extracted features are currently of shape `(samples, 4, 4, 512)`. We will feed them to a densely-connected classifier, so first we must \n",
        "flatten them to `(samples, 8192)`:"
      ]
    },
    {
      "cell_type": "code",
      "metadata": {
        "id": "JRMNiH0uC6uc",
        "colab": {
          "base_uri": "https://localhost:8080/"
        },
        "outputId": "046b90cf-bf68-4ef3-c45b-805969523103"
      },
      "source": [
        "train_features.shape"
      ],
      "execution_count": null,
      "outputs": [
        {
          "output_type": "execute_result",
          "data": {
            "text/plain": [
              "(2000, 4, 4, 512)"
            ]
          },
          "metadata": {
            "tags": []
          },
          "execution_count": 19
        }
      ]
    },
    {
      "cell_type": "code",
      "metadata": {
        "id": "7fBV2CEUC6uc"
      },
      "source": [
        "train_features = np.reshape(train_features, (2000, 4 * 4 * 512))   #그리고 여기에서는 4 * 4 * 512해서 reshape해주는 부분이다. 그러니깐 4,4,512를 4*4*512를 해줘서 flatten시켜주었다. \n",
        "validation_features = np.reshape(validation_features, (1000, 4 * 4 * 512))\n",
        "#test_features = np.reshape(test_features, (1000, 4 * 4 * 512))"
      ],
      "execution_count": null,
      "outputs": []
    },
    {
      "cell_type": "code",
      "metadata": {
        "id": "Wj93BqOGC6ud",
        "colab": {
          "base_uri": "https://localhost:8080/"
        },
        "outputId": "248cc909-e3bd-405a-9411-b1c3533a59ce"
      },
      "source": [
        "train_features.shape"
      ],
      "execution_count": null,
      "outputs": [
        {
          "output_type": "execute_result",
          "data": {
            "text/plain": [
              "(2000, 8192)"
            ]
          },
          "metadata": {
            "tags": []
          },
          "execution_count": 21
        }
      ]
    },
    {
      "cell_type": "markdown",
      "metadata": {
        "id": "WQ_IicK1C6ud"
      },
      "source": [
        "At this point, we can define our densely-connected classifier (note the use of dropout for regularization), and train it on the data and \n",
        "labels that we just recorded:"
      ]
    },
    {
      "cell_type": "code",
      "metadata": {
        "id": "8V2fxI7cC6ud",
        "colab": {
          "base_uri": "https://localhost:8080/"
        },
        "outputId": "0036a5db-8a0d-409f-ec51-f60e1ce528cf"
      },
      "source": [
        "#그리고 여기는 Dese layer를 달아가지고 training을 해주는 과정이 된다. 그리고 trainsfor learning을 하게 된다. \n",
        "from tensorflow.keras import models\n",
        "from tensorflow.keras import layers\n",
        "from tensorflow.keras import optimizers\n",
        "\n",
        "model = models.Sequential()\n",
        "model.add(layers.Dense(256, activation='relu', input_dim=4 * 4 * 512))\n",
        "model.add(layers.Dropout(0.5))\n",
        "model.add(layers.Dense(1, activation='sigmoid'))\n",
        "\n",
        "model.compile(optimizer=optimizers.RMSprop(lr=2e-5),\n",
        "              loss='binary_crossentropy',\n",
        "              metrics=['acc'])\n",
        "\n",
        "history = model.fit(train_features, train_labels,\n",
        "                    epochs=30,\n",
        "                    batch_size=20,\n",
        "                    validation_data=(validation_features, validation_labels))"
      ],
      "execution_count": null,
      "outputs": [
        {
          "output_type": "stream",
          "text": [
            "Epoch 1/30\n",
            "100/100 [==============================] - 2s 8ms/step - loss: 0.6787 - acc: 0.6040 - val_loss: 0.4415 - val_acc: 0.8220\n",
            "Epoch 2/30\n",
            "100/100 [==============================] - 1s 6ms/step - loss: 0.4478 - acc: 0.7990 - val_loss: 0.3678 - val_acc: 0.8500\n",
            "Epoch 3/30\n",
            "100/100 [==============================] - 1s 6ms/step - loss: 0.3665 - acc: 0.8451 - val_loss: 0.3350 - val_acc: 0.8600\n",
            "Epoch 4/30\n",
            "100/100 [==============================] - 1s 6ms/step - loss: 0.3254 - acc: 0.8664 - val_loss: 0.3109 - val_acc: 0.8680\n",
            "Epoch 5/30\n",
            "100/100 [==============================] - 1s 6ms/step - loss: 0.2816 - acc: 0.8864 - val_loss: 0.2994 - val_acc: 0.8730\n",
            "Epoch 6/30\n",
            "100/100 [==============================] - 1s 6ms/step - loss: 0.2575 - acc: 0.9077 - val_loss: 0.2897 - val_acc: 0.8740\n",
            "Epoch 7/30\n",
            "100/100 [==============================] - 1s 6ms/step - loss: 0.2511 - acc: 0.8951 - val_loss: 0.2811 - val_acc: 0.8730\n",
            "Epoch 8/30\n",
            "100/100 [==============================] - 1s 6ms/step - loss: 0.2248 - acc: 0.9189 - val_loss: 0.2820 - val_acc: 0.8760\n",
            "Epoch 9/30\n",
            "100/100 [==============================] - 1s 6ms/step - loss: 0.2234 - acc: 0.9093 - val_loss: 0.2773 - val_acc: 0.8800\n",
            "Epoch 10/30\n",
            "100/100 [==============================] - 1s 6ms/step - loss: 0.2184 - acc: 0.9211 - val_loss: 0.2695 - val_acc: 0.8800\n",
            "Epoch 11/30\n",
            "100/100 [==============================] - 1s 6ms/step - loss: 0.2070 - acc: 0.9150 - val_loss: 0.2710 - val_acc: 0.8800\n",
            "Epoch 12/30\n",
            "100/100 [==============================] - 1s 6ms/step - loss: 0.1843 - acc: 0.9285 - val_loss: 0.2635 - val_acc: 0.8820\n",
            "Epoch 13/30\n",
            "100/100 [==============================] - 1s 6ms/step - loss: 0.1801 - acc: 0.9351 - val_loss: 0.2622 - val_acc: 0.8830\n",
            "Epoch 14/30\n",
            "100/100 [==============================] - 1s 6ms/step - loss: 0.1666 - acc: 0.9410 - val_loss: 0.2601 - val_acc: 0.8850\n",
            "Epoch 15/30\n",
            "100/100 [==============================] - 1s 6ms/step - loss: 0.1542 - acc: 0.9503 - val_loss: 0.2647 - val_acc: 0.8730\n",
            "Epoch 16/30\n",
            "100/100 [==============================] - 1s 6ms/step - loss: 0.1625 - acc: 0.9436 - val_loss: 0.2636 - val_acc: 0.8760\n",
            "Epoch 17/30\n",
            "100/100 [==============================] - 1s 6ms/step - loss: 0.1674 - acc: 0.9431 - val_loss: 0.2585 - val_acc: 0.8850\n",
            "Epoch 18/30\n",
            "100/100 [==============================] - 1s 6ms/step - loss: 0.1357 - acc: 0.9520 - val_loss: 0.2585 - val_acc: 0.8900\n",
            "Epoch 19/30\n",
            "100/100 [==============================] - 1s 6ms/step - loss: 0.1370 - acc: 0.9534 - val_loss: 0.2571 - val_acc: 0.8870\n",
            "Epoch 20/30\n",
            "100/100 [==============================] - 1s 6ms/step - loss: 0.1303 - acc: 0.9526 - val_loss: 0.2625 - val_acc: 0.8770\n",
            "Epoch 21/30\n",
            "100/100 [==============================] - 1s 6ms/step - loss: 0.1269 - acc: 0.9595 - val_loss: 0.2595 - val_acc: 0.8780\n",
            "Epoch 22/30\n",
            "100/100 [==============================] - 1s 6ms/step - loss: 0.1354 - acc: 0.9458 - val_loss: 0.2639 - val_acc: 0.8800\n",
            "Epoch 23/30\n",
            "100/100 [==============================] - 1s 6ms/step - loss: 0.1100 - acc: 0.9679 - val_loss: 0.2593 - val_acc: 0.8850\n",
            "Epoch 24/30\n",
            "100/100 [==============================] - 1s 6ms/step - loss: 0.1084 - acc: 0.9682 - val_loss: 0.2584 - val_acc: 0.8810\n",
            "Epoch 25/30\n",
            "100/100 [==============================] - 1s 6ms/step - loss: 0.1128 - acc: 0.9596 - val_loss: 0.2576 - val_acc: 0.8840\n",
            "Epoch 26/30\n",
            "100/100 [==============================] - 1s 6ms/step - loss: 0.1051 - acc: 0.9663 - val_loss: 0.2566 - val_acc: 0.8830\n",
            "Epoch 27/30\n",
            "100/100 [==============================] - 1s 6ms/step - loss: 0.0976 - acc: 0.9724 - val_loss: 0.2590 - val_acc: 0.8810\n",
            "Epoch 28/30\n",
            "100/100 [==============================] - 1s 6ms/step - loss: 0.0960 - acc: 0.9717 - val_loss: 0.2580 - val_acc: 0.8830\n",
            "Epoch 29/30\n",
            "100/100 [==============================] - 1s 6ms/step - loss: 0.0905 - acc: 0.9746 - val_loss: 0.2618 - val_acc: 0.8850\n",
            "Epoch 30/30\n",
            "100/100 [==============================] - 1s 6ms/step - loss: 0.0803 - acc: 0.9801 - val_loss: 0.2648 - val_acc: 0.8890\n"
          ],
          "name": "stdout"
        }
      ]
    },
    {
      "cell_type": "markdown",
      "metadata": {
        "id": "OjpVmvZLC6ud"
      },
      "source": [
        "Training is very fast, since we only have to deal with two `Dense` layers -- an epoch takes less than one second even on CPU.\n",
        "\n",
        "Let's take a look at the loss and accuracy curves during training:"
      ]
    },
    {
      "cell_type": "code",
      "metadata": {
        "id": "hEE7ftRrC6ud",
        "colab": {
          "base_uri": "https://localhost:8080/",
          "height": 545
        },
        "outputId": "4aa25ec7-5e54-4b36-8bc4-77e4b3cabe27"
      },
      "source": [
        "import matplotlib.pyplot as plt\n",
        "\n",
        "acc = history.history['acc']\n",
        "val_acc = history.history['val_acc']\n",
        "loss = history.history['loss']\n",
        "val_loss = history.history['val_loss']\n",
        "\n",
        "epochs = range(len(acc))\n",
        "\n",
        "plt.plot(epochs, acc, 'bo', label='Training acc')\n",
        "plt.plot(epochs, val_acc, 'b', label='Validation acc')\n",
        "plt.title('Training and validation accuracy')\n",
        "plt.legend()\n",
        "\n",
        "plt.figure()\n",
        "\n",
        "plt.plot(epochs, loss, 'bo', label='Training loss')\n",
        "plt.plot(epochs, val_loss, 'b', label='Validation loss')\n",
        "plt.title('Training and validation loss')\n",
        "plt.legend()\n",
        "\n",
        "plt.show()"
      ],
      "execution_count": null,
      "outputs": [
        {
          "output_type": "display_data",
          "data": {
            "image/png": "[encoded data removed]",
            "text/plain": [
              "<Figure size 432x288 with 1 Axes>"
            ]
          },
          "metadata": {
            "tags": [],
            "needs_background": "light"
          }
        },
        {
          "output_type": "display_data",
          "data": {
            "image/png": "[encoded data removed]",
            "text/plain": [
              "<Figure size 432x288 with 1 Axes>"
            ]
          },
          "metadata": {
            "tags": [],
            "needs_background": "light"
          }
        }
      ]
    },
    {
      "cell_type": "markdown",
      "metadata": {
        "id": "twRQBRyP0pyN"
      },
      "source": [
        "- 그래프를 통해 보았을때 validation이 좋지 않다는 것을 알 수 있다. 그래서 fitting이 막 잘 되고 있다는 것을 볼 수 없다. 그래서 이럴 때는 이미지 데이터에서 우리가 배웠던 Data agument를 사용해서 성능을 늘려줄 수 있다. "
      ]
    },
    {
      "cell_type": "markdown",
      "metadata": {
        "id": "xpzdYT1aC6ud"
      },
      "source": [
        "\n",
        "We reach a validation accuracy of about 90%, much better than what we could achieve in the previous section with our small model trained from \n",
        "scratch. However, our plots also indicate that we are overfitting almost from the start -- despite using dropout with a fairly large rate. \n",
        "This is because this technique does not leverage data augmentation, which is essential to preventing overfitting with small image datasets.\n",
        "\n",
        "Now, let's review the second technique we mentioned for doing feature extraction, which is much slower and more expensive, but which allows \n",
        "us to leverage data augmentation during training: extending the `conv_base` model and running it end-to-end on the inputs. Note that this \n",
        "technique is in fact so expensive that you should only attempt it if you have access to a GPU: it is absolutely intractable on CPU. If you \n",
        "cannot run your code on GPU, then the previous technique is the way to go.\n",
        "\n",
        "Because models behave just like layers, you can add a model (like our `conv_base`) to a `Sequential` model just like you would add a layer. \n",
        "So you can do the following:"
      ]
    },
    {
      "cell_type": "code",
      "metadata": {
        "id": "WqO--827C6ue"
      },
      "source": [
        "#여기서 부터는 image data argumentaion 코드가 포함된 것을 사용해서 진행을 한다. \n",
        "from tensorflow.keras import models\n",
        "from tensorflow.keras import layers\n",
        "\n",
        "model = models.Sequential()  #먼저 network layer 같은 경우에는 Sequential에서 conv_base를 해서 VGG16을 달아주고 \n",
        "model.add(conv_base)\n",
        "model.add(layers.Flatten())  #그리고 Flatten layer를 달고 그 다음에 dense layer를 두개 달아서 \n",
        "model.add(layers.Dense(256, activation='relu'))\n",
        "model.add(layers.Dense(1, activation='sigmoid'))"
      ],
      "execution_count": null,
      "outputs": []
    },
    {
      "cell_type": "markdown",
      "metadata": {
        "id": "Md6wQmCPC6ue"
      },
      "source": [
        "This is what our model looks like now:"
      ]
    },
    {
      "cell_type": "code",
      "metadata": {
        "id": "CW-zJVt1C6ue",
        "colab": {
          "base_uri": "https://localhost:8080/"
        },
        "outputId": "447f889c-7c83-42a5-cfa3-8dbc26aa4619"
      },
      "source": [
        "model.summary()  #model.summary를 찍어 보면 "
      ],
      "execution_count": null,
      "outputs": [
        {
          "output_type": "stream",
          "text": [
            "Model: \"sequential_1\"\n",
            "_________________________________________________________________\n",
            "Layer (type)                 Output Shape              Param #   \n",
            "=================================================================\n",
            "vgg16 (Functional)           (None, 4, 4, 512)         14714688  \n",
            "_________________________________________________________________\n",
            "flatten (Flatten)            (None, 8192)              0         \n",
            "_________________________________________________________________\n",
            "dense_2 (Dense)              (None, 256)               2097408   \n",
            "_________________________________________________________________\n",
            "dense_3 (Dense)              (None, 1)                 257       \n",
            "=================================================================\n",
            "Total params: 16,812,353\n",
            "Trainable params: 16,812,353\n",
            "Non-trainable params: 0\n",
            "_________________________________________________________________\n"
          ],
          "name": "stdout"
        }
      ]
    },
    {
      "cell_type": "code",
      "metadata": {
        "colab": {
          "base_uri": "https://localhost:8080/"
        },
        "id": "rFkBeWE9Dcrm",
        "outputId": "59ef9e49-6db6-478f-fb6e-b50fbb5898c3"
      },
      "source": [
        "#위에서는 VGG16의 정보가 숨겨져 있어서 VGG16을 자세히 확인하려면 conv_base.summary()를 하여서 확인해주는 방법이 있다. \n",
        "conv_base.summary()\n",
        "#그래서 summary를 한 결과 VGG16가 어떻게 되어있는지를 확인할 수 있다 "
      ],
      "execution_count": null,
      "outputs": [
        {
          "output_type": "stream",
          "text": [
            "Model: \"vgg16\"\n",
            "_________________________________________________________________\n",
            "Layer (type)                 Output Shape              Param #   \n",
            "=================================================================\n",
            "input_1 (InputLayer)         [(None, 150, 150, 3)]     0         \n",
            "_________________________________________________________________\n",
            "block1_conv1 (Conv2D)        (None, 150, 150, 64)      1792      \n",
            "_________________________________________________________________\n",
            "block1_conv2 (Conv2D)        (None, 150, 150, 64)      36928     \n",
            "_________________________________________________________________\n",
            "block1_pool (MaxPooling2D)   (None, 75, 75, 64)        0         \n",
            "_________________________________________________________________\n",
            "block2_conv1 (Conv2D)        (None, 75, 75, 128)       73856     \n",
            "_________________________________________________________________\n",
            "block2_conv2 (Conv2D)        (None, 75, 75, 128)       147584    \n",
            "_________________________________________________________________\n",
            "block2_pool (MaxPooling2D)   (None, 37, 37, 128)       0         \n",
            "_________________________________________________________________\n",
            "block3_conv1 (Conv2D)        (None, 37, 37, 256)       295168    \n",
            "_________________________________________________________________\n",
            "block3_conv2 (Conv2D)        (None, 37, 37, 256)       590080    \n",
            "_________________________________________________________________\n",
            "block3_conv3 (Conv2D)        (None, 37, 37, 256)       590080    \n",
            "_________________________________________________________________\n",
            "block3_pool (MaxPooling2D)   (None, 18, 18, 256)       0         \n",
            "_________________________________________________________________\n",
            "block4_conv1 (Conv2D)        (None, 18, 18, 512)       1180160   \n",
            "_________________________________________________________________\n",
            "block4_conv2 (Conv2D)        (None, 18, 18, 512)       2359808   \n",
            "_________________________________________________________________\n",
            "block4_conv3 (Conv2D)        (None, 18, 18, 512)       2359808   \n",
            "_________________________________________________________________\n",
            "block4_pool (MaxPooling2D)   (None, 9, 9, 512)         0         \n",
            "_________________________________________________________________\n",
            "block5_conv1 (Conv2D)        (None, 9, 9, 512)         2359808   \n",
            "_________________________________________________________________\n",
            "block5_conv2 (Conv2D)        (None, 9, 9, 512)         2359808   \n",
            "_________________________________________________________________\n",
            "block5_conv3 (Conv2D)        (None, 9, 9, 512)         2359808   \n",
            "_________________________________________________________________\n",
            "block5_pool (MaxPooling2D)   (None, 4, 4, 512)         0         \n",
            "=================================================================\n",
            "Total params: 14,714,688\n",
            "Trainable params: 14,714,688\n",
            "Non-trainable params: 0\n",
            "_________________________________________________________________\n"
          ],
          "name": "stdout"
        }
      ]
    },
    {
      "cell_type": "markdown",
      "metadata": {
        "id": "PGe3tsEgC6ue"
      },
      "source": [
        "As you can see, the convolutional base of VGG16 has 14,714,688 parameters, which is very large. The classifier we are adding on top has 2 \n",
        "million parameters.\n",
        "\n",
        "Before we compile and train our model, a very important thing to do is to freeze the convolutional base. \"Freezing\" a layer or set of \n",
        "layers means preventing their weights from getting updated during training. If we don't do this, then the representations that were \n",
        "previously learned by the convolutional base would get modified during training. Since the `Dense` layers on top are randomly initialized, \n",
        "very large weight updates would be propagated through the network, effectively destroying the representations previously learned.\n",
        "\n",
        "In Keras, freezing a network is done by setting its `trainable` attribute to `False`:"
      ]
    },
    {
      "cell_type": "code",
      "metadata": {
        "id": "VKW1so6qC6ue",
        "colab": {
          "base_uri": "https://localhost:8080/"
        },
        "outputId": "efc1f5f3-76a7-4484-d69b-2deae9fe51fe"
      },
      "source": [
        "print('This is the number of trainable weights '\n",
        "      'before freezing the conv base:', len(model.trainable_weights))  #befor freezing에서는 30개의 layer가 있었다면 "
      ],
      "execution_count": null,
      "outputs": [
        {
          "output_type": "stream",
          "text": [
            "This is the number of trainable weights before freezing the conv base: 30\n"
          ],
          "name": "stdout"
        }
      ]
    },
    {
      "cell_type": "code",
      "metadata": {
        "id": "XSC_jA89C6ue"
      },
      "source": [
        "conv_base.trainable = False  #Feature Extraction하는 connv_base를 trainable 하지 않도록 만들어주게 된다. "
      ],
      "execution_count": null,
      "outputs": []
    },
    {
      "cell_type": "code",
      "metadata": {
        "id": "yS5DiQSnC6uf",
        "colab": {
          "base_uri": "https://localhost:8080/"
        },
        "outputId": "110bd3c1-3200-4a85-d89f-47b9fffe2e68"
      },
      "source": [
        "print('This is the number of trainable weights '\n",
        "      'after freezing the conv base:', len(model.trainable_weights))  #이제 여기에서는 training가능한게 4개가 남는다."
      ],
      "execution_count": null,
      "outputs": [
        {
          "output_type": "stream",
          "text": [
            "This is the number of trainable weights after freezing the conv base: 4\n"
          ],
          "name": "stdout"
        }
      ]
    },
    {
      "cell_type": "markdown",
      "metadata": {
        "id": "852nIgeAC6uf"
      },
      "source": [
        "With this setup, only the weights from the two `Dense` layers that we added will be trained. That's a total of four weight tensors: two per \n",
        "layer (the main weight matrix and the bias vector). Note that in order for these changes to take effect, we must first compile the model. \n",
        "If you ever modify weight trainability after compilation, you should then re-compile the model, or these changes would be ignored.\n",
        "\n",
        "Now we can start training our model, with the same data augmentation configuration that we used in our previous example:"
      ]
    },
    {
      "cell_type": "code",
      "metadata": {
        "id": "xKHwXCS9C6uf",
        "colab": {
          "base_uri": "https://localhost:8080/"
        },
        "outputId": "19f8f0d7-903d-4c4a-fd73-3925bf294fcd"
      },
      "source": [
        "#그리고 여기에서는 이미지 데이터 generator를 사용해서 imagedatagenerator에서 여러가지 옵션들을 사용해서 어떤 데이터 generator를 해줄지를 설정하는 부분이 된다. \n",
        "from tensorflow.keras.preprocessing.image import ImageDataGenerator\n",
        "\n",
        "train_datagen = ImageDataGenerator(\n",
        "      rescale=1./255,\n",
        "      rotation_range=40,\n",
        "      width_shift_range=0.2,\n",
        "      height_shift_range=0.2,\n",
        "      shear_range=0.2,\n",
        "      zoom_range=0.2,\n",
        "      horizontal_flip=True,\n",
        "      fill_mode='nearest')\n",
        "\n",
        "# Note that the validation data should not be augmented!\n",
        "test_datagen = ImageDataGenerator(rescale=1./255)\n",
        "\n",
        "train_generator = train_datagen.flow_from_directory(   #keras에 있는 data generator를 사용해서 어떤식으로 데이터들을 fitting해줄지 그런 부분들에 대해 옵션으로 조정을 하게 된다. \n",
        "        # This is the target directory\n",
        "        train_dir,\n",
        "        # All images will be resized to 150x150\n",
        "        target_size=(150, 150),\n",
        "        batch_size=20,\n",
        "        # Since we use binary_crossentropy loss, we need binary labels\n",
        "        class_mode='binary')\n",
        "\n",
        "validation_generator = test_datagen.flow_from_directory(\n",
        "        validation_dir,\n",
        "        target_size=(150, 150),\n",
        "        batch_size=20,\n",
        "        class_mode='binary')\n",
        "\n",
        "model.compile(loss='binary_crossentropy',   #그다음에 loss는 binary_crossentropy\n",
        "              optimizer=optimizers.RMSprop(lr=2e-5),  #optimizer는 RMSprop을 사용하고 \n",
        "              metrics=['acc'])   #metrics는 acc를 한다. \n",
        "\n",
        "history = model.fit(   #fit_generator이렇게 해서하면 에러가 나오기 때문에 _generator를 지워주고 하게 되면 에러가 나지 않는다. \n",
        "      train_generator,\n",
        "      steps_per_epoch=100,\n",
        "      epochs=30,\n",
        "      validation_data=validation_generator,\n",
        "      validation_steps=50,\n",
        "      verbose=2)"
      ],
      "execution_count": null,
      "outputs": [
        {
          "output_type": "stream",
          "text": [
            "Found 2000 images belonging to 2 classes.\n",
            "Found 1000 images belonging to 2 classes.\n",
            "Epoch 1/30\n",
            "100/100 - 27s - loss: 0.6068 - acc: 0.6815 - val_loss: 0.4769 - val_acc: 0.8090\n",
            "Epoch 2/30\n",
            "100/100 - 26s - loss: 0.4978 - acc: 0.7795 - val_loss: 0.3905 - val_acc: 0.8390\n",
            "Epoch 3/30\n",
            "100/100 - 26s - loss: 0.4577 - acc: 0.7905 - val_loss: 0.3483 - val_acc: 0.8500\n",
            "Epoch 4/30\n",
            "100/100 - 26s - loss: 0.4115 - acc: 0.8360 - val_loss: 0.3318 - val_acc: 0.8540\n",
            "Epoch 5/30\n",
            "100/100 - 26s - loss: 0.3985 - acc: 0.8215 - val_loss: 0.3062 - val_acc: 0.8630\n",
            "Epoch 6/30\n",
            "100/100 - 26s - loss: 0.3710 - acc: 0.8450 - val_loss: 0.2970 - val_acc: 0.8750\n",
            "Epoch 7/30\n",
            "100/100 - 26s - loss: 0.3587 - acc: 0.8425 - val_loss: 0.2889 - val_acc: 0.8770\n",
            "Epoch 8/30\n",
            "100/100 - 26s - loss: 0.3613 - acc: 0.8410 - val_loss: 0.2831 - val_acc: 0.8830\n",
            "Epoch 9/30\n",
            "100/100 - 26s - loss: 0.3418 - acc: 0.8555 - val_loss: 0.2718 - val_acc: 0.8800\n",
            "Epoch 10/30\n",
            "100/100 - 26s - loss: 0.3440 - acc: 0.8510 - val_loss: 0.2717 - val_acc: 0.8840\n",
            "Epoch 11/30\n",
            "100/100 - 26s - loss: 0.3266 - acc: 0.8610 - val_loss: 0.2660 - val_acc: 0.8900\n",
            "Epoch 12/30\n",
            "100/100 - 26s - loss: 0.3376 - acc: 0.8485 - val_loss: 0.2634 - val_acc: 0.8800\n",
            "Epoch 13/30\n",
            "100/100 - 26s - loss: 0.3178 - acc: 0.8605 - val_loss: 0.2634 - val_acc: 0.8840\n",
            "Epoch 14/30\n",
            "100/100 - 26s - loss: 0.3260 - acc: 0.8560 - val_loss: 0.2603 - val_acc: 0.8860\n",
            "Epoch 15/30\n",
            "100/100 - 26s - loss: 0.3113 - acc: 0.8715 - val_loss: 0.2619 - val_acc: 0.8890\n",
            "Epoch 16/30\n",
            "100/100 - 26s - loss: 0.3181 - acc: 0.8630 - val_loss: 0.2669 - val_acc: 0.8850\n",
            "Epoch 17/30\n",
            "100/100 - 26s - loss: 0.3078 - acc: 0.8695 - val_loss: 0.2621 - val_acc: 0.8860\n",
            "Epoch 18/30\n",
            "100/100 - 26s - loss: 0.3121 - acc: 0.8615 - val_loss: 0.2767 - val_acc: 0.8880\n",
            "Epoch 19/30\n",
            "100/100 - 26s - loss: 0.3012 - acc: 0.8705 - val_loss: 0.2588 - val_acc: 0.8850\n",
            "Epoch 20/30\n",
            "100/100 - 26s - loss: 0.3103 - acc: 0.8650 - val_loss: 0.2751 - val_acc: 0.8910\n",
            "Epoch 21/30\n",
            "100/100 - 26s - loss: 0.3167 - acc: 0.8580 - val_loss: 0.2775 - val_acc: 0.8850\n",
            "Epoch 22/30\n",
            "100/100 - 26s - loss: 0.3111 - acc: 0.8680 - val_loss: 0.2578 - val_acc: 0.8890\n",
            "Epoch 23/30\n",
            "100/100 - 26s - loss: 0.2928 - acc: 0.8750 - val_loss: 0.2573 - val_acc: 0.8900\n",
            "Epoch 24/30\n",
            "100/100 - 26s - loss: 0.3001 - acc: 0.8710 - val_loss: 0.2525 - val_acc: 0.8910\n",
            "Epoch 25/30\n",
            "100/100 - 26s - loss: 0.2897 - acc: 0.8775 - val_loss: 0.2648 - val_acc: 0.8860\n",
            "Epoch 26/30\n",
            "100/100 - 26s - loss: 0.2934 - acc: 0.8765 - val_loss: 0.2537 - val_acc: 0.8830\n",
            "Epoch 27/30\n",
            "100/100 - 25s - loss: 0.3053 - acc: 0.8610 - val_loss: 0.2515 - val_acc: 0.8880\n",
            "Epoch 28/30\n",
            "100/100 - 25s - loss: 0.2840 - acc: 0.8775 - val_loss: 0.2602 - val_acc: 0.8920\n",
            "Epoch 29/30\n",
            "100/100 - 26s - loss: 0.2869 - acc: 0.8775 - val_loss: 0.2804 - val_acc: 0.8910\n",
            "Epoch 30/30\n",
            "100/100 - 26s - loss: 0.2746 - acc: 0.8860 - val_loss: 0.2543 - val_acc: 0.8880\n"
          ],
          "name": "stdout"
        }
      ]
    },
    {
      "cell_type": "code",
      "metadata": {
        "id": "lAKWWs0kC6uf"
      },
      "source": [
        "model.save('cats_and_dogs_small_3.h5')  #여기에서 모형을 save해준다. \n",
        "#model.save 메서드를 호출하여 모델의 구조, 가중치, 훈련 설정을 하나의 파일/폴더에 저장한다."
      ],
      "execution_count": null,
      "outputs": []
    },
    {
      "cell_type": "markdown",
      "metadata": {
        "id": "KUGBYBvcC6uf"
      },
      "source": [
        "Let's plot our results again:"
      ]
    },
    {
      "cell_type": "code",
      "metadata": {
        "id": "qKi4p3_XC6uf",
        "colab": {
          "base_uri": "https://localhost:8080/",
          "height": 545
        },
        "outputId": "162d8ca2-452c-4ab2-e36e-179eae79bbdb"
      },
      "source": [
        "#여기에서는 train history를 plot으로 그려보면 코드를 돌리고 난 후의 그림이 나오는 것을 볼 수 있다. \n",
        "acc = history.history['acc']\n",
        "val_acc = history.history['val_acc']\n",
        "loss = history.history['loss']\n",
        "val_loss = history.history['val_loss']\n",
        "\n",
        "epochs = range(len(acc))\n",
        "\n",
        "plt.plot(epochs, acc, 'bo', label='Training acc')\n",
        "plt.plot(epochs, val_acc, 'b', label='Validation acc')\n",
        "plt.title('Training and validation accuracy')\n",
        "plt.legend()\n",
        "\n",
        "plt.figure()\n",
        "\n",
        "plt.plot(epochs, loss, 'bo', label='Training loss')\n",
        "plt.plot(epochs, val_loss, 'b', label='Validation loss')\n",
        "plt.title('Training and validation loss')\n",
        "plt.legend()\n",
        "\n",
        "plt.show()"
      ],
      "execution_count": null,
      "outputs": [
        {
          "output_type": "display_data",
          "data": {
            "image/png": "[encoded data removed]",
            "text/plain": [
              "<Figure size 432x288 with 1 Axes>"
            ]
          },
          "metadata": {
            "tags": [],
            "needs_background": "light"
          }
        },
        {
          "output_type": "display_data",
          "data": {
            "image/png": "[encoded data removed]",
            "text/plain": [
              "<Figure size 432x288 with 1 Axes>"
            ]
          },
          "metadata": {
            "tags": [],
            "needs_background": "light"
          }
        }
      ]
    },
    {
      "cell_type": "markdown",
      "metadata": {
        "id": "JElZWE61IbI4"
      },
      "source": [
        "- data argumentation을 통해 training을 좀 더 잘 해줄수 있다라는 것 정도를 알 수 있다. \n",
        "- data argumentation는 이러한 효과가 있다라는 것과 이렇게 사용할 수 있다라는 것을 알 았으면 좋겠다고 교수님이 말씀하심."
      ]
    },
    {
      "cell_type": "markdown",
      "metadata": {
        "id": "89X7SkyGC6uf"
      },
      "source": [
        "As you can see, we reach a validation accuracy of about 96%. This is much better than our small convnet trained from scratch."
      ]
    },
    {
      "cell_type": "markdown",
      "metadata": {
        "id": "Y5IUL6bpC6ug"
      },
      "source": [
        "## Fine-tuning  페이지 11에 있는것을 실습으로 해본다.\n",
        "\n",
        "Another widely used technique for model reuse, complementary to feature extraction, is _fine-tuning_. \n",
        "Fine-tuning consists in unfreezing a few of the top layers \n",
        "of a frozen model base used for feature extraction, and jointly training both the newly added part of the model (in our case, the \n",
        "fully-connected classifier) and these top layers. This is called \"fine-tuning\" because it slightly adjusts the more abstract \n",
        "representations of the model being reused, in order to make them more relevant for the problem at hand.\n",
        "\n",
        "![fine-tuning VGG16](https://s3.amazonaws.com/book.keras.io/img/ch5/vgg16_fine_tuning.png)"
      ]
    },
    {
      "cell_type": "markdown",
      "metadata": {
        "id": "skw_RvHxC6ug"
      },
      "source": [
        "We have stated before that it was necessary to freeze the convolution base of VGG16 in order to be able to train a randomly initialized \n",
        "classifier on top. For the same reason, it is only possible to fine-tune the top layers of the convolutional base once the classifier on \n",
        "top has already been trained. If the classified wasn't already trained, then the error signal propagating through the network during \n",
        "training would be too large, and the representations previously learned by the layers being fine-tuned would be destroyed. Thus the steps \n",
        "for fine-tuning a network are as follow:\n",
        "\n",
        "* 1) Add your custom network on top of an already trained base network.\n",
        "* 2) Freeze the base network.\n",
        "* 3) Train the part you added.\n",
        "* 4) Unfreeze some layers in the base network.\n",
        "* 5) Jointly train both these layers and the part you added.\n",
        "\n",
        "We have already completed the first 3 steps when doing feature extraction. Let's proceed with the 4th step: we will unfreeze our `conv_base`, \n",
        "and then freeze individual layers inside of it.\n",
        "\n",
        "As a reminder, this is what our convolutional base looks like:"
      ]
    },
    {
      "cell_type": "markdown",
      "metadata": {
        "id": "DWbYrBPWMU6L"
      },
      "source": [
        "- 기존에는 VGG16 layer들을 전부 freeze시켜 놓고, 마지막 layer만 풀어가지고 training을 해줬다.\n",
        "- 근데 fine-tuning과 같은 경우는 기존의 freeze된 layer들 중에 마지막 노란색 박스 부분만 풀어가지고 fine-tuning을 해준다든지 아니면 더 많이 풀어준다음에 fine-tuning을 해준다든지 하는 그런 종류의 테그닉이다. "
      ]
    },
    {
      "cell_type": "code",
      "metadata": {
        "id": "BBbSVpmGC6ug",
        "colab": {
          "base_uri": "https://localhost:8080/"
        },
        "outputId": "9fda8dd1-2416-484c-bc49-3b8cd2e9c676"
      },
      "source": [
        "conv_base.summary()   #그래서 conv_base.summary()를 출력해보면, VGG16 layer들이 출력되는 것을 볼 수 있다. "
      ],
      "execution_count": null,
      "outputs": [
        {
          "output_type": "stream",
          "text": [
            "Model: \"vgg16\"\n",
            "_________________________________________________________________\n",
            "Layer (type)                 Output Shape              Param #   \n",
            "=================================================================\n",
            "input_1 (InputLayer)         [(None, 150, 150, 3)]     0         \n",
            "_________________________________________________________________\n",
            "block1_conv1 (Conv2D)        (None, 150, 150, 64)      1792      \n",
            "_________________________________________________________________\n",
            "block1_conv2 (Conv2D)        (None, 150, 150, 64)      36928     \n",
            "_________________________________________________________________\n",
            "block1_pool (MaxPooling2D)   (None, 75, 75, 64)        0         \n",
            "_________________________________________________________________\n",
            "block2_conv1 (Conv2D)        (None, 75, 75, 128)       73856     \n",
            "_________________________________________________________________\n",
            "block2_conv2 (Conv2D)        (None, 75, 75, 128)       147584    \n",
            "_________________________________________________________________\n",
            "block2_pool (MaxPooling2D)   (None, 37, 37, 128)       0         \n",
            "_________________________________________________________________\n",
            "block3_conv1 (Conv2D)        (None, 37, 37, 256)       295168    \n",
            "_________________________________________________________________\n",
            "block3_conv2 (Conv2D)        (None, 37, 37, 256)       590080    \n",
            "_________________________________________________________________\n",
            "block3_conv3 (Conv2D)        (None, 37, 37, 256)       590080    \n",
            "_________________________________________________________________\n",
            "block3_pool (MaxPooling2D)   (None, 18, 18, 256)       0         \n",
            "_________________________________________________________________\n",
            "block4_conv1 (Conv2D)        (None, 18, 18, 512)       1180160   \n",
            "_________________________________________________________________\n",
            "block4_conv2 (Conv2D)        (None, 18, 18, 512)       2359808   \n",
            "_________________________________________________________________\n",
            "block4_conv3 (Conv2D)        (None, 18, 18, 512)       2359808   \n",
            "_________________________________________________________________\n",
            "block4_pool (MaxPooling2D)   (None, 9, 9, 512)         0         \n",
            "_________________________________________________________________\n",
            "block5_conv1 (Conv2D)        (None, 9, 9, 512)         2359808   \n",
            "_________________________________________________________________\n",
            "block5_conv2 (Conv2D)        (None, 9, 9, 512)         2359808   \n",
            "_________________________________________________________________\n",
            "block5_conv3 (Conv2D)        (None, 9, 9, 512)         2359808   \n",
            "_________________________________________________________________\n",
            "block5_pool (MaxPooling2D)   (None, 4, 4, 512)         0         \n",
            "=================================================================\n",
            "Total params: 14,714,688\n",
            "Trainable params: 0\n",
            "Non-trainable params: 14,714,688\n",
            "_________________________________________________________________\n"
          ],
          "name": "stdout"
        }
      ]
    },
    {
      "cell_type": "markdown",
      "metadata": {
        "id": "QrJ0eDQKC6ug"
      },
      "source": [
        "\n",
        "We will fine-tune the last 3 convolutional layers, which means that all layers up until `block4_pool` should be frozen, and the layers \n",
        "`block5_conv1`, `block5_conv2` and `block5_conv3` should be trainable.\n",
        "\n",
        "Why not fine-tune more layers? Why not fine-tune the entire convolutional base? We could. However, we need to consider that:\n",
        "\n",
        "* Earlier layers in the convolutional base encode more generic, reusable features, while layers higher up encode more specialized features. It is \n",
        "more useful to fine-tune the more specialized features, as these are the ones that need to be repurposed on our new problem. There would \n",
        "be fast-decreasing returns in fine-tuning lower layers.\n",
        "* The more parameters we are training, the more we are at risk of overfitting. The convolutional base has 15M parameters, so it would be \n",
        "risky to attempt to train it on our small dataset.\n",
        "\n",
        "Thus, in our situation, it is a good strategy to only fine-tune the top 2 to 3 layers in the convolutional base.\n",
        "\n",
        "Let's set this up, starting from where we left off in the previous example:"
      ]
    },
    {
      "cell_type": "code",
      "metadata": {
        "id": "xLXZkGK3C6ug"
      },
      "source": [
        "conv_base.trainable = True  #그리고 여기에서 conv_base.trainable을 True로 바꾼다음에 \n",
        "\n",
        "set_trainable = False  #set_trainable을 'block5_conv1'이거일때 True로 해주고 그리고 set_trainable이 Ture인 경우에 layer.trainalbe을 True로 해주고 \n",
        "for layer in conv_base.layers:\n",
        "    if layer.name == 'block5_conv1':\n",
        "        set_trainable = True\n",
        "    if set_trainable:\n",
        "        layer.trainable = True\n",
        "    else:\n",
        "        layer.trainable = False  #아닌 경우에는 layer.trainable을 False로 해준다. \n",
        "\n",
        "#그래서 이렇게 코드를 돌려보면 마지막 노란색 박스 부분(conv block 5)만 trainable하게 만들어 준다. "
      ],
      "execution_count": null,
      "outputs": []
    },
    {
      "cell_type": "markdown",
      "metadata": {
        "id": "pOScMwUTOJvJ"
      },
      "source": [
        "- 위에 있는 코드가 잘 이해가 안되는 사람들은 component들을 찍어서 확인해 보라고 말씀하심.\n"
      ]
    },
    {
      "cell_type": "code",
      "metadata": {
        "colab": {
          "base_uri": "https://localhost:8080/"
        },
        "id": "1tW8gtRQOTHA",
        "outputId": "34429d41-a6fe-4718-8fe3-7b3833cb86d4"
      },
      "source": [
        "conv_base.layers  #이렇게 하면 conv_base.layers가 이러한 것들이 있는데, 이런 이름들의 layer에서 "
      ],
      "execution_count": null,
      "outputs": [
        {
          "output_type": "execute_result",
          "data": {
            "text/plain": [
              "[<tensorflow.python.keras.engine.input_layer.InputLayer at 0x7fac2d8d1410>,\n",
              " <tensorflow.python.keras.layers.convolutional.Conv2D at 0x7fac5e380e90>,\n",
              " <tensorflow.python.keras.layers.convolutional.Conv2D at 0x7fac5e382a90>,\n",
              " <tensorflow.python.keras.layers.pooling.MaxPooling2D at 0x7fac2055ad50>,\n",
              " <tensorflow.python.keras.layers.convolutional.Conv2D at 0x7fac20562ad0>,\n",
              " <tensorflow.python.keras.layers.convolutional.Conv2D at 0x7fac20567d90>,\n",
              " <tensorflow.python.keras.layers.pooling.MaxPooling2D at 0x7fac2056cc50>,\n",
              " <tensorflow.python.keras.layers.convolutional.Conv2D at 0x7fac20571d50>,\n",
              " <tensorflow.python.keras.layers.convolutional.Conv2D at 0x7fac20577c10>,\n",
              " <tensorflow.python.keras.layers.convolutional.Conv2D at 0x7fac2057f950>,\n",
              " <tensorflow.python.keras.layers.pooling.MaxPooling2D at 0x7fac20584fd0>,\n",
              " <tensorflow.python.keras.layers.convolutional.Conv2D at 0x7fac2058bf50>,\n",
              " <tensorflow.python.keras.layers.convolutional.Conv2D at 0x7fac2058ec90>,\n",
              " <tensorflow.python.keras.layers.convolutional.Conv2D at 0x7fac20594310>,\n",
              " <tensorflow.python.keras.layers.pooling.MaxPooling2D at 0x7fac20594b50>,\n",
              " <tensorflow.python.keras.layers.convolutional.Conv2D at 0x7fac20562850>,\n",
              " <tensorflow.python.keras.layers.convolutional.Conv2D at 0x7fac5e381dd0>,\n",
              " <tensorflow.python.keras.layers.convolutional.Conv2D at 0x7fac20577fd0>,\n",
              " <tensorflow.python.keras.layers.pooling.MaxPooling2D at 0x7fac205840d0>]"
            ]
          },
          "metadata": {
            "tags": []
          },
          "execution_count": 52
        }
      ]
    },
    {
      "cell_type": "code",
      "metadata": {
        "colab": {
          "base_uri": "https://localhost:8080/"
        },
        "id": "ywm9micLOmf4",
        "outputId": "86506e9b-1b0d-4861-db92-708655409b2b"
      },
      "source": [
        "for layer in conv_base.layers:\n",
        "  print(layer.name)\n",
        "#이러게 하면 layer들의 이름이 나오게 된다.\n",
        "#기존에는 set_trainable을 false로 해서 block1_conv1부터 쭉 내려오다가 block5_conv1을 만나게 되면 여기서부터 set_trainable이 True로 되서 block5_conv1아래는 freeze가 풀리게 된다. "
      ],
      "execution_count": null,
      "outputs": [
        {
          "output_type": "stream",
          "text": [
            "input_1\n",
            "block1_conv1\n",
            "block1_conv2\n",
            "block1_pool\n",
            "block2_conv1\n",
            "block2_conv2\n",
            "block2_pool\n",
            "block3_conv1\n",
            "block3_conv2\n",
            "block3_conv3\n",
            "block3_pool\n",
            "block4_conv1\n",
            "block4_conv2\n",
            "block4_conv3\n",
            "block4_pool\n",
            "block5_conv1\n",
            "block5_conv2\n",
            "block5_conv3\n",
            "block5_pool\n"
          ],
          "name": "stdout"
        }
      ]
    },
    {
      "cell_type": "markdown",
      "metadata": {
        "id": "aKE6e_Z-C6ug"
      },
      "source": [
        "Now we can start fine-tuning our network. We will do this with the RMSprop optimizer, using a very low learning rate. The reason for using \n",
        "a low learning rate is that we want to limit the magnitude of the modifications we make to the representations of the 3 layers that we are \n",
        "fine-tuning. Updates that are too large may harm these representations.\n",
        "\n",
        "Now let's proceed with fine-tuning:"
      ]
    },
    {
      "cell_type": "code",
      "metadata": {
        "scrolled": true,
        "id": "6PPW8_HaC6ug",
        "colab": {
          "base_uri": "https://localhost:8080/"
        },
        "outputId": "ef86761a-9fc7-495d-feac-fb371e6c0320"
      },
      "source": [
        "#complie부분은 바뀌는게 없기 때문에 기존과 같은 방법으로 compile해준다. \n",
        "model.compile(loss='binary_crossentropy',\n",
        "              optimizer=optimizers.RMSprop(lr=1e-5),\n",
        "              metrics=['acc'])\n",
        "\n",
        "history = model.fit_generator(\n",
        "      train_generator,\n",
        "      steps_per_epoch=100,\n",
        "      epochs=100,\n",
        "      validation_data=validation_generator,\n",
        "      validation_steps=50)"
      ],
      "execution_count": null,
      "outputs": [
        {
          "output_type": "stream",
          "text": [
            "/usr/local/lib/python3.7/dist-packages/tensorflow/python/keras/engine/training.py:1844: UserWarning: `Model.fit_generator` is deprecated and will be removed in a future version. Please use `Model.fit`, which supports generators.\n",
            "  warnings.warn('`Model.fit_generator` is deprecated and '\n"
          ],
          "name": "stderr"
        },
        {
          "output_type": "stream",
          "text": [
            "Epoch 1/100\n",
            "100/100 [==============================] - 29s 276ms/step - loss: 0.2693 - acc: 0.8879 - val_loss: 0.2232 - val_acc: 0.9120\n",
            "Epoch 2/100\n",
            "100/100 [==============================] - 27s 273ms/step - loss: 0.2535 - acc: 0.8885 - val_loss: 0.2160 - val_acc: 0.9090\n",
            "Epoch 3/100\n",
            "100/100 [==============================] - 27s 274ms/step - loss: 0.2324 - acc: 0.8892 - val_loss: 0.2151 - val_acc: 0.9110\n",
            "Epoch 4/100\n",
            "100/100 [==============================] - 27s 273ms/step - loss: 0.2148 - acc: 0.9202 - val_loss: 0.2088 - val_acc: 0.9190\n",
            "Epoch 5/100\n",
            "100/100 [==============================] - 27s 273ms/step - loss: 0.2226 - acc: 0.9038 - val_loss: 0.2522 - val_acc: 0.9180\n",
            "Epoch 6/100\n",
            "100/100 [==============================] - 27s 274ms/step - loss: 0.1741 - acc: 0.9347 - val_loss: 0.2116 - val_acc: 0.9320\n",
            "Epoch 7/100\n",
            "100/100 [==============================] - 27s 274ms/step - loss: 0.1677 - acc: 0.9312 - val_loss: 0.1995 - val_acc: 0.9380\n",
            "Epoch 8/100\n",
            "100/100 [==============================] - 27s 273ms/step - loss: 0.1719 - acc: 0.9252 - val_loss: 0.2065 - val_acc: 0.9300\n",
            "Epoch 9/100\n",
            "100/100 [==============================] - 27s 273ms/step - loss: 0.1715 - acc: 0.9370 - val_loss: 0.1843 - val_acc: 0.9310\n",
            "Epoch 10/100\n",
            "100/100 [==============================] - 27s 273ms/step - loss: 0.1543 - acc: 0.9378 - val_loss: 0.1756 - val_acc: 0.9390\n",
            "Epoch 11/100\n",
            "100/100 [==============================] - 27s 272ms/step - loss: 0.1476 - acc: 0.9340 - val_loss: 0.2032 - val_acc: 0.9410\n",
            "Epoch 12/100\n",
            "100/100 [==============================] - 27s 273ms/step - loss: 0.1431 - acc: 0.9393 - val_loss: 0.2086 - val_acc: 0.9360\n",
            "Epoch 13/100\n",
            "100/100 [==============================] - 27s 272ms/step - loss: 0.1470 - acc: 0.9397 - val_loss: 0.2892 - val_acc: 0.9140\n",
            "Epoch 14/100\n",
            "100/100 [==============================] - 27s 272ms/step - loss: 0.1471 - acc: 0.9458 - val_loss: 0.2279 - val_acc: 0.9300\n",
            "Epoch 15/100\n",
            "100/100 [==============================] - 27s 272ms/step - loss: 0.1167 - acc: 0.9530 - val_loss: 0.1704 - val_acc: 0.9420\n",
            "Epoch 16/100\n",
            "100/100 [==============================] - 27s 272ms/step - loss: 0.0964 - acc: 0.9633 - val_loss: 0.2168 - val_acc: 0.9340\n",
            "Epoch 17/100\n",
            "100/100 [==============================] - 27s 272ms/step - loss: 0.1002 - acc: 0.9618 - val_loss: 0.2029 - val_acc: 0.9480\n",
            "Epoch 18/100\n",
            "100/100 [==============================] - 27s 272ms/step - loss: 0.1098 - acc: 0.9607 - val_loss: 0.2566 - val_acc: 0.9240\n",
            "Epoch 19/100\n",
            "100/100 [==============================] - 27s 273ms/step - loss: 0.1067 - acc: 0.9528 - val_loss: 0.2101 - val_acc: 0.9430\n",
            "Epoch 20/100\n",
            "100/100 [==============================] - 27s 273ms/step - loss: 0.1011 - acc: 0.9662 - val_loss: 0.1969 - val_acc: 0.9390\n",
            "Epoch 21/100\n",
            "100/100 [==============================] - 27s 271ms/step - loss: 0.0718 - acc: 0.9708 - val_loss: 0.1815 - val_acc: 0.9400\n",
            "Epoch 22/100\n",
            "100/100 [==============================] - 27s 272ms/step - loss: 0.0934 - acc: 0.9640 - val_loss: 0.2618 - val_acc: 0.9260\n",
            "Epoch 23/100\n",
            "100/100 [==============================] - 27s 273ms/step - loss: 0.0947 - acc: 0.9648 - val_loss: 0.3842 - val_acc: 0.9070\n",
            "Epoch 24/100\n",
            "100/100 [==============================] - 27s 271ms/step - loss: 0.0888 - acc: 0.9654 - val_loss: 0.2081 - val_acc: 0.9420\n",
            "Epoch 25/100\n",
            "100/100 [==============================] - 27s 271ms/step - loss: 0.0903 - acc: 0.9639 - val_loss: 0.3077 - val_acc: 0.9210\n",
            "Epoch 26/100\n",
            "100/100 [==============================] - 27s 272ms/step - loss: 0.1048 - acc: 0.9610 - val_loss: 0.1971 - val_acc: 0.9420\n",
            "Epoch 27/100\n",
            "100/100 [==============================] - 27s 273ms/step - loss: 0.0920 - acc: 0.9635 - val_loss: 0.2575 - val_acc: 0.9340\n",
            "Epoch 28/100\n",
            "100/100 [==============================] - 27s 271ms/step - loss: 0.0665 - acc: 0.9760 - val_loss: 0.3057 - val_acc: 0.9230\n",
            "Epoch 29/100\n",
            "100/100 [==============================] - 27s 273ms/step - loss: 0.0796 - acc: 0.9732 - val_loss: 0.1759 - val_acc: 0.9530\n",
            "Epoch 30/100\n",
            "100/100 [==============================] - 27s 274ms/step - loss: 0.0867 - acc: 0.9658 - val_loss: 0.2053 - val_acc: 0.9430\n",
            "Epoch 31/100\n",
            "100/100 [==============================] - 27s 274ms/step - loss: 0.0641 - acc: 0.9734 - val_loss: 0.1918 - val_acc: 0.9480\n",
            "Epoch 32/100\n",
            "100/100 [==============================] - 27s 272ms/step - loss: 0.0526 - acc: 0.9814 - val_loss: 0.1865 - val_acc: 0.9470\n",
            "Epoch 33/100\n",
            "100/100 [==============================] - 27s 270ms/step - loss: 0.0591 - acc: 0.9771 - val_loss: 0.2833 - val_acc: 0.9340\n",
            "Epoch 34/100\n",
            "100/100 [==============================] - 27s 271ms/step - loss: 0.0467 - acc: 0.9783 - val_loss: 0.2287 - val_acc: 0.9340\n",
            "Epoch 35/100\n",
            "100/100 [==============================] - 27s 269ms/step - loss: 0.0603 - acc: 0.9769 - val_loss: 0.2422 - val_acc: 0.9340\n",
            "Epoch 36/100\n",
            "100/100 [==============================] - 27s 270ms/step - loss: 0.0576 - acc: 0.9784 - val_loss: 0.1669 - val_acc: 0.9560\n",
            "Epoch 37/100\n",
            "100/100 [==============================] - 27s 269ms/step - loss: 0.0638 - acc: 0.9754 - val_loss: 0.2397 - val_acc: 0.9390\n",
            "Epoch 38/100\n",
            "100/100 [==============================] - 28s 275ms/step - loss: 0.0412 - acc: 0.9854 - val_loss: 0.2248 - val_acc: 0.9470\n",
            "Epoch 39/100\n",
            "100/100 [==============================] - 27s 274ms/step - loss: 0.0544 - acc: 0.9808 - val_loss: 0.2818 - val_acc: 0.9280\n",
            "Epoch 40/100\n",
            "100/100 [==============================] - 27s 271ms/step - loss: 0.0466 - acc: 0.9822 - val_loss: 0.1908 - val_acc: 0.9450\n",
            "Epoch 41/100\n",
            "100/100 [==============================] - 27s 271ms/step - loss: 0.0413 - acc: 0.9827 - val_loss: 0.2574 - val_acc: 0.9420\n",
            "Epoch 42/100\n",
            "100/100 [==============================] - 27s 270ms/step - loss: 0.0517 - acc: 0.9825 - val_loss: 0.2386 - val_acc: 0.9410\n",
            "Epoch 43/100\n",
            "100/100 [==============================] - 27s 269ms/step - loss: 0.0499 - acc: 0.9812 - val_loss: 0.2358 - val_acc: 0.9500\n",
            "Epoch 44/100\n",
            "100/100 [==============================] - 27s 269ms/step - loss: 0.0387 - acc: 0.9835 - val_loss: 0.2044 - val_acc: 0.9490\n",
            "Epoch 45/100\n",
            "100/100 [==============================] - 27s 271ms/step - loss: 0.0514 - acc: 0.9802 - val_loss: 0.2457 - val_acc: 0.9470\n",
            "Epoch 46/100\n",
            "100/100 [==============================] - 27s 269ms/step - loss: 0.0430 - acc: 0.9845 - val_loss: 0.2252 - val_acc: 0.9440\n",
            "Epoch 47/100\n",
            "100/100 [==============================] - 27s 270ms/step - loss: 0.0251 - acc: 0.9908 - val_loss: 0.2016 - val_acc: 0.9520\n",
            "Epoch 48/100\n",
            "100/100 [==============================] - 27s 269ms/step - loss: 0.0341 - acc: 0.9851 - val_loss: 0.3478 - val_acc: 0.9320\n",
            "Epoch 49/100\n",
            "100/100 [==============================] - 27s 269ms/step - loss: 0.0386 - acc: 0.9861 - val_loss: 0.2231 - val_acc: 0.9510\n",
            "Epoch 50/100\n",
            "100/100 [==============================] - 27s 270ms/step - loss: 0.0397 - acc: 0.9838 - val_loss: 0.2444 - val_acc: 0.9460\n",
            "Epoch 51/100\n",
            "100/100 [==============================] - 27s 269ms/step - loss: 0.0423 - acc: 0.9862 - val_loss: 0.3019 - val_acc: 0.9430\n",
            "Epoch 52/100\n",
            "100/100 [==============================] - 27s 271ms/step - loss: 0.0462 - acc: 0.9844 - val_loss: 0.2309 - val_acc: 0.9440\n",
            "Epoch 53/100\n",
            "100/100 [==============================] - 27s 272ms/step - loss: 0.0391 - acc: 0.9878 - val_loss: 0.2385 - val_acc: 0.9490\n",
            "Epoch 54/100\n",
            "100/100 [==============================] - 27s 270ms/step - loss: 0.0329 - acc: 0.9900 - val_loss: 0.2493 - val_acc: 0.9460\n",
            "Epoch 55/100\n",
            "100/100 [==============================] - 27s 269ms/step - loss: 0.0333 - acc: 0.9891 - val_loss: 0.2373 - val_acc: 0.9480\n",
            "Epoch 56/100\n",
            "100/100 [==============================] - 27s 270ms/step - loss: 0.0335 - acc: 0.9888 - val_loss: 0.2629 - val_acc: 0.9460\n",
            "Epoch 57/100\n",
            "100/100 [==============================] - 27s 270ms/step - loss: 0.0374 - acc: 0.9851 - val_loss: 0.2847 - val_acc: 0.9410\n",
            "Epoch 58/100\n",
            "100/100 [==============================] - 27s 271ms/step - loss: 0.0392 - acc: 0.9891 - val_loss: 0.2568 - val_acc: 0.9450\n",
            "Epoch 59/100\n",
            "100/100 [==============================] - 27s 271ms/step - loss: 0.0263 - acc: 0.9887 - val_loss: 0.2426 - val_acc: 0.9530\n",
            "Epoch 60/100\n",
            "100/100 [==============================] - 27s 270ms/step - loss: 0.0516 - acc: 0.9815 - val_loss: 0.2654 - val_acc: 0.9450\n",
            "Epoch 61/100\n",
            "100/100 [==============================] - 27s 271ms/step - loss: 0.0319 - acc: 0.9906 - val_loss: 0.2652 - val_acc: 0.9490\n",
            "Epoch 62/100\n",
            "100/100 [==============================] - 27s 271ms/step - loss: 0.0286 - acc: 0.9901 - val_loss: 0.2773 - val_acc: 0.9460\n",
            "Epoch 63/100\n",
            "100/100 [==============================] - 27s 270ms/step - loss: 0.0340 - acc: 0.9905 - val_loss: 0.2639 - val_acc: 0.9500\n",
            "Epoch 64/100\n",
            "100/100 [==============================] - 27s 272ms/step - loss: 0.0356 - acc: 0.9805 - val_loss: 0.2451 - val_acc: 0.9470\n",
            "Epoch 65/100\n",
            "100/100 [==============================] - 27s 271ms/step - loss: 0.0272 - acc: 0.9897 - val_loss: 0.2484 - val_acc: 0.9510\n",
            "Epoch 66/100\n",
            "100/100 [==============================] - 27s 269ms/step - loss: 0.0381 - acc: 0.9882 - val_loss: 0.3175 - val_acc: 0.9410\n",
            "Epoch 67/100\n",
            "100/100 [==============================] - 27s 270ms/step - loss: 0.0321 - acc: 0.9894 - val_loss: 0.2568 - val_acc: 0.9430\n",
            "Epoch 68/100\n",
            "100/100 [==============================] - 27s 270ms/step - loss: 0.0222 - acc: 0.9904 - val_loss: 0.3857 - val_acc: 0.9410\n",
            "Epoch 69/100\n",
            "100/100 [==============================] - 27s 271ms/step - loss: 0.0284 - acc: 0.9891 - val_loss: 0.2817 - val_acc: 0.9380\n",
            "Epoch 70/100\n",
            "100/100 [==============================] - 27s 270ms/step - loss: 0.0397 - acc: 0.9886 - val_loss: 0.3172 - val_acc: 0.9390\n",
            "Epoch 71/100\n",
            "100/100 [==============================] - 27s 269ms/step - loss: 0.0298 - acc: 0.9859 - val_loss: 0.2859 - val_acc: 0.9430\n",
            "Epoch 72/100\n",
            "100/100 [==============================] - 27s 270ms/step - loss: 0.0257 - acc: 0.9907 - val_loss: 0.2880 - val_acc: 0.9480\n",
            "Epoch 73/100\n",
            "100/100 [==============================] - 27s 271ms/step - loss: 0.0256 - acc: 0.9924 - val_loss: 0.2656 - val_acc: 0.9460\n",
            "Epoch 74/100\n",
            "100/100 [==============================] - 27s 271ms/step - loss: 0.0229 - acc: 0.9960 - val_loss: 0.2955 - val_acc: 0.9520\n",
            "Epoch 75/100\n",
            "100/100 [==============================] - 27s 272ms/step - loss: 0.0287 - acc: 0.9891 - val_loss: 0.2404 - val_acc: 0.9510\n",
            "Epoch 76/100\n",
            "100/100 [==============================] - 27s 271ms/step - loss: 0.0282 - acc: 0.9868 - val_loss: 0.3161 - val_acc: 0.9440\n",
            "Epoch 77/100\n",
            "100/100 [==============================] - 27s 269ms/step - loss: 0.0245 - acc: 0.9900 - val_loss: 0.2506 - val_acc: 0.9530\n",
            "Epoch 78/100\n",
            "100/100 [==============================] - 27s 271ms/step - loss: 0.0169 - acc: 0.9928 - val_loss: 0.3332 - val_acc: 0.9430\n",
            "Epoch 79/100\n",
            "100/100 [==============================] - 27s 272ms/step - loss: 0.0447 - acc: 0.9916 - val_loss: 0.2502 - val_acc: 0.9520\n",
            "Epoch 80/100\n",
            "100/100 [==============================] - 27s 272ms/step - loss: 0.0205 - acc: 0.9941 - val_loss: 0.5755 - val_acc: 0.9130\n",
            "Epoch 81/100\n",
            "100/100 [==============================] - 27s 271ms/step - loss: 0.0296 - acc: 0.9888 - val_loss: 0.3822 - val_acc: 0.9410\n",
            "Epoch 82/100\n",
            "100/100 [==============================] - 27s 269ms/step - loss: 0.0174 - acc: 0.9938 - val_loss: 0.3496 - val_acc: 0.9400\n",
            "Epoch 83/100\n",
            "100/100 [==============================] - 27s 271ms/step - loss: 0.0166 - acc: 0.9946 - val_loss: 0.2515 - val_acc: 0.9540\n",
            "Epoch 84/100\n",
            "100/100 [==============================] - 27s 272ms/step - loss: 0.0163 - acc: 0.9953 - val_loss: 0.3127 - val_acc: 0.9430\n",
            "Epoch 85/100\n",
            "100/100 [==============================] - 27s 273ms/step - loss: 0.0109 - acc: 0.9984 - val_loss: 0.2380 - val_acc: 0.9520\n",
            "Epoch 86/100\n",
            "100/100 [==============================] - 27s 272ms/step - loss: 0.0253 - acc: 0.9911 - val_loss: 0.3250 - val_acc: 0.9470\n",
            "Epoch 87/100\n",
            "100/100 [==============================] - 27s 270ms/step - loss: 0.0270 - acc: 0.9916 - val_loss: 0.2343 - val_acc: 0.9530\n",
            "Epoch 88/100\n",
            "100/100 [==============================] - 27s 269ms/step - loss: 0.0109 - acc: 0.9962 - val_loss: 0.2861 - val_acc: 0.9540\n",
            "Epoch 89/100\n",
            "100/100 [==============================] - 27s 270ms/step - loss: 0.0122 - acc: 0.9967 - val_loss: 0.3230 - val_acc: 0.9410\n",
            "Epoch 90/100\n",
            "100/100 [==============================] - 27s 270ms/step - loss: 0.0130 - acc: 0.9980 - val_loss: 0.2904 - val_acc: 0.9480\n",
            "Epoch 91/100\n",
            "100/100 [==============================] - 27s 270ms/step - loss: 0.0215 - acc: 0.9888 - val_loss: 0.2455 - val_acc: 0.9500\n",
            "Epoch 92/100\n",
            "100/100 [==============================] - 27s 271ms/step - loss: 0.0363 - acc: 0.9898 - val_loss: 0.2602 - val_acc: 0.9490\n",
            "Epoch 93/100\n",
            "100/100 [==============================] - 27s 270ms/step - loss: 0.0153 - acc: 0.9967 - val_loss: 0.3837 - val_acc: 0.9430\n",
            "Epoch 94/100\n",
            "100/100 [==============================] - 27s 271ms/step - loss: 0.0118 - acc: 0.9970 - val_loss: 0.2978 - val_acc: 0.9480\n",
            "Epoch 95/100\n",
            "100/100 [==============================] - 27s 271ms/step - loss: 0.0229 - acc: 0.9922 - val_loss: 0.2810 - val_acc: 0.9480\n",
            "Epoch 96/100\n",
            "100/100 [==============================] - 27s 272ms/step - loss: 0.0129 - acc: 0.9956 - val_loss: 0.3558 - val_acc: 0.9400\n",
            "Epoch 97/100\n",
            "100/100 [==============================] - 27s 272ms/step - loss: 0.0126 - acc: 0.9951 - val_loss: 0.2861 - val_acc: 0.9440\n",
            "Epoch 98/100\n",
            "100/100 [==============================] - 27s 270ms/step - loss: 0.0150 - acc: 0.9925 - val_loss: 0.3135 - val_acc: 0.9450\n",
            "Epoch 99/100\n",
            "100/100 [==============================] - 27s 268ms/step - loss: 0.0226 - acc: 0.9928 - val_loss: 0.3628 - val_acc: 0.9340\n",
            "Epoch 100/100\n",
            "100/100 [==============================] - 27s 271ms/step - loss: 0.0123 - acc: 0.9949 - val_loss: 0.3264 - val_acc: 0.9390\n"
          ],
          "name": "stdout"
        }
      ]
    },
    {
      "cell_type": "code",
      "metadata": {
        "id": "O6RfLaxjC6uh"
      },
      "source": [
        "model.save('cats_and_dogs_small_4.h5')"
      ],
      "execution_count": null,
      "outputs": []
    },
    {
      "cell_type": "markdown",
      "metadata": {
        "id": "N5fJ5q75C6uh"
      },
      "source": [
        "Let's plot our results using the same plotting code as before:"
      ]
    },
    {
      "cell_type": "code",
      "metadata": {
        "collapsed": true,
        "id": "j4wH09ktC6uh",
        "colab": {
          "base_uri": "https://localhost:8080/",
          "height": 545
        },
        "outputId": "3dd45968-9777-4f4a-8617-0fbd4dc56f5b"
      },
      "source": [
        "acc = history.history['acc']\n",
        "val_acc = history.history['val_acc']\n",
        "loss = history.history['loss']\n",
        "val_loss = history.history['val_loss']\n",
        "\n",
        "epochs = range(len(acc))\n",
        "\n",
        "plt.plot(epochs, acc, 'bo', label='Training acc')\n",
        "plt.plot(epochs, val_acc, 'b', label='Validation acc')\n",
        "plt.title('Training and validation accuracy')\n",
        "plt.legend()\n",
        "\n",
        "plt.figure()\n",
        "\n",
        "plt.plot(epochs, loss, 'bo', label='Training loss')\n",
        "plt.plot(epochs, val_loss, 'b', label='Validation loss')\n",
        "plt.title('Training and validation loss')\n",
        "plt.legend()\n",
        "\n",
        "plt.show()"
      ],
      "execution_count": null,
      "outputs": [
        {
          "output_type": "display_data",
          "data": {
            "image/png": "[encoded data removed]",
            "text/plain": [
              "<Figure size 432x288 with 1 Axes>"
            ]
          },
          "metadata": {
            "tags": [],
            "needs_background": "light"
          }
        },
        {
          "output_type": "display_data",
          "data": {
            "image/png": "[encoded data removed]",
            "text/plain": [
              "<Figure size 432x288 with 1 Axes>"
            ]
          },
          "metadata": {
            "tags": [],
            "needs_background": "light"
          }
        }
      ]
    },
    {
      "cell_type": "markdown",
      "metadata": {
        "id": "Umnxi_3OC6uh"
      },
      "source": [
        "\n",
        "These curves look very noisy. To make them more readable, we can smooth them by replacing every loss and accuracy with exponential moving \n",
        "averages of these quantities. Here's a trivial utility function to do this:"
      ]
    },
    {
      "cell_type": "code",
      "metadata": {
        "id": "fjSS8BevC6uh",
        "colab": {
          "base_uri": "https://localhost:8080/",
          "height": 545
        },
        "outputId": "4e206f9b-0c77-4b2b-ee1d-db9a729bd735"
      },
      "source": [
        "def smooth_curve(points, factor=0.8):\n",
        "  smoothed_points = []\n",
        "  for point in points:\n",
        "    if smoothed_points:\n",
        "      previous = smoothed_points[-1]\n",
        "      smoothed_points.append(previous * factor + point * (1 - factor))\n",
        "    else:\n",
        "      smoothed_points.append(point)\n",
        "  return smoothed_points\n",
        "\n",
        "plt.plot(epochs,\n",
        "         smooth_curve(acc), 'bo', label='Smoothed training acc')\n",
        "plt.plot(epochs,\n",
        "         smooth_curve(val_acc), 'b', label='Smoothed validation acc')\n",
        "plt.title('Training and validation accuracy')\n",
        "plt.legend()\n",
        "\n",
        "plt.figure()\n",
        "\n",
        "plt.plot(epochs,\n",
        "         smooth_curve(loss), 'bo', label='Smoothed training loss')\n",
        "plt.plot(epochs,\n",
        "         smooth_curve(val_loss), 'b', label='Smoothed validation loss')\n",
        "plt.title('Training and validation loss')\n",
        "plt.legend()\n",
        "\n",
        "plt.show()"
      ],
      "execution_count": null,
      "outputs": [
        {
          "output_type": "display_data",
          "data": {
            "image/png": "[encoded data removed]",
            "text/plain": [
              "<Figure size 432x288 with 1 Axes>"
            ]
          },
          "metadata": {
            "tags": [],
            "needs_background": "light"
          }
        },
        {
          "output_type": "display_data",
          "data": {
            "image/png": "[encoded data removed]",
            "text/plain": [
              "<Figure size 432x288 with 1 Axes>"
            ]
          },
          "metadata": {
            "tags": [],
            "needs_background": "light"
          }
        }
      ]
    },
    {
      "cell_type": "markdown",
      "metadata": {
        "id": "xAjXIl50P010"
      },
      "source": [
        "- 이전의 그래프에서는 validation이 87%의 성능을 보였다면 여기에서는 validation이 94%의 성능을 보여주고 있다는 것을 알 수 있다. 이렇게 성능이 좋아졌구나라고 생각하며 다른것로 넘어감."
      ]
    },
    {
      "cell_type": "markdown",
      "metadata": {
        "id": "Jm9Gm7peC6uh"
      },
      "source": [
        "\n",
        "These curves look much cleaner and more stable. We are seeing a nice 1% absolute improvement.\n",
        "\n",
        "Note that the loss curve does not show any real improvement (in fact, it is deteriorating). You may wonder, how could accuracy improve if the \n",
        "loss isn't decreasing? The answer is simple: what we display is an average of pointwise loss values, but what actually matters for accuracy \n",
        "is the distribution of the loss values, not their average, since accuracy is the result of a binary thresholding of the class probability \n",
        "predicted by the model. The model may still be improving even if this isn't reflected in the average loss.\n",
        "\n",
        "We can now finally evaluate this model on the test data:"
      ]
    },
    {
      "cell_type": "code",
      "metadata": {
        "id": "1ofHhsQeC6uh"
      },
      "source": [
        "#test_generator = test_datagen.flow_from_directory(\n",
        "#        test_dir,\n",
        "#        target_size=(150, 150),\n",
        "#        batch_size=20,\n",
        "#        class_mode='binary')\n",
        "\n",
        "#test_loss, test_acc = model.evaluate_generator(test_generator, steps=50)\n",
        "#print('test acc:', test_acc)"
      ],
      "execution_count": null,
      "outputs": []
    },
    {
      "cell_type": "markdown",
      "metadata": {
        "id": "H4q_WyqeC6ui"
      },
      "source": [
        "\n",
        "Here we get a test accuracy of 97%. In the original Kaggle competition around this dataset, this would have been one of the top results. \n",
        "However, using modern deep learning techniques, we managed to reach this result using only a very small fraction of the training data \n",
        "available (about 10%). There is a huge difference between being able to train on 20,000 samples compared to 2,000 samples!"
      ]
    },
    {
      "cell_type": "markdown",
      "metadata": {
        "id": "DAlO-SyFC6ui"
      },
      "source": [
        "## Take-aways: using convnets with small datasets\n",
        "\n",
        "Here's what you should take away from the exercises of these past two sections:\n",
        "\n",
        "* Convnets are the best type of machine learning models for computer vision tasks. It is possible to train one from scratch even on a very \n",
        "small dataset, with decent results.\n",
        "* On a small dataset, overfitting will be the main issue. Data augmentation is a powerful way to fight overfitting when working with image \n",
        "data.\n",
        "* It is easy to reuse an existing convnet on a new dataset, via feature extraction. This is a very valuable technique for working with \n",
        "small image datasets.\n",
        "* As a complement to feature extraction, one may use fine-tuning, which adapts to a new problem some of the representations previously \n",
        "learned by an existing model. This pushes performance a bit further.\n",
        "\n",
        "Now you have a solid set of tools for dealing with image classification problems, in particular with small datasets."
      ]
    }
  ]
}