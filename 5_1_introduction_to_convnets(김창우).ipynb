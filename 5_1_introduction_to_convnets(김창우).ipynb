{
  "nbformat": 4,
  "nbformat_minor": 0,
  "metadata": {
    "kernelspec": {
      "display_name": "Python 3",
      "language": "python",
      "name": "python3"
    },
    "language_info": {
      "codemirror_mode": {
        "name": "ipython",
        "version": 3
      },
      "file_extension": ".py",
      "mimetype": "text/x-python",
      "name": "python",
      "nbconvert_exporter": "python",
      "pygments_lexer": "ipython3",
      "version": "3.6.5"
    },
    "colab": {
      "name": "5.1-introduction-to-convnets(김창우).ipynb",
      "provenance": [],
      "collapsed_sections": [],
      "include_colab_link": true
    },
    "accelerator": "GPU"
  },
  "cells": [
    {
      "cell_type": "markdown",
      "metadata": {
        "id": "view-in-github",
        "colab_type": "text"
      },
      "source": [
        "<a href=\"https://colab.research.google.com/github/kcw0331/Deeplearning/blob/main/5_1_introduction_to_convnets(%EA%B9%80%EC%B0%BD%EC%9A%B0).ipynb\" target=\"_parent\"><img src=\"https://colab.research.google.com/assets/colab-badge.svg\" alt=\"Open In Colab\"/></a>"
      ]
    },
    {
      "cell_type": "markdown",
      "metadata": {
        "id": "5Wxvd7ysDNpo"
      },
      "source": [
        "### 먼저 tensorflow를 먼저 불러와 준다."
      ]
    },
    {
      "cell_type": "code",
      "metadata": {
        "id": "qV5weqESbKPK",
        "colab": {
          "base_uri": "https://localhost:8080/",
          "height": 36
        },
        "outputId": "9fbd5e23-1369-406a-9bed-1989632df808"
      },
      "source": [
        "import tensorflow\n",
        "tensorflow.keras.__version__"
      ],
      "execution_count": null,
      "outputs": [
        {
          "output_type": "execute_result",
          "data": {
            "application/vnd.google.colaboratory.intrinsic+json": {
              "type": "string"
            },
            "text/plain": [
              "'2.4.0'"
            ]
          },
          "metadata": {
            "tags": []
          },
          "execution_count": 1
        }
      ]
    },
    {
      "cell_type": "markdown",
      "metadata": {
        "collapsed": true,
        "id": "KYbaWUdWbKPP"
      },
      "source": [
        "# 5.1 - Introduction to convnets\n",
        "\n",
        "This notebook contains the code sample found in Chapter 5, Section 1 of [Deep Learning with Python](https://www.manning.com/books/deep-learning-with-python?a_aid=keras&a_bid=76564dff). Note that the original text features far more content, in particular further explanations and figures: in this notebook, you will only find source code and related comments.\n",
        "\n",
        "----\n",
        "\n",
        "First, let's take a practical look at a very simple convnet example. We will use our convnet to classify MNIST digits, a task that you've already been \n",
        "through in Chapter 2, using a densely-connected network (our test accuracy then was 97.8%). Even though our convnet will be very basic, its \n",
        "accuracy will still blow out of the water that of the densely-connected model from Chapter 2.\n",
        "\n",
        "The 6 lines of code below show you what a basic convnet looks like. It's a stack of `Conv2D` and `MaxPooling2D` layers. We'll see in a \n",
        "minute what they do concretely.\n",
        "Importantly, a convnet takes as input tensors of shape `(image_height, image_width, image_channels)` (not including the batch dimension). \n",
        "In our case, we will configure our convnet to process inputs of size `(28, 28, 1)`, which is the format of MNIST images. We do this via \n",
        "passing the argument `input_shape=(28, 28, 1)` to our first layer."
      ]
    },
    {
      "cell_type": "markdown",
      "metadata": {
        "id": "iUpivksgDdHc"
      },
      "source": [
        "##### 이제 여기에서는 챕터 5에서 배울 예제를 다룬다. 그리고 여기에서는 챕터2에서 봤던 MNIST 셋에서는 dense 레이어를 사용해서 accuracy가 97.8%까지 나왔는데, 여기에서는 MNIST 셋에 Convnet을 3개 사용하여 얼마나 accuracy를 향상 시킬 수 있을지 확인한다."
      ]
    },
    {
      "cell_type": "code",
      "metadata": {
        "id": "XTNR6B0ebKPS"
      },
      "source": [
        "#여기에서는 convnet을 먼저 돌려보는 것 부터 시작하고 있다.\n",
        "from tensorflow.keras import layers\n",
        "from tensorflow.keras import models\n",
        "\n",
        "model = models.Sequential()  #모형을 Sequential로 달아 두었다. \n",
        "model.add(layers.Conv2D(32, (3, 3), padding = \"valid\", activation='relu', input_shape=(28, 28, 1))) #그리고 여기에서 convnet 레이어를 3개를 달아 주었다.\n",
        "model.add(layers.MaxPooling2D((2, 2))) #그리고 convnet 가운데에 MaxPooling을 통해서 풀링읗 해준다. 자세한 설명은 다음 슬라이드에서 설명하신다고 하심.\n",
        "model.add(layers.Conv2D(64, (3, 3),  padding = \"valid\", activation='relu'))\n",
        "model.add(layers.MaxPooling2D((2, 2)))\n",
        "model.add(layers.Conv2D(64, (3, 3),  padding = \"valid\", activation='relu'))\n"
      ],
      "execution_count": null,
      "outputs": []
    },
    {
      "cell_type": "code",
      "metadata": {
        "id": "VvpJdDu6SNFH"
      },
      "source": [
        "# 이걸 사용해서 아래 있는 코드들을 동일하게 실행하게되면 accuracy가 98%이 나오게 된다.\n",
        "from tensorflow.keras import layers\n",
        "from tensorflow.keras import models\n",
        "\n",
        "model = models.Sequential()   \n",
        "model.add(layers.Conv2D(10, (5, 5), padding = \"valid\", activation='relu', input_shape=(28, 28, 1))) \n",
        "model.add(layers.MaxPooling2D((2, 2))) \n",
        "model.add(layers.Conv2D(20, (5, 5),  padding = \"valid\", activation='relu'))\n",
        "model.add(layers.MaxPooling2D((2, 2)))\n"
      ],
      "execution_count": null,
      "outputs": []
    },
    {
      "cell_type": "markdown",
      "metadata": {
        "id": "vbcaZF-9bKPT"
      },
      "source": [
        "Let's display the architecture of our convnet so far:"
      ]
    },
    {
      "cell_type": "code",
      "metadata": {
        "id": "dk5uj7oBbKPU",
        "colab": {
          "base_uri": "https://localhost:8080/"
        },
        "outputId": "beee1a69-7dca-417a-f4a3-c178a716b87e"
      },
      "source": [
        "model.summary()"
      ],
      "execution_count": null,
      "outputs": [
        {
          "output_type": "stream",
          "text": [
            "Model: \"sequential\"\n",
            "_________________________________________________________________\n",
            "Layer (type)                 Output Shape              Param #   \n",
            "=================================================================\n",
            "conv2d (Conv2D)              (None, 26, 26, 32)        320       \n",
            "_________________________________________________________________\n",
            "max_pooling2d (MaxPooling2D) (None, 13, 13, 32)        0         \n",
            "_________________________________________________________________\n",
            "conv2d_1 (Conv2D)            (None, 11, 11, 64)        18496     \n",
            "_________________________________________________________________\n",
            "max_pooling2d_1 (MaxPooling2 (None, 5, 5, 64)          0         \n",
            "_________________________________________________________________\n",
            "conv2d_2 (Conv2D)            (None, 3, 3, 64)          36928     \n",
            "=================================================================\n",
            "Total params: 55,744\n",
            "Trainable params: 55,744\n",
            "Non-trainable params: 0\n",
            "_________________________________________________________________\n"
          ],
          "name": "stdout"
        }
      ]
    },
    {
      "cell_type": "markdown",
      "metadata": {
        "id": "8hinbWVcExKV"
      },
      "source": [
        "##### **model.summary()를 돌려준 결과 output이 3 콤마 3콤마 64 차원의 데이터로 나왔다.**\n",
        "\n",
        "\n"
      ]
    },
    {
      "cell_type": "markdown",
      "metadata": {
        "collapsed": true,
        "id": "I6li2z6vbKPV"
      },
      "source": [
        "You can see above that the output of every `Conv2D` and `MaxPooling2D` layer is a 3D tensor of shape `(height, width, channels)`. The width \n",
        "and height dimensions tend to shrink as we go deeper in the network. The number of channels is controlled by the first argument passed to \n",
        "the `Conv2D` layers (e.g. 32 or 64).\n",
        "\n",
        "The next step would be to feed our last output tensor (of shape `(3, 3, 64)`) into a densely-connected classifier network like those you are \n",
        "already familiar with: a stack of `Dense` layers. These classifiers process vectors, which are 1D, whereas our current output is a 3D tensor. \n",
        "So first, we will have to flatten our 3D outputs to 1D, and then add a few `Dense` layers on top:"
      ]
    },
    {
      "cell_type": "markdown",
      "metadata": {
        "id": "JsBRKiyLFYU3"
      },
      "source": [
        "- 여기에서는 3콤마 3콤마 64차원을 Flatten시켜주고 Dense=30, Dense=10을 만들어 준다."
      ]
    },
    {
      "cell_type": "code",
      "metadata": {
        "id": "gmPsUlbcbKPX"
      },
      "source": [
        "model.add(layers.Flatten())  \n",
        "model.add(layers.Dense(30, activation='relu'))\n",
        "model.add(layers.Dense(10, activation='softmax')) #그래서 이코드에서는 0~9까지 classification 할 수 있는 그런식으로 모형을 구성한다."
      ],
      "execution_count": null,
      "outputs": []
    },
    {
      "cell_type": "markdown",
      "metadata": {
        "id": "5Ip4jRN4bKPY"
      },
      "source": [
        "We are going to do 10-way classification, so we use a final layer with 10 outputs and a softmax activation. Now here's what our network \n",
        "looks like:"
      ]
    },
    {
      "cell_type": "code",
      "metadata": {
        "id": "7eSdTi6IbKPZ",
        "colab": {
          "base_uri": "https://localhost:8080/"
        },
        "outputId": "5bdc066b-d035-4f0f-f8d4-bb281f3082cc"
      },
      "source": [
        "model.summary()"
      ],
      "execution_count": null,
      "outputs": [
        {
          "output_type": "stream",
          "text": [
            "Model: \"sequential\"\n",
            "_________________________________________________________________\n",
            "Layer (type)                 Output Shape              Param #   \n",
            "=================================================================\n",
            "conv2d (Conv2D)              (None, 26, 26, 32)        320       \n",
            "_________________________________________________________________\n",
            "max_pooling2d (MaxPooling2D) (None, 13, 13, 32)        0         \n",
            "_________________________________________________________________\n",
            "conv2d_1 (Conv2D)            (None, 11, 11, 64)        18496     \n",
            "_________________________________________________________________\n",
            "max_pooling2d_1 (MaxPooling2 (None, 5, 5, 64)          0         \n",
            "_________________________________________________________________\n",
            "conv2d_2 (Conv2D)            (None, 3, 3, 64)          36928     \n",
            "_________________________________________________________________\n",
            "flatten (Flatten)            (None, 576)               0         \n",
            "_________________________________________________________________\n",
            "dense (Dense)                (None, 30)                17310     \n",
            "_________________________________________________________________\n",
            "dense_1 (Dense)              (None, 10)                310       \n",
            "=================================================================\n",
            "Total params: 73,364\n",
            "Trainable params: 73,364\n",
            "Non-trainable params: 0\n",
            "_________________________________________________________________\n"
          ],
          "name": "stdout"
        }
      ]
    },
    {
      "cell_type": "markdown",
      "metadata": {
        "id": "giJU3CokF_h4"
      },
      "source": [
        "- 위에 있는 코드를 실행하고 나서 마지막에 Dense 10은 우리가 0~9까지의 손으로 쓴 글씨를 모형화 해주는 모델이 된다."
      ]
    },
    {
      "cell_type": "markdown",
      "metadata": {
        "id": "MaCRJBcPbKPa"
      },
      "source": [
        "As you can see, our `(3, 3, 64)` outputs were flattened into vectors of shape `(576,)`, before going through two `Dense` layers.\n",
        "\n",
        "Now, let's train our convnet on the MNIST digits. We will reuse a lot of the code we have already covered in the MNIST example from Chapter \n",
        "2."
      ]
    },
    {
      "cell_type": "code",
      "metadata": {
        "id": "Ol2CHoe4bKPb",
        "colab": {
          "base_uri": "https://localhost:8080/"
        },
        "outputId": "a56a5194-8bf6-40cf-ae78-02f8bdd73dbd"
      },
      "source": [
        "from tensorflow.keras.datasets import mnist  #MNIST데이터를 사용하기 위해서 MNIST데이터를 읽어 와주고rom tensorflow.keras.datasets import mnist  #MNIST데이터를 사용하기 위해서 MNIST데이터를 읽어 와주고\n",
        "from tensorflow.keras.utils import to_categorical\n",
        "\n",
        "(train_images, train_labels), (test_images, test_labels) = mnist.load_data()\n"
      ],
      "execution_count": null,
      "outputs": [
        {
          "output_type": "stream",
          "text": [
            "Downloading data from https://storage.googleapis.com/tensorflow/tf-keras-datasets/mnist.npz\n",
            "11493376/11490434 [==============================] - 0s 0us/step\n"
          ],
          "name": "stdout"
        }
      ]
    },
    {
      "cell_type": "code",
      "metadata": {
        "id": "hTwnpp4Wfg68",
        "colab": {
          "base_uri": "https://localhost:8080/"
        },
        "outputId": "b7f13914-348a-436b-8941-1786656f0406"
      },
      "source": [
        "train_images.shape"
      ],
      "execution_count": null,
      "outputs": [
        {
          "output_type": "execute_result",
          "data": {
            "text/plain": [
              "(60000, 28, 28)"
            ]
          },
          "metadata": {
            "tags": []
          },
          "execution_count": 7
        }
      ]
    },
    {
      "cell_type": "code",
      "metadata": {
        "id": "NZNKz5cGflWc",
        "colab": {
          "base_uri": "https://localhost:8080/"
        },
        "outputId": "cecbfb1e-6953-4545-9db7-5ae98d8c74ed"
      },
      "source": [
        "import numpy as np  #그리고 이게 0에서 255사이의 값을 갖는다.그래서 max를 하게 되면 255의 값이 나오게 된다. \n",
        "np.max(train_images)"
      ],
      "execution_count": null,
      "outputs": [
        {
          "output_type": "execute_result",
          "data": {
            "text/plain": [
              "255"
            ]
          },
          "metadata": {
            "tags": []
          },
          "execution_count": 8
        }
      ]
    },
    {
      "cell_type": "code",
      "metadata": {
        "id": "gXn-KX7FbKPc"
      },
      "source": [
        "#여기에서는 MNIST데이터를 프리 프로세싱 시켜준다.\n",
        "#train_images.shape을 하게 되면 (60000, 28, 28)이 나오게 되는데 우리는 1을 넣어주기 위해서 reshape을 해준다.\n",
        "train_images = train_images.reshape((60000, 28, 28, 1))  #여기에서는 28이 가로, 28이 세로, 그리고 1은 채널이고 원래 RGB는 3인데, 여기에서는 흑백이라서 1이 된다. \n",
        "train_images = train_images.astype('float32') / 255 #여기에서는 255로 나누어서 0에서 1의 값이 되도록 표준화를 시켜준다. \n",
        "\n",
        "test_images = test_images.reshape((10000, 28, 28, 1))\n",
        "test_images = test_images.astype('float32') / 255\n",
        "\n",
        "#그래서 여기에서는 train set과 test set을 표준화 시켜준다. "
      ],
      "execution_count": null,
      "outputs": []
    },
    {
      "cell_type": "code",
      "metadata": {
        "id": "qNHLbqGzf0gt",
        "colab": {
          "base_uri": "https://localhost:8080/"
        },
        "outputId": "0f8766f6-60f3-49d1-dd38-1e3f497136d0"
      },
      "source": [
        "train_labels[:5]  #train_labels를 5개 까지 하게 되면 5, 0, 4, 1, 9라는 값이 나오게 된다. "
      ],
      "execution_count": null,
      "outputs": [
        {
          "output_type": "execute_result",
          "data": {
            "text/plain": [
              "array([5, 0, 4, 1, 9], dtype=uint8)"
            ]
          },
          "metadata": {
            "tags": []
          },
          "execution_count": 10
        }
      ]
    },
    {
      "cell_type": "code",
      "metadata": {
        "id": "ZxPyyaRNf4pB"
      },
      "source": [
        ""
      ],
      "execution_count": null,
      "outputs": []
    },
    {
      "cell_type": "code",
      "metadata": {
        "id": "1eAEBPcXbKPd"
      },
      "source": [
        "train_labels = to_categorical(train_labels)  #그리고 one_hot_encoding을 사용해서 categorical로 바꾸어 주게된다.\n",
        "test_labels = to_categorical(test_labels)"
      ],
      "execution_count": null,
      "outputs": []
    },
    {
      "cell_type": "code",
      "metadata": {
        "colab": {
          "base_uri": "https://localhost:8080/"
        },
        "id": "yQDrH19qI17b",
        "outputId": "878f7b8b-1224-461c-cc59-0b1adfaedeb7"
      },
      "source": [
        "train_labels[:5]  #그래서 one_hot_encoding을 하고 나서 train_labels을 하게 되면 5는 0, 0, 0, 0, 1, 0, 0, 0, 0 그리고 0은 1, 0, 0, 0, 0, 0, 0, 0, 0이 된다."
      ],
      "execution_count": null,
      "outputs": [
        {
          "output_type": "execute_result",
          "data": {
            "text/plain": [
              "array([[0., 0., 0., 0., 0., 1., 0., 0., 0., 0.],\n",
              "       [1., 0., 0., 0., 0., 0., 0., 0., 0., 0.],\n",
              "       [0., 0., 0., 0., 1., 0., 0., 0., 0., 0.],\n",
              "       [0., 1., 0., 0., 0., 0., 0., 0., 0., 0.],\n",
              "       [0., 0., 0., 0., 0., 0., 0., 0., 0., 1.]], dtype=float32)"
            ]
          },
          "metadata": {
            "tags": []
          },
          "execution_count": 12
        }
      ]
    },
    {
      "cell_type": "code",
      "metadata": {
        "id": "eYwzFpTvbKPd",
        "colab": {
          "base_uri": "https://localhost:8080/"
        },
        "outputId": "cd9bf09f-d2a9-4ce2-a893-782203298025"
      },
      "source": [
        "model.compile(optimizer='rmsprop',\n",
        "              loss='categorical_crossentropy',  #그리고 compile을 categorical_crossentropy를 해준다.\n",
        "              metrics=['accuracy'])\n",
        "model.fit(train_images, train_labels, epochs=5, batch_size=64)"
      ],
      "execution_count": null,
      "outputs": [
        {
          "output_type": "stream",
          "text": [
            "Epoch 1/5\n",
            "938/938 [==============================] - 36s 4ms/step - loss: 0.4589 - accuracy: 0.8568\n",
            "Epoch 2/5\n",
            "938/938 [==============================] - 4s 4ms/step - loss: 0.0556 - accuracy: 0.9820\n",
            "Epoch 3/5\n",
            "938/938 [==============================] - 3s 4ms/step - loss: 0.0353 - accuracy: 0.9890\n",
            "Epoch 4/5\n",
            "938/938 [==============================] - 3s 4ms/step - loss: 0.0253 - accuracy: 0.9920\n",
            "Epoch 5/5\n",
            "938/938 [==============================] - 3s 4ms/step - loss: 0.0202 - accuracy: 0.9935\n"
          ],
          "name": "stdout"
        },
        {
          "output_type": "execute_result",
          "data": {
            "text/plain": [
              "<tensorflow.python.keras.callbacks.History at 0x7fc450033750>"
            ]
          },
          "metadata": {
            "tags": []
          },
          "execution_count": 13
        }
      ]
    },
    {
      "cell_type": "markdown",
      "metadata": {
        "id": "-ezAcl87bKPf"
      },
      "source": [
        "Let's evaluate the model on the test data:"
      ]
    },
    {
      "cell_type": "code",
      "metadata": {
        "id": "OrkkLBSXbKPf",
        "colab": {
          "base_uri": "https://localhost:8080/"
        },
        "outputId": "d16e92c5-33f0-406d-f383-d25aaa8b2d31"
      },
      "source": [
        "#여기에서는 training을 하고나서 test_loss와 test_acc를 확인해준다.\n",
        "test_loss, test_acc = model.evaluate(test_images, test_labels)"
      ],
      "execution_count": null,
      "outputs": [
        {
          "output_type": "stream",
          "text": [
            "313/313 [==============================] - 1s 3ms/step - loss: 0.0258 - accuracy: 0.9923\n"
          ],
          "name": "stdout"
        }
      ]
    },
    {
      "cell_type": "code",
      "metadata": {
        "id": "waPv2bKjbKPg",
        "colab": {
          "base_uri": "https://localhost:8080/"
        },
        "outputId": "1aa7645f-de33-4323-8be7-4dd30f077ed3"
      },
      "source": [
        "#그리고 여기에서는 test_acc를 출력해준다.\n",
        "test_acc"
      ],
      "execution_count": null,
      "outputs": [
        {
          "output_type": "execute_result",
          "data": {
            "text/plain": [
              "0.9922999739646912"
            ]
          },
          "metadata": {
            "tags": []
          },
          "execution_count": 15
        }
      ]
    },
    {
      "cell_type": "markdown",
      "metadata": {
        "id": "N10lPqByJ7MO"
      },
      "source": [
        "# 그래서 코드를 돌려본 결과 99.3%이라는 결과가 나오는 것을 확인할 수 있다."
      ]
    },
    {
      "cell_type": "markdown",
      "metadata": {
        "id": "UygsRfCxbKPh"
      },
      "source": [
        "While our densely-connected network from Chapter 2 had a test accuracy of 97.8%, our basic convnet has a test accuracy of 99.3%: we \n",
        "decreased our error rate by 68% (relative). Not bad! "
      ]
    },
    {
      "cell_type": "code",
      "metadata": {
        "id": "NUZpUy57csGP"
      },
      "source": [
        ""
      ],
      "execution_count": null,
      "outputs": []
    }
  ]
}